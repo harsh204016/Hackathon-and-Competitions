{
 "cells": [
  {
   "cell_type": "code",
   "execution_count": 1,
   "metadata": {},
   "outputs": [],
   "source": [
    "import pandas as pd\n",
    "import numpy as np\n",
    "import lightgbm as lgb\n",
    "import networkx as nx\n",
    "from fastnode2vec import Graph, Node2Vec\n",
    "from tqdm.notebook import tqdm"
   ]
  },
  {
   "cell_type": "code",
   "execution_count": 2,
   "metadata": {},
   "outputs": [],
   "source": [
    "challange_data = pd.read_csv(\"../Data/challenge_data.csv\")\n",
    "train_data = pd.read_csv(\"../Data/train.csv\")\n",
    "test_data = pd.read_csv(\"../Data/test.csv\")\n",
    "sample_submission = pd.read_csv(\"../Data/sample_submission_J0OjXLi_DDt3uQN.csv\")"
   ]
  },
  {
   "cell_type": "code",
   "execution_count": 3,
   "metadata": {},
   "outputs": [],
   "source": [
    "train_data = train_data.merge(challange_data.rename(columns = {'challenge_ID' : 'challenge'}), on = 'challenge', how = 'left')\n",
    "test_data = test_data.merge(challange_data.rename(columns = {'challenge_ID' : 'challenge'}), on = 'challenge', how = 'left')"
   ]
  },
  {
   "cell_type": "code",
   "execution_count": 4,
   "metadata": {},
   "outputs": [
    {
     "data": {
      "text/html": [
       "<div>\n",
       "<style scoped>\n",
       "    .dataframe tbody tr th:only-of-type {\n",
       "        vertical-align: middle;\n",
       "    }\n",
       "\n",
       "    .dataframe tbody tr th {\n",
       "        vertical-align: top;\n",
       "    }\n",
       "\n",
       "    .dataframe thead th {\n",
       "        text-align: right;\n",
       "    }\n",
       "</style>\n",
       "<table border=\"1\" class=\"dataframe\">\n",
       "  <thead>\n",
       "    <tr style=\"text-align: right;\">\n",
       "      <th></th>\n",
       "      <th>challenge</th>\n",
       "      <th>next_challenge</th>\n",
       "      <th>count</th>\n",
       "      <th>weight</th>\n",
       "    </tr>\n",
       "  </thead>\n",
       "  <tbody>\n",
       "    <tr>\n",
       "      <th>0</th>\n",
       "      <td>CI23478</td>\n",
       "      <td>CI23491</td>\n",
       "      <td>0.5</td>\n",
       "      <td>0.030303</td>\n",
       "    </tr>\n",
       "    <tr>\n",
       "      <th>1</th>\n",
       "      <td>CI23478</td>\n",
       "      <td>CI23514</td>\n",
       "      <td>1.0</td>\n",
       "      <td>0.060606</td>\n",
       "    </tr>\n",
       "    <tr>\n",
       "      <th>2</th>\n",
       "      <td>CI23478</td>\n",
       "      <td>CI23606</td>\n",
       "      <td>1.0</td>\n",
       "      <td>0.060606</td>\n",
       "    </tr>\n",
       "    <tr>\n",
       "      <th>3</th>\n",
       "      <td>CI23478</td>\n",
       "      <td>CI23608</td>\n",
       "      <td>0.5</td>\n",
       "      <td>0.030303</td>\n",
       "    </tr>\n",
       "    <tr>\n",
       "      <th>4</th>\n",
       "      <td>CI23478</td>\n",
       "      <td>CI23653</td>\n",
       "      <td>1.0</td>\n",
       "      <td>0.060606</td>\n",
       "    </tr>\n",
       "    <tr>\n",
       "      <th>...</th>\n",
       "      <td>...</td>\n",
       "      <td>...</td>\n",
       "      <td>...</td>\n",
       "      <td>...</td>\n",
       "    </tr>\n",
       "    <tr>\n",
       "      <th>448721</th>\n",
       "      <td>CI29083</td>\n",
       "      <td>CI24917</td>\n",
       "      <td>1.0</td>\n",
       "      <td>0.222222</td>\n",
       "    </tr>\n",
       "    <tr>\n",
       "      <th>448722</th>\n",
       "      <td>CI29083</td>\n",
       "      <td>CI25409</td>\n",
       "      <td>1.0</td>\n",
       "      <td>0.222222</td>\n",
       "    </tr>\n",
       "    <tr>\n",
       "      <th>448723</th>\n",
       "      <td>CI29083</td>\n",
       "      <td>CI28570</td>\n",
       "      <td>1.0</td>\n",
       "      <td>0.222222</td>\n",
       "    </tr>\n",
       "    <tr>\n",
       "      <th>448724</th>\n",
       "      <td>CI29083</td>\n",
       "      <td>CI28698</td>\n",
       "      <td>0.5</td>\n",
       "      <td>0.111111</td>\n",
       "    </tr>\n",
       "    <tr>\n",
       "      <th>448725</th>\n",
       "      <td>CI29083</td>\n",
       "      <td>CI28926</td>\n",
       "      <td>0.5</td>\n",
       "      <td>0.111111</td>\n",
       "    </tr>\n",
       "  </tbody>\n",
       "</table>\n",
       "<p>448726 rows × 4 columns</p>\n",
       "</div>"
      ],
      "text/plain": [
       "       challenge next_challenge  count    weight\n",
       "0        CI23478        CI23491    0.5  0.030303\n",
       "1        CI23478        CI23514    1.0  0.060606\n",
       "2        CI23478        CI23606    1.0  0.060606\n",
       "3        CI23478        CI23608    0.5  0.030303\n",
       "4        CI23478        CI23653    1.0  0.060606\n",
       "...          ...            ...    ...       ...\n",
       "448721   CI29083        CI24917    1.0  0.222222\n",
       "448722   CI29083        CI25409    1.0  0.222222\n",
       "448723   CI29083        CI28570    1.0  0.222222\n",
       "448724   CI29083        CI28698    0.5  0.111111\n",
       "448725   CI29083        CI28926    0.5  0.111111\n",
       "\n",
       "[448726 rows x 4 columns]"
      ]
     },
     "execution_count": 4,
     "metadata": {},
     "output_type": "execute_result"
    }
   ],
   "source": [
    "transition_matrix = train_data[train_data.challenge_sequence <= 10][['user_id', 'challenge_sequence', 'challenge']].append(\n",
    "                                            test_data[['user_id', 'challenge_sequence', 'challenge']]).sort_values(\n",
    "                                            by = ['user_id', 'challenge_sequence'])[['user_id', 'challenge']]\n",
    "\n",
    "transition_matrices = []\n",
    "for i in range(1,10):\n",
    "    transition_matrix1 = transition_matrix.copy()\n",
    "    transition_matrix1['next_challenge'] = transition_matrix1[['user_id', 'challenge']].groupby('user_id').shift(-i)\n",
    "    transition_matrix1 = transition_matrix1[transition_matrix1.next_challenge.notnull()]\n",
    "    transition_matrix1['count'] = 1 / ((i - 1)//3 +1)\n",
    "    transition_matrices.append(transition_matrix1.copy())\n",
    "transition_matrix = pd.concat(transition_matrices)\n",
    "# transition_matrix['next_challenge'] = transition_matrix[['user_id', 'challenge']].groupby('user_id').shift(-1)\n",
    "# transition_matrix = transition_matrix[transition_matrix.next_challenge.notnull()]\n",
    "# transition_matrix['next_challenge_skip_1'] = transition_matrix[['user_id', 'challenge']].groupby('user_id').shift(-2)\n",
    "# transition_matrix['next_challenge_skip_2'] = transition_matrix[['user_id', 'challenge']].groupby('user_id').shift(-3)\n",
    "# transition_matrix = transition_matrix[['challenge', 'next_challenge']].append(transition_matrix[\n",
    "#                     transition_matrix.next_challenge_skip_1.notnull()][['challenge', 'next_challenge_skip_1']\n",
    "#                     ].rename(columns = {'next_challenge_skip_1': 'next_challenge'})).append(transition_matrix[\n",
    "#                     transition_matrix.next_challenge_skip_2.notnull()][['challenge', 'next_challenge_skip_2']\n",
    "#                     ].rename(columns = {'next_challenge_skip_2': 'next_challenge'}))\n",
    "\n",
    "\n",
    "transition_matrix = transition_matrix[['challenge', 'next_challenge', 'count']].groupby(\n",
    "                                            ['challenge', 'next_challenge']).sum().reset_index()\n",
    "transition_matrix['weight'] =  transition_matrix[['challenge', 'count']].groupby('challenge').transform('sum')\n",
    "transition_matrix['weight'] = transition_matrix['count'] / transition_matrix['weight']\n",
    "transition_matrix"
   ]
  },
  {
   "cell_type": "code",
   "execution_count": 5,
   "metadata": {},
   "outputs": [
    {
     "data": {
      "text/html": [
       "<div>\n",
       "<style scoped>\n",
       "    .dataframe tbody tr th:only-of-type {\n",
       "        vertical-align: middle;\n",
       "    }\n",
       "\n",
       "    .dataframe tbody tr th {\n",
       "        vertical-align: top;\n",
       "    }\n",
       "\n",
       "    .dataframe thead th {\n",
       "        text-align: right;\n",
       "    }\n",
       "</style>\n",
       "<table border=\"1\" class=\"dataframe\">\n",
       "  <thead>\n",
       "    <tr style=\"text-align: right;\">\n",
       "      <th></th>\n",
       "      <th>challenge_series_ID</th>\n",
       "      <th>next_series</th>\n",
       "      <th>count</th>\n",
       "      <th>weight</th>\n",
       "    </tr>\n",
       "  </thead>\n",
       "  <tbody>\n",
       "    <tr>\n",
       "      <th>0</th>\n",
       "      <td>SI2435</td>\n",
       "      <td>SI2435</td>\n",
       "      <td>61.500000</td>\n",
       "      <td>0.025775</td>\n",
       "    </tr>\n",
       "    <tr>\n",
       "      <th>1</th>\n",
       "      <td>SI2435</td>\n",
       "      <td>SI2441</td>\n",
       "      <td>0.333333</td>\n",
       "      <td>0.000140</td>\n",
       "    </tr>\n",
       "    <tr>\n",
       "      <th>2</th>\n",
       "      <td>SI2435</td>\n",
       "      <td>SI2446</td>\n",
       "      <td>6.000000</td>\n",
       "      <td>0.002515</td>\n",
       "    </tr>\n",
       "    <tr>\n",
       "      <th>3</th>\n",
       "      <td>SI2435</td>\n",
       "      <td>SI2447</td>\n",
       "      <td>18.500000</td>\n",
       "      <td>0.007754</td>\n",
       "    </tr>\n",
       "    <tr>\n",
       "      <th>4</th>\n",
       "      <td>SI2435</td>\n",
       "      <td>SI2448</td>\n",
       "      <td>18.333333</td>\n",
       "      <td>0.007684</td>\n",
       "    </tr>\n",
       "    <tr>\n",
       "      <th>...</th>\n",
       "      <td>...</td>\n",
       "      <td>...</td>\n",
       "      <td>...</td>\n",
       "      <td>...</td>\n",
       "    </tr>\n",
       "    <tr>\n",
       "      <th>41176</th>\n",
       "      <td>SI2866</td>\n",
       "      <td>SI2675</td>\n",
       "      <td>1.000000</td>\n",
       "      <td>0.090909</td>\n",
       "    </tr>\n",
       "    <tr>\n",
       "      <th>41177</th>\n",
       "      <td>SI2866</td>\n",
       "      <td>SI2678</td>\n",
       "      <td>1.000000</td>\n",
       "      <td>0.090909</td>\n",
       "    </tr>\n",
       "    <tr>\n",
       "      <th>41178</th>\n",
       "      <td>SI2866</td>\n",
       "      <td>SI2739</td>\n",
       "      <td>1.000000</td>\n",
       "      <td>0.090909</td>\n",
       "    </tr>\n",
       "    <tr>\n",
       "      <th>41179</th>\n",
       "      <td>SI2866</td>\n",
       "      <td>SI2772</td>\n",
       "      <td>1.000000</td>\n",
       "      <td>0.090909</td>\n",
       "    </tr>\n",
       "    <tr>\n",
       "      <th>41180</th>\n",
       "      <td>SI2866</td>\n",
       "      <td>SI2837</td>\n",
       "      <td>1.000000</td>\n",
       "      <td>0.090909</td>\n",
       "    </tr>\n",
       "  </tbody>\n",
       "</table>\n",
       "<p>41181 rows × 4 columns</p>\n",
       "</div>"
      ],
      "text/plain": [
       "      challenge_series_ID next_series      count    weight\n",
       "0                  SI2435      SI2435  61.500000  0.025775\n",
       "1                  SI2435      SI2441   0.333333  0.000140\n",
       "2                  SI2435      SI2446   6.000000  0.002515\n",
       "3                  SI2435      SI2447  18.500000  0.007754\n",
       "4                  SI2435      SI2448  18.333333  0.007684\n",
       "...                   ...         ...        ...       ...\n",
       "41176              SI2866      SI2675   1.000000  0.090909\n",
       "41177              SI2866      SI2678   1.000000  0.090909\n",
       "41178              SI2866      SI2739   1.000000  0.090909\n",
       "41179              SI2866      SI2772   1.000000  0.090909\n",
       "41180              SI2866      SI2837   1.000000  0.090909\n",
       "\n",
       "[41181 rows x 4 columns]"
      ]
     },
     "execution_count": 5,
     "metadata": {},
     "output_type": "execute_result"
    }
   ],
   "source": [
    "\n",
    "transition_matrix_series = train_data[train_data.challenge_sequence <= 10][['user_id', 'challenge_sequence', 'challenge_series_ID']].append(\n",
    "                                            test_data[['user_id', 'challenge_sequence', 'challenge_series_ID']]).sort_values(\n",
    "                                            by = ['user_id', 'challenge_sequence'])[['user_id', 'challenge_series_ID']]\n",
    "\n",
    "transition_matrices = []\n",
    "for i in range(1,10):\n",
    "    transition_matrix1 = transition_matrix_series.copy()\n",
    "    transition_matrix1['next_series'] = transition_matrix1[['user_id', 'challenge_series_ID']].groupby('user_id').shift(-i)\n",
    "    transition_matrix1 = transition_matrix1[transition_matrix1.next_series.notnull()]\n",
    "    transition_matrix1['count'] = 1 / ((i - 1)//3 +1)\n",
    "    transition_matrices.append(transition_matrix1.copy())\n",
    "transition_matrix_series = pd.concat(transition_matrices)\n",
    "\n",
    "# transition_matrix_series['next_series'] = transition_matrix_series[['user_id', 'challenge_series_ID']].groupby('user_id').shift(-1)\n",
    "# transition_matrix_series = transition_matrix_series[transition_matrix_series.next_series.notnull()]\n",
    "# transition_matrix_series['next_series_skip_1'] = transition_matrix_series[['user_id', 'challenge_series_ID']].groupby('user_id').shift(-2)\n",
    "# transition_matrix_series['next_series_skip_2'] = transition_matrix_series[['user_id', 'challenge_series_ID']].groupby('user_id').shift(-3)\n",
    "# transition_matrix_series = transition_matrix_series[['challenge_series_ID', 'next_series']].append(transition_matrix_series[\n",
    "#                     transition_matrix_series.next_series_skip_1.notnull()][['challenge_series_ID', 'next_series_skip_1']\n",
    "#                     ].rename(columns = {'next_series_skip_1': 'next_series'})).append(transition_matrix_series[\n",
    "#                     transition_matrix_series.next_series_skip_2.notnull()][['challenge_series_ID', 'next_series_skip_2']\n",
    "#                     ].rename(columns = {'next_series_skip_2': 'next_series'}))\n",
    "\n",
    "# transition_matrix_series['count'] = 1\n",
    "transition_matrix_series = transition_matrix_series[['challenge_series_ID', 'next_series', 'count']].groupby(\n",
    "                                            ['challenge_series_ID', 'next_series']).sum().reset_index()\n",
    "transition_matrix_series['weight'] =  transition_matrix_series[['challenge_series_ID', 'count']].groupby('challenge_series_ID').transform('sum')\n",
    "transition_matrix_series['weight'] = transition_matrix_series['count'] / transition_matrix_series['weight']\n",
    "transition_matrix_series"
   ]
  },
  {
   "cell_type": "code",
   "execution_count": 6,
   "metadata": {},
   "outputs": [
    {
     "name": "stderr",
     "output_type": "stream",
     "text": [
      "Reading graph: 100%|██████████| 448726/448726 [00:00<00:00, 1756444.26it/s]\n",
      "Training: 100%|██████████| 523900/523900 [00:23<00:00, 22544.18it/s]\n"
     ]
    }
   ],
   "source": [
    "graph1 = Graph([(row.challenge, row.next_challenge, row.weight) for row in transition_matrix.itertuples()]\n",
    "#                + [(str(row.user_id), row.challenge, 1) for row in \n",
    "#                 train_data[train_data.challenge_sequence <= 10].append(test_data).itertuples()]\n",
    "               ,\n",
    "              directed=True, weighted=True)\n",
    "\n",
    "n2v1 = Node2Vec(graph1, dim=32, walk_length=20, context=10, p=2.0, q=0.5, workers=16)\n",
    "\n",
    "n2v1.train(epochs=100)\n"
   ]
  },
  {
   "cell_type": "code",
   "execution_count": 7,
   "metadata": {},
   "outputs": [
    {
     "name": "stderr",
     "output_type": "stream",
     "text": [
      "Reading graph: 100%|██████████| 4370560/4370560 [00:02<00:00, 1698101.65it/s]\n",
      "Training: 100%|██████████| 11981100/11981100 [10:22<00:00, 19259.78it/s]\n"
     ]
    }
   ],
   "source": [
    "graph2 = Graph([(str(row.user_id), row.challenge) for row in \n",
    "                train_data[train_data.challenge_sequence <= 10].append(test_data).itertuples()] + [(row.challenge_series_ID, \n",
    "                row.challenge) for row in train_data[train_data.challenge_sequence <= 10\n",
    "                ].append(test_data).itertuples()] + [(row.author_org_ID, \n",
    "                row.challenge) for row in train_data[train_data.challenge_sequence <= 10\n",
    "                ].append(test_data).itertuples()] + [(row.author_ID, \n",
    "                row.challenge) for row in train_data[train_data.challenge_sequence <= 10\n",
    "                ].append(test_data).itertuples()],\n",
    "              directed=False, weighted=False)\n",
    "\n",
    "n2v2 = Node2Vec(graph2, dim=32, walk_length=20, context=10, p=2.0, q=0.5, workers=16)\n",
    "\n",
    "n2v2.train(epochs=100)\n"
   ]
  },
  {
   "cell_type": "code",
   "execution_count": 8,
   "metadata": {},
   "outputs": [
    {
     "data": {
      "text/html": [
       "<div>\n",
       "<style scoped>\n",
       "    .dataframe tbody tr th:only-of-type {\n",
       "        vertical-align: middle;\n",
       "    }\n",
       "\n",
       "    .dataframe tbody tr th {\n",
       "        vertical-align: top;\n",
       "    }\n",
       "\n",
       "    .dataframe thead th {\n",
       "        text-align: right;\n",
       "    }\n",
       "</style>\n",
       "<table border=\"1\" class=\"dataframe\">\n",
       "  <thead>\n",
       "    <tr style=\"text-align: right;\">\n",
       "      <th></th>\n",
       "      <th>user_sequence</th>\n",
       "      <th>user_id</th>\n",
       "      <th>challenge_sequence</th>\n",
       "      <th>challenge</th>\n",
       "      <th>programming_language</th>\n",
       "      <th>challenge_series_ID</th>\n",
       "      <th>total_submissions</th>\n",
       "      <th>publish_date</th>\n",
       "      <th>author_ID</th>\n",
       "      <th>author_gender</th>\n",
       "      <th>author_org_ID</th>\n",
       "      <th>category_id</th>\n",
       "    </tr>\n",
       "  </thead>\n",
       "  <tbody>\n",
       "    <tr>\n",
       "      <th>0</th>\n",
       "      <td>4576_1</td>\n",
       "      <td>4576</td>\n",
       "      <td>1</td>\n",
       "      <td>CI23714</td>\n",
       "      <td>1</td>\n",
       "      <td>SI2477</td>\n",
       "      <td>14723.0</td>\n",
       "      <td>12-06-2006</td>\n",
       "      <td>AI563766</td>\n",
       "      <td>M</td>\n",
       "      <td>AOI100129</td>\n",
       "      <td>29.0</td>\n",
       "    </tr>\n",
       "    <tr>\n",
       "      <th>1</th>\n",
       "      <td>4576_2</td>\n",
       "      <td>4576</td>\n",
       "      <td>2</td>\n",
       "      <td>CI23855</td>\n",
       "      <td>1</td>\n",
       "      <td>SI2468</td>\n",
       "      <td>20993.0</td>\n",
       "      <td>24-07-2006</td>\n",
       "      <td>AI563823</td>\n",
       "      <td>M</td>\n",
       "      <td>NaN</td>\n",
       "      <td>29.0</td>\n",
       "    </tr>\n",
       "    <tr>\n",
       "      <th>2</th>\n",
       "      <td>4576_3</td>\n",
       "      <td>4576</td>\n",
       "      <td>3</td>\n",
       "      <td>CI24917</td>\n",
       "      <td>1</td>\n",
       "      <td>SI2545</td>\n",
       "      <td>43409.0</td>\n",
       "      <td>02-07-2007</td>\n",
       "      <td>AI564588</td>\n",
       "      <td>F</td>\n",
       "      <td>AOI100581</td>\n",
       "      <td>66.0</td>\n",
       "    </tr>\n",
       "    <tr>\n",
       "      <th>3</th>\n",
       "      <td>4576_4</td>\n",
       "      <td>4576</td>\n",
       "      <td>4</td>\n",
       "      <td>CI23663</td>\n",
       "      <td>1</td>\n",
       "      <td>SI2472</td>\n",
       "      <td>8897.0</td>\n",
       "      <td>15-09-2004</td>\n",
       "      <td>AI563724</td>\n",
       "      <td>M</td>\n",
       "      <td>AOI100098</td>\n",
       "      <td>45.0</td>\n",
       "    </tr>\n",
       "    <tr>\n",
       "      <th>4</th>\n",
       "      <td>4576_5</td>\n",
       "      <td>4576</td>\n",
       "      <td>5</td>\n",
       "      <td>CI23933</td>\n",
       "      <td>1</td>\n",
       "      <td>SI2468</td>\n",
       "      <td>15086.0</td>\n",
       "      <td>27-07-2006</td>\n",
       "      <td>AI563783</td>\n",
       "      <td>M</td>\n",
       "      <td>AOI100149</td>\n",
       "      <td>31.0</td>\n",
       "    </tr>\n",
       "  </tbody>\n",
       "</table>\n",
       "</div>"
      ],
      "text/plain": [
       "  user_sequence  user_id  challenge_sequence challenge  programming_language  \\\n",
       "0        4576_1     4576                   1   CI23714                     1   \n",
       "1        4576_2     4576                   2   CI23855                     1   \n",
       "2        4576_3     4576                   3   CI24917                     1   \n",
       "3        4576_4     4576                   4   CI23663                     1   \n",
       "4        4576_5     4576                   5   CI23933                     1   \n",
       "\n",
       "  challenge_series_ID  total_submissions publish_date author_ID author_gender  \\\n",
       "0              SI2477            14723.0   12-06-2006  AI563766             M   \n",
       "1              SI2468            20993.0   24-07-2006  AI563823             M   \n",
       "2              SI2545            43409.0   02-07-2007  AI564588             F   \n",
       "3              SI2472             8897.0   15-09-2004  AI563724             M   \n",
       "4              SI2468            15086.0   27-07-2006  AI563783             M   \n",
       "\n",
       "  author_org_ID  category_id  \n",
       "0     AOI100129         29.0  \n",
       "1           NaN         29.0  \n",
       "2     AOI100581         66.0  \n",
       "3     AOI100098         45.0  \n",
       "4     AOI100149         31.0  "
      ]
     },
     "execution_count": 8,
     "metadata": {},
     "output_type": "execute_result"
    }
   ],
   "source": [
    "train_data.head()"
   ]
  },
  {
   "cell_type": "code",
   "execution_count": 9,
   "metadata": {},
   "outputs": [
    {
     "data": {
      "application/vnd.jupyter.widget-view+json": {
       "model_id": "c4ed5759a7784476a880b8f1f535b90f",
       "version_major": 2,
       "version_minor": 0
      },
      "text/plain": [
       "HBox(children=(FloatProgress(value=0.0, max=69532.0), HTML(value='')))"
      ]
     },
     "metadata": {},
     "output_type": "display_data"
    },
    {
     "name": "stderr",
     "output_type": "stream",
     "text": [
      "/home/ubuntu/anaconda3/lib/python3.7/site-packages/ipykernel_launcher.py:20: DeprecationWarning: Call to deprecated `most_similar` (Method will be removed in 4.0.0, use self.wv.most_similar() instead).\n",
      "/home/ubuntu/anaconda3/lib/python3.7/site-packages/ipykernel_launcher.py:10: DeprecationWarning: Call to deprecated `similarity` (Method will be removed in 4.0.0, use self.wv.similarity() instead).\n",
      "  # Remove the CWD from sys.path while we load stuff.\n"
     ]
    },
    {
     "name": "stdout",
     "output_type": "stream",
     "text": [
      "\n"
     ]
    },
    {
     "data": {
      "application/vnd.jupyter.widget-view+json": {
       "model_id": "b48716ebdbce4f2fa035ae856a3309a0",
       "version_major": 2,
       "version_minor": 0
      },
      "text/plain": [
       "HBox(children=(FloatProgress(value=0.0, max=39732.0), HTML(value='')))"
      ]
     },
     "metadata": {},
     "output_type": "display_data"
    },
    {
     "name": "stderr",
     "output_type": "stream",
     "text": [
      "/home/ubuntu/anaconda3/lib/python3.7/site-packages/ipykernel_launcher.py:36: DeprecationWarning: Call to deprecated `most_similar` (Method will be removed in 4.0.0, use self.wv.most_similar() instead).\n"
     ]
    },
    {
     "name": "stdout",
     "output_type": "stream",
     "text": [
      "\n"
     ]
    }
   ],
   "source": [
    "train_users = train_data.user_id.unique()\n",
    "already_done_challenges = train_data[train_data.challenge_sequence <=10][['user_id', 'challenge']\n",
    "                                                                        ].groupby('user_id').agg(set).challenge.to_dict()\n",
    "n2v_similarities = {}\n",
    "def get_n2v_similarity(a,b):\n",
    "    try:\n",
    "        return n2v_similarities[str(a), str(b)]\n",
    "    except KeyError:\n",
    "        try:\n",
    "            res = n2v2.similarity(str(a), str(b))\n",
    "            n2v_similarities[str(a), str(b)] = res\n",
    "            return res\n",
    "        except KeyError:\n",
    "            n2v_similarities[str(a), str(b)] = -1\n",
    "            return -1\n",
    "\n",
    "train = []\n",
    "for user_id in tqdm(train_data.user_id.unique()):\n",
    "    challenges = set([similar_challenge for challenge in already_done_challenges[user_id] \n",
    "                    for similar_challenge, score in n2v1.most_similar(challenge, topn = 50) if similar_challenge[0] == 'C'])\n",
    "    challenges = list(challenges - already_done_challenges[user_id])\n",
    "    train.append(pd.DataFrame({'user_id' : [user_id]*len(challenges), \n",
    "                              \"challenge\" : challenges, \n",
    "                               'n2v_similarity' : [get_n2v_similarity(user_id, challenge) for challenge in challenges]}))\n",
    "    \n",
    "train = pd.concat(train)\n",
    "\n",
    "\n",
    "test_users = test_data.user_id.unique()\n",
    "already_done_challenges = test_data[test_data.challenge_sequence <=10][['user_id', 'challenge']\n",
    "                                                                        ].groupby('user_id').agg(set).challenge.to_dict()\n",
    "\n",
    "test = []\n",
    "for user_id in tqdm(test_data.user_id.unique()):\n",
    "    challenges = set([similar_challenge for challenge in already_done_challenges[user_id] \n",
    "                    for similar_challenge, score in n2v1.most_similar(challenge, topn = 50) if similar_challenge[0] == 'C'])\n",
    "    challenges = list(challenges - already_done_challenges[user_id])\n",
    "    test.append(pd.DataFrame({'user_id' : [user_id]*len(challenges), \n",
    "                              \"challenge\" : challenges, \n",
    "                               'n2v_similarity' : [get_n2v_similarity(user_id, challenge) for challenge in challenges]}))\n",
    "test = pd.concat(test)\n"
   ]
  },
  {
   "cell_type": "code",
   "execution_count": 10,
   "metadata": {},
   "outputs": [
    {
     "data": {
      "text/html": [
       "<div>\n",
       "<style scoped>\n",
       "    .dataframe tbody tr th:only-of-type {\n",
       "        vertical-align: middle;\n",
       "    }\n",
       "\n",
       "    .dataframe tbody tr th {\n",
       "        vertical-align: top;\n",
       "    }\n",
       "\n",
       "    .dataframe thead th {\n",
       "        text-align: right;\n",
       "    }\n",
       "</style>\n",
       "<table border=\"1\" class=\"dataframe\">\n",
       "  <thead>\n",
       "    <tr style=\"text-align: right;\">\n",
       "      <th></th>\n",
       "      <th>user_id</th>\n",
       "      <th>challenge</th>\n",
       "      <th>n2v_similarity</th>\n",
       "    </tr>\n",
       "  </thead>\n",
       "  <tbody>\n",
       "    <tr>\n",
       "      <th>0</th>\n",
       "      <td>4576</td>\n",
       "      <td>CI23798</td>\n",
       "      <td>0.315841</td>\n",
       "    </tr>\n",
       "    <tr>\n",
       "      <th>1</th>\n",
       "      <td>4576</td>\n",
       "      <td>CI24968</td>\n",
       "      <td>0.643808</td>\n",
       "    </tr>\n",
       "    <tr>\n",
       "      <th>2</th>\n",
       "      <td>4576</td>\n",
       "      <td>CI23781</td>\n",
       "      <td>0.626791</td>\n",
       "    </tr>\n",
       "    <tr>\n",
       "      <th>3</th>\n",
       "      <td>4576</td>\n",
       "      <td>CI26050</td>\n",
       "      <td>0.669567</td>\n",
       "    </tr>\n",
       "    <tr>\n",
       "      <th>4</th>\n",
       "      <td>4576</td>\n",
       "      <td>CI23691</td>\n",
       "      <td>0.689923</td>\n",
       "    </tr>\n",
       "    <tr>\n",
       "      <th>...</th>\n",
       "      <td>...</td>\n",
       "      <td>...</td>\n",
       "      <td>...</td>\n",
       "    </tr>\n",
       "    <tr>\n",
       "      <th>313</th>\n",
       "      <td>113839</td>\n",
       "      <td>CI26579</td>\n",
       "      <td>0.400110</td>\n",
       "    </tr>\n",
       "    <tr>\n",
       "      <th>314</th>\n",
       "      <td>113839</td>\n",
       "      <td>CI24228</td>\n",
       "      <td>0.463715</td>\n",
       "    </tr>\n",
       "    <tr>\n",
       "      <th>315</th>\n",
       "      <td>113839</td>\n",
       "      <td>CI28897</td>\n",
       "      <td>0.484968</td>\n",
       "    </tr>\n",
       "    <tr>\n",
       "      <th>316</th>\n",
       "      <td>113839</td>\n",
       "      <td>CI24252</td>\n",
       "      <td>0.564924</td>\n",
       "    </tr>\n",
       "    <tr>\n",
       "      <th>317</th>\n",
       "      <td>113839</td>\n",
       "      <td>CI28574</td>\n",
       "      <td>0.648500</td>\n",
       "    </tr>\n",
       "  </tbody>\n",
       "</table>\n",
       "<p>11530183 rows × 3 columns</p>\n",
       "</div>"
      ],
      "text/plain": [
       "     user_id challenge  n2v_similarity\n",
       "0       4576   CI23798        0.315841\n",
       "1       4576   CI24968        0.643808\n",
       "2       4576   CI23781        0.626791\n",
       "3       4576   CI26050        0.669567\n",
       "4       4576   CI23691        0.689923\n",
       "..       ...       ...             ...\n",
       "313   113839   CI26579        0.400110\n",
       "314   113839   CI24228        0.463715\n",
       "315   113839   CI28897        0.484968\n",
       "316   113839   CI24252        0.564924\n",
       "317   113839   CI28574        0.648500\n",
       "\n",
       "[11530183 rows x 3 columns]"
      ]
     },
     "execution_count": 10,
     "metadata": {},
     "output_type": "execute_result"
    }
   ],
   "source": [
    "train"
   ]
  },
  {
   "cell_type": "code",
   "execution_count": 11,
   "metadata": {},
   "outputs": [
    {
     "data": {
      "text/plain": [
       "(11530183, 3)"
      ]
     },
     "execution_count": 11,
     "metadata": {},
     "output_type": "execute_result"
    }
   ],
   "source": [
    "train.shape"
   ]
  },
  {
   "cell_type": "code",
   "execution_count": 12,
   "metadata": {},
   "outputs": [],
   "source": [
    "user_challenges = train_data[['user_id', 'challenge_sequence', 'challenge']].pivot(\n",
    "                                    index = 'user_id', values = 'challenge', columns = 'challenge_sequence').reset_index()\n",
    "user_challenges.columns = ['user_id'] + [\"challenge_\" + str(c) for c in user_challenges.columns[1:]]\n",
    "train = train.merge(user_challenges, on = 'user_id', how = 'left')\n",
    "\n",
    "user_challenges = test_data[['user_id', 'challenge_sequence', 'challenge']].pivot(\n",
    "                                    index = 'user_id', values = 'challenge', columns = 'challenge_sequence').reset_index()\n",
    "user_challenges.columns = ['user_id'] + [\"challenge_\" + str(c) for c in user_challenges.columns[1:]]\n",
    "test = test.merge(user_challenges, on = 'user_id', how = 'left')"
   ]
  },
  {
   "cell_type": "code",
   "execution_count": 13,
   "metadata": {},
   "outputs": [
    {
     "data": {
      "text/plain": [
       "(56773, 54566, 52809)"
      ]
     },
     "execution_count": 13,
     "metadata": {},
     "output_type": "execute_result"
    }
   ],
   "source": [
    "(train.challenge == train.challenge_11).sum(), (train.challenge == train.challenge_12).sum(), (train.challenge == train.challenge_13).sum()"
   ]
  },
  {
   "cell_type": "code",
   "execution_count": 14,
   "metadata": {},
   "outputs": [],
   "source": [
    "train['target'] = ((train.challenge == train.challenge_11).astype(int) + (train.challenge == train.challenge_12).astype(int) \n",
    "                   + (train.challenge == train.challenge_13).astype(int)).map(lambda x : 1 if x > 0 else 0)"
   ]
  },
  {
   "cell_type": "code",
   "execution_count": 15,
   "metadata": {},
   "outputs": [
    {
     "data": {
      "text/plain": [
       "0.8763494985523548"
      ]
     },
     "execution_count": 15,
     "metadata": {},
     "output_type": "execute_result"
    }
   ],
   "source": [
    "## theoretical maximum\n",
    "df = train.sort_values(by = 'target', ascending = False).groupby('user_id').head(3)\n",
    "df['rank'] = df.groupby('user_id').target.rank(ascending = False, method = 'first')\n",
    "# val1 = val1.sort_values(by = ['user_id', 'pred'], ascending = False)\n",
    "\n",
    "df['precision'] = ((df['rank'] == 1) & (df.target == 1)) | ((df['rank'] ==  2) & \n",
    "                                    (df.target == 1)) | ((df['rank'] == 3) & (df.target == 1))\n",
    "df['precision'] = df[['user_id', 'precision']].groupby('user_id').cumsum()\n",
    "df['precision'] = df['precision'] / df['rank']\n",
    "df[['user_id', 'precision']].groupby('user_id').mean().precision.mean()"
   ]
  },
  {
   "cell_type": "code",
   "execution_count": 16,
   "metadata": {},
   "outputs": [],
   "source": [
    "train1 = train.merge(challange_data.rename(columns = {'challenge_ID' : 'challenge'}), on = 'challenge', how = 'left')\n",
    "test1 = test.merge(challange_data.rename(columns = {'challenge_ID' : 'challenge'}), on = 'challenge', how = 'left')"
   ]
  },
  {
   "cell_type": "code",
   "execution_count": 17,
   "metadata": {
    "scrolled": true
   },
   "outputs": [
    {
     "data": {
      "application/vnd.jupyter.widget-view+json": {
       "model_id": "f4bdc8c04f0a4c158b58d35a18953949",
       "version_major": 2,
       "version_minor": 0
      },
      "text/plain": [
       "HBox(children=(FloatProgress(value=1.0, bar_style='info', max=1.0), HTML(value='')))"
      ]
     },
     "metadata": {},
     "output_type": "display_data"
    },
    {
     "name": "stdout",
     "output_type": "stream",
     "text": [
      "\n"
     ]
    },
    {
     "data": {
      "application/vnd.jupyter.widget-view+json": {
       "model_id": "8c5ce99828d6453a8ce6bcb15ff5fff1",
       "version_major": 2,
       "version_minor": 0
      },
      "text/plain": [
       "HBox(children=(FloatProgress(value=1.0, bar_style='info', max=1.0), HTML(value='')))"
      ]
     },
     "metadata": {},
     "output_type": "display_data"
    },
    {
     "name": "stdout",
     "output_type": "stream",
     "text": [
      "\n"
     ]
    }
   ],
   "source": [
    "user_series_count = train_data[train_data.challenge_sequence <= 10][['user_id', 'challenge_series_ID', 'user_sequence']\n",
    "                                            ].groupby(['user_id', 'challenge_series_ID']).count().user_sequence.to_dict()\n",
    "challenge_series_mapping = challange_data[['challenge_ID', 'challenge_series_ID']\n",
    "                                         ].set_index('challenge_ID').challenge_series_ID.to_dict()\n",
    "train1['user_series_count'] = [user_series_count.get((row.user_id, challenge_series_mapping[row.challenge]), 0) \n",
    "                              for row in tqdm(train1.itertuples())]\n",
    "\n",
    "user_series_count = test_data[test_data.challenge_sequence <= 10][['user_id', 'challenge_series_ID', 'user_sequence']\n",
    "                                            ].groupby(['user_id', 'challenge_series_ID']).count().user_sequence.to_dict()\n",
    "test1['user_series_count'] = [user_series_count.get((row.user_id, challenge_series_mapping[row.challenge]), 0) \n",
    "                              for row in tqdm(test1.itertuples())]"
   ]
  },
  {
   "cell_type": "code",
   "execution_count": 18,
   "metadata": {},
   "outputs": [
    {
     "data": {
      "text/plain": [
       "(0.0350509207540831, 0.01423637421886539)"
      ]
     },
     "execution_count": 18,
     "metadata": {},
     "output_type": "execute_result"
    }
   ],
   "source": [
    "train1[train1.user_series_count > 0].target.mean(), train1.target.mean()"
   ]
  },
  {
   "cell_type": "code",
   "execution_count": 19,
   "metadata": {},
   "outputs": [],
   "source": [
    "user_num_unique_series = train_data[train_data.challenge_sequence <= 10][['user_id', 'challenge_series_ID']\n",
    "                                            ].drop_duplicates().user_id.value_counts().to_dict()\n",
    "train1['user_num_unique_series'] = train1['user_id'].map(user_num_unique_series)\n",
    "\n",
    "user_num_unique_series = test_data[test_data.challenge_sequence <= 10][['user_id', 'challenge_series_ID']\n",
    "                                            ].drop_duplicates().user_id.value_counts().to_dict()\n",
    "test1['user_num_unique_series'] = test1['user_id'].map(user_num_unique_series)\n"
   ]
  },
  {
   "cell_type": "code",
   "execution_count": 20,
   "metadata": {},
   "outputs": [
    {
     "data": {
      "text/html": [
       "<div>\n",
       "<style scoped>\n",
       "    .dataframe tbody tr th:only-of-type {\n",
       "        vertical-align: middle;\n",
       "    }\n",
       "\n",
       "    .dataframe tbody tr th {\n",
       "        vertical-align: top;\n",
       "    }\n",
       "\n",
       "    .dataframe thead th {\n",
       "        text-align: right;\n",
       "    }\n",
       "</style>\n",
       "<table border=\"1\" class=\"dataframe\">\n",
       "  <thead>\n",
       "    <tr style=\"text-align: right;\">\n",
       "      <th></th>\n",
       "      <th>target</th>\n",
       "    </tr>\n",
       "    <tr>\n",
       "      <th>user_num_unique_series</th>\n",
       "      <th></th>\n",
       "    </tr>\n",
       "  </thead>\n",
       "  <tbody>\n",
       "    <tr>\n",
       "      <th>1</th>\n",
       "      <td>0.046149</td>\n",
       "    </tr>\n",
       "    <tr>\n",
       "      <th>2</th>\n",
       "      <td>0.031373</td>\n",
       "    </tr>\n",
       "    <tr>\n",
       "      <th>3</th>\n",
       "      <td>0.018953</td>\n",
       "    </tr>\n",
       "    <tr>\n",
       "      <th>4</th>\n",
       "      <td>0.013491</td>\n",
       "    </tr>\n",
       "    <tr>\n",
       "      <th>5</th>\n",
       "      <td>0.011804</td>\n",
       "    </tr>\n",
       "    <tr>\n",
       "      <th>6</th>\n",
       "      <td>0.011162</td>\n",
       "    </tr>\n",
       "    <tr>\n",
       "      <th>7</th>\n",
       "      <td>0.010491</td>\n",
       "    </tr>\n",
       "    <tr>\n",
       "      <th>8</th>\n",
       "      <td>0.009519</td>\n",
       "    </tr>\n",
       "    <tr>\n",
       "      <th>9</th>\n",
       "      <td>0.008334</td>\n",
       "    </tr>\n",
       "    <tr>\n",
       "      <th>10</th>\n",
       "      <td>0.007039</td>\n",
       "    </tr>\n",
       "  </tbody>\n",
       "</table>\n",
       "</div>"
      ],
      "text/plain": [
       "                          target\n",
       "user_num_unique_series          \n",
       "1                       0.046149\n",
       "2                       0.031373\n",
       "3                       0.018953\n",
       "4                       0.013491\n",
       "5                       0.011804\n",
       "6                       0.011162\n",
       "7                       0.010491\n",
       "8                       0.009519\n",
       "9                       0.008334\n",
       "10                      0.007039"
      ]
     },
     "execution_count": 20,
     "metadata": {},
     "output_type": "execute_result"
    }
   ],
   "source": [
    "train1[['user_num_unique_series', 'target']].groupby('user_num_unique_series').mean()"
   ]
  },
  {
   "cell_type": "code",
   "execution_count": 21,
   "metadata": {},
   "outputs": [],
   "source": [
    "for key in ['challenge', 'challenge_series_ID', 'author_ID', 'author_org_ID', 'category_id']:\n",
    "    key_user_counts = train_data[train_data.challenge_sequence <= 10][['user_id', key]].append(\n",
    "                test_data[['user_id', key]]).drop_duplicates()[key].value_counts().to_dict()\n",
    "    train1[key + \"_user_count\"] = train1[key].map(key_user_counts)\n",
    "    test1[key + \"_user_count\"] = test1[key].map(key_user_counts)\n",
    "    \n",
    "    key_avg_seq = train_data[train_data.challenge_sequence <= 10][['challenge_sequence', key]].append(\n",
    "                test_data[['challenge_sequence', key]]).groupby(key).mean().challenge_sequence.to_dict()\n",
    "    train1[key + \"_avg_seq\"] = train1[key].map(key_avg_seq)\n",
    "    test1[key + \"_avg_seq\"] = test1[key].map(key_avg_seq)\n",
    "    \n",
    "    "
   ]
  },
  {
   "cell_type": "code",
   "execution_count": 22,
   "metadata": {},
   "outputs": [
    {
     "data": {
      "application/vnd.jupyter.widget-view+json": {
       "model_id": "74f1e470f57c4ca68be5d2eabf2a51bd",
       "version_major": 2,
       "version_minor": 0
      },
      "text/plain": [
       "HBox(children=(FloatProgress(value=1.0, bar_style='info', max=1.0), HTML(value='')))"
      ]
     },
     "metadata": {},
     "output_type": "display_data"
    },
    {
     "name": "stdout",
     "output_type": "stream",
     "text": [
      "\n"
     ]
    },
    {
     "data": {
      "application/vnd.jupyter.widget-view+json": {
       "model_id": "7b75056762234f188c331b4f2470283b",
       "version_major": 2,
       "version_minor": 0
      },
      "text/plain": [
       "HBox(children=(FloatProgress(value=1.0, bar_style='info', max=1.0), HTML(value='')))"
      ]
     },
     "metadata": {},
     "output_type": "display_data"
    },
    {
     "name": "stdout",
     "output_type": "stream",
     "text": [
      "\n"
     ]
    }
   ],
   "source": [
    "user_author_count = train_data[train_data.challenge_sequence <= 10][['user_id', 'author_ID', 'user_sequence']\n",
    "                                            ].groupby(['user_id', 'author_ID']).count().user_sequence.to_dict()\n",
    "challenge_author_mapping = challange_data[['challenge_ID', 'author_ID']\n",
    "                                         ].set_index('challenge_ID').author_ID.to_dict()\n",
    "train1['user_author_count'] = [user_author_count.get((row.user_id, challenge_author_mapping[row.challenge]), 0) \n",
    "                              for row in tqdm(train1.itertuples())]\n",
    "\n",
    "user_author_count = test_data[test_data.challenge_sequence <= 10][['user_id', 'author_ID', 'user_sequence']\n",
    "                                            ].groupby(['user_id', 'author_ID']).count().user_sequence.to_dict()\n",
    "test1['user_author_count'] = [user_author_count.get((row.user_id, challenge_author_mapping[row.challenge]), 0) \n",
    "                              for row in tqdm(test1.itertuples())]\n"
   ]
  },
  {
   "cell_type": "code",
   "execution_count": 23,
   "metadata": {},
   "outputs": [
    {
     "data": {
      "text/plain": [
       "(0.042969782135390745, 0.01423637421886539)"
      ]
     },
     "execution_count": 23,
     "metadata": {},
     "output_type": "execute_result"
    }
   ],
   "source": [
    "train1[train1.user_author_count > 0].target.mean(), train1.target.mean()"
   ]
  },
  {
   "cell_type": "code",
   "execution_count": 24,
   "metadata": {},
   "outputs": [],
   "source": [
    "user_num_unique_author = train_data[train_data.challenge_sequence <= 10][['user_id', 'author_ID']\n",
    "                                            ].drop_duplicates().user_id.value_counts().to_dict()\n",
    "train1['user_num_unique_author'] = train1['user_id'].map(user_num_unique_author)\n",
    "\n",
    "user_num_unique_author = test_data[test_data.challenge_sequence <= 10][['user_id', 'author_ID']\n",
    "                                            ].drop_duplicates().user_id.value_counts().to_dict()\n",
    "test1['user_num_unique_author'] = test1['user_id'].map(user_num_unique_author)\n"
   ]
  },
  {
   "cell_type": "code",
   "execution_count": 25,
   "metadata": {},
   "outputs": [
    {
     "data": {
      "text/html": [
       "<div>\n",
       "<style scoped>\n",
       "    .dataframe tbody tr th:only-of-type {\n",
       "        vertical-align: middle;\n",
       "    }\n",
       "\n",
       "    .dataframe tbody tr th {\n",
       "        vertical-align: top;\n",
       "    }\n",
       "\n",
       "    .dataframe thead th {\n",
       "        text-align: right;\n",
       "    }\n",
       "</style>\n",
       "<table border=\"1\" class=\"dataframe\">\n",
       "  <thead>\n",
       "    <tr style=\"text-align: right;\">\n",
       "      <th></th>\n",
       "      <th>target</th>\n",
       "    </tr>\n",
       "    <tr>\n",
       "      <th>user_num_unique_author</th>\n",
       "      <th></th>\n",
       "    </tr>\n",
       "  </thead>\n",
       "  <tbody>\n",
       "    <tr>\n",
       "      <th>1</th>\n",
       "      <td>0.041161</td>\n",
       "    </tr>\n",
       "    <tr>\n",
       "      <th>2</th>\n",
       "      <td>0.031859</td>\n",
       "    </tr>\n",
       "    <tr>\n",
       "      <th>3</th>\n",
       "      <td>0.028990</td>\n",
       "    </tr>\n",
       "    <tr>\n",
       "      <th>4</th>\n",
       "      <td>0.018389</td>\n",
       "    </tr>\n",
       "    <tr>\n",
       "      <th>5</th>\n",
       "      <td>0.011877</td>\n",
       "    </tr>\n",
       "    <tr>\n",
       "      <th>6</th>\n",
       "      <td>0.011239</td>\n",
       "    </tr>\n",
       "    <tr>\n",
       "      <th>7</th>\n",
       "      <td>0.010732</td>\n",
       "    </tr>\n",
       "    <tr>\n",
       "      <th>8</th>\n",
       "      <td>0.010346</td>\n",
       "    </tr>\n",
       "    <tr>\n",
       "      <th>9</th>\n",
       "      <td>0.010384</td>\n",
       "    </tr>\n",
       "    <tr>\n",
       "      <th>10</th>\n",
       "      <td>0.010816</td>\n",
       "    </tr>\n",
       "  </tbody>\n",
       "</table>\n",
       "</div>"
      ],
      "text/plain": [
       "                          target\n",
       "user_num_unique_author          \n",
       "1                       0.041161\n",
       "2                       0.031859\n",
       "3                       0.028990\n",
       "4                       0.018389\n",
       "5                       0.011877\n",
       "6                       0.011239\n",
       "7                       0.010732\n",
       "8                       0.010346\n",
       "9                       0.010384\n",
       "10                      0.010816"
      ]
     },
     "execution_count": 25,
     "metadata": {},
     "output_type": "execute_result"
    }
   ],
   "source": [
    "train1[['user_num_unique_author', 'target']].groupby('user_num_unique_author').mean()"
   ]
  },
  {
   "cell_type": "code",
   "execution_count": 26,
   "metadata": {},
   "outputs": [
    {
     "data": {
      "application/vnd.jupyter.widget-view+json": {
       "model_id": "13d096f2ebf54d0185ac30a4237fe47a",
       "version_major": 2,
       "version_minor": 0
      },
      "text/plain": [
       "HBox(children=(FloatProgress(value=1.0, bar_style='info', max=1.0), HTML(value='')))"
      ]
     },
     "metadata": {},
     "output_type": "display_data"
    },
    {
     "name": "stdout",
     "output_type": "stream",
     "text": [
      "\n"
     ]
    },
    {
     "data": {
      "application/vnd.jupyter.widget-view+json": {
       "model_id": "d5276eb0e4294019839c32f9dd72c69c",
       "version_major": 2,
       "version_minor": 0
      },
      "text/plain": [
       "HBox(children=(FloatProgress(value=1.0, bar_style='info', max=1.0), HTML(value='')))"
      ]
     },
     "metadata": {},
     "output_type": "display_data"
    },
    {
     "name": "stdout",
     "output_type": "stream",
     "text": [
      "\n"
     ]
    }
   ],
   "source": [
    "user_author_count = train_data[train_data.challenge_sequence <= 10][['user_id', 'author_org_ID', 'user_sequence']\n",
    "                                            ].groupby(['user_id', 'author_org_ID']).count().user_sequence.to_dict()\n",
    "challenge_author_mapping = challange_data[['challenge_ID', 'author_org_ID']\n",
    "                                         ].set_index('challenge_ID').author_org_ID.to_dict()\n",
    "train1['user_author_org_count'] = [user_author_count.get((row.user_id, challenge_author_mapping[row.challenge]), 0) \n",
    "                              for row in tqdm(train1.itertuples())]\n",
    "\n",
    "user_author_count = test_data[test_data.challenge_sequence <= 10][['user_id', 'author_org_ID', 'user_sequence']\n",
    "                                            ].groupby(['user_id', 'author_org_ID']).count().user_sequence.to_dict()\n",
    "test1['user_author_org_count'] = [user_author_count.get((row.user_id, challenge_author_mapping[row.challenge]), 0) \n",
    "                              for row in tqdm(test1.itertuples())]\n"
   ]
  },
  {
   "cell_type": "code",
   "execution_count": 27,
   "metadata": {},
   "outputs": [
    {
     "data": {
      "text/plain": [
       "(0.03386625906420463, 0.01423637421886539)"
      ]
     },
     "execution_count": 27,
     "metadata": {},
     "output_type": "execute_result"
    }
   ],
   "source": [
    "train1[train1.user_author_org_count > 0].target.mean(), train1.target.mean()"
   ]
  },
  {
   "cell_type": "code",
   "execution_count": 28,
   "metadata": {},
   "outputs": [],
   "source": [
    "user_num_unique_author_org = train_data[train_data.challenge_sequence <= 10][['user_id', 'author_org_ID']\n",
    "                                            ].drop_duplicates().user_id.value_counts().to_dict()\n",
    "train1['user_num_unique_author_org'] = train1['user_id'].map(user_num_unique_author_org)\n",
    "\n",
    "user_num_unique_author_org = test_data[test_data.challenge_sequence <= 10][['user_id', 'author_org_ID']\n",
    "                                            ].drop_duplicates().user_id.value_counts().to_dict()\n",
    "test1['user_num_unique_author_org'] = test1['user_id'].map(user_num_unique_author_org)\n"
   ]
  },
  {
   "cell_type": "code",
   "execution_count": 29,
   "metadata": {},
   "outputs": [
    {
     "data": {
      "text/html": [
       "<div>\n",
       "<style scoped>\n",
       "    .dataframe tbody tr th:only-of-type {\n",
       "        vertical-align: middle;\n",
       "    }\n",
       "\n",
       "    .dataframe tbody tr th {\n",
       "        vertical-align: top;\n",
       "    }\n",
       "\n",
       "    .dataframe thead th {\n",
       "        text-align: right;\n",
       "    }\n",
       "</style>\n",
       "<table border=\"1\" class=\"dataframe\">\n",
       "  <thead>\n",
       "    <tr style=\"text-align: right;\">\n",
       "      <th></th>\n",
       "      <th>target</th>\n",
       "    </tr>\n",
       "    <tr>\n",
       "      <th>user_num_unique_author_org</th>\n",
       "      <th></th>\n",
       "    </tr>\n",
       "  </thead>\n",
       "  <tbody>\n",
       "    <tr>\n",
       "      <th>1</th>\n",
       "      <td>0.040175</td>\n",
       "    </tr>\n",
       "    <tr>\n",
       "      <th>2</th>\n",
       "      <td>0.032137</td>\n",
       "    </tr>\n",
       "    <tr>\n",
       "      <th>3</th>\n",
       "      <td>0.018174</td>\n",
       "    </tr>\n",
       "    <tr>\n",
       "      <th>4</th>\n",
       "      <td>0.013594</td>\n",
       "    </tr>\n",
       "    <tr>\n",
       "      <th>5</th>\n",
       "      <td>0.011488</td>\n",
       "    </tr>\n",
       "    <tr>\n",
       "      <th>6</th>\n",
       "      <td>0.011183</td>\n",
       "    </tr>\n",
       "    <tr>\n",
       "      <th>7</th>\n",
       "      <td>0.010938</td>\n",
       "    </tr>\n",
       "    <tr>\n",
       "      <th>8</th>\n",
       "      <td>0.010659</td>\n",
       "    </tr>\n",
       "    <tr>\n",
       "      <th>9</th>\n",
       "      <td>0.010612</td>\n",
       "    </tr>\n",
       "    <tr>\n",
       "      <th>10</th>\n",
       "      <td>0.010425</td>\n",
       "    </tr>\n",
       "  </tbody>\n",
       "</table>\n",
       "</div>"
      ],
      "text/plain": [
       "                              target\n",
       "user_num_unique_author_org          \n",
       "1                           0.040175\n",
       "2                           0.032137\n",
       "3                           0.018174\n",
       "4                           0.013594\n",
       "5                           0.011488\n",
       "6                           0.011183\n",
       "7                           0.010938\n",
       "8                           0.010659\n",
       "9                           0.010612\n",
       "10                          0.010425"
      ]
     },
     "execution_count": 29,
     "metadata": {},
     "output_type": "execute_result"
    }
   ],
   "source": [
    "train1[['user_num_unique_author_org', 'target']].groupby('user_num_unique_author_org').mean()"
   ]
  },
  {
   "cell_type": "code",
   "execution_count": 30,
   "metadata": {},
   "outputs": [
    {
     "data": {
      "application/vnd.jupyter.widget-view+json": {
       "model_id": "2111b24bfadd40df9dda75a843935ab7",
       "version_major": 2,
       "version_minor": 0
      },
      "text/plain": [
       "HBox(children=(FloatProgress(value=1.0, bar_style='info', max=1.0), HTML(value='')))"
      ]
     },
     "metadata": {},
     "output_type": "display_data"
    },
    {
     "name": "stdout",
     "output_type": "stream",
     "text": [
      "\n"
     ]
    },
    {
     "data": {
      "application/vnd.jupyter.widget-view+json": {
       "model_id": "28977e5f739d46a98c2bb70cec9de9b1",
       "version_major": 2,
       "version_minor": 0
      },
      "text/plain": [
       "HBox(children=(FloatProgress(value=1.0, bar_style='info', max=1.0), HTML(value='')))"
      ]
     },
     "metadata": {},
     "output_type": "display_data"
    },
    {
     "name": "stdout",
     "output_type": "stream",
     "text": [
      "\n"
     ]
    }
   ],
   "source": [
    "user_category_count = train_data[train_data.challenge_sequence <= 10][['user_id', 'category_id', 'user_sequence']\n",
    "                                            ].groupby(['user_id', 'category_id']).count().user_sequence.to_dict()\n",
    "challenge_category_mapping = challange_data[['challenge_ID', 'category_id']\n",
    "                                         ].set_index('challenge_ID').category_id.to_dict()\n",
    "train1['user_category_count'] = [user_category_count.get((row.user_id, challenge_category_mapping[row.challenge]), 0) \n",
    "                              for row in tqdm(train1.itertuples())]\n",
    "\n",
    "user_category_count = test_data[test_data.challenge_sequence <= 10][['user_id', 'category_id', 'user_sequence']\n",
    "                                            ].groupby(['user_id', 'category_id']).count().user_sequence.to_dict()\n",
    "test1['user_category_count'] = [user_category_count.get((row.user_id, challenge_category_mapping[row.challenge]), 0) \n",
    "                              for row in tqdm(test1.itertuples())]\n"
   ]
  },
  {
   "cell_type": "code",
   "execution_count": 31,
   "metadata": {},
   "outputs": [],
   "source": [
    "user_num_unique_category = train_data[train_data.challenge_sequence <= 10][['user_id', 'category_id']\n",
    "                                            ].drop_duplicates().user_id.value_counts().to_dict()\n",
    "train1['user_num_unique_category'] = train1['user_id'].map(user_num_unique_category)\n",
    "\n",
    "user_num_unique_category = test_data[test_data.challenge_sequence <= 10][['user_id', 'category_id']\n",
    "                                            ].drop_duplicates().user_id.value_counts().to_dict()\n",
    "test1['user_num_unique_category'] = test1['user_id'].map(user_num_unique_category)\n"
   ]
  },
  {
   "cell_type": "code",
   "execution_count": 32,
   "metadata": {},
   "outputs": [
    {
     "data": {
      "text/html": [
       "<div>\n",
       "<style scoped>\n",
       "    .dataframe tbody tr th:only-of-type {\n",
       "        vertical-align: middle;\n",
       "    }\n",
       "\n",
       "    .dataframe tbody tr th {\n",
       "        vertical-align: top;\n",
       "    }\n",
       "\n",
       "    .dataframe thead th {\n",
       "        text-align: right;\n",
       "    }\n",
       "</style>\n",
       "<table border=\"1\" class=\"dataframe\">\n",
       "  <thead>\n",
       "    <tr style=\"text-align: right;\">\n",
       "      <th></th>\n",
       "      <th>target</th>\n",
       "    </tr>\n",
       "    <tr>\n",
       "      <th>user_num_unique_category</th>\n",
       "      <th></th>\n",
       "    </tr>\n",
       "  </thead>\n",
       "  <tbody>\n",
       "    <tr>\n",
       "      <th>1</th>\n",
       "      <td>0.041523</td>\n",
       "    </tr>\n",
       "    <tr>\n",
       "      <th>2</th>\n",
       "      <td>0.023733</td>\n",
       "    </tr>\n",
       "    <tr>\n",
       "      <th>3</th>\n",
       "      <td>0.015424</td>\n",
       "    </tr>\n",
       "    <tr>\n",
       "      <th>4</th>\n",
       "      <td>0.011646</td>\n",
       "    </tr>\n",
       "    <tr>\n",
       "      <th>5</th>\n",
       "      <td>0.010414</td>\n",
       "    </tr>\n",
       "    <tr>\n",
       "      <th>6</th>\n",
       "      <td>0.010077</td>\n",
       "    </tr>\n",
       "    <tr>\n",
       "      <th>7</th>\n",
       "      <td>0.009971</td>\n",
       "    </tr>\n",
       "    <tr>\n",
       "      <th>8</th>\n",
       "      <td>0.009920</td>\n",
       "    </tr>\n",
       "    <tr>\n",
       "      <th>9</th>\n",
       "      <td>0.009763</td>\n",
       "    </tr>\n",
       "    <tr>\n",
       "      <th>10</th>\n",
       "      <td>0.009329</td>\n",
       "    </tr>\n",
       "  </tbody>\n",
       "</table>\n",
       "</div>"
      ],
      "text/plain": [
       "                            target\n",
       "user_num_unique_category          \n",
       "1                         0.041523\n",
       "2                         0.023733\n",
       "3                         0.015424\n",
       "4                         0.011646\n",
       "5                         0.010414\n",
       "6                         0.010077\n",
       "7                         0.009971\n",
       "8                         0.009920\n",
       "9                         0.009763\n",
       "10                        0.009329"
      ]
     },
     "execution_count": 32,
     "metadata": {},
     "output_type": "execute_result"
    }
   ],
   "source": [
    "train1[['user_num_unique_category', 'target']].groupby('user_num_unique_category').mean()"
   ]
  },
  {
   "cell_type": "code",
   "execution_count": 33,
   "metadata": {},
   "outputs": [],
   "source": [
    "user_min_difficulty = train_data[train_data.challenge_sequence <= 10][['user_id', 'total_submissions']\n",
    "                                                                ].groupby('user_id').max().total_submissions.to_dict()\n",
    "user_max_difficulty = train_data[train_data.challenge_sequence <= 10][['user_id', 'total_submissions']\n",
    "                                                                ].groupby('user_id').min().total_submissions.to_dict()\n",
    "user_mean_difficulty = train_data[train_data.challenge_sequence <= 10][['user_id', 'total_submissions']\n",
    "                                                                ].groupby('user_id').mean().total_submissions.to_dict()\n",
    "user_last_difficulty = train_data[train_data.challenge_sequence == 10][['user_id', 'total_submissions']\n",
    "                                                                ].groupby('user_id').mean().total_submissions.to_dict()\n",
    "\n",
    "train1['user_min_difficulty'] = train1.user_id.map(user_min_difficulty)\n",
    "train1['user_max_difficulty'] = train1.user_id.map(user_max_difficulty)\n",
    "train1['user_mean_difficulty'] = train1.user_id.map(user_mean_difficulty)\n",
    "train1['user_last_difficulty'] = train1.user_id.map(user_last_difficulty)\n",
    "\n",
    "train1['user_min_difficulty_diff'] = train1['user_min_difficulty'] - train1.total_submissions\n",
    "train1['user_max_difficulty_diff'] = train1['user_max_difficulty'] - train1.total_submissions\n",
    "train1['user_mean_difficulty_diff'] = train1['user_mean_difficulty'] - train1.total_submissions\n",
    "train1['user_last_difficulty_diff'] = train1['user_last_difficulty'] - train1.total_submissions\n",
    "\n",
    "\n",
    "\n",
    "user_min_difficulty = test_data[test_data.challenge_sequence <= 10][['user_id', 'total_submissions']\n",
    "                                                                ].groupby('user_id').max().total_submissions.to_dict()\n",
    "user_max_difficulty = test_data[test_data.challenge_sequence <= 10][['user_id', 'total_submissions']\n",
    "                                                                ].groupby('user_id').min().total_submissions.to_dict()\n",
    "user_mean_difficulty = test_data[test_data.challenge_sequence <= 10][['user_id', 'total_submissions']\n",
    "                                                                ].groupby('user_id').mean().total_submissions.to_dict()\n",
    "user_last_difficulty = test_data[test_data.challenge_sequence == 10][['user_id', 'total_submissions']\n",
    "                                                                ].groupby('user_id').mean().total_submissions.to_dict()\n",
    "\n",
    "test1['user_min_difficulty'] = test1.user_id.map(user_min_difficulty)\n",
    "test1['user_max_difficulty'] = test1.user_id.map(user_max_difficulty)\n",
    "test1['user_mean_difficulty'] = test1.user_id.map(user_mean_difficulty)\n",
    "test1['user_last_difficulty'] = test1.user_id.map(user_last_difficulty)\n",
    "\n",
    "test1['user_min_difficulty_diff'] = test1['user_min_difficulty'] - test1.total_submissions\n",
    "test1['user_max_difficulty_diff'] = test1['user_max_difficulty'] - test1.total_submissions\n",
    "test1['user_mean_difficulty_diff'] = test1['user_mean_difficulty'] - test1.total_submissions\n",
    "test1['user_last_difficulty_diff'] = test1['user_last_difficulty'] - test1.total_submissions\n"
   ]
  },
  {
   "cell_type": "code",
   "execution_count": 34,
   "metadata": {},
   "outputs": [],
   "source": [
    "train_data.publish_date = pd.to_datetime(train_data.publish_date)\n",
    "test_data.publish_date = pd.to_datetime(test_data.publish_date)"
   ]
  },
  {
   "cell_type": "code",
   "execution_count": 35,
   "metadata": {},
   "outputs": [],
   "source": [
    "user_min_publish_date = train_data[train_data.challenge_sequence <= 10][['user_id', 'publish_date']\n",
    "                                                                ].groupby('user_id').max().publish_date.to_dict()\n",
    "user_max_publish_date = train_data[train_data.challenge_sequence <= 10][['user_id', 'publish_date']\n",
    "                                                                ].groupby('user_id').min().publish_date.to_dict()\n",
    "user_last_publish_date = train_data[train_data.challenge_sequence == 10][['user_id', 'publish_date']\n",
    "                                                                ].groupby('user_id').last().publish_date.to_dict()\n",
    "\n",
    "train1['user_min_publish_date'] = train1.user_id.map(user_min_publish_date)\n",
    "train1['user_max_publish_date'] = train1.user_id.map(user_max_publish_date)\n",
    "train1['user_last_publish_date'] = train1.user_id.map(user_last_publish_date)\n",
    "\n",
    "train1.publish_date = pd.to_datetime(train1.publish_date)\n",
    "train1['user_min_publish_date_diff'] = (train1['user_min_publish_date'] - train1.publish_date).dt.days\n",
    "train1['user_max_publish_date_diff'] = (train1['user_max_publish_date'] - train1.publish_date).dt.days\n",
    "train1['user_last_publish_date_diff'] = (train1['user_last_publish_date'] - train1.publish_date).dt.days\n",
    "\n",
    "\n",
    "\n",
    "user_min_publish_date = test_data[test_data.challenge_sequence <= 10][['user_id', 'publish_date']\n",
    "                                                                ].groupby('user_id').max().publish_date.to_dict()\n",
    "user_max_publish_date = test_data[test_data.challenge_sequence <= 10][['user_id', 'publish_date']\n",
    "                                                                ].groupby('user_id').min().publish_date.to_dict()\n",
    "user_last_publish_date = test_data[test_data.challenge_sequence == 10][['user_id', 'publish_date']\n",
    "                                                                ].groupby('user_id').last().publish_date.to_dict()\n",
    "\n",
    "test1['user_min_publish_date'] = test1.user_id.map(user_min_publish_date)\n",
    "test1['user_max_publish_date'] = test1.user_id.map(user_max_publish_date)\n",
    "test1['user_last_publish_date'] = test1.user_id.map(user_last_publish_date)\n",
    "\n",
    "test1.publish_date = pd.to_datetime(test1.publish_date)\n",
    "test1['user_min_publish_date_diff'] = (test1['user_min_publish_date'] - test1.publish_date).dt.days\n",
    "test1['user_max_publish_date_diff'] = (test1['user_max_publish_date'] - test1.publish_date).dt.days\n",
    "test1['user_last_publish_date_diff'] = (test1['user_last_publish_date'] - test1.publish_date).dt.days\n"
   ]
  },
  {
   "cell_type": "code",
   "execution_count": 36,
   "metadata": {},
   "outputs": [
    {
     "data": {
      "application/vnd.jupyter.widget-view+json": {
       "model_id": "87f4329ac7424100bb9595f0926e5ed4",
       "version_major": 2,
       "version_minor": 0
      },
      "text/plain": [
       "HBox(children=(FloatProgress(value=1.0, bar_style='info', max=1.0), HTML(value='')))"
      ]
     },
     "metadata": {},
     "output_type": "display_data"
    },
    {
     "name": "stdout",
     "output_type": "stream",
     "text": [
      "\n"
     ]
    },
    {
     "data": {
      "application/vnd.jupyter.widget-view+json": {
       "model_id": "571400a9f5034e6bb2894b903c29fee7",
       "version_major": 2,
       "version_minor": 0
      },
      "text/plain": [
       "HBox(children=(FloatProgress(value=1.0, bar_style='info', max=1.0), HTML(value='')))"
      ]
     },
     "metadata": {},
     "output_type": "display_data"
    },
    {
     "name": "stdout",
     "output_type": "stream",
     "text": [
      "\n"
     ]
    },
    {
     "data": {
      "application/vnd.jupyter.widget-view+json": {
       "model_id": "3e7de2e75852498bb43e82f24b46335e",
       "version_major": 2,
       "version_minor": 0
      },
      "text/plain": [
       "HBox(children=(FloatProgress(value=1.0, bar_style='info', max=1.0), HTML(value='')))"
      ]
     },
     "metadata": {},
     "output_type": "display_data"
    },
    {
     "name": "stdout",
     "output_type": "stream",
     "text": [
      "\n"
     ]
    },
    {
     "data": {
      "application/vnd.jupyter.widget-view+json": {
       "model_id": "0cde06daf3ee4004a05b183b606684c6",
       "version_major": 2,
       "version_minor": 0
      },
      "text/plain": [
       "HBox(children=(FloatProgress(value=1.0, bar_style='info', max=1.0), HTML(value='')))"
      ]
     },
     "metadata": {},
     "output_type": "display_data"
    },
    {
     "name": "stdout",
     "output_type": "stream",
     "text": [
      "\n"
     ]
    },
    {
     "data": {
      "application/vnd.jupyter.widget-view+json": {
       "model_id": "1b51ce04c2e8493b8c6ccbd4e3f10465",
       "version_major": 2,
       "version_minor": 0
      },
      "text/plain": [
       "HBox(children=(FloatProgress(value=1.0, bar_style='info', max=1.0), HTML(value='')))"
      ]
     },
     "metadata": {},
     "output_type": "display_data"
    },
    {
     "name": "stdout",
     "output_type": "stream",
     "text": [
      "\n"
     ]
    },
    {
     "data": {
      "application/vnd.jupyter.widget-view+json": {
       "model_id": "edb282fa86af4113a5f1d656be89adca",
       "version_major": 2,
       "version_minor": 0
      },
      "text/plain": [
       "HBox(children=(FloatProgress(value=1.0, bar_style='info', max=1.0), HTML(value='')))"
      ]
     },
     "metadata": {},
     "output_type": "display_data"
    },
    {
     "name": "stdout",
     "output_type": "stream",
     "text": [
      "\n"
     ]
    },
    {
     "data": {
      "application/vnd.jupyter.widget-view+json": {
       "model_id": "c488e5950ad5473c9a8e91dd381bfbf8",
       "version_major": 2,
       "version_minor": 0
      },
      "text/plain": [
       "HBox(children=(FloatProgress(value=1.0, bar_style='info', max=1.0), HTML(value='')))"
      ]
     },
     "metadata": {},
     "output_type": "display_data"
    },
    {
     "name": "stdout",
     "output_type": "stream",
     "text": [
      "\n"
     ]
    },
    {
     "data": {
      "application/vnd.jupyter.widget-view+json": {
       "model_id": "06188c4c45224ddd97e2d19287d9b9e0",
       "version_major": 2,
       "version_minor": 0
      },
      "text/plain": [
       "HBox(children=(FloatProgress(value=1.0, bar_style='info', max=1.0), HTML(value='')))"
      ]
     },
     "metadata": {},
     "output_type": "display_data"
    },
    {
     "name": "stdout",
     "output_type": "stream",
     "text": [
      "\n"
     ]
    },
    {
     "data": {
      "application/vnd.jupyter.widget-view+json": {
       "model_id": "daba1aee1bac47b384230b9d918a70ca",
       "version_major": 2,
       "version_minor": 0
      },
      "text/plain": [
       "HBox(children=(FloatProgress(value=1.0, bar_style='info', max=1.0), HTML(value='')))"
      ]
     },
     "metadata": {},
     "output_type": "display_data"
    },
    {
     "name": "stdout",
     "output_type": "stream",
     "text": [
      "\n"
     ]
    },
    {
     "data": {
      "application/vnd.jupyter.widget-view+json": {
       "model_id": "775b6ab601aa41ba8204dacf2edb3f89",
       "version_major": 2,
       "version_minor": 0
      },
      "text/plain": [
       "HBox(children=(FloatProgress(value=1.0, bar_style='info', max=1.0), HTML(value='')))"
      ]
     },
     "metadata": {},
     "output_type": "display_data"
    },
    {
     "name": "stdout",
     "output_type": "stream",
     "text": [
      "\n"
     ]
    },
    {
     "data": {
      "application/vnd.jupyter.widget-view+json": {
       "model_id": "fb07c6f702714b67aa9aa7ac8e3f8cb6",
       "version_major": 2,
       "version_minor": 0
      },
      "text/plain": [
       "HBox(children=(FloatProgress(value=1.0, bar_style='info', max=1.0), HTML(value='')))"
      ]
     },
     "metadata": {},
     "output_type": "display_data"
    },
    {
     "name": "stdout",
     "output_type": "stream",
     "text": [
      "\n"
     ]
    },
    {
     "data": {
      "application/vnd.jupyter.widget-view+json": {
       "model_id": "db73c98f7f514c2289b760a5404d22c1",
       "version_major": 2,
       "version_minor": 0
      },
      "text/plain": [
       "HBox(children=(FloatProgress(value=1.0, bar_style='info', max=1.0), HTML(value='')))"
      ]
     },
     "metadata": {},
     "output_type": "display_data"
    },
    {
     "name": "stdout",
     "output_type": "stream",
     "text": [
      "\n"
     ]
    },
    {
     "data": {
      "application/vnd.jupyter.widget-view+json": {
       "model_id": "18592c68a1a84f459ff341852813c1d0",
       "version_major": 2,
       "version_minor": 0
      },
      "text/plain": [
       "HBox(children=(FloatProgress(value=1.0, bar_style='info', max=1.0), HTML(value='')))"
      ]
     },
     "metadata": {},
     "output_type": "display_data"
    },
    {
     "name": "stdout",
     "output_type": "stream",
     "text": [
      "\n"
     ]
    },
    {
     "data": {
      "application/vnd.jupyter.widget-view+json": {
       "model_id": "f92d8122049148bf921078c445b5bd76",
       "version_major": 2,
       "version_minor": 0
      },
      "text/plain": [
       "HBox(children=(FloatProgress(value=1.0, bar_style='info', max=1.0), HTML(value='')))"
      ]
     },
     "metadata": {},
     "output_type": "display_data"
    },
    {
     "name": "stdout",
     "output_type": "stream",
     "text": [
      "\n"
     ]
    },
    {
     "data": {
      "application/vnd.jupyter.widget-view+json": {
       "model_id": "fe7c02b0c3cc4c8bb7a6f71a0bd8a585",
       "version_major": 2,
       "version_minor": 0
      },
      "text/plain": [
       "HBox(children=(FloatProgress(value=1.0, bar_style='info', max=1.0), HTML(value='')))"
      ]
     },
     "metadata": {},
     "output_type": "display_data"
    },
    {
     "name": "stdout",
     "output_type": "stream",
     "text": [
      "\n"
     ]
    },
    {
     "data": {
      "application/vnd.jupyter.widget-view+json": {
       "model_id": "67ad368ba226434b9adf4ef31482535c",
       "version_major": 2,
       "version_minor": 0
      },
      "text/plain": [
       "HBox(children=(FloatProgress(value=1.0, bar_style='info', max=1.0), HTML(value='')))"
      ]
     },
     "metadata": {},
     "output_type": "display_data"
    },
    {
     "name": "stdout",
     "output_type": "stream",
     "text": [
      "\n"
     ]
    },
    {
     "data": {
      "application/vnd.jupyter.widget-view+json": {
       "model_id": "851bca1b032e4373a17ac2c69b7cc1e4",
       "version_major": 2,
       "version_minor": 0
      },
      "text/plain": [
       "HBox(children=(FloatProgress(value=1.0, bar_style='info', max=1.0), HTML(value='')))"
      ]
     },
     "metadata": {},
     "output_type": "display_data"
    },
    {
     "name": "stdout",
     "output_type": "stream",
     "text": [
      "\n"
     ]
    },
    {
     "data": {
      "application/vnd.jupyter.widget-view+json": {
       "model_id": "2d3462dba8fb4d389661ede0843c4cc0",
       "version_major": 2,
       "version_minor": 0
      },
      "text/plain": [
       "HBox(children=(FloatProgress(value=1.0, bar_style='info', max=1.0), HTML(value='')))"
      ]
     },
     "metadata": {},
     "output_type": "display_data"
    },
    {
     "name": "stdout",
     "output_type": "stream",
     "text": [
      "\n"
     ]
    },
    {
     "data": {
      "application/vnd.jupyter.widget-view+json": {
       "model_id": "c1054c51116b469e8465e42c380505d3",
       "version_major": 2,
       "version_minor": 0
      },
      "text/plain": [
       "HBox(children=(FloatProgress(value=1.0, bar_style='info', max=1.0), HTML(value='')))"
      ]
     },
     "metadata": {},
     "output_type": "display_data"
    },
    {
     "name": "stdout",
     "output_type": "stream",
     "text": [
      "\n"
     ]
    },
    {
     "data": {
      "application/vnd.jupyter.widget-view+json": {
       "model_id": "fb0bcc2ad873427ba99b1a50ff8737bd",
       "version_major": 2,
       "version_minor": 0
      },
      "text/plain": [
       "HBox(children=(FloatProgress(value=1.0, bar_style='info', max=1.0), HTML(value='')))"
      ]
     },
     "metadata": {},
     "output_type": "display_data"
    },
    {
     "name": "stdout",
     "output_type": "stream",
     "text": [
      "\n"
     ]
    }
   ],
   "source": [
    "transition_scores = transition_matrix.set_index(['challenge', 'next_challenge']).weight.to_dict()\n",
    "for i in range(1,11):\n",
    "    col = \"challenge_\" + str(i)\n",
    "    train1['transition_scores_' + str(i)] = [transition_scores.get((row[1], row[2]),0) \n",
    "                               for row in tqdm(train1[[col, 'challenge']].itertuples())]\n",
    "    test1['transition_scores_' + str(i)] = [transition_scores.get((row[1], row[2]),0) \n",
    "                              for row in tqdm(test1[[col, 'challenge']].itertuples())]\n"
   ]
  },
  {
   "cell_type": "code",
   "execution_count": 37,
   "metadata": {},
   "outputs": [
    {
     "data": {
      "text/plain": [
       "Index(['challenge_series_ID', 'next_series', 'count', 'weight'], dtype='object')"
      ]
     },
     "execution_count": 37,
     "metadata": {},
     "output_type": "execute_result"
    }
   ],
   "source": [
    "transition_matrix_series.columns"
   ]
  },
  {
   "cell_type": "code",
   "execution_count": 38,
   "metadata": {},
   "outputs": [
    {
     "data": {
      "application/vnd.jupyter.widget-view+json": {
       "model_id": "00b205df1b6b4121882af970ce65919e",
       "version_major": 2,
       "version_minor": 0
      },
      "text/plain": [
       "HBox(children=(FloatProgress(value=1.0, bar_style='info', max=1.0), HTML(value='')))"
      ]
     },
     "metadata": {},
     "output_type": "display_data"
    },
    {
     "name": "stdout",
     "output_type": "stream",
     "text": [
      "\n"
     ]
    },
    {
     "data": {
      "application/vnd.jupyter.widget-view+json": {
       "model_id": "cba834ca0d7547449a4c02d31d47b0e1",
       "version_major": 2,
       "version_minor": 0
      },
      "text/plain": [
       "HBox(children=(FloatProgress(value=1.0, bar_style='info', max=1.0), HTML(value='')))"
      ]
     },
     "metadata": {},
     "output_type": "display_data"
    },
    {
     "name": "stdout",
     "output_type": "stream",
     "text": [
      "\n"
     ]
    },
    {
     "data": {
      "application/vnd.jupyter.widget-view+json": {
       "model_id": "3e45000aae1b4abead77f18647f08bd1",
       "version_major": 2,
       "version_minor": 0
      },
      "text/plain": [
       "HBox(children=(FloatProgress(value=1.0, bar_style='info', max=1.0), HTML(value='')))"
      ]
     },
     "metadata": {},
     "output_type": "display_data"
    },
    {
     "name": "stdout",
     "output_type": "stream",
     "text": [
      "\n"
     ]
    },
    {
     "data": {
      "application/vnd.jupyter.widget-view+json": {
       "model_id": "a82b2dbe40ff4326a857eeae23c3782e",
       "version_major": 2,
       "version_minor": 0
      },
      "text/plain": [
       "HBox(children=(FloatProgress(value=1.0, bar_style='info', max=1.0), HTML(value='')))"
      ]
     },
     "metadata": {},
     "output_type": "display_data"
    },
    {
     "name": "stdout",
     "output_type": "stream",
     "text": [
      "\n"
     ]
    },
    {
     "data": {
      "application/vnd.jupyter.widget-view+json": {
       "model_id": "0698d8defcd54031a387786cfe5fbba0",
       "version_major": 2,
       "version_minor": 0
      },
      "text/plain": [
       "HBox(children=(FloatProgress(value=1.0, bar_style='info', max=1.0), HTML(value='')))"
      ]
     },
     "metadata": {},
     "output_type": "display_data"
    },
    {
     "name": "stdout",
     "output_type": "stream",
     "text": [
      "\n"
     ]
    },
    {
     "data": {
      "application/vnd.jupyter.widget-view+json": {
       "model_id": "bc84bd2c1add4ede9b99af13ceb945a2",
       "version_major": 2,
       "version_minor": 0
      },
      "text/plain": [
       "HBox(children=(FloatProgress(value=1.0, bar_style='info', max=1.0), HTML(value='')))"
      ]
     },
     "metadata": {},
     "output_type": "display_data"
    },
    {
     "name": "stdout",
     "output_type": "stream",
     "text": [
      "\n"
     ]
    },
    {
     "data": {
      "application/vnd.jupyter.widget-view+json": {
       "model_id": "0384cf8bad61400c9658288ec2dd01be",
       "version_major": 2,
       "version_minor": 0
      },
      "text/plain": [
       "HBox(children=(FloatProgress(value=1.0, bar_style='info', max=1.0), HTML(value='')))"
      ]
     },
     "metadata": {},
     "output_type": "display_data"
    },
    {
     "name": "stdout",
     "output_type": "stream",
     "text": [
      "\n"
     ]
    },
    {
     "data": {
      "application/vnd.jupyter.widget-view+json": {
       "model_id": "a70fafbc30da4cd086ab7a28da89f799",
       "version_major": 2,
       "version_minor": 0
      },
      "text/plain": [
       "HBox(children=(FloatProgress(value=1.0, bar_style='info', max=1.0), HTML(value='')))"
      ]
     },
     "metadata": {},
     "output_type": "display_data"
    },
    {
     "name": "stdout",
     "output_type": "stream",
     "text": [
      "\n"
     ]
    },
    {
     "data": {
      "application/vnd.jupyter.widget-view+json": {
       "model_id": "fab02fe9258a46f88830d06549ca9839",
       "version_major": 2,
       "version_minor": 0
      },
      "text/plain": [
       "HBox(children=(FloatProgress(value=1.0, bar_style='info', max=1.0), HTML(value='')))"
      ]
     },
     "metadata": {},
     "output_type": "display_data"
    },
    {
     "name": "stdout",
     "output_type": "stream",
     "text": [
      "\n"
     ]
    },
    {
     "data": {
      "application/vnd.jupyter.widget-view+json": {
       "model_id": "1246e4c0db754350863dcf8083c4f84f",
       "version_major": 2,
       "version_minor": 0
      },
      "text/plain": [
       "HBox(children=(FloatProgress(value=1.0, bar_style='info', max=1.0), HTML(value='')))"
      ]
     },
     "metadata": {},
     "output_type": "display_data"
    },
    {
     "name": "stdout",
     "output_type": "stream",
     "text": [
      "\n"
     ]
    },
    {
     "data": {
      "application/vnd.jupyter.widget-view+json": {
       "model_id": "c614d4059ca945b9a614ab0fadf5322e",
       "version_major": 2,
       "version_minor": 0
      },
      "text/plain": [
       "HBox(children=(FloatProgress(value=1.0, bar_style='info', max=1.0), HTML(value='')))"
      ]
     },
     "metadata": {},
     "output_type": "display_data"
    },
    {
     "name": "stdout",
     "output_type": "stream",
     "text": [
      "\n"
     ]
    },
    {
     "data": {
      "application/vnd.jupyter.widget-view+json": {
       "model_id": "40e8f62da14c420ab3f93ebdaeccd179",
       "version_major": 2,
       "version_minor": 0
      },
      "text/plain": [
       "HBox(children=(FloatProgress(value=1.0, bar_style='info', max=1.0), HTML(value='')))"
      ]
     },
     "metadata": {},
     "output_type": "display_data"
    },
    {
     "name": "stdout",
     "output_type": "stream",
     "text": [
      "\n"
     ]
    },
    {
     "data": {
      "application/vnd.jupyter.widget-view+json": {
       "model_id": "fec817d9cb2a4f989335882b26758c56",
       "version_major": 2,
       "version_minor": 0
      },
      "text/plain": [
       "HBox(children=(FloatProgress(value=1.0, bar_style='info', max=1.0), HTML(value='')))"
      ]
     },
     "metadata": {},
     "output_type": "display_data"
    },
    {
     "name": "stdout",
     "output_type": "stream",
     "text": [
      "\n"
     ]
    },
    {
     "data": {
      "application/vnd.jupyter.widget-view+json": {
       "model_id": "d9eccd74a8a142ad8249272157567181",
       "version_major": 2,
       "version_minor": 0
      },
      "text/plain": [
       "HBox(children=(FloatProgress(value=1.0, bar_style='info', max=1.0), HTML(value='')))"
      ]
     },
     "metadata": {},
     "output_type": "display_data"
    },
    {
     "name": "stdout",
     "output_type": "stream",
     "text": [
      "\n"
     ]
    },
    {
     "data": {
      "application/vnd.jupyter.widget-view+json": {
       "model_id": "ccec769e41434382af83c6aa6cdc4fe1",
       "version_major": 2,
       "version_minor": 0
      },
      "text/plain": [
       "HBox(children=(FloatProgress(value=1.0, bar_style='info', max=1.0), HTML(value='')))"
      ]
     },
     "metadata": {},
     "output_type": "display_data"
    },
    {
     "name": "stdout",
     "output_type": "stream",
     "text": [
      "\n"
     ]
    },
    {
     "data": {
      "application/vnd.jupyter.widget-view+json": {
       "model_id": "7a41f97e10284e87843b32a788646c48",
       "version_major": 2,
       "version_minor": 0
      },
      "text/plain": [
       "HBox(children=(FloatProgress(value=1.0, bar_style='info', max=1.0), HTML(value='')))"
      ]
     },
     "metadata": {},
     "output_type": "display_data"
    },
    {
     "name": "stdout",
     "output_type": "stream",
     "text": [
      "\n"
     ]
    },
    {
     "data": {
      "application/vnd.jupyter.widget-view+json": {
       "model_id": "3a844b6ea2e04e77b829ae1cbe2fa1a2",
       "version_major": 2,
       "version_minor": 0
      },
      "text/plain": [
       "HBox(children=(FloatProgress(value=1.0, bar_style='info', max=1.0), HTML(value='')))"
      ]
     },
     "metadata": {},
     "output_type": "display_data"
    },
    {
     "name": "stdout",
     "output_type": "stream",
     "text": [
      "\n"
     ]
    },
    {
     "data": {
      "application/vnd.jupyter.widget-view+json": {
       "model_id": "b3013ed46c714aa2a0ecbab7d4afa2cb",
       "version_major": 2,
       "version_minor": 0
      },
      "text/plain": [
       "HBox(children=(FloatProgress(value=1.0, bar_style='info', max=1.0), HTML(value='')))"
      ]
     },
     "metadata": {},
     "output_type": "display_data"
    },
    {
     "name": "stdout",
     "output_type": "stream",
     "text": [
      "\n"
     ]
    },
    {
     "data": {
      "application/vnd.jupyter.widget-view+json": {
       "model_id": "b4cf090ca6dc4e5a931e61dc95b8a183",
       "version_major": 2,
       "version_minor": 0
      },
      "text/plain": [
       "HBox(children=(FloatProgress(value=1.0, bar_style='info', max=1.0), HTML(value='')))"
      ]
     },
     "metadata": {},
     "output_type": "display_data"
    },
    {
     "name": "stdout",
     "output_type": "stream",
     "text": [
      "\n"
     ]
    },
    {
     "data": {
      "application/vnd.jupyter.widget-view+json": {
       "model_id": "b9a94aaeda4e400fa731e8e4ae949e4c",
       "version_major": 2,
       "version_minor": 0
      },
      "text/plain": [
       "HBox(children=(FloatProgress(value=1.0, bar_style='info', max=1.0), HTML(value='')))"
      ]
     },
     "metadata": {},
     "output_type": "display_data"
    },
    {
     "name": "stdout",
     "output_type": "stream",
     "text": [
      "\n"
     ]
    }
   ],
   "source": [
    "transition_scores_series = transition_matrix_series.set_index(['challenge_series_ID', 'next_series']).weight.to_dict()\n",
    "\n",
    "challenge_series_mapping = challange_data[['challenge_ID', 'challenge_series_ID']\n",
    "                                         ].set_index('challenge_ID').challenge_series_ID.to_dict()\n",
    "\n",
    "\n",
    "for i in range(1,11):\n",
    "    col = \"challenge_\" + str(i)\n",
    "\n",
    "    train1['transition_score_series_' + str(i)] = [transition_scores_series.get((challenge_series_mapping[row[1]], row[2]),0) \n",
    "                                   for row in tqdm(train1[['challenge_' + str(i), 'challenge_series_ID']].itertuples())]\n",
    "\n",
    "    test1['transition_score_series_' + str(i)] = [transition_scores_series.get((challenge_series_mapping[row[1]], row[2]),0) \n",
    "                                  for row in tqdm(test1[['challenge_' + str(i), 'challenge_series_ID']].itertuples())]\n"
   ]
  },
  {
   "cell_type": "code",
   "execution_count": 39,
   "metadata": {},
   "outputs": [
    {
     "data": {
      "text/plain": [
       "(0.06614255755935775, 0.01423637421886539)"
      ]
     },
     "execution_count": 39,
     "metadata": {},
     "output_type": "execute_result"
    }
   ],
   "source": [
    "train1[train1.transition_score_series_10> 0.1].target.mean(), train1.target.mean()"
   ]
  },
  {
   "cell_type": "code",
   "execution_count": 40,
   "metadata": {},
   "outputs": [],
   "source": [
    "train1['author_gender_cd'] = train1.author_gender.map(lambda x : 0 if x == 'F' else 1 if x == \"M\" else -1)\n",
    "test1['author_gender_cd'] = test1.author_gender.map(lambda x : 0 if x == 'F' else 1 if x == \"M\" else -1)"
   ]
  },
  {
   "cell_type": "code",
   "execution_count": 41,
   "metadata": {},
   "outputs": [
    {
     "name": "stderr",
     "output_type": "stream",
     "text": [
      "/home/ubuntu/anaconda3/lib/python3.7/site-packages/ipykernel_launcher.py:3: SettingWithCopyWarning: \n",
      "A value is trying to be set on a copy of a slice from a DataFrame.\n",
      "Try using .loc[row_indexer,col_indexer] = value instead\n",
      "\n",
      "See the caveats in the documentation: https://pandas.pydata.org/pandas-docs/stable/user_guide/indexing.html#returning-a-view-versus-a-copy\n",
      "  This is separate from the ipykernel package so we can avoid doing imports until\n"
     ]
    }
   ],
   "source": [
    "train1['challenge_id_diff'] = train1.challenge.map(lambda x : int(x[2:])) - train1.challenge_10.map(lambda x : int(x[2:]))\n",
    "df = train_data[train_data.challenge_sequence <= 10]\n",
    "df['next_challenge'] = df[['user_id', 'challenge']].groupby('user_id').shift(-1)\n",
    "df = df[df.next_challenge.notnull()]\n",
    "df['challenge_id_diff'] = df.next_challenge.map(lambda x : int(x[2:])) - df.challenge.map(lambda x : int(x[2:]))\n",
    "challenge_id_diff_mean = df[['user_id', 'challenge_id_diff']].groupby('user_id').mean().challenge_id_diff.to_dict()\n",
    "train1['challenge_id_diff_mean'] = train1['user_id'].map(challenge_id_diff_mean)\n",
    "\n",
    "\n",
    "\n",
    "test1['challenge_id_diff'] = test1.challenge.map(lambda x : int(x[2:])) - test1.challenge_10.map(lambda x : int(x[2:]))\n",
    "df = test_data[test_data.challenge_sequence <= 10]\n",
    "df['next_challenge'] = df[['user_id', 'challenge']].groupby('user_id').shift(-1)\n",
    "df = df[df.next_challenge.notnull()]\n",
    "df['challenge_id_diff'] = df.next_challenge.map(lambda x : int(x[2:])) - df.challenge.map(lambda x : int(x[2:]))\n",
    "challenge_id_diff_mean = df[['user_id', 'challenge_id_diff']].groupby('user_id').mean().challenge_id_diff.to_dict()\n",
    "test1['challenge_id_diff_mean'] = test1['user_id'].map(challenge_id_diff_mean)"
   ]
  },
  {
   "cell_type": "code",
   "execution_count": 42,
   "metadata": {},
   "outputs": [
    {
     "data": {
      "application/vnd.jupyter.widget-view+json": {
       "model_id": "1d86e3e42b2e428a8b031590873b0e74",
       "version_major": 2,
       "version_minor": 0
      },
      "text/plain": [
       "HBox(children=(FloatProgress(value=1.0, bar_style='info', max=1.0), HTML(value='')))"
      ]
     },
     "metadata": {},
     "output_type": "display_data"
    },
    {
     "name": "stderr",
     "output_type": "stream",
     "text": [
      "/home/ubuntu/anaconda3/lib/python3.7/site-packages/ipykernel_launcher.py:7: DeprecationWarning: Call to deprecated `similarity` (Method will be removed in 4.0.0, use self.wv.similarity() instead).\n",
      "  import sys\n"
     ]
    },
    {
     "name": "stdout",
     "output_type": "stream",
     "text": [
      "\n"
     ]
    },
    {
     "data": {
      "application/vnd.jupyter.widget-view+json": {
       "model_id": "3dad5296ee8c412ea759563f0d7d800e",
       "version_major": 2,
       "version_minor": 0
      },
      "text/plain": [
       "HBox(children=(FloatProgress(value=1.0, bar_style='info', max=1.0), HTML(value='')))"
      ]
     },
     "metadata": {},
     "output_type": "display_data"
    },
    {
     "name": "stdout",
     "output_type": "stream",
     "text": [
      "\n"
     ]
    },
    {
     "data": {
      "application/vnd.jupyter.widget-view+json": {
       "model_id": "64d06f21214d4c68814afc3bff0e238d",
       "version_major": 2,
       "version_minor": 0
      },
      "text/plain": [
       "HBox(children=(FloatProgress(value=1.0, bar_style='info', max=1.0), HTML(value='')))"
      ]
     },
     "metadata": {},
     "output_type": "display_data"
    },
    {
     "name": "stdout",
     "output_type": "stream",
     "text": [
      "\n"
     ]
    },
    {
     "data": {
      "application/vnd.jupyter.widget-view+json": {
       "model_id": "457a252b6b224154836be0c81bb6704d",
       "version_major": 2,
       "version_minor": 0
      },
      "text/plain": [
       "HBox(children=(FloatProgress(value=1.0, bar_style='info', max=1.0), HTML(value='')))"
      ]
     },
     "metadata": {},
     "output_type": "display_data"
    },
    {
     "name": "stdout",
     "output_type": "stream",
     "text": [
      "\n"
     ]
    },
    {
     "data": {
      "application/vnd.jupyter.widget-view+json": {
       "model_id": "62a1d2ab751646d78ff1aecd08d7d20a",
       "version_major": 2,
       "version_minor": 0
      },
      "text/plain": [
       "HBox(children=(FloatProgress(value=1.0, bar_style='info', max=1.0), HTML(value='')))"
      ]
     },
     "metadata": {},
     "output_type": "display_data"
    },
    {
     "name": "stdout",
     "output_type": "stream",
     "text": [
      "\n"
     ]
    },
    {
     "data": {
      "application/vnd.jupyter.widget-view+json": {
       "model_id": "863c7e8da410418a8dbe99e4b8666721",
       "version_major": 2,
       "version_minor": 0
      },
      "text/plain": [
       "HBox(children=(FloatProgress(value=1.0, bar_style='info', max=1.0), HTML(value='')))"
      ]
     },
     "metadata": {},
     "output_type": "display_data"
    },
    {
     "name": "stdout",
     "output_type": "stream",
     "text": [
      "\n"
     ]
    },
    {
     "data": {
      "application/vnd.jupyter.widget-view+json": {
       "model_id": "e31af4ba2d154ce4a353040e47ec3628",
       "version_major": 2,
       "version_minor": 0
      },
      "text/plain": [
       "HBox(children=(FloatProgress(value=1.0, bar_style='info', max=1.0), HTML(value='')))"
      ]
     },
     "metadata": {},
     "output_type": "display_data"
    },
    {
     "name": "stdout",
     "output_type": "stream",
     "text": [
      "\n"
     ]
    },
    {
     "data": {
      "application/vnd.jupyter.widget-view+json": {
       "model_id": "b68cbcfbdb664e1b970300398ca89851",
       "version_major": 2,
       "version_minor": 0
      },
      "text/plain": [
       "HBox(children=(FloatProgress(value=1.0, bar_style='info', max=1.0), HTML(value='')))"
      ]
     },
     "metadata": {},
     "output_type": "display_data"
    },
    {
     "name": "stdout",
     "output_type": "stream",
     "text": [
      "\n"
     ]
    },
    {
     "data": {
      "application/vnd.jupyter.widget-view+json": {
       "model_id": "9eb22614bd944c66815f57521c3f7ece",
       "version_major": 2,
       "version_minor": 0
      },
      "text/plain": [
       "HBox(children=(FloatProgress(value=1.0, bar_style='info', max=1.0), HTML(value='')))"
      ]
     },
     "metadata": {},
     "output_type": "display_data"
    },
    {
     "name": "stdout",
     "output_type": "stream",
     "text": [
      "\n"
     ]
    },
    {
     "data": {
      "application/vnd.jupyter.widget-view+json": {
       "model_id": "78322f5ab5dc44c3baa7505b476f5cae",
       "version_major": 2,
       "version_minor": 0
      },
      "text/plain": [
       "HBox(children=(FloatProgress(value=1.0, bar_style='info', max=1.0), HTML(value='')))"
      ]
     },
     "metadata": {},
     "output_type": "display_data"
    },
    {
     "name": "stdout",
     "output_type": "stream",
     "text": [
      "\n"
     ]
    },
    {
     "data": {
      "application/vnd.jupyter.widget-view+json": {
       "model_id": "88298c85afef4c07aeff7c0b179c345b",
       "version_major": 2,
       "version_minor": 0
      },
      "text/plain": [
       "HBox(children=(FloatProgress(value=1.0, bar_style='info', max=1.0), HTML(value='')))"
      ]
     },
     "metadata": {},
     "output_type": "display_data"
    },
    {
     "name": "stdout",
     "output_type": "stream",
     "text": [
      "\n"
     ]
    },
    {
     "data": {
      "application/vnd.jupyter.widget-view+json": {
       "model_id": "a2b82fbddc6e42db939b26727e32a8e3",
       "version_major": 2,
       "version_minor": 0
      },
      "text/plain": [
       "HBox(children=(FloatProgress(value=1.0, bar_style='info', max=1.0), HTML(value='')))"
      ]
     },
     "metadata": {},
     "output_type": "display_data"
    },
    {
     "name": "stdout",
     "output_type": "stream",
     "text": [
      "\n"
     ]
    },
    {
     "data": {
      "application/vnd.jupyter.widget-view+json": {
       "model_id": "d538bbc24c5c4e7a87c63306357c5bcf",
       "version_major": 2,
       "version_minor": 0
      },
      "text/plain": [
       "HBox(children=(FloatProgress(value=1.0, bar_style='info', max=1.0), HTML(value='')))"
      ]
     },
     "metadata": {},
     "output_type": "display_data"
    },
    {
     "name": "stdout",
     "output_type": "stream",
     "text": [
      "\n"
     ]
    },
    {
     "data": {
      "application/vnd.jupyter.widget-view+json": {
       "model_id": "5e6c6a48f701472490a0a78dc4b5475b",
       "version_major": 2,
       "version_minor": 0
      },
      "text/plain": [
       "HBox(children=(FloatProgress(value=1.0, bar_style='info', max=1.0), HTML(value='')))"
      ]
     },
     "metadata": {},
     "output_type": "display_data"
    },
    {
     "name": "stdout",
     "output_type": "stream",
     "text": [
      "\n"
     ]
    },
    {
     "data": {
      "application/vnd.jupyter.widget-view+json": {
       "model_id": "986c9eb97b52472d83e5f2883f6af134",
       "version_major": 2,
       "version_minor": 0
      },
      "text/plain": [
       "HBox(children=(FloatProgress(value=1.0, bar_style='info', max=1.0), HTML(value='')))"
      ]
     },
     "metadata": {},
     "output_type": "display_data"
    },
    {
     "name": "stdout",
     "output_type": "stream",
     "text": [
      "\n"
     ]
    },
    {
     "data": {
      "application/vnd.jupyter.widget-view+json": {
       "model_id": "c4a05c9cf652436cabb24147be07a345",
       "version_major": 2,
       "version_minor": 0
      },
      "text/plain": [
       "HBox(children=(FloatProgress(value=1.0, bar_style='info', max=1.0), HTML(value='')))"
      ]
     },
     "metadata": {},
     "output_type": "display_data"
    },
    {
     "name": "stdout",
     "output_type": "stream",
     "text": [
      "\n"
     ]
    },
    {
     "data": {
      "application/vnd.jupyter.widget-view+json": {
       "model_id": "147cc8fe8dcf484f9f2bdb52cf9dff78",
       "version_major": 2,
       "version_minor": 0
      },
      "text/plain": [
       "HBox(children=(FloatProgress(value=1.0, bar_style='info', max=1.0), HTML(value='')))"
      ]
     },
     "metadata": {},
     "output_type": "display_data"
    },
    {
     "name": "stdout",
     "output_type": "stream",
     "text": [
      "\n"
     ]
    },
    {
     "data": {
      "application/vnd.jupyter.widget-view+json": {
       "model_id": "fd776f6151ed4e0998f218fd6a498303",
       "version_major": 2,
       "version_minor": 0
      },
      "text/plain": [
       "HBox(children=(FloatProgress(value=1.0, bar_style='info', max=1.0), HTML(value='')))"
      ]
     },
     "metadata": {},
     "output_type": "display_data"
    },
    {
     "name": "stdout",
     "output_type": "stream",
     "text": [
      "\n"
     ]
    },
    {
     "data": {
      "application/vnd.jupyter.widget-view+json": {
       "model_id": "0e784c72c08b42d7ab167b7c79bd62e1",
       "version_major": 2,
       "version_minor": 0
      },
      "text/plain": [
       "HBox(children=(FloatProgress(value=1.0, bar_style='info', max=1.0), HTML(value='')))"
      ]
     },
     "metadata": {},
     "output_type": "display_data"
    },
    {
     "name": "stdout",
     "output_type": "stream",
     "text": [
      "\n"
     ]
    },
    {
     "data": {
      "application/vnd.jupyter.widget-view+json": {
       "model_id": "e6fdb425c5e344dc9460e291c43f4a08",
       "version_major": 2,
       "version_minor": 0
      },
      "text/plain": [
       "HBox(children=(FloatProgress(value=1.0, bar_style='info', max=1.0), HTML(value='')))"
      ]
     },
     "metadata": {},
     "output_type": "display_data"
    },
    {
     "name": "stdout",
     "output_type": "stream",
     "text": [
      "\n"
     ]
    }
   ],
   "source": [
    "n2v_similarities = {}\n",
    "def get_n2v_similarity(a,b):\n",
    "    try:\n",
    "        return n2v_similarities[str(a), str(b)]\n",
    "    except KeyError:\n",
    "        try:\n",
    "            res = n2v1.similarity(str(a), str(b))\n",
    "            n2v_similarities[str(a), str(b)] = res\n",
    "            return res\n",
    "        except KeyError:\n",
    "            n2v_similarities[str(a), str(b)] = -1\n",
    "            return -1\n",
    "for i in range(1,11):\n",
    "    train1['n2v1_challenge_similarity_' + str(i)] = [get_n2v_similarity(row[1], row[2]) for row in tqdm(train1[['challenge', 'challenge_' + str(i)]].itertuples())]\n",
    "    test1['n2v1_challenge_similarity_' + str(i)] = [get_n2v_similarity(row[1], row[2]) for row in tqdm(test1[['challenge', 'challenge_' + str(i)]].itertuples())]\n"
   ]
  },
  {
   "cell_type": "code",
   "execution_count": 43,
   "metadata": {},
   "outputs": [
    {
     "data": {
      "text/plain": [
       "(0.04703797049460975, 0.01423637421886539)"
      ]
     },
     "execution_count": 43,
     "metadata": {},
     "output_type": "execute_result"
    }
   ],
   "source": [
    "train1[train1.n2v1_challenge_similarity_10 > 0.9].target.mean(), train1.target.mean()"
   ]
  },
  {
   "cell_type": "code",
   "execution_count": 44,
   "metadata": {},
   "outputs": [
    {
     "data": {
      "application/vnd.jupyter.widget-view+json": {
       "model_id": "4e33c47c45e84d51ad1115ca1ae545a5",
       "version_major": 2,
       "version_minor": 0
      },
      "text/plain": [
       "HBox(children=(FloatProgress(value=1.0, bar_style='info', max=1.0), HTML(value='')))"
      ]
     },
     "metadata": {},
     "output_type": "display_data"
    },
    {
     "name": "stderr",
     "output_type": "stream",
     "text": [
      "/home/ubuntu/anaconda3/lib/python3.7/site-packages/ipykernel_launcher.py:7: DeprecationWarning: Call to deprecated `similarity` (Method will be removed in 4.0.0, use self.wv.similarity() instead).\n",
      "  import sys\n"
     ]
    },
    {
     "name": "stdout",
     "output_type": "stream",
     "text": [
      "\n"
     ]
    },
    {
     "data": {
      "application/vnd.jupyter.widget-view+json": {
       "model_id": "57f785f7bc3a4d16966cf0f7aad553b3",
       "version_major": 2,
       "version_minor": 0
      },
      "text/plain": [
       "HBox(children=(FloatProgress(value=1.0, bar_style='info', max=1.0), HTML(value='')))"
      ]
     },
     "metadata": {},
     "output_type": "display_data"
    },
    {
     "name": "stdout",
     "output_type": "stream",
     "text": [
      "\n"
     ]
    },
    {
     "data": {
      "application/vnd.jupyter.widget-view+json": {
       "model_id": "b76ba129856b4d79a807fdead12d6a58",
       "version_major": 2,
       "version_minor": 0
      },
      "text/plain": [
       "HBox(children=(FloatProgress(value=1.0, bar_style='info', max=1.0), HTML(value='')))"
      ]
     },
     "metadata": {},
     "output_type": "display_data"
    },
    {
     "name": "stdout",
     "output_type": "stream",
     "text": [
      "\n"
     ]
    },
    {
     "data": {
      "application/vnd.jupyter.widget-view+json": {
       "model_id": "979e20bfe7db4058b5bc95228a6972f0",
       "version_major": 2,
       "version_minor": 0
      },
      "text/plain": [
       "HBox(children=(FloatProgress(value=1.0, bar_style='info', max=1.0), HTML(value='')))"
      ]
     },
     "metadata": {},
     "output_type": "display_data"
    },
    {
     "name": "stdout",
     "output_type": "stream",
     "text": [
      "\n"
     ]
    },
    {
     "data": {
      "application/vnd.jupyter.widget-view+json": {
       "model_id": "370d83b129fd497eb07189f6b58d3f0a",
       "version_major": 2,
       "version_minor": 0
      },
      "text/plain": [
       "HBox(children=(FloatProgress(value=1.0, bar_style='info', max=1.0), HTML(value='')))"
      ]
     },
     "metadata": {},
     "output_type": "display_data"
    },
    {
     "name": "stdout",
     "output_type": "stream",
     "text": [
      "\n"
     ]
    },
    {
     "data": {
      "application/vnd.jupyter.widget-view+json": {
       "model_id": "56efd76a339245a88b7b7a60e66fdf42",
       "version_major": 2,
       "version_minor": 0
      },
      "text/plain": [
       "HBox(children=(FloatProgress(value=1.0, bar_style='info', max=1.0), HTML(value='')))"
      ]
     },
     "metadata": {},
     "output_type": "display_data"
    },
    {
     "name": "stdout",
     "output_type": "stream",
     "text": [
      "\n"
     ]
    },
    {
     "data": {
      "application/vnd.jupyter.widget-view+json": {
       "model_id": "6bb1142af15a46f58c2884b08de28cfa",
       "version_major": 2,
       "version_minor": 0
      },
      "text/plain": [
       "HBox(children=(FloatProgress(value=1.0, bar_style='info', max=1.0), HTML(value='')))"
      ]
     },
     "metadata": {},
     "output_type": "display_data"
    },
    {
     "name": "stdout",
     "output_type": "stream",
     "text": [
      "\n"
     ]
    },
    {
     "data": {
      "application/vnd.jupyter.widget-view+json": {
       "model_id": "ec5581c9ea474f8289647fe00390746c",
       "version_major": 2,
       "version_minor": 0
      },
      "text/plain": [
       "HBox(children=(FloatProgress(value=1.0, bar_style='info', max=1.0), HTML(value='')))"
      ]
     },
     "metadata": {},
     "output_type": "display_data"
    },
    {
     "name": "stdout",
     "output_type": "stream",
     "text": [
      "\n"
     ]
    },
    {
     "data": {
      "application/vnd.jupyter.widget-view+json": {
       "model_id": "e754a8d1cecf4fd58ad94aabf6e7d199",
       "version_major": 2,
       "version_minor": 0
      },
      "text/plain": [
       "HBox(children=(FloatProgress(value=1.0, bar_style='info', max=1.0), HTML(value='')))"
      ]
     },
     "metadata": {},
     "output_type": "display_data"
    },
    {
     "name": "stdout",
     "output_type": "stream",
     "text": [
      "\n"
     ]
    },
    {
     "data": {
      "application/vnd.jupyter.widget-view+json": {
       "model_id": "478c3cd16d234084ab7a7ef6d28a24c0",
       "version_major": 2,
       "version_minor": 0
      },
      "text/plain": [
       "HBox(children=(FloatProgress(value=1.0, bar_style='info', max=1.0), HTML(value='')))"
      ]
     },
     "metadata": {},
     "output_type": "display_data"
    },
    {
     "name": "stdout",
     "output_type": "stream",
     "text": [
      "\n"
     ]
    },
    {
     "data": {
      "application/vnd.jupyter.widget-view+json": {
       "model_id": "c093622c49e2466a90ab03b33b8e1c08",
       "version_major": 2,
       "version_minor": 0
      },
      "text/plain": [
       "HBox(children=(FloatProgress(value=1.0, bar_style='info', max=1.0), HTML(value='')))"
      ]
     },
     "metadata": {},
     "output_type": "display_data"
    },
    {
     "name": "stdout",
     "output_type": "stream",
     "text": [
      "\n"
     ]
    },
    {
     "data": {
      "application/vnd.jupyter.widget-view+json": {
       "model_id": "74f717028c7745ae9148b31b5ea4ea1c",
       "version_major": 2,
       "version_minor": 0
      },
      "text/plain": [
       "HBox(children=(FloatProgress(value=1.0, bar_style='info', max=1.0), HTML(value='')))"
      ]
     },
     "metadata": {},
     "output_type": "display_data"
    },
    {
     "name": "stdout",
     "output_type": "stream",
     "text": [
      "\n"
     ]
    },
    {
     "data": {
      "application/vnd.jupyter.widget-view+json": {
       "model_id": "a81eeb0a012343af9174b6427d02101a",
       "version_major": 2,
       "version_minor": 0
      },
      "text/plain": [
       "HBox(children=(FloatProgress(value=1.0, bar_style='info', max=1.0), HTML(value='')))"
      ]
     },
     "metadata": {},
     "output_type": "display_data"
    },
    {
     "name": "stdout",
     "output_type": "stream",
     "text": [
      "\n"
     ]
    },
    {
     "data": {
      "application/vnd.jupyter.widget-view+json": {
       "model_id": "e52fcf3c82e84b79850f912dcaae71bf",
       "version_major": 2,
       "version_minor": 0
      },
      "text/plain": [
       "HBox(children=(FloatProgress(value=1.0, bar_style='info', max=1.0), HTML(value='')))"
      ]
     },
     "metadata": {},
     "output_type": "display_data"
    },
    {
     "name": "stdout",
     "output_type": "stream",
     "text": [
      "\n"
     ]
    },
    {
     "data": {
      "application/vnd.jupyter.widget-view+json": {
       "model_id": "899a3e49c0184fc3a227a2fb47535260",
       "version_major": 2,
       "version_minor": 0
      },
      "text/plain": [
       "HBox(children=(FloatProgress(value=1.0, bar_style='info', max=1.0), HTML(value='')))"
      ]
     },
     "metadata": {},
     "output_type": "display_data"
    },
    {
     "name": "stdout",
     "output_type": "stream",
     "text": [
      "\n"
     ]
    },
    {
     "data": {
      "application/vnd.jupyter.widget-view+json": {
       "model_id": "cd24d507d99345a28be90b49a13cc928",
       "version_major": 2,
       "version_minor": 0
      },
      "text/plain": [
       "HBox(children=(FloatProgress(value=1.0, bar_style='info', max=1.0), HTML(value='')))"
      ]
     },
     "metadata": {},
     "output_type": "display_data"
    },
    {
     "name": "stdout",
     "output_type": "stream",
     "text": [
      "\n"
     ]
    },
    {
     "data": {
      "application/vnd.jupyter.widget-view+json": {
       "model_id": "515da3b9982142689a28d6791f162d2d",
       "version_major": 2,
       "version_minor": 0
      },
      "text/plain": [
       "HBox(children=(FloatProgress(value=1.0, bar_style='info', max=1.0), HTML(value='')))"
      ]
     },
     "metadata": {},
     "output_type": "display_data"
    },
    {
     "name": "stdout",
     "output_type": "stream",
     "text": [
      "\n"
     ]
    },
    {
     "data": {
      "application/vnd.jupyter.widget-view+json": {
       "model_id": "65c8596c5c4f4a048de9186cbbb77bec",
       "version_major": 2,
       "version_minor": 0
      },
      "text/plain": [
       "HBox(children=(FloatProgress(value=1.0, bar_style='info', max=1.0), HTML(value='')))"
      ]
     },
     "metadata": {},
     "output_type": "display_data"
    },
    {
     "name": "stdout",
     "output_type": "stream",
     "text": [
      "\n"
     ]
    },
    {
     "data": {
      "application/vnd.jupyter.widget-view+json": {
       "model_id": "3dd97551068f4b4cbe3618307b5369e4",
       "version_major": 2,
       "version_minor": 0
      },
      "text/plain": [
       "HBox(children=(FloatProgress(value=1.0, bar_style='info', max=1.0), HTML(value='')))"
      ]
     },
     "metadata": {},
     "output_type": "display_data"
    },
    {
     "name": "stdout",
     "output_type": "stream",
     "text": [
      "\n"
     ]
    },
    {
     "data": {
      "application/vnd.jupyter.widget-view+json": {
       "model_id": "5589279d33a5491fbbf324dcf27686e3",
       "version_major": 2,
       "version_minor": 0
      },
      "text/plain": [
       "HBox(children=(FloatProgress(value=1.0, bar_style='info', max=1.0), HTML(value='')))"
      ]
     },
     "metadata": {},
     "output_type": "display_data"
    },
    {
     "name": "stdout",
     "output_type": "stream",
     "text": [
      "\n"
     ]
    }
   ],
   "source": [
    "n2v_similarities = {}\n",
    "def get_n2v_similarity(a,b):\n",
    "    try:\n",
    "        return n2v_similarities[str(a), str(b)]\n",
    "    except KeyError:\n",
    "        try:\n",
    "            res = n2v2.similarity(str(a), str(b))\n",
    "            n2v_similarities[str(a), str(b)] = res\n",
    "            return res\n",
    "        except KeyError:\n",
    "            n2v_similarities[str(a), str(b)] = -1\n",
    "            return -1\n",
    "for i in range(1,11):\n",
    "    train1['n2v2_challenge_similarity_' + str(i)] = [get_n2v_similarity(row[1], row[2]) for row in tqdm(train1[['challenge', 'challenge_' + str(i)]].itertuples())]\n",
    "    test1['n2v2_challenge_similarity_' + str(i)] = [get_n2v_similarity(row[1], row[2]) for row in tqdm(test1[['challenge', 'challenge_' + str(i)]].itertuples())]\n"
   ]
  },
  {
   "cell_type": "code",
   "execution_count": 45,
   "metadata": {},
   "outputs": [
    {
     "data": {
      "application/vnd.jupyter.widget-view+json": {
       "model_id": "b553d54c13cf46e59c2cfa3e390ea2d2",
       "version_major": 2,
       "version_minor": 0
      },
      "text/plain": [
       "HBox(children=(FloatProgress(value=1.0, bar_style='info', max=1.0), HTML(value='')))"
      ]
     },
     "metadata": {},
     "output_type": "display_data"
    },
    {
     "name": "stderr",
     "output_type": "stream",
     "text": [
      "/home/ubuntu/anaconda3/lib/python3.7/site-packages/ipykernel_launcher.py:7: DeprecationWarning: Call to deprecated `similarity` (Method will be removed in 4.0.0, use self.wv.similarity() instead).\n",
      "  import sys\n"
     ]
    },
    {
     "name": "stdout",
     "output_type": "stream",
     "text": [
      "\n"
     ]
    },
    {
     "data": {
      "application/vnd.jupyter.widget-view+json": {
       "model_id": "813ce67e9e4b42ccb2b984467691de32",
       "version_major": 2,
       "version_minor": 0
      },
      "text/plain": [
       "HBox(children=(FloatProgress(value=1.0, bar_style='info', max=1.0), HTML(value='')))"
      ]
     },
     "metadata": {},
     "output_type": "display_data"
    },
    {
     "name": "stdout",
     "output_type": "stream",
     "text": [
      "\n"
     ]
    },
    {
     "data": {
      "application/vnd.jupyter.widget-view+json": {
       "model_id": "74ee0a5e2e5c42039f8f488085ac6c56",
       "version_major": 2,
       "version_minor": 0
      },
      "text/plain": [
       "HBox(children=(FloatProgress(value=1.0, bar_style='info', max=1.0), HTML(value='')))"
      ]
     },
     "metadata": {},
     "output_type": "display_data"
    },
    {
     "name": "stdout",
     "output_type": "stream",
     "text": [
      "\n"
     ]
    },
    {
     "data": {
      "application/vnd.jupyter.widget-view+json": {
       "model_id": "6db6b977841644988ac3ef601dbd2782",
       "version_major": 2,
       "version_minor": 0
      },
      "text/plain": [
       "HBox(children=(FloatProgress(value=1.0, bar_style='info', max=1.0), HTML(value='')))"
      ]
     },
     "metadata": {},
     "output_type": "display_data"
    },
    {
     "name": "stdout",
     "output_type": "stream",
     "text": [
      "\n"
     ]
    },
    {
     "data": {
      "application/vnd.jupyter.widget-view+json": {
       "model_id": "8aa6e2d8422840309c07abad20699c20",
       "version_major": 2,
       "version_minor": 0
      },
      "text/plain": [
       "HBox(children=(FloatProgress(value=1.0, bar_style='info', max=1.0), HTML(value='')))"
      ]
     },
     "metadata": {},
     "output_type": "display_data"
    },
    {
     "name": "stdout",
     "output_type": "stream",
     "text": [
      "\n"
     ]
    },
    {
     "data": {
      "application/vnd.jupyter.widget-view+json": {
       "model_id": "0a3db3d92dba4486b37581f6ec0030de",
       "version_major": 2,
       "version_minor": 0
      },
      "text/plain": [
       "HBox(children=(FloatProgress(value=1.0, bar_style='info', max=1.0), HTML(value='')))"
      ]
     },
     "metadata": {},
     "output_type": "display_data"
    },
    {
     "name": "stdout",
     "output_type": "stream",
     "text": [
      "\n"
     ]
    },
    {
     "data": {
      "application/vnd.jupyter.widget-view+json": {
       "model_id": "cbe223abf22e4f9e82a079dc1c651e21",
       "version_major": 2,
       "version_minor": 0
      },
      "text/plain": [
       "HBox(children=(FloatProgress(value=1.0, bar_style='info', max=1.0), HTML(value='')))"
      ]
     },
     "metadata": {},
     "output_type": "display_data"
    },
    {
     "name": "stdout",
     "output_type": "stream",
     "text": [
      "\n"
     ]
    },
    {
     "data": {
      "application/vnd.jupyter.widget-view+json": {
       "model_id": "86216c4e53e242949c3f03eee04643bd",
       "version_major": 2,
       "version_minor": 0
      },
      "text/plain": [
       "HBox(children=(FloatProgress(value=1.0, bar_style='info', max=1.0), HTML(value='')))"
      ]
     },
     "metadata": {},
     "output_type": "display_data"
    },
    {
     "name": "stdout",
     "output_type": "stream",
     "text": [
      "\n"
     ]
    },
    {
     "data": {
      "application/vnd.jupyter.widget-view+json": {
       "model_id": "6263fefbff5c4b2f8ef1f43c2bd0dede",
       "version_major": 2,
       "version_minor": 0
      },
      "text/plain": [
       "HBox(children=(FloatProgress(value=1.0, bar_style='info', max=1.0), HTML(value='')))"
      ]
     },
     "metadata": {},
     "output_type": "display_data"
    },
    {
     "name": "stdout",
     "output_type": "stream",
     "text": [
      "\n"
     ]
    },
    {
     "data": {
      "application/vnd.jupyter.widget-view+json": {
       "model_id": "eacaad36263847e59987d1a8c2304be8",
       "version_major": 2,
       "version_minor": 0
      },
      "text/plain": [
       "HBox(children=(FloatProgress(value=1.0, bar_style='info', max=1.0), HTML(value='')))"
      ]
     },
     "metadata": {},
     "output_type": "display_data"
    },
    {
     "name": "stdout",
     "output_type": "stream",
     "text": [
      "\n"
     ]
    },
    {
     "data": {
      "application/vnd.jupyter.widget-view+json": {
       "model_id": "f3c49af626c34b05a773020c158ce8bc",
       "version_major": 2,
       "version_minor": 0
      },
      "text/plain": [
       "HBox(children=(FloatProgress(value=1.0, bar_style='info', max=1.0), HTML(value='')))"
      ]
     },
     "metadata": {},
     "output_type": "display_data"
    },
    {
     "name": "stdout",
     "output_type": "stream",
     "text": [
      "\n"
     ]
    },
    {
     "data": {
      "application/vnd.jupyter.widget-view+json": {
       "model_id": "feb4b63266d049b6b8e9d3cf320f39e0",
       "version_major": 2,
       "version_minor": 0
      },
      "text/plain": [
       "HBox(children=(FloatProgress(value=1.0, bar_style='info', max=1.0), HTML(value='')))"
      ]
     },
     "metadata": {},
     "output_type": "display_data"
    },
    {
     "name": "stdout",
     "output_type": "stream",
     "text": [
      "\n"
     ]
    },
    {
     "data": {
      "application/vnd.jupyter.widget-view+json": {
       "model_id": "f8f5277a351c4e63ab8514b25d02379e",
       "version_major": 2,
       "version_minor": 0
      },
      "text/plain": [
       "HBox(children=(FloatProgress(value=1.0, bar_style='info', max=1.0), HTML(value='')))"
      ]
     },
     "metadata": {},
     "output_type": "display_data"
    },
    {
     "name": "stdout",
     "output_type": "stream",
     "text": [
      "\n"
     ]
    },
    {
     "data": {
      "application/vnd.jupyter.widget-view+json": {
       "model_id": "4abe6cc8288f43159ea77bae2de59e3a",
       "version_major": 2,
       "version_minor": 0
      },
      "text/plain": [
       "HBox(children=(FloatProgress(value=1.0, bar_style='info', max=1.0), HTML(value='')))"
      ]
     },
     "metadata": {},
     "output_type": "display_data"
    },
    {
     "name": "stdout",
     "output_type": "stream",
     "text": [
      "\n"
     ]
    },
    {
     "data": {
      "application/vnd.jupyter.widget-view+json": {
       "model_id": "c104ee839221464d8323c8ba0cab5658",
       "version_major": 2,
       "version_minor": 0
      },
      "text/plain": [
       "HBox(children=(FloatProgress(value=1.0, bar_style='info', max=1.0), HTML(value='')))"
      ]
     },
     "metadata": {},
     "output_type": "display_data"
    },
    {
     "name": "stdout",
     "output_type": "stream",
     "text": [
      "\n"
     ]
    },
    {
     "data": {
      "application/vnd.jupyter.widget-view+json": {
       "model_id": "804b4d02049349b787a011c97b51db0a",
       "version_major": 2,
       "version_minor": 0
      },
      "text/plain": [
       "HBox(children=(FloatProgress(value=1.0, bar_style='info', max=1.0), HTML(value='')))"
      ]
     },
     "metadata": {},
     "output_type": "display_data"
    },
    {
     "name": "stdout",
     "output_type": "stream",
     "text": [
      "\n"
     ]
    },
    {
     "data": {
      "application/vnd.jupyter.widget-view+json": {
       "model_id": "f1b383bda44b45a6a83e59b70bb2d9e9",
       "version_major": 2,
       "version_minor": 0
      },
      "text/plain": [
       "HBox(children=(FloatProgress(value=1.0, bar_style='info', max=1.0), HTML(value='')))"
      ]
     },
     "metadata": {},
     "output_type": "display_data"
    },
    {
     "name": "stdout",
     "output_type": "stream",
     "text": [
      "\n"
     ]
    },
    {
     "data": {
      "application/vnd.jupyter.widget-view+json": {
       "model_id": "701ede0810d5439786cc4a090d3768ef",
       "version_major": 2,
       "version_minor": 0
      },
      "text/plain": [
       "HBox(children=(FloatProgress(value=1.0, bar_style='info', max=1.0), HTML(value='')))"
      ]
     },
     "metadata": {},
     "output_type": "display_data"
    },
    {
     "name": "stdout",
     "output_type": "stream",
     "text": [
      "\n"
     ]
    },
    {
     "data": {
      "application/vnd.jupyter.widget-view+json": {
       "model_id": "630d019e73f64f4e9f6f30e61af702d2",
       "version_major": 2,
       "version_minor": 0
      },
      "text/plain": [
       "HBox(children=(FloatProgress(value=1.0, bar_style='info', max=1.0), HTML(value='')))"
      ]
     },
     "metadata": {},
     "output_type": "display_data"
    },
    {
     "name": "stdout",
     "output_type": "stream",
     "text": [
      "\n"
     ]
    },
    {
     "data": {
      "application/vnd.jupyter.widget-view+json": {
       "model_id": "969eb7f2b1f947cfb70e95a8ff5f51d4",
       "version_major": 2,
       "version_minor": 0
      },
      "text/plain": [
       "HBox(children=(FloatProgress(value=1.0, bar_style='info', max=1.0), HTML(value='')))"
      ]
     },
     "metadata": {},
     "output_type": "display_data"
    },
    {
     "name": "stdout",
     "output_type": "stream",
     "text": [
      "\n"
     ]
    }
   ],
   "source": [
    "n2v_similarities = {}\n",
    "def get_n2v_similarity(a,b):\n",
    "    try:\n",
    "        return n2v_similarities[str(a), str(b)]\n",
    "    except KeyError:\n",
    "        try:\n",
    "            res = n2v2.similarity(str(a), str(b))\n",
    "            n2v_similarities[str(a), str(b)] = res\n",
    "            return res\n",
    "        except KeyError:\n",
    "            n2v_similarities[str(a), str(b)] = -1\n",
    "            return -1\n",
    "    \n",
    "    \n",
    "challenge_author_mapping = challange_data[['challenge_ID', 'author_ID']\n",
    "                                         ].set_index('challenge_ID').author_ID.to_dict()\n",
    "for i in range(1,11):\n",
    "    train1['n2v2_author_similarity_' + str(i)] = [get_n2v_similarity(row[1], challenge_author_mapping[row[2]]) \n",
    "                                              for row in tqdm(train1[['author_ID', \"challenge_\" + str(i)]].itertuples())]\n",
    "    test1['n2v2_author_similarity_' + str(i)] = [get_n2v_similarity(row[1], challenge_author_mapping[row[2]]) \n",
    "                                             for row in tqdm(test1[['author_ID', \"challenge_\" + str(i)]].itertuples())]\n"
   ]
  },
  {
   "cell_type": "code",
   "execution_count": 46,
   "metadata": {},
   "outputs": [
    {
     "data": {
      "text/plain": [
       "(0.05910808680441991, 0.01423637421886539)"
      ]
     },
     "execution_count": 46,
     "metadata": {},
     "output_type": "execute_result"
    }
   ],
   "source": [
    "train1[train1.n2v2_author_similarity_10 > 0.9].target.mean(), train1.target.mean()"
   ]
  },
  {
   "cell_type": "code",
   "execution_count": 47,
   "metadata": {},
   "outputs": [
    {
     "data": {
      "application/vnd.jupyter.widget-view+json": {
       "model_id": "e44555b2d46e498a87aebf9982f21b94",
       "version_major": 2,
       "version_minor": 0
      },
      "text/plain": [
       "HBox(children=(FloatProgress(value=1.0, bar_style='info', max=1.0), HTML(value='')))"
      ]
     },
     "metadata": {},
     "output_type": "display_data"
    },
    {
     "name": "stderr",
     "output_type": "stream",
     "text": [
      "/home/ubuntu/anaconda3/lib/python3.7/site-packages/ipykernel_launcher.py:7: DeprecationWarning: Call to deprecated `similarity` (Method will be removed in 4.0.0, use self.wv.similarity() instead).\n",
      "  import sys\n"
     ]
    },
    {
     "name": "stdout",
     "output_type": "stream",
     "text": [
      "\n"
     ]
    },
    {
     "data": {
      "application/vnd.jupyter.widget-view+json": {
       "model_id": "942caebc81694b05ac1c003cdc1c396c",
       "version_major": 2,
       "version_minor": 0
      },
      "text/plain": [
       "HBox(children=(FloatProgress(value=1.0, bar_style='info', max=1.0), HTML(value='')))"
      ]
     },
     "metadata": {},
     "output_type": "display_data"
    },
    {
     "name": "stdout",
     "output_type": "stream",
     "text": [
      "\n"
     ]
    }
   ],
   "source": [
    "n2v_similarities = {}\n",
    "def get_n2v_similarity(a,b):\n",
    "    try:\n",
    "        return n2v_similarities[str(a), str(b)]\n",
    "    except KeyError:\n",
    "        try:\n",
    "            res = n2v2.similarity(str(a), str(b))\n",
    "            n2v_similarities[str(a), str(b)] = res\n",
    "            return res\n",
    "        except KeyError:\n",
    "            n2v_similarities[str(a), str(b)] = -1\n",
    "            return -1\n",
    "    \n",
    "train1['n2v2_user_author_similarity'] = [get_n2v_similarity(row.user_id, row.author_ID) \n",
    "                                          for row in tqdm(train1.itertuples())]\n",
    "test1['n2v2_user_author_similarity'] = [get_n2v_similarity(row.user_id, row.author_ID)\n",
    "                                         for row in tqdm(test1.itertuples())]"
   ]
  },
  {
   "cell_type": "code",
   "execution_count": 48,
   "metadata": {},
   "outputs": [
    {
     "data": {
      "text/plain": [
       "(0.08667545278887949, 0.01423637421886539)"
      ]
     },
     "execution_count": 48,
     "metadata": {},
     "output_type": "execute_result"
    }
   ],
   "source": [
    "train1[train1.n2v2_user_author_similarity > 0.9].target.mean(), train1.target.mean()"
   ]
  },
  {
   "cell_type": "code",
   "execution_count": 49,
   "metadata": {},
   "outputs": [],
   "source": [
    "for i in range(1,11):\n",
    "    train1['challenge_id_diff_' + str(i)] = train1.challenge.str[2:].astype(int) - train1['challenge_' + str(i)].str[2:].astype(int)\n",
    "    test1['challenge_id_diff_' + str(i)] = test1.challenge.str[2:].astype(int) - test1['challenge_' + str(i)].str[2:].astype(int)"
   ]
  },
  {
   "cell_type": "code",
   "execution_count": 50,
   "metadata": {},
   "outputs": [
    {
     "data": {
      "text/plain": [
       "(0.11597704620960435, 0.01423637421886539)"
      ]
     },
     "execution_count": 50,
     "metadata": {},
     "output_type": "execute_result"
    }
   ],
   "source": [
    "train1[train1.challenge_id_diff_10.abs() < 10].target.mean(), train1.target.mean()"
   ]
  },
  {
   "cell_type": "code",
   "execution_count": 51,
   "metadata": {},
   "outputs": [],
   "source": [
    "# challenge_mean_sequence = train_data[train_data.challenge_sequence <= 10][['challenge', 'challenge_sequence']].append(\n",
    "#                     test_data[['challenge',  'challenge_sequence']]).groupby('challenge').mean().challenge_sequence.to_dict()\n",
    "# train1['challenge_mean_sequence'] = train1.challenge.map(challenge_mean_sequence)\n",
    "# test1['challenge_mean_sequence'] = test1.challenge.map(challenge_mean_sequence)"
   ]
  },
  {
   "cell_type": "code",
   "execution_count": 53,
   "metadata": {},
   "outputs": [
    {
     "name": "stdout",
     "output_type": "stream",
     "text": [
      "['user_id', 'challenge', 'n2v_similarity', 'challenge_1', 'challenge_2', 'challenge_3', 'challenge_4', 'challenge_5', 'challenge_6', 'challenge_7', 'challenge_8', 'challenge_9', 'challenge_10', 'challenge_11', 'challenge_12', 'challenge_13', 'target', 'programming_language', 'challenge_series_ID', 'total_submissions', 'publish_date', 'author_ID', 'author_gender', 'author_org_ID', 'category_id', 'user_series_count', 'user_num_unique_series', 'challenge_user_count', 'challenge_avg_seq', 'challenge_series_ID_user_count', 'challenge_series_ID_avg_seq', 'author_ID_user_count', 'author_ID_avg_seq', 'author_org_ID_user_count', 'author_org_ID_avg_seq', 'category_id_user_count', 'category_id_avg_seq', 'user_author_count', 'user_num_unique_author', 'user_author_org_count', 'user_num_unique_author_org', 'user_category_count', 'user_num_unique_category', 'user_min_difficulty', 'user_max_difficulty', 'user_mean_difficulty', 'user_last_difficulty', 'user_min_difficulty_diff', 'user_max_difficulty_diff', 'user_mean_difficulty_diff', 'user_last_difficulty_diff', 'user_min_publish_date', 'user_max_publish_date', 'user_last_publish_date', 'user_min_publish_date_diff', 'user_max_publish_date_diff', 'user_last_publish_date_diff', 'transition_scores_1', 'transition_scores_2', 'transition_scores_3', 'transition_scores_4', 'transition_scores_5', 'transition_scores_6', 'transition_scores_7', 'transition_scores_8', 'transition_scores_9', 'transition_scores_10', 'transition_score_series_1', 'transition_score_series_2', 'transition_score_series_3', 'transition_score_series_4', 'transition_score_series_5', 'transition_score_series_6', 'transition_score_series_7', 'transition_score_series_8', 'transition_score_series_9', 'transition_score_series_10', 'author_gender_cd', 'challenge_id_diff', 'challenge_id_diff_mean', 'n2v1_challenge_similarity_1', 'n2v1_challenge_similarity_2', 'n2v1_challenge_similarity_3', 'n2v1_challenge_similarity_4', 'n2v1_challenge_similarity_5', 'n2v1_challenge_similarity_6', 'n2v1_challenge_similarity_7', 'n2v1_challenge_similarity_8', 'n2v1_challenge_similarity_9', 'n2v1_challenge_similarity_10', 'n2v2_challenge_similarity_1', 'n2v2_challenge_similarity_2', 'n2v2_challenge_similarity_3', 'n2v2_challenge_similarity_4', 'n2v2_challenge_similarity_5', 'n2v2_challenge_similarity_6', 'n2v2_challenge_similarity_7', 'n2v2_challenge_similarity_8', 'n2v2_challenge_similarity_9', 'n2v2_challenge_similarity_10', 'n2v2_author_similarity_1', 'n2v2_author_similarity_2', 'n2v2_author_similarity_3', 'n2v2_author_similarity_4', 'n2v2_author_similarity_5', 'n2v2_author_similarity_6', 'n2v2_author_similarity_7', 'n2v2_author_similarity_8', 'n2v2_author_similarity_9', 'n2v2_author_similarity_10', 'n2v2_user_author_similarity', 'challenge_id_diff_1', 'challenge_id_diff_2', 'challenge_id_diff_3', 'challenge_id_diff_4', 'challenge_id_diff_5', 'challenge_id_diff_6', 'challenge_id_diff_7', 'challenge_id_diff_8', 'challenge_id_diff_9', 'challenge_id_diff_10']\n"
     ]
    }
   ],
   "source": [
    "print(list(train1.columns))"
   ]
  },
  {
   "cell_type": "code",
   "execution_count": 54,
   "metadata": {},
   "outputs": [
    {
     "data": {
      "text/plain": [
       "97"
      ]
     },
     "execution_count": 54,
     "metadata": {},
     "output_type": "execute_result"
    }
   ],
   "source": [
    "indep_vars = ['n2v_similarity', 'programming_language', 'total_submissions', 'category_id', 'user_series_count', \n",
    "              'user_num_unique_series', 'challenge_user_count', 'challenge_avg_seq', 'challenge_series_ID_user_count', \n",
    "              'challenge_series_ID_avg_seq', 'author_ID_user_count', 'author_ID_avg_seq', 'author_org_ID_user_count', \n",
    "              'author_org_ID_avg_seq', 'category_id_user_count', 'category_id_avg_seq', 'user_author_count', \n",
    "              'user_num_unique_author', 'user_author_org_count', 'user_num_unique_author_org', 'user_category_count', \n",
    "              'user_num_unique_category', 'user_min_difficulty', 'user_max_difficulty', 'user_mean_difficulty', \n",
    "              'user_last_difficulty', 'user_min_difficulty_diff', 'user_max_difficulty_diff', 'user_mean_difficulty_diff',\n",
    "              'user_last_difficulty_diff', \n",
    "              'user_min_publish_date_diff', 'user_max_publish_date_diff', 'user_last_publish_date_diff', \n",
    "              'transition_scores_1', 'transition_scores_2', 'transition_scores_3', 'transition_scores_4', \n",
    "              'transition_scores_5', 'transition_scores_6', 'transition_scores_7', 'transition_scores_8', \n",
    "              'transition_scores_9', 'transition_scores_10', 'transition_score_series_1', 'transition_score_series_2',\n",
    "              'transition_score_series_3', 'transition_score_series_4', 'transition_score_series_5',\n",
    "              'transition_score_series_6', 'transition_score_series_7', 'transition_score_series_8', \n",
    "              'transition_score_series_9', 'transition_score_series_10', 'author_gender_cd', 'challenge_id_diff',\n",
    "              'challenge_id_diff_mean', 'n2v1_challenge_similarity_1', 'n2v1_challenge_similarity_2',\n",
    "              'n2v1_challenge_similarity_3', 'n2v1_challenge_similarity_4', 'n2v1_challenge_similarity_5', \n",
    "              'n2v1_challenge_similarity_6', 'n2v1_challenge_similarity_7', 'n2v1_challenge_similarity_8',\n",
    "              'n2v1_challenge_similarity_9', 'n2v1_challenge_similarity_10', 'n2v2_challenge_similarity_1',\n",
    "              'n2v2_challenge_similarity_2', 'n2v2_challenge_similarity_3', 'n2v2_challenge_similarity_4',\n",
    "              'n2v2_challenge_similarity_5', 'n2v2_challenge_similarity_6', 'n2v2_challenge_similarity_7',\n",
    "              'n2v2_challenge_similarity_8', 'n2v2_challenge_similarity_9', 'n2v2_challenge_similarity_10', \n",
    "              'n2v2_author_similarity_1', 'n2v2_author_similarity_2', 'n2v2_author_similarity_3', 'n2v2_author_similarity_4',\n",
    "              'n2v2_author_similarity_5', 'n2v2_author_similarity_6', 'n2v2_author_similarity_7', 'n2v2_author_similarity_8',\n",
    "              'n2v2_author_similarity_9', 'n2v2_author_similarity_10', 'n2v2_user_author_similarity', 'challenge_id_diff_1', \n",
    "              'challenge_id_diff_2', 'challenge_id_diff_3', 'challenge_id_diff_4', 'challenge_id_diff_5',\n",
    "              'challenge_id_diff_6', 'challenge_id_diff_7', 'challenge_id_diff_8', 'challenge_id_diff_9', \n",
    "              'challenge_id_diff_10', \n",
    "#               'challenge_mean_sequence'\n",
    "             ]\n",
    "len(indep_vars)"
   ]
  },
  {
   "cell_type": "code",
   "execution_count": 59,
   "metadata": {},
   "outputs": [
    {
     "data": {
      "text/plain": [
       "20"
      ]
     },
     "execution_count": 59,
     "metadata": {},
     "output_type": "execute_result"
    }
   ],
   "source": [
    "import gc\n",
    "for var in ['user_min_publish_date', 'user_max_publish_date', 'user_last_publish_date', 'challenge_1', 'challenge_2', \n",
    "            'challenge_3', 'challenge_4', 'challenge_5', 'challenge_6', 'challenge_7', 'challenge_8', 'challenge_9',\n",
    "            'challenge_10']:    \n",
    "    try:\n",
    "        del train1[var]\n",
    "        del test1[var]\n",
    "    except KeyError:\n",
    "        pass\n",
    "gc.collect()"
   ]
  },
  {
   "cell_type": "code",
   "execution_count": 60,
   "metadata": {
    "scrolled": true
   },
   "outputs": [
    {
     "name": "stdout",
     "output_type": "stream",
     "text": [
      "(9108181, 108) (2422002, 108)\n",
      "Training until validation scores don't improve for 500 rounds\n",
      "[100]\tvalid_0's auc: 0.941025\n",
      "[200]\tvalid_0's auc: 0.944859\n",
      "[300]\tvalid_0's auc: 0.946522\n",
      "[400]\tvalid_0's auc: 0.946453\n",
      "[500]\tvalid_0's auc: 0.946425\n",
      "[600]\tvalid_0's auc: 0.947008\n",
      "[700]\tvalid_0's auc: 0.947466\n",
      "[800]\tvalid_0's auc: 0.947976\n",
      "[900]\tvalid_0's auc: 0.94829\n",
      "[1000]\tvalid_0's auc: 0.94848\n",
      "[1100]\tvalid_0's auc: 0.948633\n",
      "[1200]\tvalid_0's auc: 0.948811\n",
      "[1300]\tvalid_0's auc: 0.948958\n",
      "[1400]\tvalid_0's auc: 0.949113\n",
      "[1500]\tvalid_0's auc: 0.949173\n",
      "[1600]\tvalid_0's auc: 0.94927\n",
      "[1700]\tvalid_0's auc: 0.949332\n",
      "[1800]\tvalid_0's auc: 0.949422\n",
      "[1900]\tvalid_0's auc: 0.949477\n",
      "[2000]\tvalid_0's auc: 0.949554\n",
      "[2100]\tvalid_0's auc: 0.949568\n",
      "[2200]\tvalid_0's auc: 0.949617\n",
      "[2300]\tvalid_0's auc: 0.949636\n",
      "[2400]\tvalid_0's auc: 0.94968\n",
      "[2500]\tvalid_0's auc: 0.949675\n",
      "[2600]\tvalid_0's auc: 0.949673\n",
      "[2700]\tvalid_0's auc: 0.949654\n",
      "[2800]\tvalid_0's auc: 0.949668\n",
      "[2900]\tvalid_0's auc: 0.949676\n",
      "[3000]\tvalid_0's auc: 0.949698\n",
      "Did not meet early stopping. Best iteration is:\n",
      "[2974]\tvalid_0's auc: 0.94971\n"
     ]
    }
   ],
   "source": [
    "params = {\n",
    "    'task': 'train',\n",
    "    'boosting_type': 'gbdt',\n",
    "    'objective':'binary',\n",
    "    'metric': {'auc'},\n",
    "    'num_leaves': 1800,\n",
    "    'learning_rate': 0.025,\n",
    "    'feature_fraction': 0.65,\n",
    "    'bagging_fraction': 0.65,\n",
    "    'bagging_freq': 1,\n",
    "    'verbose': 1,\n",
    "    'min_data_in_leaf' : 5,\n",
    "    'max_bin' : 255,\n",
    "    'lambda_l1' : 0.00002,\n",
    "    'lambda_l2' : 0.00001,\n",
    "    'min_gain_to_split' : 0.001\n",
    "}\n",
    "import random\n",
    "random.seed(2)\n",
    "dev_users = random.sample(list(set(train1.user_id)), 55000)\n",
    "dev = train1[train1.user_id.isin(dev_users)]\n",
    "val = train1[train1.user_id.isin(dev_users) == False]\n",
    "\n",
    "print(dev.shape, val.shape)\n",
    "lgb_dev = lgb.Dataset(dev[indep_vars], dev['target'])\n",
    "lgb_val = lgb.Dataset(val[indep_vars], val['target'])\n",
    "\n",
    "model = lgb.train(params, lgb_dev, num_boost_round = 3000, valid_sets = (lgb_val), early_stopping_rounds = 500,\n",
    "                     verbose_eval = 100)"
   ]
  },
  {
   "cell_type": "code",
   "execution_count": 57,
   "metadata": {
    "scrolled": true
   },
   "outputs": [
    {
     "name": "stdout",
     "output_type": "stream",
     "text": [
      "(8973294, 93) (2384798, 93)\n",
      "Training until validation scores don't improve for 500 rounds\n",
      "[100]\tvalid_0's auc: 0.937994\n",
      "[200]\tvalid_0's auc: 0.941056\n",
      "[300]\tvalid_0's auc: 0.942639\n",
      "[400]\tvalid_0's auc: 0.943368\n",
      "[500]\tvalid_0's auc: 0.944005\n",
      "[600]\tvalid_0's auc: 0.944409\n",
      "[700]\tvalid_0's auc: 0.944877\n",
      "[800]\tvalid_0's auc: 0.944934\n",
      "[900]\tvalid_0's auc: 0.945274\n",
      "[1000]\tvalid_0's auc: 0.945527\n",
      "[1100]\tvalid_0's auc: 0.9457\n",
      "[1200]\tvalid_0's auc: 0.945846\n",
      "[1300]\tvalid_0's auc: 0.946044\n",
      "[1400]\tvalid_0's auc: 0.946174\n",
      "[1500]\tvalid_0's auc: 0.946257\n",
      "[1600]\tvalid_0's auc: 0.94633\n",
      "[1700]\tvalid_0's auc: 0.946435\n",
      "[1800]\tvalid_0's auc: 0.946489\n",
      "[1900]\tvalid_0's auc: 0.946566\n",
      "[2000]\tvalid_0's auc: 0.946648\n",
      "[2100]\tvalid_0's auc: 0.946748\n",
      "[2200]\tvalid_0's auc: 0.946765\n",
      "[2300]\tvalid_0's auc: 0.946851\n",
      "[2400]\tvalid_0's auc: 0.946847\n",
      "[2500]\tvalid_0's auc: 0.94689\n",
      "[2600]\tvalid_0's auc: 0.946914\n",
      "[2700]\tvalid_0's auc: 0.946985\n",
      "[2800]\tvalid_0's auc: 0.946991\n",
      "[2900]\tvalid_0's auc: 0.94703\n",
      "[3000]\tvalid_0's auc: 0.94706\n",
      "Did not meet early stopping. Best iteration is:\n",
      "[2953]\tvalid_0's auc: 0.947081\n"
     ]
    }
   ],
   "source": [
    "params = {\n",
    "    'task': 'train',\n",
    "    'boosting_type': 'gbdt',\n",
    "    'objective':'binary',\n",
    "    'metric': {'auc'},\n",
    "    'num_leaves': 1500,\n",
    "    'learning_rate': 0.025,\n",
    "    'feature_fraction': 0.65,\n",
    "    'bagging_fraction': 0.65,\n",
    "    'bagging_freq': 1,\n",
    "    'verbose': 1,\n",
    "    'min_data_in_leaf' : 5,\n",
    "    'max_bin' : 255,\n",
    "    'lambda_l1' : 0.00002,\n",
    "    'lambda_l2' : 0.00001,\n",
    "    'min_gain_to_split' : 0.001\n",
    "}\n",
    "import random\n",
    "random.seed(2)\n",
    "dev_users = random.sample(list(set(train1.user_id)), 55000)\n",
    "dev = train1[train1.user_id.isin(dev_users)]\n",
    "val = train1[train1.user_id.isin(dev_users) == False]\n",
    "\n",
    "print(dev.shape, val.shape)\n",
    "lgb_dev = lgb.Dataset(dev[indep_vars], dev['target'])\n",
    "lgb_val = lgb.Dataset(val[indep_vars], val['target'])\n",
    "\n",
    "model = lgb.train(params, lgb_dev, num_boost_round = 3000, valid_sets = (lgb_val), early_stopping_rounds = 500,\n",
    "                     verbose_eval = 100)"
   ]
  },
  {
   "cell_type": "code",
   "execution_count": 61,
   "metadata": {},
   "outputs": [
    {
     "data": {
      "text/html": [
       "<div>\n",
       "<style scoped>\n",
       "    .dataframe tbody tr th:only-of-type {\n",
       "        vertical-align: middle;\n",
       "    }\n",
       "\n",
       "    .dataframe tbody tr th {\n",
       "        vertical-align: top;\n",
       "    }\n",
       "\n",
       "    .dataframe thead th {\n",
       "        text-align: right;\n",
       "    }\n",
       "</style>\n",
       "<table border=\"1\" class=\"dataframe\">\n",
       "  <thead>\n",
       "    <tr style=\"text-align: right;\">\n",
       "      <th></th>\n",
       "      <th>Feature</th>\n",
       "      <th>Importance</th>\n",
       "    </tr>\n",
       "  </thead>\n",
       "  <tbody>\n",
       "    <tr>\n",
       "      <th>0</th>\n",
       "      <td>n2v2_user_author_similarity</td>\n",
       "      <td>1.308349e+07</td>\n",
       "    </tr>\n",
       "    <tr>\n",
       "      <th>1</th>\n",
       "      <td>n2v_similarity</td>\n",
       "      <td>1.240790e+07</td>\n",
       "    </tr>\n",
       "    <tr>\n",
       "      <th>2</th>\n",
       "      <td>n2v1_challenge_similarity_6</td>\n",
       "      <td>8.095298e+06</td>\n",
       "    </tr>\n",
       "    <tr>\n",
       "      <th>3</th>\n",
       "      <td>challenge_id_diff_1</td>\n",
       "      <td>7.871943e+06</td>\n",
       "    </tr>\n",
       "    <tr>\n",
       "      <th>4</th>\n",
       "      <td>n2v2_challenge_similarity_2</td>\n",
       "      <td>6.109830e+06</td>\n",
       "    </tr>\n",
       "    <tr>\n",
       "      <th>5</th>\n",
       "      <td>challenge_id_diff_3</td>\n",
       "      <td>6.061261e+06</td>\n",
       "    </tr>\n",
       "    <tr>\n",
       "      <th>6</th>\n",
       "      <td>author_ID_avg_seq</td>\n",
       "      <td>5.759553e+06</td>\n",
       "    </tr>\n",
       "    <tr>\n",
       "      <th>7</th>\n",
       "      <td>total_submissions</td>\n",
       "      <td>5.621665e+06</td>\n",
       "    </tr>\n",
       "    <tr>\n",
       "      <th>8</th>\n",
       "      <td>n2v2_challenge_similarity_3</td>\n",
       "      <td>5.028645e+06</td>\n",
       "    </tr>\n",
       "    <tr>\n",
       "      <th>9</th>\n",
       "      <td>n2v1_challenge_similarity_9</td>\n",
       "      <td>4.435061e+06</td>\n",
       "    </tr>\n",
       "    <tr>\n",
       "      <th>10</th>\n",
       "      <td>n2v1_challenge_similarity_3</td>\n",
       "      <td>4.417239e+06</td>\n",
       "    </tr>\n",
       "    <tr>\n",
       "      <th>11</th>\n",
       "      <td>n2v2_challenge_similarity_8</td>\n",
       "      <td>4.374269e+06</td>\n",
       "    </tr>\n",
       "    <tr>\n",
       "      <th>12</th>\n",
       "      <td>n2v1_challenge_similarity_5</td>\n",
       "      <td>4.279185e+06</td>\n",
       "    </tr>\n",
       "    <tr>\n",
       "      <th>13</th>\n",
       "      <td>user_last_difficulty_diff</td>\n",
       "      <td>4.272592e+06</td>\n",
       "    </tr>\n",
       "    <tr>\n",
       "      <th>14</th>\n",
       "      <td>challenge_id_diff_2</td>\n",
       "      <td>4.179921e+06</td>\n",
       "    </tr>\n",
       "    <tr>\n",
       "      <th>15</th>\n",
       "      <td>challenge_id_diff_6</td>\n",
       "      <td>4.151789e+06</td>\n",
       "    </tr>\n",
       "    <tr>\n",
       "      <th>16</th>\n",
       "      <td>user_max_difficulty_diff</td>\n",
       "      <td>4.118836e+06</td>\n",
       "    </tr>\n",
       "    <tr>\n",
       "      <th>17</th>\n",
       "      <td>n2v2_author_similarity_9</td>\n",
       "      <td>4.050171e+06</td>\n",
       "    </tr>\n",
       "    <tr>\n",
       "      <th>18</th>\n",
       "      <td>author_org_ID_avg_seq</td>\n",
       "      <td>4.043627e+06</td>\n",
       "    </tr>\n",
       "    <tr>\n",
       "      <th>19</th>\n",
       "      <td>n2v2_challenge_similarity_5</td>\n",
       "      <td>3.964110e+06</td>\n",
       "    </tr>\n",
       "    <tr>\n",
       "      <th>20</th>\n",
       "      <td>challenge_id_diff_9</td>\n",
       "      <td>3.770557e+06</td>\n",
       "    </tr>\n",
       "    <tr>\n",
       "      <th>21</th>\n",
       "      <td>n2v2_author_similarity_1</td>\n",
       "      <td>3.658770e+06</td>\n",
       "    </tr>\n",
       "    <tr>\n",
       "      <th>22</th>\n",
       "      <td>n2v2_challenge_similarity_10</td>\n",
       "      <td>3.586643e+06</td>\n",
       "    </tr>\n",
       "    <tr>\n",
       "      <th>23</th>\n",
       "      <td>n2v2_challenge_similarity_9</td>\n",
       "      <td>3.564979e+06</td>\n",
       "    </tr>\n",
       "    <tr>\n",
       "      <th>24</th>\n",
       "      <td>n2v1_challenge_similarity_8</td>\n",
       "      <td>3.552503e+06</td>\n",
       "    </tr>\n",
       "    <tr>\n",
       "      <th>25</th>\n",
       "      <td>user_last_difficulty</td>\n",
       "      <td>3.542365e+06</td>\n",
       "    </tr>\n",
       "    <tr>\n",
       "      <th>26</th>\n",
       "      <td>challenge_id_diff</td>\n",
       "      <td>3.508381e+06</td>\n",
       "    </tr>\n",
       "    <tr>\n",
       "      <th>27</th>\n",
       "      <td>n2v2_challenge_similarity_4</td>\n",
       "      <td>3.480451e+06</td>\n",
       "    </tr>\n",
       "    <tr>\n",
       "      <th>28</th>\n",
       "      <td>n2v1_challenge_similarity_1</td>\n",
       "      <td>3.451623e+06</td>\n",
       "    </tr>\n",
       "    <tr>\n",
       "      <th>29</th>\n",
       "      <td>transition_score_series_4</td>\n",
       "      <td>3.422449e+06</td>\n",
       "    </tr>\n",
       "    <tr>\n",
       "      <th>30</th>\n",
       "      <td>n2v2_author_similarity_7</td>\n",
       "      <td>3.197976e+06</td>\n",
       "    </tr>\n",
       "    <tr>\n",
       "      <th>31</th>\n",
       "      <td>category_id_avg_seq</td>\n",
       "      <td>3.194549e+06</td>\n",
       "    </tr>\n",
       "    <tr>\n",
       "      <th>32</th>\n",
       "      <td>n2v2_author_similarity_4</td>\n",
       "      <td>3.164477e+06</td>\n",
       "    </tr>\n",
       "    <tr>\n",
       "      <th>33</th>\n",
       "      <td>n2v1_challenge_similarity_7</td>\n",
       "      <td>3.163495e+06</td>\n",
       "    </tr>\n",
       "    <tr>\n",
       "      <th>34</th>\n",
       "      <td>transition_scores_10</td>\n",
       "      <td>3.134850e+06</td>\n",
       "    </tr>\n",
       "    <tr>\n",
       "      <th>35</th>\n",
       "      <td>n2v2_author_similarity_3</td>\n",
       "      <td>3.062920e+06</td>\n",
       "    </tr>\n",
       "    <tr>\n",
       "      <th>36</th>\n",
       "      <td>author_org_ID_user_count</td>\n",
       "      <td>2.959764e+06</td>\n",
       "    </tr>\n",
       "    <tr>\n",
       "      <th>37</th>\n",
       "      <td>user_mean_difficulty</td>\n",
       "      <td>2.751928e+06</td>\n",
       "    </tr>\n",
       "    <tr>\n",
       "      <th>38</th>\n",
       "      <td>n2v1_challenge_similarity_10</td>\n",
       "      <td>2.745434e+06</td>\n",
       "    </tr>\n",
       "    <tr>\n",
       "      <th>39</th>\n",
       "      <td>challenge_id_diff_mean</td>\n",
       "      <td>2.724216e+06</td>\n",
       "    </tr>\n",
       "    <tr>\n",
       "      <th>40</th>\n",
       "      <td>user_mean_difficulty_diff</td>\n",
       "      <td>2.688064e+06</td>\n",
       "    </tr>\n",
       "    <tr>\n",
       "      <th>41</th>\n",
       "      <td>n2v2_author_similarity_2</td>\n",
       "      <td>2.659783e+06</td>\n",
       "    </tr>\n",
       "    <tr>\n",
       "      <th>42</th>\n",
       "      <td>user_max_difficulty</td>\n",
       "      <td>2.595590e+06</td>\n",
       "    </tr>\n",
       "    <tr>\n",
       "      <th>43</th>\n",
       "      <td>n2v1_challenge_similarity_2</td>\n",
       "      <td>2.519030e+06</td>\n",
       "    </tr>\n",
       "    <tr>\n",
       "      <th>44</th>\n",
       "      <td>author_ID_user_count</td>\n",
       "      <td>2.508908e+06</td>\n",
       "    </tr>\n",
       "    <tr>\n",
       "      <th>45</th>\n",
       "      <td>n2v2_author_similarity_5</td>\n",
       "      <td>2.501149e+06</td>\n",
       "    </tr>\n",
       "    <tr>\n",
       "      <th>46</th>\n",
       "      <td>n2v2_challenge_similarity_6</td>\n",
       "      <td>2.488608e+06</td>\n",
       "    </tr>\n",
       "    <tr>\n",
       "      <th>47</th>\n",
       "      <td>challenge_id_diff_8</td>\n",
       "      <td>2.411688e+06</td>\n",
       "    </tr>\n",
       "    <tr>\n",
       "      <th>48</th>\n",
       "      <td>user_min_publish_date_diff</td>\n",
       "      <td>2.393606e+06</td>\n",
       "    </tr>\n",
       "    <tr>\n",
       "      <th>49</th>\n",
       "      <td>transition_score_series_2</td>\n",
       "      <td>2.317053e+06</td>\n",
       "    </tr>\n",
       "    <tr>\n",
       "      <th>50</th>\n",
       "      <td>n2v2_challenge_similarity_7</td>\n",
       "      <td>2.301596e+06</td>\n",
       "    </tr>\n",
       "    <tr>\n",
       "      <th>51</th>\n",
       "      <td>n2v2_challenge_similarity_1</td>\n",
       "      <td>2.249928e+06</td>\n",
       "    </tr>\n",
       "    <tr>\n",
       "      <th>52</th>\n",
       "      <td>user_series_count</td>\n",
       "      <td>2.219404e+06</td>\n",
       "    </tr>\n",
       "    <tr>\n",
       "      <th>53</th>\n",
       "      <td>challenge_id_diff_5</td>\n",
       "      <td>2.201717e+06</td>\n",
       "    </tr>\n",
       "    <tr>\n",
       "      <th>54</th>\n",
       "      <td>transition_score_series_7</td>\n",
       "      <td>2.200863e+06</td>\n",
       "    </tr>\n",
       "    <tr>\n",
       "      <th>55</th>\n",
       "      <td>n2v1_challenge_similarity_4</td>\n",
       "      <td>2.173969e+06</td>\n",
       "    </tr>\n",
       "    <tr>\n",
       "      <th>56</th>\n",
       "      <td>transition_score_series_1</td>\n",
       "      <td>2.081633e+06</td>\n",
       "    </tr>\n",
       "    <tr>\n",
       "      <th>57</th>\n",
       "      <td>n2v2_author_similarity_6</td>\n",
       "      <td>2.079287e+06</td>\n",
       "    </tr>\n",
       "    <tr>\n",
       "      <th>58</th>\n",
       "      <td>user_min_difficulty_diff</td>\n",
       "      <td>2.006175e+06</td>\n",
       "    </tr>\n",
       "    <tr>\n",
       "      <th>59</th>\n",
       "      <td>transition_score_series_8</td>\n",
       "      <td>1.973429e+06</td>\n",
       "    </tr>\n",
       "    <tr>\n",
       "      <th>60</th>\n",
       "      <td>challenge_avg_seq</td>\n",
       "      <td>1.934653e+06</td>\n",
       "    </tr>\n",
       "    <tr>\n",
       "      <th>61</th>\n",
       "      <td>n2v2_author_similarity_8</td>\n",
       "      <td>1.861218e+06</td>\n",
       "    </tr>\n",
       "    <tr>\n",
       "      <th>62</th>\n",
       "      <td>user_max_publish_date_diff</td>\n",
       "      <td>1.737040e+06</td>\n",
       "    </tr>\n",
       "    <tr>\n",
       "      <th>63</th>\n",
       "      <td>transition_score_series_6</td>\n",
       "      <td>1.539804e+06</td>\n",
       "    </tr>\n",
       "    <tr>\n",
       "      <th>64</th>\n",
       "      <td>challenge_user_count</td>\n",
       "      <td>1.523637e+06</td>\n",
       "    </tr>\n",
       "    <tr>\n",
       "      <th>65</th>\n",
       "      <td>transition_score_series_3</td>\n",
       "      <td>1.523464e+06</td>\n",
       "    </tr>\n",
       "    <tr>\n",
       "      <th>66</th>\n",
       "      <td>transition_score_series_5</td>\n",
       "      <td>1.517594e+06</td>\n",
       "    </tr>\n",
       "    <tr>\n",
       "      <th>67</th>\n",
       "      <td>user_last_publish_date_diff</td>\n",
       "      <td>1.475999e+06</td>\n",
       "    </tr>\n",
       "    <tr>\n",
       "      <th>68</th>\n",
       "      <td>challenge_series_ID_user_count</td>\n",
       "      <td>1.466311e+06</td>\n",
       "    </tr>\n",
       "    <tr>\n",
       "      <th>69</th>\n",
       "      <td>n2v2_author_similarity_10</td>\n",
       "      <td>1.461685e+06</td>\n",
       "    </tr>\n",
       "    <tr>\n",
       "      <th>70</th>\n",
       "      <td>transition_scores_3</td>\n",
       "      <td>1.458596e+06</td>\n",
       "    </tr>\n",
       "    <tr>\n",
       "      <th>71</th>\n",
       "      <td>challenge_series_ID_avg_seq</td>\n",
       "      <td>1.373533e+06</td>\n",
       "    </tr>\n",
       "    <tr>\n",
       "      <th>72</th>\n",
       "      <td>challenge_id_diff_4</td>\n",
       "      <td>1.369084e+06</td>\n",
       "    </tr>\n",
       "    <tr>\n",
       "      <th>73</th>\n",
       "      <td>transition_score_series_10</td>\n",
       "      <td>1.246960e+06</td>\n",
       "    </tr>\n",
       "    <tr>\n",
       "      <th>74</th>\n",
       "      <td>challenge_id_diff_7</td>\n",
       "      <td>1.092280e+06</td>\n",
       "    </tr>\n",
       "    <tr>\n",
       "      <th>75</th>\n",
       "      <td>user_num_unique_series</td>\n",
       "      <td>1.078117e+06</td>\n",
       "    </tr>\n",
       "    <tr>\n",
       "      <th>76</th>\n",
       "      <td>transition_score_series_9</td>\n",
       "      <td>1.016132e+06</td>\n",
       "    </tr>\n",
       "    <tr>\n",
       "      <th>77</th>\n",
       "      <td>transition_scores_9</td>\n",
       "      <td>9.164002e+05</td>\n",
       "    </tr>\n",
       "    <tr>\n",
       "      <th>78</th>\n",
       "      <td>category_id</td>\n",
       "      <td>8.921768e+05</td>\n",
       "    </tr>\n",
       "    <tr>\n",
       "      <th>79</th>\n",
       "      <td>transition_scores_6</td>\n",
       "      <td>8.690907e+05</td>\n",
       "    </tr>\n",
       "    <tr>\n",
       "      <th>80</th>\n",
       "      <td>transition_scores_8</td>\n",
       "      <td>8.686734e+05</td>\n",
       "    </tr>\n",
       "    <tr>\n",
       "      <th>81</th>\n",
       "      <td>challenge_id_diff_10</td>\n",
       "      <td>8.414534e+05</td>\n",
       "    </tr>\n",
       "    <tr>\n",
       "      <th>82</th>\n",
       "      <td>category_id_user_count</td>\n",
       "      <td>7.797036e+05</td>\n",
       "    </tr>\n",
       "    <tr>\n",
       "      <th>83</th>\n",
       "      <td>user_num_unique_author_org</td>\n",
       "      <td>7.537531e+05</td>\n",
       "    </tr>\n",
       "    <tr>\n",
       "      <th>84</th>\n",
       "      <td>user_num_unique_author</td>\n",
       "      <td>7.484834e+05</td>\n",
       "    </tr>\n",
       "    <tr>\n",
       "      <th>85</th>\n",
       "      <td>transition_scores_2</td>\n",
       "      <td>6.591540e+05</td>\n",
       "    </tr>\n",
       "    <tr>\n",
       "      <th>86</th>\n",
       "      <td>transition_scores_7</td>\n",
       "      <td>6.250237e+05</td>\n",
       "    </tr>\n",
       "    <tr>\n",
       "      <th>87</th>\n",
       "      <td>transition_scores_1</td>\n",
       "      <td>5.587522e+05</td>\n",
       "    </tr>\n",
       "    <tr>\n",
       "      <th>88</th>\n",
       "      <td>user_num_unique_category</td>\n",
       "      <td>5.574229e+05</td>\n",
       "    </tr>\n",
       "    <tr>\n",
       "      <th>89</th>\n",
       "      <td>transition_scores_5</td>\n",
       "      <td>5.318148e+05</td>\n",
       "    </tr>\n",
       "    <tr>\n",
       "      <th>90</th>\n",
       "      <td>author_gender_cd</td>\n",
       "      <td>5.072577e+05</td>\n",
       "    </tr>\n",
       "    <tr>\n",
       "      <th>91</th>\n",
       "      <td>transition_scores_4</td>\n",
       "      <td>4.708938e+05</td>\n",
       "    </tr>\n",
       "    <tr>\n",
       "      <th>92</th>\n",
       "      <td>user_min_difficulty</td>\n",
       "      <td>3.996323e+05</td>\n",
       "    </tr>\n",
       "    <tr>\n",
       "      <th>93</th>\n",
       "      <td>programming_language</td>\n",
       "      <td>2.790659e+05</td>\n",
       "    </tr>\n",
       "    <tr>\n",
       "      <th>94</th>\n",
       "      <td>user_category_count</td>\n",
       "      <td>2.380729e+05</td>\n",
       "    </tr>\n",
       "    <tr>\n",
       "      <th>95</th>\n",
       "      <td>user_author_org_count</td>\n",
       "      <td>1.487353e+05</td>\n",
       "    </tr>\n",
       "    <tr>\n",
       "      <th>96</th>\n",
       "      <td>user_author_count</td>\n",
       "      <td>4.152279e+04</td>\n",
       "    </tr>\n",
       "  </tbody>\n",
       "</table>\n",
       "</div>"
      ],
      "text/plain": [
       "                           Feature    Importance\n",
       "0      n2v2_user_author_similarity  1.308349e+07\n",
       "1                   n2v_similarity  1.240790e+07\n",
       "2      n2v1_challenge_similarity_6  8.095298e+06\n",
       "3              challenge_id_diff_1  7.871943e+06\n",
       "4      n2v2_challenge_similarity_2  6.109830e+06\n",
       "5              challenge_id_diff_3  6.061261e+06\n",
       "6                author_ID_avg_seq  5.759553e+06\n",
       "7                total_submissions  5.621665e+06\n",
       "8      n2v2_challenge_similarity_3  5.028645e+06\n",
       "9      n2v1_challenge_similarity_9  4.435061e+06\n",
       "10     n2v1_challenge_similarity_3  4.417239e+06\n",
       "11     n2v2_challenge_similarity_8  4.374269e+06\n",
       "12     n2v1_challenge_similarity_5  4.279185e+06\n",
       "13       user_last_difficulty_diff  4.272592e+06\n",
       "14             challenge_id_diff_2  4.179921e+06\n",
       "15             challenge_id_diff_6  4.151789e+06\n",
       "16        user_max_difficulty_diff  4.118836e+06\n",
       "17        n2v2_author_similarity_9  4.050171e+06\n",
       "18           author_org_ID_avg_seq  4.043627e+06\n",
       "19     n2v2_challenge_similarity_5  3.964110e+06\n",
       "20             challenge_id_diff_9  3.770557e+06\n",
       "21        n2v2_author_similarity_1  3.658770e+06\n",
       "22    n2v2_challenge_similarity_10  3.586643e+06\n",
       "23     n2v2_challenge_similarity_9  3.564979e+06\n",
       "24     n2v1_challenge_similarity_8  3.552503e+06\n",
       "25            user_last_difficulty  3.542365e+06\n",
       "26               challenge_id_diff  3.508381e+06\n",
       "27     n2v2_challenge_similarity_4  3.480451e+06\n",
       "28     n2v1_challenge_similarity_1  3.451623e+06\n",
       "29       transition_score_series_4  3.422449e+06\n",
       "30        n2v2_author_similarity_7  3.197976e+06\n",
       "31             category_id_avg_seq  3.194549e+06\n",
       "32        n2v2_author_similarity_4  3.164477e+06\n",
       "33     n2v1_challenge_similarity_7  3.163495e+06\n",
       "34            transition_scores_10  3.134850e+06\n",
       "35        n2v2_author_similarity_3  3.062920e+06\n",
       "36        author_org_ID_user_count  2.959764e+06\n",
       "37            user_mean_difficulty  2.751928e+06\n",
       "38    n2v1_challenge_similarity_10  2.745434e+06\n",
       "39          challenge_id_diff_mean  2.724216e+06\n",
       "40       user_mean_difficulty_diff  2.688064e+06\n",
       "41        n2v2_author_similarity_2  2.659783e+06\n",
       "42             user_max_difficulty  2.595590e+06\n",
       "43     n2v1_challenge_similarity_2  2.519030e+06\n",
       "44            author_ID_user_count  2.508908e+06\n",
       "45        n2v2_author_similarity_5  2.501149e+06\n",
       "46     n2v2_challenge_similarity_6  2.488608e+06\n",
       "47             challenge_id_diff_8  2.411688e+06\n",
       "48      user_min_publish_date_diff  2.393606e+06\n",
       "49       transition_score_series_2  2.317053e+06\n",
       "50     n2v2_challenge_similarity_7  2.301596e+06\n",
       "51     n2v2_challenge_similarity_1  2.249928e+06\n",
       "52               user_series_count  2.219404e+06\n",
       "53             challenge_id_diff_5  2.201717e+06\n",
       "54       transition_score_series_7  2.200863e+06\n",
       "55     n2v1_challenge_similarity_4  2.173969e+06\n",
       "56       transition_score_series_1  2.081633e+06\n",
       "57        n2v2_author_similarity_6  2.079287e+06\n",
       "58        user_min_difficulty_diff  2.006175e+06\n",
       "59       transition_score_series_8  1.973429e+06\n",
       "60               challenge_avg_seq  1.934653e+06\n",
       "61        n2v2_author_similarity_8  1.861218e+06\n",
       "62      user_max_publish_date_diff  1.737040e+06\n",
       "63       transition_score_series_6  1.539804e+06\n",
       "64            challenge_user_count  1.523637e+06\n",
       "65       transition_score_series_3  1.523464e+06\n",
       "66       transition_score_series_5  1.517594e+06\n",
       "67     user_last_publish_date_diff  1.475999e+06\n",
       "68  challenge_series_ID_user_count  1.466311e+06\n",
       "69       n2v2_author_similarity_10  1.461685e+06\n",
       "70             transition_scores_3  1.458596e+06\n",
       "71     challenge_series_ID_avg_seq  1.373533e+06\n",
       "72             challenge_id_diff_4  1.369084e+06\n",
       "73      transition_score_series_10  1.246960e+06\n",
       "74             challenge_id_diff_7  1.092280e+06\n",
       "75          user_num_unique_series  1.078117e+06\n",
       "76       transition_score_series_9  1.016132e+06\n",
       "77             transition_scores_9  9.164002e+05\n",
       "78                     category_id  8.921768e+05\n",
       "79             transition_scores_6  8.690907e+05\n",
       "80             transition_scores_8  8.686734e+05\n",
       "81            challenge_id_diff_10  8.414534e+05\n",
       "82          category_id_user_count  7.797036e+05\n",
       "83      user_num_unique_author_org  7.537531e+05\n",
       "84          user_num_unique_author  7.484834e+05\n",
       "85             transition_scores_2  6.591540e+05\n",
       "86             transition_scores_7  6.250237e+05\n",
       "87             transition_scores_1  5.587522e+05\n",
       "88        user_num_unique_category  5.574229e+05\n",
       "89             transition_scores_5  5.318148e+05\n",
       "90                author_gender_cd  5.072577e+05\n",
       "91             transition_scores_4  4.708938e+05\n",
       "92             user_min_difficulty  3.996323e+05\n",
       "93            programming_language  2.790659e+05\n",
       "94             user_category_count  2.380729e+05\n",
       "95           user_author_org_count  1.487353e+05\n",
       "96               user_author_count  4.152279e+04"
      ]
     },
     "execution_count": 61,
     "metadata": {},
     "output_type": "execute_result"
    }
   ],
   "source": [
    "pd.set_option('max_rows', 100)\n",
    "pd.DataFrame({\"Feature\" : model.feature_name(), \"Importance\": model.feature_importance(importance_type='gain')}).sort_values(\n",
    "    by = \"Importance\", ascending = False).reset_index(drop = True)"
   ]
  },
  {
   "cell_type": "code",
   "execution_count": 62,
   "metadata": {},
   "outputs": [
    {
     "name": "stderr",
     "output_type": "stream",
     "text": [
      "/home/ubuntu/anaconda3/lib/python3.7/site-packages/ipykernel_launcher.py:2: SettingWithCopyWarning: \n",
      "A value is trying to be set on a copy of a slice from a DataFrame.\n",
      "Try using .loc[row_indexer,col_indexer] = value instead\n",
      "\n",
      "See the caveats in the documentation: https://pandas.pydata.org/pandas-docs/stable/user_guide/indexing.html#returning-a-view-versus-a-copy\n",
      "  \n"
     ]
    }
   ],
   "source": [
    "pred = model.predict(val[indep_vars])\n",
    "val['pred'] = pred"
   ]
  },
  {
   "cell_type": "code",
   "execution_count": 63,
   "metadata": {},
   "outputs": [],
   "source": [
    "val1 = val.sort_values(by = 'pred', ascending = False).groupby('user_id').head(3)"
   ]
  },
  {
   "cell_type": "code",
   "execution_count": 64,
   "metadata": {},
   "outputs": [
    {
     "data": {
      "text/html": [
       "<div>\n",
       "<style scoped>\n",
       "    .dataframe tbody tr th:only-of-type {\n",
       "        vertical-align: middle;\n",
       "    }\n",
       "\n",
       "    .dataframe tbody tr th {\n",
       "        vertical-align: top;\n",
       "    }\n",
       "\n",
       "    .dataframe thead th {\n",
       "        text-align: right;\n",
       "    }\n",
       "</style>\n",
       "<table border=\"1\" class=\"dataframe\">\n",
       "  <thead>\n",
       "    <tr style=\"text-align: right;\">\n",
       "      <th></th>\n",
       "      <th>user_id</th>\n",
       "      <th>challenge</th>\n",
       "      <th>n2v_similarity</th>\n",
       "      <th>challenge_11</th>\n",
       "      <th>challenge_12</th>\n",
       "      <th>challenge_13</th>\n",
       "      <th>target</th>\n",
       "      <th>programming_language</th>\n",
       "      <th>challenge_series_ID</th>\n",
       "      <th>total_submissions</th>\n",
       "      <th>...</th>\n",
       "      <th>challenge_id_diff_3</th>\n",
       "      <th>challenge_id_diff_4</th>\n",
       "      <th>challenge_id_diff_5</th>\n",
       "      <th>challenge_id_diff_6</th>\n",
       "      <th>challenge_id_diff_7</th>\n",
       "      <th>challenge_id_diff_8</th>\n",
       "      <th>challenge_id_diff_9</th>\n",
       "      <th>challenge_id_diff_10</th>\n",
       "      <th>pred</th>\n",
       "      <th>rank</th>\n",
       "    </tr>\n",
       "  </thead>\n",
       "  <tbody>\n",
       "    <tr>\n",
       "      <th>11529736</th>\n",
       "      <td>113837</td>\n",
       "      <td>CI25674</td>\n",
       "      <td>0.835756</td>\n",
       "      <td>CI24892</td>\n",
       "      <td>CI23990</td>\n",
       "      <td>CI25674</td>\n",
       "      <td>1</td>\n",
       "      <td>1</td>\n",
       "      <td>SI2599</td>\n",
       "      <td>1060.0</td>\n",
       "      <td>...</td>\n",
       "      <td>-378</td>\n",
       "      <td>808</td>\n",
       "      <td>625</td>\n",
       "      <td>-3</td>\n",
       "      <td>2</td>\n",
       "      <td>798</td>\n",
       "      <td>1535</td>\n",
       "      <td>1682</td>\n",
       "      <td>0.081976</td>\n",
       "      <td>1.0</td>\n",
       "    </tr>\n",
       "    <tr>\n",
       "      <th>11529641</th>\n",
       "      <td>113837</td>\n",
       "      <td>CI23990</td>\n",
       "      <td>0.681669</td>\n",
       "      <td>CI24892</td>\n",
       "      <td>CI23990</td>\n",
       "      <td>CI25674</td>\n",
       "      <td>1</td>\n",
       "      <td>1</td>\n",
       "      <td>SI2457</td>\n",
       "      <td>241.0</td>\n",
       "      <td>...</td>\n",
       "      <td>-2062</td>\n",
       "      <td>-876</td>\n",
       "      <td>-1059</td>\n",
       "      <td>-1687</td>\n",
       "      <td>-1682</td>\n",
       "      <td>-886</td>\n",
       "      <td>-149</td>\n",
       "      <td>-2</td>\n",
       "      <td>0.029221</td>\n",
       "      <td>2.0</td>\n",
       "    </tr>\n",
       "    <tr>\n",
       "      <th>11529846</th>\n",
       "      <td>113837</td>\n",
       "      <td>CI24953</td>\n",
       "      <td>0.509091</td>\n",
       "      <td>CI24892</td>\n",
       "      <td>CI23990</td>\n",
       "      <td>CI25674</td>\n",
       "      <td>0</td>\n",
       "      <td>1</td>\n",
       "      <td>SI2545</td>\n",
       "      <td>3341.0</td>\n",
       "      <td>...</td>\n",
       "      <td>-1099</td>\n",
       "      <td>87</td>\n",
       "      <td>-96</td>\n",
       "      <td>-724</td>\n",
       "      <td>-719</td>\n",
       "      <td>77</td>\n",
       "      <td>814</td>\n",
       "      <td>961</td>\n",
       "      <td>0.013620</td>\n",
       "      <td>3.0</td>\n",
       "    </tr>\n",
       "    <tr>\n",
       "      <th>11529117</th>\n",
       "      <td>113833</td>\n",
       "      <td>CI24436</td>\n",
       "      <td>0.846620</td>\n",
       "      <td>CI24436</td>\n",
       "      <td>CI24438</td>\n",
       "      <td>CI24445</td>\n",
       "      <td>1</td>\n",
       "      <td>1</td>\n",
       "      <td>SI2499</td>\n",
       "      <td>117.0</td>\n",
       "      <td>...</td>\n",
       "      <td>-862</td>\n",
       "      <td>-440</td>\n",
       "      <td>-1620</td>\n",
       "      <td>1</td>\n",
       "      <td>-638</td>\n",
       "      <td>-85</td>\n",
       "      <td>-10</td>\n",
       "      <td>-99</td>\n",
       "      <td>0.793916</td>\n",
       "      <td>1.0</td>\n",
       "    </tr>\n",
       "    <tr>\n",
       "      <th>11529053</th>\n",
       "      <td>113833</td>\n",
       "      <td>CI24440</td>\n",
       "      <td>0.746942</td>\n",
       "      <td>CI24436</td>\n",
       "      <td>CI24438</td>\n",
       "      <td>CI24445</td>\n",
       "      <td>0</td>\n",
       "      <td>1</td>\n",
       "      <td>SI2499</td>\n",
       "      <td>285.0</td>\n",
       "      <td>...</td>\n",
       "      <td>-858</td>\n",
       "      <td>-436</td>\n",
       "      <td>-1616</td>\n",
       "      <td>5</td>\n",
       "      <td>-634</td>\n",
       "      <td>-81</td>\n",
       "      <td>-6</td>\n",
       "      <td>-95</td>\n",
       "      <td>0.318366</td>\n",
       "      <td>2.0</td>\n",
       "    </tr>\n",
       "    <tr>\n",
       "      <th>...</th>\n",
       "      <td>...</td>\n",
       "      <td>...</td>\n",
       "      <td>...</td>\n",
       "      <td>...</td>\n",
       "      <td>...</td>\n",
       "      <td>...</td>\n",
       "      <td>...</td>\n",
       "      <td>...</td>\n",
       "      <td>...</td>\n",
       "      <td>...</td>\n",
       "      <td>...</td>\n",
       "      <td>...</td>\n",
       "      <td>...</td>\n",
       "      <td>...</td>\n",
       "      <td>...</td>\n",
       "      <td>...</td>\n",
       "      <td>...</td>\n",
       "      <td>...</td>\n",
       "      <td>...</td>\n",
       "      <td>...</td>\n",
       "      <td>...</td>\n",
       "    </tr>\n",
       "    <tr>\n",
       "      <th>1005</th>\n",
       "      <td>4593</td>\n",
       "      <td>CI26167</td>\n",
       "      <td>0.782284</td>\n",
       "      <td>CI26166</td>\n",
       "      <td>CI26167</td>\n",
       "      <td>CI26168</td>\n",
       "      <td>1</td>\n",
       "      <td>1</td>\n",
       "      <td>SI2634</td>\n",
       "      <td>773.0</td>\n",
       "      <td>...</td>\n",
       "      <td>9</td>\n",
       "      <td>8</td>\n",
       "      <td>7</td>\n",
       "      <td>6</td>\n",
       "      <td>5</td>\n",
       "      <td>3</td>\n",
       "      <td>2</td>\n",
       "      <td>4</td>\n",
       "      <td>0.250492</td>\n",
       "      <td>2.0</td>\n",
       "    </tr>\n",
       "    <tr>\n",
       "      <th>1041</th>\n",
       "      <td>4593</td>\n",
       "      <td>CI26210</td>\n",
       "      <td>0.792355</td>\n",
       "      <td>CI26166</td>\n",
       "      <td>CI26167</td>\n",
       "      <td>CI26168</td>\n",
       "      <td>0</td>\n",
       "      <td>1</td>\n",
       "      <td>SI2634</td>\n",
       "      <td>1642.0</td>\n",
       "      <td>...</td>\n",
       "      <td>52</td>\n",
       "      <td>51</td>\n",
       "      <td>50</td>\n",
       "      <td>49</td>\n",
       "      <td>48</td>\n",
       "      <td>46</td>\n",
       "      <td>45</td>\n",
       "      <td>47</td>\n",
       "      <td>0.168379</td>\n",
       "      <td>3.0</td>\n",
       "    </tr>\n",
       "    <tr>\n",
       "      <th>786</th>\n",
       "      <td>4591</td>\n",
       "      <td>CI23691</td>\n",
       "      <td>0.710761</td>\n",
       "      <td>CI24958</td>\n",
       "      <td>CI24261</td>\n",
       "      <td>CI23648</td>\n",
       "      <td>0</td>\n",
       "      <td>1</td>\n",
       "      <td>SI2469</td>\n",
       "      <td>4823.0</td>\n",
       "      <td>...</td>\n",
       "      <td>-839</td>\n",
       "      <td>28</td>\n",
       "      <td>-23</td>\n",
       "      <td>-843</td>\n",
       "      <td>-1224</td>\n",
       "      <td>-1226</td>\n",
       "      <td>-1444</td>\n",
       "      <td>-836</td>\n",
       "      <td>0.308862</td>\n",
       "      <td>1.0</td>\n",
       "    </tr>\n",
       "    <tr>\n",
       "      <th>796</th>\n",
       "      <td>4591</td>\n",
       "      <td>CI24958</td>\n",
       "      <td>0.746207</td>\n",
       "      <td>CI24958</td>\n",
       "      <td>CI24261</td>\n",
       "      <td>CI23648</td>\n",
       "      <td>1</td>\n",
       "      <td>1</td>\n",
       "      <td>SI2545</td>\n",
       "      <td>6842.0</td>\n",
       "      <td>...</td>\n",
       "      <td>428</td>\n",
       "      <td>1295</td>\n",
       "      <td>1244</td>\n",
       "      <td>424</td>\n",
       "      <td>43</td>\n",
       "      <td>41</td>\n",
       "      <td>-177</td>\n",
       "      <td>431</td>\n",
       "      <td>0.126665</td>\n",
       "      <td>2.0</td>\n",
       "    </tr>\n",
       "    <tr>\n",
       "      <th>865</th>\n",
       "      <td>4591</td>\n",
       "      <td>CI23648</td>\n",
       "      <td>0.681760</td>\n",
       "      <td>CI24958</td>\n",
       "      <td>CI24261</td>\n",
       "      <td>CI23648</td>\n",
       "      <td>1</td>\n",
       "      <td>1</td>\n",
       "      <td>SI2468</td>\n",
       "      <td>2186.0</td>\n",
       "      <td>...</td>\n",
       "      <td>-882</td>\n",
       "      <td>-15</td>\n",
       "      <td>-66</td>\n",
       "      <td>-886</td>\n",
       "      <td>-1267</td>\n",
       "      <td>-1269</td>\n",
       "      <td>-1487</td>\n",
       "      <td>-879</td>\n",
       "      <td>0.014873</td>\n",
       "      <td>3.0</td>\n",
       "    </tr>\n",
       "  </tbody>\n",
       "</table>\n",
       "<p>43596 rows × 110 columns</p>\n",
       "</div>"
      ],
      "text/plain": [
       "          user_id challenge  n2v_similarity challenge_11 challenge_12  \\\n",
       "11529736   113837   CI25674        0.835756      CI24892      CI23990   \n",
       "11529641   113837   CI23990        0.681669      CI24892      CI23990   \n",
       "11529846   113837   CI24953        0.509091      CI24892      CI23990   \n",
       "11529117   113833   CI24436        0.846620      CI24436      CI24438   \n",
       "11529053   113833   CI24440        0.746942      CI24436      CI24438   \n",
       "...           ...       ...             ...          ...          ...   \n",
       "1005         4593   CI26167        0.782284      CI26166      CI26167   \n",
       "1041         4593   CI26210        0.792355      CI26166      CI26167   \n",
       "786          4591   CI23691        0.710761      CI24958      CI24261   \n",
       "796          4591   CI24958        0.746207      CI24958      CI24261   \n",
       "865          4591   CI23648        0.681760      CI24958      CI24261   \n",
       "\n",
       "         challenge_13  target  programming_language challenge_series_ID  \\\n",
       "11529736      CI25674       1                     1              SI2599   \n",
       "11529641      CI25674       1                     1              SI2457   \n",
       "11529846      CI25674       0                     1              SI2545   \n",
       "11529117      CI24445       1                     1              SI2499   \n",
       "11529053      CI24445       0                     1              SI2499   \n",
       "...               ...     ...                   ...                 ...   \n",
       "1005          CI26168       1                     1              SI2634   \n",
       "1041          CI26168       0                     1              SI2634   \n",
       "786           CI23648       0                     1              SI2469   \n",
       "796           CI23648       1                     1              SI2545   \n",
       "865           CI23648       1                     1              SI2468   \n",
       "\n",
       "          total_submissions  ... challenge_id_diff_3 challenge_id_diff_4  \\\n",
       "11529736             1060.0  ...                -378                 808   \n",
       "11529641              241.0  ...               -2062                -876   \n",
       "11529846             3341.0  ...               -1099                  87   \n",
       "11529117              117.0  ...                -862                -440   \n",
       "11529053              285.0  ...                -858                -436   \n",
       "...                     ...  ...                 ...                 ...   \n",
       "1005                  773.0  ...                   9                   8   \n",
       "1041                 1642.0  ...                  52                  51   \n",
       "786                  4823.0  ...                -839                  28   \n",
       "796                  6842.0  ...                 428                1295   \n",
       "865                  2186.0  ...                -882                 -15   \n",
       "\n",
       "         challenge_id_diff_5 challenge_id_diff_6  challenge_id_diff_7  \\\n",
       "11529736                 625                  -3                    2   \n",
       "11529641               -1059               -1687                -1682   \n",
       "11529846                 -96                -724                 -719   \n",
       "11529117               -1620                   1                 -638   \n",
       "11529053               -1616                   5                 -634   \n",
       "...                      ...                 ...                  ...   \n",
       "1005                       7                   6                    5   \n",
       "1041                      50                  49                   48   \n",
       "786                      -23                -843                -1224   \n",
       "796                     1244                 424                   43   \n",
       "865                      -66                -886                -1267   \n",
       "\n",
       "          challenge_id_diff_8  challenge_id_diff_9  challenge_id_diff_10  \\\n",
       "11529736                  798                 1535                  1682   \n",
       "11529641                 -886                 -149                    -2   \n",
       "11529846                   77                  814                   961   \n",
       "11529117                  -85                  -10                   -99   \n",
       "11529053                  -81                   -6                   -95   \n",
       "...                       ...                  ...                   ...   \n",
       "1005                        3                    2                     4   \n",
       "1041                       46                   45                    47   \n",
       "786                     -1226                -1444                  -836   \n",
       "796                        41                 -177                   431   \n",
       "865                     -1269                -1487                  -879   \n",
       "\n",
       "              pred  rank  \n",
       "11529736  0.081976   1.0  \n",
       "11529641  0.029221   2.0  \n",
       "11529846  0.013620   3.0  \n",
       "11529117  0.793916   1.0  \n",
       "11529053  0.318366   2.0  \n",
       "...            ...   ...  \n",
       "1005      0.250492   2.0  \n",
       "1041      0.168379   3.0  \n",
       "786       0.308862   1.0  \n",
       "796       0.126665   2.0  \n",
       "865       0.014873   3.0  \n",
       "\n",
       "[43596 rows x 110 columns]"
      ]
     },
     "execution_count": 64,
     "metadata": {},
     "output_type": "execute_result"
    }
   ],
   "source": [
    "val1['rank'] = val1.groupby('user_id').pred.rank(ascending = False, method = 'first')\n",
    "val1 = val1.sort_values(by = ['user_id', 'pred'], ascending = False)\n",
    "val1"
   ]
  },
  {
   "cell_type": "code",
   "execution_count": 65,
   "metadata": {},
   "outputs": [
    {
     "data": {
      "text/plain": [
       "0.16887634951219233"
      ]
     },
     "execution_count": 65,
     "metadata": {},
     "output_type": "execute_result"
    }
   ],
   "source": [
    "val1['precision'] = ((val1['rank'] == 1) & (val1.challenge_11 == val1.challenge)) | ((val1['rank'] ==  2) & \n",
    "                                    (val1.challenge_12 == val1.challenge)) | ((val1['rank'] == 3) & (val1.challenge_13 == val1.challenge))\n",
    "val1['precision'] = val1[['user_id', 'precision']].groupby('user_id').cumsum()\n",
    "val1['precision'] = val1['precision'] / val1['rank']\n",
    "val1[['user_id', 'precision']].groupby('user_id').mean().precision.mean()"
   ]
  },
  {
   "cell_type": "code",
   "execution_count": 66,
   "metadata": {},
   "outputs": [
    {
     "data": {
      "text/plain": [
       "0.3771599840964055"
      ]
     },
     "execution_count": 66,
     "metadata": {},
     "output_type": "execute_result"
    }
   ],
   "source": [
    "val1['precision'] = ((val1['rank'] == 1) & (val1.target == 1)) | ((val1['rank'] ==  2) & \n",
    "                                    (val1.target == 1)) | ((val1['rank'] == 3) & (val1.target == 1))\n",
    "val1['precision'] = val1[['user_id', 'precision']].groupby('user_id').cumsum()\n",
    "val1['precision'] = val1['precision'] / val1['rank']\n",
    "val1[['user_id', 'precision']].groupby('user_id').mean().precision.mean()"
   ]
  },
  {
   "cell_type": "code",
   "execution_count": 67,
   "metadata": {},
   "outputs": [
    {
     "data": {
      "text/plain": [
       "0.4233759977979519"
      ]
     },
     "execution_count": 67,
     "metadata": {},
     "output_type": "execute_result"
    }
   ],
   "source": [
    "## theoretical maximum\n",
    "\n",
    "val1['rank'] = val1.groupby('user_id').target.rank(ascending = False, method = 'first')\n",
    "# val1 = val1.sort_values(by = ['user_id', 'pred'], ascending = False)\n",
    "\n",
    "val1['precision'] = ((val1['rank'] == 1) & (val1.target == 1)) | ((val1['rank'] ==  2) & \n",
    "                                    (val1.target == 1)) | ((val1['rank'] == 3) & (val1.target == 1))\n",
    "val1['precision'] = val1[['user_id', 'precision']].groupby('user_id').cumsum()\n",
    "val1['precision'] = val1['precision'] / val1['rank']\n",
    "val1[['user_id', 'precision']].groupby('user_id').mean().precision.mean()"
   ]
  },
  {
   "cell_type": "code",
   "execution_count": 68,
   "metadata": {},
   "outputs": [
    {
     "data": {
      "text/plain": [
       "0.8754358197999633"
      ]
     },
     "execution_count": 68,
     "metadata": {},
     "output_type": "execute_result"
    }
   ],
   "source": [
    "## theoretical maximum\n",
    "val1 = val.sort_values(by = 'target', ascending = False).groupby('user_id').head(3)\n",
    "val1['rank'] = val1.groupby('user_id').target.rank(ascending = False, method = 'first')\n",
    "# val1 = val1.sort_values(by = ['user_id', 'pred'], ascending = False)\n",
    "\n",
    "val1['precision'] = ((val1['rank'] == 1) & (val1.target == 1)) | ((val1['rank'] ==  2) & \n",
    "                                    (val1.target == 1)) | ((val1['rank'] == 3) & (val1.target == 1))\n",
    "val1['precision'] = val1[['user_id', 'precision']].groupby('user_id').cumsum()\n",
    "val1['precision'] = val1['precision'] / val1['rank']\n",
    "val1[['user_id', 'precision']].groupby('user_id').mean().precision.mean()"
   ]
  },
  {
   "cell_type": "code",
   "execution_count": 69,
   "metadata": {},
   "outputs": [
    {
     "data": {
      "text/plain": [
       "36"
      ]
     },
     "execution_count": 69,
     "metadata": {},
     "output_type": "execute_result"
    }
   ],
   "source": [
    "del dev\n",
    "del val\n",
    "gc.collect()"
   ]
  },
  {
   "cell_type": "code",
   "execution_count": 70,
   "metadata": {},
   "outputs": [
    {
     "name": "stdout",
     "output_type": "stream",
     "text": [
      "CPU times: user 16h 58min 52s, sys: 2h 23min 22s, total: 19h 22min 15s\n",
      "Wall time: 1h 15min 43s\n"
     ]
    }
   ],
   "source": [
    "%%time\n",
    "lgb_train = lgb.Dataset(train1[indep_vars], train1['target'])\n",
    "model = lgb.train(params, lgb_train, num_boost_round = 3000)\n",
    "pred = model.predict(test1[indep_vars])\n",
    "test1['pred'] = pred"
   ]
  },
  {
   "cell_type": "code",
   "execution_count": 71,
   "metadata": {},
   "outputs": [],
   "source": [
    "test2 = test1.sort_values(by = 'pred', ascending = False).groupby('user_id').head(3)"
   ]
  },
  {
   "cell_type": "code",
   "execution_count": 72,
   "metadata": {},
   "outputs": [],
   "source": [
    "test2['rank'] = test2.groupby('user_id').pred.rank(ascending = False, method = 'first')\n",
    "test2 = test2.sort_values(by = ['user_id', 'pred'], ascending = False)\n",
    "test2['user_sequence'] = test2.user_id.astype(str) + \"_1\" + test2['rank'].astype(int).astype(str)\n",
    "test2[['user_sequence', 'challenge']].to_csv(\"./submission.csv\", index = False)"
   ]
  },
  {
   "cell_type": "code",
   "execution_count": null,
   "metadata": {},
   "outputs": [],
   "source": []
  }
 ],
 "metadata": {
  "kernelspec": {
   "display_name": "Python 3",
   "language": "python",
   "name": "python3"
  },
  "language_info": {
   "codemirror_mode": {
    "name": "ipython",
    "version": 3
   },
   "file_extension": ".py",
   "mimetype": "text/x-python",
   "name": "python",
   "nbconvert_exporter": "python",
   "pygments_lexer": "ipython3",
   "version": "3.7.6"
  }
 },
 "nbformat": 4,
 "nbformat_minor": 4
}
