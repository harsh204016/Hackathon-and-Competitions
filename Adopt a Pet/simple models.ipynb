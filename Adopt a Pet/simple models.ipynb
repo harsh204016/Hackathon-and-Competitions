{
 "cells": [
  {
   "cell_type": "code",
   "execution_count": 1,
   "metadata": {},
   "outputs": [
    {
     "name": "stderr",
     "output_type": "stream",
     "text": [
      "C:\\Users\\DELL\\Miniconda3\\lib\\site-packages\\dask\\dataframe\\utils.py:13: FutureWarning: pandas.util.testing is deprecated. Use the functions in the public API at pandas.testing instead.\n",
      "  import pandas.util.testing as tm\n"
     ]
    }
   ],
   "source": [
    "import os\n",
    "import pandas as pd\n",
    "import numpy as np\n",
    "from scipy import sparse\n",
    "\n",
    "import xgboost as xg\n",
    "import lightgbm as lg\n",
    "from sklearn.ensemble import RandomForestClassifier\n",
    "\n",
    "from sklearn import model_selection\n",
    "from sklearn.preprocessing import LabelEncoder , OneHotEncoder\n",
    "from sklearn.metrics import f1_score\n",
    "import random\n",
    "\n",
    "import warnings\n",
    "warnings.filterwarnings('ignore')"
   ]
  },
  {
   "cell_type": "code",
   "execution_count": 2,
   "metadata": {},
   "outputs": [],
   "source": [
    "os.environ['PYTHONHASHSEED']=str(2020)\n",
    "np.random.seed(2020)\n",
    "random.seed(2020)"
   ]
  },
  {
   "cell_type": "code",
   "execution_count": 3,
   "metadata": {},
   "outputs": [],
   "source": [
    "def acc(ypred1,ypred2,ytest1,ytest2):\n",
    "    f1 = f1_score(ypred1,ytest1,average='weighted')\n",
    "    f2 = f1_score(ypred2,ytest2,average='weighted')\n",
    "    s=(f1+f2)/2\n",
    "    print(s)"
   ]
  },
  {
   "cell_type": "code",
   "execution_count": 4,
   "metadata": {},
   "outputs": [
    {
     "data": {
      "text/plain": [
       "((18834, 11), (8072, 9))"
      ]
     },
     "execution_count": 4,
     "metadata": {},
     "output_type": "execute_result"
    }
   ],
   "source": [
    "train = pd.read_csv('train.csv',parse_dates=['issue_date','listing_date'])\n",
    "test = pd.read_csv('test.csv',parse_dates=['issue_date','listing_date'])\n",
    "train.shape , test.shape"
   ]
  },
  {
   "cell_type": "code",
   "execution_count": 5,
   "metadata": {},
   "outputs": [
    {
     "data": {
      "text/plain": [
       "1.0    6819\n",
       "0.0    6281\n",
       "2.0    4257\n",
       "NaN    1477\n",
       "Name: condition, dtype: int64"
      ]
     },
     "execution_count": 5,
     "metadata": {},
     "output_type": "execute_result"
    }
   ],
   "source": [
    "train.condition.value_counts(dropna=False)"
   ]
  },
  {
   "cell_type": "code",
   "execution_count": 13,
   "metadata": {},
   "outputs": [
    {
     "data": {
      "text/plain": [
       "(26906, 14)"
      ]
     },
     "execution_count": 13,
     "metadata": {},
     "output_type": "execute_result"
    }
   ],
   "source": [
    "#train = train.sample(frac=1).reset_index(drop=True)\n",
    "\n",
    "#combining train and test data\n",
    "all_data = train.append(test)\n",
    "\n",
    "#filling the missing the value of condition\n",
    "all_data.fillna(3,inplace=True)\n",
    "\n",
    "all_data[]\n",
    "\n",
    "all_data['no_of_days'] =abs((all_data['issue_date'] - all_data['listing_date']).dt.days)\n",
    "all_data['area'] = all_data['height(cm)'] * all_data['length(m)']*100\n",
    "\n",
    "all_data['X1X2'] = (all_data['X1'].astype(str)+'_'+ all_data['X2'].astype(str))\n",
    "\n",
    "all_data['count'] = all_data.groupby([\"color_type\"])[\"pet_id\"].transform('count')\n",
    "\n",
    "all_data.drop(['pet_id'],inplace=True,axis=1)\n",
    "all_data.shape"
   ]
  },
  {
   "cell_type": "code",
   "execution_count": 172,
   "metadata": {},
   "outputs": [
    {
     "data": {
      "text/html": [
       "<div>\n",
       "<style scoped>\n",
       "    .dataframe tbody tr th:only-of-type {\n",
       "        vertical-align: middle;\n",
       "    }\n",
       "\n",
       "    .dataframe tbody tr th {\n",
       "        vertical-align: top;\n",
       "    }\n",
       "\n",
       "    .dataframe thead th {\n",
       "        text-align: right;\n",
       "    }\n",
       "</style>\n",
       "<table border=\"1\" class=\"dataframe\">\n",
       "  <thead>\n",
       "    <tr style=\"text-align: right;\">\n",
       "      <th></th>\n",
       "      <th>issue_date</th>\n",
       "      <th>listing_date</th>\n",
       "      <th>condition</th>\n",
       "      <th>color_type</th>\n",
       "      <th>length(m)</th>\n",
       "      <th>height(cm)</th>\n",
       "      <th>X1</th>\n",
       "      <th>X2</th>\n",
       "      <th>breed_category</th>\n",
       "      <th>pet_category</th>\n",
       "      <th>count</th>\n",
       "      <th>no_of_days</th>\n",
       "      <th>area</th>\n",
       "      <th>X1X2</th>\n",
       "    </tr>\n",
       "  </thead>\n",
       "  <tbody>\n",
       "    <tr>\n",
       "      <th>0</th>\n",
       "      <td>2010-06-21</td>\n",
       "      <td>2017-12-14 12:52:00</td>\n",
       "      <td>0.0</td>\n",
       "      <td>Black</td>\n",
       "      <td>0.31</td>\n",
       "      <td>10.28</td>\n",
       "      <td>7</td>\n",
       "      <td>1</td>\n",
       "      <td>1.0</td>\n",
       "      <td>2.0</td>\n",
       "      <td>4620.0</td>\n",
       "      <td>2734</td>\n",
       "      <td>318.68</td>\n",
       "      <td>7_1</td>\n",
       "    </tr>\n",
       "    <tr>\n",
       "      <th>1</th>\n",
       "      <td>2014-12-20</td>\n",
       "      <td>2017-12-16 00:00:00</td>\n",
       "      <td>0.0</td>\n",
       "      <td>Fawn</td>\n",
       "      <td>0.58</td>\n",
       "      <td>45.30</td>\n",
       "      <td>13</td>\n",
       "      <td>9</td>\n",
       "      <td>1.0</td>\n",
       "      <td>2.0</td>\n",
       "      <td>159.0</td>\n",
       "      <td>1092</td>\n",
       "      <td>2627.40</td>\n",
       "      <td>13_9</td>\n",
       "    </tr>\n",
       "    <tr>\n",
       "      <th>2</th>\n",
       "      <td>2017-12-23</td>\n",
       "      <td>2019-01-20 00:00:00</td>\n",
       "      <td>2.0</td>\n",
       "      <td>Gray Tabby</td>\n",
       "      <td>0.39</td>\n",
       "      <td>29.15</td>\n",
       "      <td>13</td>\n",
       "      <td>9</td>\n",
       "      <td>1.0</td>\n",
       "      <td>1.0</td>\n",
       "      <td>65.0</td>\n",
       "      <td>393</td>\n",
       "      <td>1136.85</td>\n",
       "      <td>13_9</td>\n",
       "    </tr>\n",
       "  </tbody>\n",
       "</table>\n",
       "</div>"
      ],
      "text/plain": [
       "  issue_date        listing_date  condition  color_type  length(m)  \\\n",
       "0 2010-06-21 2017-12-14 12:52:00        0.0       Black       0.31   \n",
       "1 2014-12-20 2017-12-16 00:00:00        0.0        Fawn       0.58   \n",
       "2 2017-12-23 2019-01-20 00:00:00        2.0  Gray Tabby       0.39   \n",
       "\n",
       "   height(cm)  X1  X2  breed_category  pet_category   count  no_of_days  \\\n",
       "0       10.28   7   1             1.0           2.0  4620.0        2734   \n",
       "1       45.30  13   9             1.0           2.0   159.0        1092   \n",
       "2       29.15  13   9             1.0           1.0    65.0         393   \n",
       "\n",
       "      area  X1X2  \n",
       "0   318.68   7_1  \n",
       "1  2627.40  13_9  \n",
       "2  1136.85  13_9  "
      ]
     },
     "execution_count": 172,
     "metadata": {},
     "output_type": "execute_result"
    }
   ],
   "source": [
    "all_data.head(3)"
   ]
  },
  {
   "cell_type": "code",
   "execution_count": 7,
   "metadata": {},
   "outputs": [
    {
     "name": "stdout",
     "output_type": "stream",
     "text": [
      "categorical values ['color_type', 'X1X2']\n"
     ]
    },
    {
     "data": {
      "text/plain": [
       "(26906, 68)"
      ]
     },
     "execution_count": 7,
     "metadata": {},
     "output_type": "execute_result"
    }
   ],
   "source": [
    "cat = list(all_data.select_dtypes('object'))\n",
    "print('categorical values',cat)\n",
    "for i in cat:\n",
    "    l = LabelEncoder()\n",
    "    all_data[i]= l.fit_transform(all_data[i])\n",
    "    \n",
    "all_data = pd.get_dummies(all_data,columns=['color_type',#'id_bins', \n",
    "                                   #'height_bin'\n",
    "                                  ],drop_first=True)\n",
    "\n",
    "#categorical = pd.get_dummies(categorical,drop_first=True)\n",
    "#categorical =  sparse.csr_matrix(categorical)\n",
    "all_data.shape"
   ]
  },
  {
   "cell_type": "code",
   "execution_count": 11,
   "metadata": {},
   "outputs": [
    {
     "data": {
      "text/plain": [
       "Black                4620\n",
       "White                2453\n",
       "Brown                1791\n",
       "Brown Tabby          1687\n",
       "Tan                  1349\n",
       "Blue                  852\n",
       "Orange Tabby          791\n",
       "Red                   526\n",
       "Brown Brindle         496\n",
       "Tricolor              469\n",
       "Blue Tabby            386\n",
       "Tortie                366\n",
       "Calico                343\n",
       "Gray                  307\n",
       "Chocolate             259\n",
       "Torbie                242\n",
       "Cream Tabby           191\n",
       "Sable                 167\n",
       "Cream                 162\n",
       "Fawn                  159\n",
       "Yellow                143\n",
       "Buff                  125\n",
       "Lynx Point            117\n",
       "Blue Merle            104\n",
       "Seal Point             78\n",
       "Black Brindle          66\n",
       "Gray Tabby             65\n",
       "Black Tabby            55\n",
       "Flame Point            52\n",
       "Brown Merle            39\n",
       "Orange                 39\n",
       "Black Smoke            32\n",
       "Gold                   31\n",
       "Tortie Point           26\n",
       "Silver                 24\n",
       "Red Tick               23\n",
       "Blue Tick              21\n",
       "Blue Point             20\n",
       "Lilac Point            19\n",
       "Silver Tabby           18\n",
       "Yellow Brindle         15\n",
       "Red Merle              13\n",
       "Apricot                13\n",
       "Calico Point           12\n",
       "Blue Tiger             10\n",
       "Blue Cream             10\n",
       "Chocolate Point         9\n",
       "Pink                    8\n",
       "Green                   8\n",
       "Blue Smoke              6\n",
       "Agouti                  4\n",
       "Silver Lynx Point       4\n",
       "Brown Tiger             4\n",
       "Liver                   3\n",
       "Black Tiger             1\n",
       "Liver Tick              1\n",
       "Name: color_type, dtype: int64"
      ]
     },
     "execution_count": 11,
     "metadata": {},
     "output_type": "execute_result"
    }
   ],
   "source": [
    "#train.color_type.value_counts()\n",
    "\n",
    "train.color_type.value_counts()"
   ]
  },
  {
   "cell_type": "code",
   "execution_count": 176,
   "metadata": {},
   "outputs": [
    {
     "ename": "SyntaxError",
     "evalue": "invalid syntax (<ipython-input-176-1eef4e98b7cb>, line 1)",
     "output_type": "error",
     "traceback": [
      "\u001b[1;36m  File \u001b[1;32m\"<ipython-input-176-1eef4e98b7cb>\"\u001b[1;36m, line \u001b[1;32m1\u001b[0m\n\u001b[1;33m    train.head()`\u001b[0m\n\u001b[1;37m                ^\u001b[0m\n\u001b[1;31mSyntaxError\u001b[0m\u001b[1;31m:\u001b[0m invalid syntax\n"
     ]
    }
   ],
   "source": [
    "train.head()`"
   ]
  },
  {
   "cell_type": "code",
   "execution_count": 177,
   "metadata": {},
   "outputs": [],
   "source": [
    "y1 = train[['breed_category']]\n",
    "y2 = train[['pet_category']]\n",
    "drop1 = ['breed_category','pet_category',\n",
    "        'issue_date', 'listing_date'\n",
    "       ]\n",
    "drop2 = ['pet_category',\n",
    "        'issue_date', 'listing_date']\n",
    "all1 = all_data.drop(drop1,axis=1)\n",
    "all2 = all_data.drop(drop2,axis=1)\n",
    "test_pet_id = test['pet_id']\n",
    "cols1= list(all1.columns)\n",
    "cols2 = list(all2.columns)"
   ]
  },
  {
   "cell_type": "code",
   "execution_count": 178,
   "metadata": {},
   "outputs": [
    {
     "data": {
      "text/plain": [
       "(18834, 12)"
      ]
     },
     "execution_count": 178,
     "metadata": {},
     "output_type": "execute_result"
    }
   ],
   "source": [
    "train.shape"
   ]
  },
  {
   "cell_type": "code",
   "execution_count": 179,
   "metadata": {},
   "outputs": [
    {
     "data": {
      "text/plain": [
       "((18834, 64), (8072, 64), (18834, 65), (8072, 65))"
      ]
     },
     "execution_count": 179,
     "metadata": {},
     "output_type": "execute_result"
    }
   ],
   "source": [
    "train1 = all1.iloc[:train.shape[0],:]\n",
    "test1 = all1.iloc[train.shape[0]:,:]\n",
    "train2 = all2.iloc[:train.shape[0],:]\n",
    "test2 = all2.iloc[train.shape[0]:,:]\n",
    "train1.shape , test1.shape , train2.shape , test2.shape"
   ]
  },
  {
   "cell_type": "code",
   "execution_count": 180,
   "metadata": {},
   "outputs": [
    {
     "name": "stdout",
     "output_type": "stream",
     "text": [
      "training data (15067, 64) (15067, 1)\n",
      "validation data  (3767, 64) (3767, 1)\n"
     ]
    }
   ],
   "source": [
    "\n",
    "xtrain1 , xtest1 , ytrain1 , ytest1 = model_selection.train_test_split(train1,y1,\n",
    "                                                                   random_state=2020,test_size=0.2)\n",
    "\n",
    "xtrain2 , xtest2 , ytrain2 , ytest2 = model_selection.train_test_split(train2,y2,\n",
    "                                                                   random_state=2020,test_size=0.2)\n",
    "\n",
    "print('training data', xtrain1.shape,ytrain1.shape)\n",
    "print('validation data ',xtest1.shape,ytest1.shape)"
   ]
  },
  {
   "cell_type": "code",
   "execution_count": 181,
   "metadata": {},
   "outputs": [
    {
     "name": "stdout",
     "output_type": "stream",
     "text": [
      "0.9046754331004385\n"
     ]
    }
   ],
   "source": [
    "xgb = xg.XGBClassifier(random_state=2020)\n",
    "xgb.fit(xtrain1,ytrain1)\n",
    "ypred1 = xgb.predict(xtest1)\n",
    "y1 = xgb.predict(test1)\n",
    "xgb = xg.XGBClassifier(random_state=2020)\n",
    "xgb.fit(xtrain2,ytrain2)\n",
    "ypred2 = xgb.predict(xtest2)\n",
    "test2['breed_category'] = y1\n",
    "y2 = xgb.predict(test2)\n",
    "\n",
    "acc(ypred1,ypred2,ytest1,ytest2)"
   ]
  },
  {
   "cell_type": "code",
   "execution_count": 182,
   "metadata": {},
   "outputs": [
    {
     "data": {
      "text/plain": [
       "array([2, 1, 2, ..., 2, 4, 1], dtype=int64)"
      ]
     },
     "execution_count": 182,
     "metadata": {},
     "output_type": "execute_result"
    }
   ],
   "source": [
    "y2"
   ]
  },
  {
   "cell_type": "code",
   "execution_count": 183,
   "metadata": {},
   "outputs": [],
   "source": [
    "df = pd.DataFrame({\n",
    "    'pet_id':test_pet_id,\n",
    "    'breed_category':y1,\n",
    "    'pet_category':y2})\n",
    "df.to_csv('submission.csv',index=False)"
   ]
  },
  {
   "cell_type": "code",
   "execution_count": 184,
   "metadata": {},
   "outputs": [
    {
     "name": "stdout",
     "output_type": "stream",
     "text": [
      "0.9040418379244479\n"
     ]
    }
   ],
   "source": [
    "lgb = lg.LGBMClassifier(random_state=2020)\n",
    "lgb.fit(xtrain1,ytrain1)\n",
    "ypred1 = lgb.predict(xtest1)\n",
    "y11 = lgb.predict(test1)\n",
    "lgb = lg.LGBMClassifier(random_state=2020)\n",
    "lgb.fit(xtrain2,ytrain2)\n",
    "ypred2 = lgb.predict(xtest2)\n",
    "test2['breed_category'] =y11\n",
    "y22 = lgb.predict(test2)\n",
    "acc(ypred1,ypred2,ytest1,ytest2)"
   ]
  },
  {
   "cell_type": "code",
   "execution_count": 146,
   "metadata": {},
   "outputs": [],
   "source": [
    "df = pd.DataFrame({\n",
    "    'pet_id':test_pet_id,\n",
    "    'breed_category':y11,\n",
    "    'pet_category':y22})\n",
    "df.to_csv('submission.csv',index=False)"
   ]
  },
  {
   "cell_type": "code",
   "execution_count": null,
   "metadata": {},
   "outputs": [],
   "source": []
  }
 ],
 "metadata": {
  "kernelspec": {
   "display_name": "Python 3",
   "language": "python",
   "name": "python3"
  },
  "language_info": {
   "codemirror_mode": {
    "name": "ipython",
    "version": 3
   },
   "file_extension": ".py",
   "mimetype": "text/x-python",
   "name": "python",
   "nbconvert_exporter": "python",
   "pygments_lexer": "ipython3",
   "version": "3.6.5"
  }
 },
 "nbformat": 4,
 "nbformat_minor": 2
}
