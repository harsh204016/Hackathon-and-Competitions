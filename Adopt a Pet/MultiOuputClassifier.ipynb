{
 "cells": [
  {
   "cell_type": "code",
   "execution_count": 1,
   "metadata": {},
   "outputs": [],
   "source": [
    "import pandas as pd\n",
    "import numpy as np\n",
    "from sklearn import model_selection\n",
    "from sklearn.preprocessing import LabelEncoder , OneHotEncoder\n",
    "from sklearn.metrics import f1_score\n",
    "import random\n",
    "random.seed(2020)\n",
    "\n",
    "import warnings\n",
    "warnings.filterwarnings('ignore')"
   ]
  },
  {
   "cell_type": "code",
   "execution_count": 2,
   "metadata": {},
   "outputs": [],
   "source": [
    "#get some with pet_id\n",
    "def id_bins(s):\n",
    "    if s['pet_id'] <= 63355:\n",
    "        return 'OLD'\n",
    "    if s['pet_id'] <= 70150:\n",
    "        return 'MID'\n",
    "    else:\n",
    "        return 'NEW'\n",
    "\n",
    "def height_bins(s):\n",
    "    \n",
    "    if s['height(cm)'] <=27.36:\n",
    "        return 'SHORT'\n",
    "    else:\n",
    "        return 'TALL'"
   ]
  },
  {
   "cell_type": "code",
   "execution_count": 3,
   "metadata": {},
   "outputs": [],
   "source": [
    "def accuracy(y1,y2):\n",
    "    f1 = f1_score(y1[:,[0]],y2.iloc[:,0],average='weighted')\n",
    "    f2 = f1_score(y1[:,[1]],y2.iloc[:,1],average='weighted')\n",
    "    s=(f1+f2)/2\n",
    "    print('accuracy',s)"
   ]
  },
  {
   "cell_type": "code",
   "execution_count": 4,
   "metadata": {},
   "outputs": [
    {
     "data": {
      "text/plain": [
       "((18834, 11), (8072, 9))"
      ]
     },
     "execution_count": 4,
     "metadata": {},
     "output_type": "execute_result"
    }
   ],
   "source": [
    "train = pd.read_csv('train.csv',parse_dates=['issue_date','listing_date'])\n",
    "test = pd.read_csv('test.csv',parse_dates=['issue_date','listing_date'])\n",
    "train.shape , test.shape"
   ]
  },
  {
   "cell_type": "code",
   "execution_count": 5,
   "metadata": {},
   "outputs": [],
   "source": [
    "#shuffling the training dataset\n",
    "train = train.sample(frac=1).reset_index(drop=True)\n",
    "\n",
    "#combining train and test data\n",
    "all_data = train.append(test)\n",
    "\n",
    "#filling the missing the value of condition\n",
    "all_data.fillna(3,inplace=True)\n"
   ]
  },
  {
   "cell_type": "code",
   "execution_count": 6,
   "metadata": {},
   "outputs": [],
   "source": [
    "#new features with X1 and X2 \n",
    "#all_data['ADD_X1X2'] = all_data['X1'] + all_data['X2']\n",
    "#all_data['SUB_X1X2'] = all_data['X1'] - all_data['X2']\n",
    "#all_data['MUL_X1X2'] = all_data['X1'] * all_data['X2']\n",
    "\n",
    "#\n",
    "\n",
    "all_data['no_of_days'] =abs((all_data['issue_date'] - all_data['listing_date']).dt.days)\n",
    "all_data['area'] = all_data['height(cm)'] * all_data['length(m)']*100"
   ]
  },
  {
   "cell_type": "code",
   "execution_count": 132,
   "metadata": {},
   "outputs": [],
   "source": [
    "#dates features\n",
    "all_data['listing_day'] = all_data['listing_date'].dt.day\n",
    "all_data['listing_month'] = all_data['listing_date'].dt.month\n",
    "all_data['listing_dayofweek'] = all_data['listing_date'].dt.dayofweek\n",
    "all_data['listing_weekday'] = all_data['listing_date'].dt.weekday\n",
    "all_data['listing_hour'] = all_data['listing_date'].dt.hour\n",
    "all_data['issue_day'] = all_data['issue_date'].dt.day\n",
    "all_data['issue_month'] = all_data['listing_date'].dt.month\n",
    "all_data['issue_dayofweek'] = all_data['listing_date'].dt.dayofweek\n",
    "all_data['issue_weekday'] = all_data['listing_date'].dt.weekday\n",
    "all_data['issue_hour'] = all_data['listing_date'].dt.hour"
   ]
  },
  {
   "cell_type": "code",
   "execution_count": 133,
   "metadata": {},
   "outputs": [],
   "source": [
    "#all_data['id_bins'] = all_data.apply(id_bins,axis=1)    \n",
    "#all_data['height_bin'] = all_data.apply(height_bins,axis=1)\n",
    "\n",
    "all_data['pet_id'] = all_data['pet_id'].apply(lambda x: int(x.split('_')[1]))"
   ]
  },
  {
   "cell_type": "code",
   "execution_count": 7,
   "metadata": {},
   "outputs": [
    {
     "name": "stdout",
     "output_type": "stream",
     "text": [
      "categorical values ['pet_id', 'color_type']\n"
     ]
    },
    {
     "data": {
      "text/plain": [
       "(26906, 67)"
      ]
     },
     "execution_count": 7,
     "metadata": {},
     "output_type": "execute_result"
    }
   ],
   "source": [
    "cat = list(all_data.select_dtypes('object'))\n",
    "print('categorical values',cat)\n",
    "for i in cat:\n",
    "    l = LabelEncoder()\n",
    "    l.fit(all_data[i])\n",
    "    all_data[i]= l.transform(all_data[i])\n",
    "    \n",
    "all_data = pd.get_dummies(all_data,\n",
    "                          columns=['color_type',#'id_bins', \n",
    "                                   #'height_bin'\n",
    "                                  ],\n",
    "                          drop_first=True)\n",
    "all_data.shape"
   ]
  },
  {
   "cell_type": "code",
   "execution_count": 8,
   "metadata": {},
   "outputs": [
    {
     "data": {
      "text/plain": [
       "Black                4620\n",
       "White                2453\n",
       "Brown                1791\n",
       "Brown Tabby          1687\n",
       "Tan                  1349\n",
       "Blue                  852\n",
       "Orange Tabby          791\n",
       "Red                   526\n",
       "Brown Brindle         496\n",
       "Tricolor              469\n",
       "Blue Tabby            386\n",
       "Tortie                366\n",
       "Calico                343\n",
       "Gray                  307\n",
       "Chocolate             259\n",
       "Torbie                242\n",
       "Cream Tabby           191\n",
       "Sable                 167\n",
       "Cream                 162\n",
       "Fawn                  159\n",
       "Yellow                143\n",
       "Buff                  125\n",
       "Lynx Point            117\n",
       "Blue Merle            104\n",
       "Seal Point             78\n",
       "Black Brindle          66\n",
       "Gray Tabby             65\n",
       "Black Tabby            55\n",
       "Flame Point            52\n",
       "Brown Merle            39\n",
       "Orange                 39\n",
       "Black Smoke            32\n",
       "Gold                   31\n",
       "Tortie Point           26\n",
       "Silver                 24\n",
       "Red Tick               23\n",
       "Blue Tick              21\n",
       "Blue Point             20\n",
       "Lilac Point            19\n",
       "Silver Tabby           18\n",
       "Yellow Brindle         15\n",
       "Apricot                13\n",
       "Red Merle              13\n",
       "Calico Point           12\n",
       "Blue Cream             10\n",
       "Blue Tiger             10\n",
       "Chocolate Point         9\n",
       "Green                   8\n",
       "Pink                    8\n",
       "Blue Smoke              6\n",
       "Silver Lynx Point       4\n",
       "Agouti                  4\n",
       "Brown Tiger             4\n",
       "Liver                   3\n",
       "Black Tiger             1\n",
       "Liver Tick              1\n",
       "Name: color_type, dtype: int64"
      ]
     },
     "execution_count": 8,
     "metadata": {},
     "output_type": "execute_result"
    }
   ],
   "source": [
    "train.color_type.value_counts()"
   ]
  },
  {
   "cell_type": "code",
   "execution_count": 9,
   "metadata": {},
   "outputs": [],
   "source": [
    "y = train[['breed_category','pet_category']]\n",
    "drop = ['breed_category','pet_category','pet_id',\n",
    "        'issue_date', 'listing_date'\n",
    "       ]\n",
    "all_data.drop(drop,axis=1,inplace=True)\n",
    "test_pet_id = test['pet_id']\n",
    "cols= list(all_data.columns)"
   ]
  },
  {
   "cell_type": "code",
   "execution_count": 10,
   "metadata": {},
   "outputs": [
    {
     "data": {
      "text/plain": [
       "((18834, 62), (8072, 62))"
      ]
     },
     "execution_count": 10,
     "metadata": {},
     "output_type": "execute_result"
    }
   ],
   "source": [
    "train = all_data.iloc[:train.shape[0],:]\n",
    "test = all_data.iloc[train.shape[0]:,:]\n",
    "train.shape , test.shape"
   ]
  },
  {
   "cell_type": "code",
   "execution_count": 14,
   "metadata": {},
   "outputs": [
    {
     "name": "stdout",
     "output_type": "stream",
     "text": [
      "training data (15067, 62) (15067, 2)\n",
      "validation data  (3767, 62) (3767, 2)\n"
     ]
    }
   ],
   "source": [
    "X = train[cols]\n",
    "xtrain , xtest , ytrain , ytest = model_selection.train_test_split(X,y,\n",
    "                                                                   random_state=2020,test_size=0.2)\n",
    "print('training data', xtrain.shape,ytrain.shape)\n",
    "print('validation data ',xtest.shape,ytest.shape)"
   ]
  },
  {
   "cell_type": "code",
   "execution_count": 15,
   "metadata": {},
   "outputs": [
    {
     "name": "stdout",
     "output_type": "stream",
     "text": [
      "accuracy 0.5817795349995412\n"
     ]
    },
    {
     "data": {
      "text/plain": [
       "(None, 0.4633968275038163, 0.3342182107778073)"
      ]
     },
     "execution_count": 15,
     "metadata": {},
     "output_type": "execute_result"
    }
   ],
   "source": [
    "from sklearn.multioutput import MultiOutputClassifier\n",
    "from sklearn.neighbors import KNeighborsClassifier\n",
    "clf = MultiOutputClassifier(KNeighborsClassifier(n_neighbors=9)).fit(xtrain,ytrain)\n",
    "p = clf.predict(xtest)\n",
    "accuracy(p,ytest),clf.score(xtrain,np.array(ytrain)),clf.score(xtest,np.array(ytest))"
   ]
  },
  {
   "cell_type": "code",
   "execution_count": 16,
   "metadata": {},
   "outputs": [
    {
     "name": "stdout",
     "output_type": "stream",
     "text": [
      "accuracy 0.892529398052152\n"
     ]
    }
   ],
   "source": [
    "from sklearn.ensemble import RandomForestClassifier\n",
    "model = RandomForestClassifier()\n",
    "model.fit(xtrain,ytrain)\n",
    "pr = model.predict(xtest)\n",
    "accuracy(pr,ytest)"
   ]
  },
  {
   "cell_type": "code",
   "execution_count": 17,
   "metadata": {},
   "outputs": [
    {
     "name": "stdout",
     "output_type": "stream",
     "text": [
      "accuracy 0.9074723200395072\n"
     ]
    }
   ],
   "source": [
    "import xgboost as xg\n",
    "xgb = MultiOutputClassifier(xg.XGBClassifier(random_state=2020,\n",
    "                                            max_depth=50,\n",
    "                                            ))\n",
    "xgb.fit(xtrain,ytrain)\n",
    "pl = xgb.predict(xtest)\n",
    "accuracy(pl,ytest)"
   ]
  },
  {
   "cell_type": "code",
   "execution_count": 34,
   "metadata": {},
   "outputs": [
    {
     "name": "stdout",
     "output_type": "stream",
     "text": [
      "accuracy 0.9030504139313794\n"
     ]
    }
   ],
   "source": [
    "import lightgbm as lgb \n",
    "lg = MultiOutputClassifier(lgb.LGBMClassifier(random_state=2020,\n",
    "                                             num_iterations=400,n_estimators= 200,\n",
    "                                              max_depth=100,learning_rate= 0.10,\n",
    "                                              bosting='gbdt',bagging_fraction=0.7))\n",
    "\n",
    "lg.fit(xtrain,ytrain)\n",
    "plg = lg.predict(xtest)\n",
    "accuracy(plg,ytest)"
   ]
  },
  {
   "cell_type": "code",
   "execution_count": 21,
   "metadata": {},
   "outputs": [],
   "source": [
    "ypred = lg.predict(test[cols])"
   ]
  },
  {
   "cell_type": "code",
   "execution_count": 22,
   "metadata": {},
   "outputs": [],
   "source": [
    "df1 = pd.DataFrame(test_pet_id,columns=['pet_id'])\n",
    "df2 = pd.DataFrame(ypred,columns=['breed_category','pet_category'])\n",
    "df = pd.concat([df1,df2],axis=1)\n",
    "df.to_csv('submission.csv',index=False)"
   ]
  },
  {
   "cell_type": "code",
   "execution_count": null,
   "metadata": {},
   "outputs": [],
   "source": []
  },
  {
   "cell_type": "code",
   "execution_count": null,
   "metadata": {},
   "outputs": [],
   "source": []
  },
  {
   "cell_type": "code",
   "execution_count": null,
   "metadata": {},
   "outputs": [],
   "source": []
  },
  {
   "cell_type": "code",
   "execution_count": null,
   "metadata": {},
   "outputs": [],
   "source": []
  },
  {
   "cell_type": "code",
   "execution_count": 17,
   "metadata": {},
   "outputs": [
    {
     "data": {
      "text/html": [
       "<div>\n",
       "<style scoped>\n",
       "    .dataframe tbody tr th:only-of-type {\n",
       "        vertical-align: middle;\n",
       "    }\n",
       "\n",
       "    .dataframe tbody tr th {\n",
       "        vertical-align: top;\n",
       "    }\n",
       "\n",
       "    .dataframe thead th {\n",
       "        text-align: right;\n",
       "    }\n",
       "</style>\n",
       "<table border=\"1\" class=\"dataframe\">\n",
       "  <thead>\n",
       "    <tr style=\"text-align: right;\">\n",
       "      <th></th>\n",
       "      <th>columns</th>\n",
       "      <th>importance</th>\n",
       "    </tr>\n",
       "  </thead>\n",
       "  <tbody>\n",
       "    <tr>\n",
       "      <th>74</th>\n",
       "      <td>id_bins_1</td>\n",
       "      <td>44</td>\n",
       "    </tr>\n",
       "    <tr>\n",
       "      <th>20</th>\n",
       "      <td>color_type_2</td>\n",
       "      <td>45</td>\n",
       "    </tr>\n",
       "    <tr>\n",
       "      <th>55</th>\n",
       "      <td>color_type_37</td>\n",
       "      <td>47</td>\n",
       "    </tr>\n",
       "    <tr>\n",
       "      <th>75</th>\n",
       "      <td>id_bins_2</td>\n",
       "      <td>141</td>\n",
       "    </tr>\n",
       "    <tr>\n",
       "      <th>4</th>\n",
       "      <td>X2</td>\n",
       "      <td>147</td>\n",
       "    </tr>\n",
       "    <tr>\n",
       "      <th>56</th>\n",
       "      <td>color_type_38</td>\n",
       "      <td>152</td>\n",
       "    </tr>\n",
       "    <tr>\n",
       "      <th>39</th>\n",
       "      <td>color_type_21</td>\n",
       "      <td>164</td>\n",
       "    </tr>\n",
       "    <tr>\n",
       "      <th>67</th>\n",
       "      <td>color_type_49</td>\n",
       "      <td>185</td>\n",
       "    </tr>\n",
       "    <tr>\n",
       "      <th>68</th>\n",
       "      <td>color_type_50</td>\n",
       "      <td>195</td>\n",
       "    </tr>\n",
       "    <tr>\n",
       "      <th>3</th>\n",
       "      <td>X1</td>\n",
       "      <td>260</td>\n",
       "    </tr>\n",
       "    <tr>\n",
       "      <th>9</th>\n",
       "      <td>listing_dayofweek</td>\n",
       "      <td>344</td>\n",
       "    </tr>\n",
       "    <tr>\n",
       "      <th>11</th>\n",
       "      <td>listing_hour</td>\n",
       "      <td>451</td>\n",
       "    </tr>\n",
       "    <tr>\n",
       "      <th>12</th>\n",
       "      <td>issue_day</td>\n",
       "      <td>503</td>\n",
       "    </tr>\n",
       "    <tr>\n",
       "      <th>8</th>\n",
       "      <td>listing_month</td>\n",
       "      <td>513</td>\n",
       "    </tr>\n",
       "    <tr>\n",
       "      <th>0</th>\n",
       "      <td>condition</td>\n",
       "      <td>743</td>\n",
       "    </tr>\n",
       "    <tr>\n",
       "      <th>1</th>\n",
       "      <td>length(m)</td>\n",
       "      <td>832</td>\n",
       "    </tr>\n",
       "    <tr>\n",
       "      <th>7</th>\n",
       "      <td>listing_day</td>\n",
       "      <td>845</td>\n",
       "    </tr>\n",
       "    <tr>\n",
       "      <th>2</th>\n",
       "      <td>height(cm)</td>\n",
       "      <td>933</td>\n",
       "    </tr>\n",
       "    <tr>\n",
       "      <th>6</th>\n",
       "      <td>no_of_days</td>\n",
       "      <td>1054</td>\n",
       "    </tr>\n",
       "    <tr>\n",
       "      <th>5</th>\n",
       "      <td>area_occupied</td>\n",
       "      <td>1091</td>\n",
       "    </tr>\n",
       "  </tbody>\n",
       "</table>\n",
       "</div>"
      ],
      "text/plain": [
       "              columns  importance\n",
       "74          id_bins_1          44\n",
       "20       color_type_2          45\n",
       "55      color_type_37          47\n",
       "75          id_bins_2         141\n",
       "4                  X2         147\n",
       "56      color_type_38         152\n",
       "39      color_type_21         164\n",
       "67      color_type_49         185\n",
       "68      color_type_50         195\n",
       "3                  X1         260\n",
       "9   listing_dayofweek         344\n",
       "11       listing_hour         451\n",
       "12          issue_day         503\n",
       "8       listing_month         513\n",
       "0           condition         743\n",
       "1           length(m)         832\n",
       "7         listing_day         845\n",
       "2          height(cm)         933\n",
       "6          no_of_days        1054\n",
       "5       area_occupied        1091"
      ]
     },
     "execution_count": 17,
     "metadata": {},
     "output_type": "execute_result"
    }
   ],
   "source": [
    "l = lgb.LGBMClassifier(random_state=10)\n",
    "l.fit(xtrain,ytrain.iloc[:,[0]])\n",
    "d= {'columns':xtrain.columns,'importance':l.feature_importances_}\n",
    "df = pd.DataFrame(data=d)\n",
    "df.sort_values(by='importance').tail(20)"
   ]
  },
  {
   "cell_type": "code",
   "execution_count": 18,
   "metadata": {},
   "outputs": [
    {
     "data": {
      "text/html": [
       "<div>\n",
       "<style scoped>\n",
       "    .dataframe tbody tr th:only-of-type {\n",
       "        vertical-align: middle;\n",
       "    }\n",
       "\n",
       "    .dataframe tbody tr th {\n",
       "        vertical-align: top;\n",
       "    }\n",
       "\n",
       "    .dataframe thead th {\n",
       "        text-align: right;\n",
       "    }\n",
       "</style>\n",
       "<table border=\"1\" class=\"dataframe\">\n",
       "  <thead>\n",
       "    <tr style=\"text-align: right;\">\n",
       "      <th></th>\n",
       "      <th>columns</th>\n",
       "      <th>importance</th>\n",
       "    </tr>\n",
       "  </thead>\n",
       "  <tbody>\n",
       "    <tr>\n",
       "      <th>6</th>\n",
       "      <td>no_of_days</td>\n",
       "      <td>1717</td>\n",
       "    </tr>\n",
       "    <tr>\n",
       "      <th>2</th>\n",
       "      <td>height(cm)</td>\n",
       "      <td>804</td>\n",
       "    </tr>\n",
       "    <tr>\n",
       "      <th>12</th>\n",
       "      <td>issue_day</td>\n",
       "      <td>765</td>\n",
       "    </tr>\n",
       "    <tr>\n",
       "      <th>7</th>\n",
       "      <td>listing_day</td>\n",
       "      <td>732</td>\n",
       "    </tr>\n",
       "    <tr>\n",
       "      <th>5</th>\n",
       "      <td>area_occupied</td>\n",
       "      <td>692</td>\n",
       "    </tr>\n",
       "    <tr>\n",
       "      <th>8</th>\n",
       "      <td>listing_month</td>\n",
       "      <td>687</td>\n",
       "    </tr>\n",
       "    <tr>\n",
       "      <th>1</th>\n",
       "      <td>length(m)</td>\n",
       "      <td>644</td>\n",
       "    </tr>\n",
       "    <tr>\n",
       "      <th>3</th>\n",
       "      <td>X1</td>\n",
       "      <td>603</td>\n",
       "    </tr>\n",
       "    <tr>\n",
       "      <th>11</th>\n",
       "      <td>listing_hour</td>\n",
       "      <td>595</td>\n",
       "    </tr>\n",
       "    <tr>\n",
       "      <th>0</th>\n",
       "      <td>condition</td>\n",
       "      <td>492</td>\n",
       "    </tr>\n",
       "    <tr>\n",
       "      <th>9</th>\n",
       "      <td>listing_dayofweek</td>\n",
       "      <td>486</td>\n",
       "    </tr>\n",
       "    <tr>\n",
       "      <th>4</th>\n",
       "      <td>X2</td>\n",
       "      <td>453</td>\n",
       "    </tr>\n",
       "    <tr>\n",
       "      <th>33</th>\n",
       "      <td>color_type_15</td>\n",
       "      <td>235</td>\n",
       "    </tr>\n",
       "    <tr>\n",
       "      <th>36</th>\n",
       "      <td>color_type_18</td>\n",
       "      <td>182</td>\n",
       "    </tr>\n",
       "    <tr>\n",
       "      <th>56</th>\n",
       "      <td>color_type_38</td>\n",
       "      <td>166</td>\n",
       "    </tr>\n",
       "    <tr>\n",
       "      <th>20</th>\n",
       "      <td>color_type_2</td>\n",
       "      <td>166</td>\n",
       "    </tr>\n",
       "    <tr>\n",
       "      <th>66</th>\n",
       "      <td>color_type_48</td>\n",
       "      <td>154</td>\n",
       "    </tr>\n",
       "    <tr>\n",
       "      <th>71</th>\n",
       "      <td>color_type_53</td>\n",
       "      <td>142</td>\n",
       "    </tr>\n",
       "    <tr>\n",
       "      <th>39</th>\n",
       "      <td>color_type_21</td>\n",
       "      <td>139</td>\n",
       "    </tr>\n",
       "    <tr>\n",
       "      <th>68</th>\n",
       "      <td>color_type_50</td>\n",
       "      <td>129</td>\n",
       "    </tr>\n",
       "  </tbody>\n",
       "</table>\n",
       "</div>"
      ],
      "text/plain": [
       "              columns  importance\n",
       "6          no_of_days        1717\n",
       "2          height(cm)         804\n",
       "12          issue_day         765\n",
       "7         listing_day         732\n",
       "5       area_occupied         692\n",
       "8       listing_month         687\n",
       "1           length(m)         644\n",
       "3                  X1         603\n",
       "11       listing_hour         595\n",
       "0           condition         492\n",
       "9   listing_dayofweek         486\n",
       "4                  X2         453\n",
       "33      color_type_15         235\n",
       "36      color_type_18         182\n",
       "56      color_type_38         166\n",
       "20       color_type_2         166\n",
       "66      color_type_48         154\n",
       "71      color_type_53         142\n",
       "39      color_type_21         139\n",
       "68      color_type_50         129"
      ]
     },
     "execution_count": 18,
     "metadata": {},
     "output_type": "execute_result"
    }
   ],
   "source": [
    "l2 = lgb.LGBMClassifier(random_state=10)\n",
    "l2.fit(xtrain,ytrain.iloc[:,[1]])\n",
    "d= {'columns':xtrain.columns,'importance':l2.feature_importances_}\n",
    "df = pd.DataFrame(data=d)\n",
    "df.sort_values(by='importance',ascending=False).head(20)"
   ]
  }
 ],
 "metadata": {
  "kernelspec": {
   "display_name": "Python 3",
   "language": "python",
   "name": "python3"
  },
  "language_info": {
   "codemirror_mode": {
    "name": "ipython",
    "version": 3
   },
   "file_extension": ".py",
   "mimetype": "text/x-python",
   "name": "python",
   "nbconvert_exporter": "python",
   "pygments_lexer": "ipython3",
   "version": "3.6.5"
  }
 },
 "nbformat": 4,
 "nbformat_minor": 2
}
