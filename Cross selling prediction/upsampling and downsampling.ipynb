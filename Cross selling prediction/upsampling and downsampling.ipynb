{
 "cells": [
  {
   "cell_type": "code",
   "execution_count": 1,
   "metadata": {},
   "outputs": [],
   "source": [
    "import numpy as np\n",
    "import pandas as pd\n",
    "import seaborn as sns\n",
    "from sklearn.metrics import  roc_auc_score\n",
    "from sklearn.model_selection import train_test_split\n",
    "\n",
    "from sklearn.ensemble import RandomForestClassifier\n",
    "from sklearn.naive_bayes import GaussianNB\n",
    "from lightgbm import LGBMClassifier\n",
    "from sklearn import linear_model"
   ]
  },
  {
   "cell_type": "code",
   "execution_count": 2,
   "metadata": {},
   "outputs": [
    {
     "data": {
      "text/plain": [
       "((381109, 12), (127037, 11))"
      ]
     },
     "execution_count": 2,
     "metadata": {},
     "output_type": "execute_result"
    }
   ],
   "source": [
    "train = pd.read_csv('train.csv')\n",
    "test = pd.read_csv('test.csv')\n",
    "sub = pd.read_csv('sample_submission.csv')\n",
    "train.shape , test.shape"
   ]
  },
  {
   "cell_type": "code",
   "execution_count": 3,
   "metadata": {},
   "outputs": [],
   "source": [
    "train = train[train.Annual_Premium < 200000]\n",
    "train['Annual_Premium']=np.log(train['Annual_Premium'])\n",
    "train = train.sample(frac=1).reset_index(drop=True)\n",
    "raw_data = train.append(test)\n",
    "raw_data.index = range(raw_data.shape[0])"
   ]
  },
  {
   "cell_type": "code",
   "execution_count": 4,
   "metadata": {},
   "outputs": [],
   "source": [
    "def getInfo(dataset):\n",
    "    info = pd.DataFrame({'Nunuique':dataset.nunique(),'DataType':dataset.dtypes,'NullValues':dataset.isnull().sum()})\n",
    "    return info"
   ]
  },
  {
   "cell_type": "code",
   "execution_count": 5,
   "metadata": {},
   "outputs": [],
   "source": [
    "def savePredictions(model,fileName,test_values):\n",
    "    y_pred = np.array(model.predict_proba(test_values)[:,1])\n",
    "    sub['Response'] = y_pred\n",
    "    sub.to_csv(fileName+'.csv',index=False)\n",
    "    return sub.shape"
   ]
  },
  {
   "cell_type": "code",
   "execution_count": 6,
   "metadata": {},
   "outputs": [],
   "source": [
    "dataset = raw_data.copy()"
   ]
  },
  {
   "cell_type": "code",
   "execution_count": 149,
   "metadata": {},
   "outputs": [],
   "source": [
    "#for col in columns_to_be_label_encoded:\n",
    "#    le = LabelEncoder()\n",
    "#    dataset[col] = le.fit_transform(dataset[col])\n",
    "gender_map = {'Male':1,'Female':0}\n",
    "vehicle_age_gap = {\n",
    "    '1-2 Year':1,\n",
    "    '< 1 Year':0,\n",
    "    '> 2 Years':2}\n",
    "vehicle_damage_gap ={\n",
    "    'Yes':1,\n",
    "    'No':0 \n",
    "}\n",
    "dataset['Gender'] = dataset['Gender'].map(gender_map)\n",
    "dataset['Vehicle_Age'] = dataset['Vehicle_Age'].map(vehicle_age_gap)\n",
    "dataset['Vehicle_Damage'] = dataset['Vehicle_Damage'].map(vehicle_damage_gap)"
   ]
  },
  {
   "cell_type": "code",
   "execution_count": 150,
   "metadata": {},
   "outputs": [],
   "source": [
    "##1\n",
    "#dataset['age_bin'] = pd.cut(dataset[\"Age\"], bins=4, labels=False)\n",
    "#dataset['vintage_bin'] = pd.cut(dataset[\"Vintage\"], bins=5, labels=False)\n",
    "#dataset['Annual_Premium_bins'] = pd.cut(dataset[\"Annual_Premium\"], bins=3, labels=False)\n",
    "\n",
    "Bins_Age = np.linspace(dataset['Age'].min(),dataset['Age'].max(),6)\n",
    "Bins_Annual_Premium = np.linspace(dataset['Annual_Premium'].min(),dataset['Annual_Premium'].max(),4)\n",
    "Bins_Age , Bins_Annual_Premium\n",
    "\n",
    "transform_series = dataset.groupby('Vehicle_Age').size()/len(dataset)\n",
    "dataset['Vehicle_Age_ratio']= dataset['Vehicle_Age'].apply(lambda x: transform_series[x])\n",
    "\n",
    "dataset['Experience_level'] =  pd.cut(dataset['Age'] , Bins_Age , labels=['one','two','three','four','five'],include_lowest=True)\n",
    "dataset['Category_of_Annual_Premium'] =  pd.cut(dataset['Annual_Premium'] , Bins_Annual_Premium , labels=['low','medium','high'],include_lowest=True)\n"
   ]
  },
  {
   "cell_type": "code",
   "execution_count": 151,
   "metadata": {},
   "outputs": [],
   "source": [
    "##0.5\n",
    "dataset['Damage_sums_per_region'] = dataset.groupby(['Region_Code'])['Vehicle_Damage'].transform('sum')\n",
    "dataset['Mean_premium_per_region'] = dataset.groupby(['Region_Code'])['Annual_Premium'].transform('mean')\n",
    "dataset['Count_unique_policy_sales_per_region'] = dataset.groupby(['Region_Code'])['Policy_Sales_Channel'].transform('nunique')\n",
    "dataset['Count_policy_sales_per_region'] = dataset.groupby(['Region_Code'])['Policy_Sales_Channel'].transform('count')\n",
    "dataset['Mean_vehicle_age_per_region'] = dataset.groupby(['Region_Code'])['Vehicle_Age'].transform('mean')\n",
    "dataset['Mean_age_per_region'] = dataset.groupby(['Region_Code'])['Age'].transform('mean')\n",
    "#dataset['Mean_salary_per_region'] = dataset.groupby(['Region_Code'])['Salary'].transform('mean')\n",
    "dataset['Count_previously_insured_per_region'] = dataset.groupby(['Region_Code'])['Previously_Insured'].transform('sum')\n",
    "dataset['Mean_vintage_per_region'] = dataset.groupby(['Region_Code'])['Vintage'].transform('mean')\n",
    "dataset['Max_premimum_per_region'] = dataset.groupby(['Region_Code'])['Annual_Premium'].transform('max')\n",
    "dataset['Max_premimum_per_region'] = dataset.groupby(['Region_Code'])['Annual_Premium'].transform('min')\n",
    "dataset[\"Rank_premium_per_rank\"] = dataset.groupby(\"Region_Code\")['Annual_Premium'].rank(method=\"dense\", ascending=True)\n"
   ]
  },
  {
   "cell_type": "code",
   "execution_count": 26,
   "metadata": {},
   "outputs": [],
   "source": [
    "dataset['Policy_Sales_Channel'] = dataset.loc[dataset[\"Policy_Sales_Channel\"].value_counts()[dataset[\"Policy_Sales_Channel\"]].values < 200,\n",
    "                                              \"Policy_Sales_Channel\"] = 500"
   ]
  },
  {
   "cell_type": "code",
   "execution_count": 152,
   "metadata": {},
   "outputs": [],
   "source": [
    "##2\n",
    "dataset['no_of_people_from_regionwise'] = dataset.groupby(['Region_Code'])['id'].transform('nunique')\n",
    "dataset['no_of_people_in_policy_channel'] = dataset.groupby(['Policy_Sales_Channel'])['id'].transform('count')\n",
    "dataset['no_of_people_with_same_associatedDays'] = dataset.groupby(['Vintage'])['id'].transform('count')\n",
    "dataset['no_of_people_with_DL_and_their_VehicleAge'] =dataset.groupby(['Driving_License','Vehicle_Age'])['id'].transform('count')\n",
    "dataset['no_of_people_with_DL_and_their_VehicleDamage'] =dataset.groupby(['Driving_License','Vehicle_Damage'])['id'].transform('count')\n",
    "dataset['no_of_people_with_Dl_regionwise'] = dataset.groupby(['Region_Code','Driving_License'])['id'].transform('count')\n"
   ]
  },
  {
   "cell_type": "code",
   "execution_count": 153,
   "metadata": {},
   "outputs": [],
   "source": [
    "dataset.drop(['id'],axis=1,inplace=True)"
   ]
  },
  {
   "cell_type": "code",
   "execution_count": 111,
   "metadata": {},
   "outputs": [],
   "source": [
    "##3\n",
    "dataset['sum_Lincense_region'] = dataset.groupby(['Region_Code'])['Driving_License'].transform('sum')\n",
    "dataset['sum_Insurance_region'] = dataset.groupby(['Region_Code'])['Previously_Insured'].transform('sum')\n",
    "dataset['count_Gender_region'] = dataset.groupby(['Region_Code'])['Gender'].transform('count')\n",
    "dataset['count_policy_per_region'] = dataset.groupby(['Region_Code'])['Policy_Sales_Channel'].transform('count')\n",
    "dataset['count_Vechicle_age_region'] = dataset.groupby(['Region_Code'])['Vehicle_Age'].transform('count')\n",
    "dataset['Count_unique_policy_sales_per_region'] = dataset.groupby(['Region_Code'])['Policy_Sales_Channel'].transform('nunique')\n",
    "dataset[\"Rank_premium_per_rank\"] = dataset.groupby(\"Region_Code\")['Annual_Premium'].rank(method=\"dense\", ascending=True)\n"
   ]
  },
  {
   "cell_type": "code",
   "execution_count": null,
   "metadata": {},
   "outputs": [],
   "source": [
    "dataset['mean_age_per_region'] = dataset.groupby(['Region_Code'])['Age'].transform('mean')\n",
    "#dataset['max_age_per_region'] = dataset.groupby(['Region_Code'])['Age'].transform('max')\n",
    "dataset['std_age_per_region'] = dataset.groupby(['Region_Code'])['Age'].transform('std')\n",
    "\n",
    "dataset['mean_vehicle_age'] = dataset.groupby(['Vehicle_Age'])['Annual_Premium'].transform('mean')\n",
    "dataset['std_vehicle_age'] = dataset.groupby(['Vehicle_Age'])['Annual_Premium'].transform('std')\n",
    "dataset['max_vehicle_age'] = dataset.groupby(['Vehicle_Age'])['Annual_Premium'].transform('max')\n",
    "dataset['sum_vehicle_age'] = dataset.groupby(['Vehicle_Age'])['Annual_Premium'].transform('sum')\n",
    "\n",
    "dataset['mean_AP_per_policy'] = dataset.groupby(['Policy_Sales_Channel'])['Annual_Premium'].transform('mean')\n",
    "#dataset['min_AP_per_policy'] = dataset.groupby(['Policy_Sales_Channel'])['Annual_Premium'].transform('min')\n",
    "#dataset['max_AP_per_policy'] = dataset.groupby(['Policy_Sales_Channel'])['Annual_Premium'].transform('max')\n",
    "dataset['sum_AP_per_policy'] = dataset.groupby(['Policy_Sales_Channel'])['Annual_Premium'].transform('sum')\n",
    "\n",
    "dataset['sum_AP_region'] = dataset.groupby(['Region_Code'])['Annual_Premium'].transform('sum')\n",
    "dataset['mean_AP_region'] = dataset.groupby(['Region_Code'])['Annual_Premium'].transform('mean')\n",
    "dataset['std_AP_region'] = dataset.groupby(['Region_Code'])['Annual_Premium'].transform('std')\n",
    "dataset['max_AP_region'] = dataset.groupby(['Region_Code'])['Annual_Premium'].transform('max')"
   ]
  },
  {
   "cell_type": "code",
   "execution_count": 15,
   "metadata": {},
   "outputs": [
    {
     "data": {
      "text/plain": [
       "(0.14452786602542578, 0.2282684263174849)"
      ]
     },
     "execution_count": 15,
     "metadata": {},
     "output_type": "execute_result"
    }
   ],
   "source": [
    "#dataset.Age.var() , dataset.age_bin.var()\n",
    "#dataset.Age.apply(lambda x: np.log(1 + x)).var() , dataset.age_bin.apply(lambda x: np.log(1 + x)).var()"
   ]
  },
  {
   "cell_type": "code",
   "execution_count": 154,
   "metadata": {},
   "outputs": [
    {
     "name": "stderr",
     "output_type": "stream",
     "text": [
      "C:\\Users\\DELL\\Miniconda3\\lib\\site-packages\\pandas\\core\\frame.py:3997: SettingWithCopyWarning: \n",
      "A value is trying to be set on a copy of a slice from a DataFrame\n",
      "\n",
      "See the caveats in the documentation: https://pandas.pydata.org/pandas-docs/stable/user_guide/indexing.html#returning-a-view-versus-a-copy\n",
      "  errors=errors,\n"
     ]
    },
    {
     "data": {
      "text/plain": [
       "((380997, 29), (380997,), (127037, 29))"
      ]
     },
     "execution_count": 154,
     "metadata": {},
     "output_type": "execute_result"
    }
   ],
   "source": [
    "X = dataset.iloc[ : train.shape[0], :]\n",
    "X.drop(['Response'],axis=1,inplace=True)\n",
    "y = train.Response.values\n",
    "X_pred = dataset.iloc[train.shape[0]: , :]\n",
    "X_pred.drop(['Response'],axis=1,inplace=True)\n",
    "X.shape , y.shape , X_pred.shape"
   ]
  },
  {
   "cell_type": "code",
   "execution_count": 66,
   "metadata": {},
   "outputs": [],
   "source": [
    "## 1) UnderSampling  and Oversampling\n",
    "#from imblearn.under_sampling import NearMiss\n",
    "#from imblearn.over_sampling import SMOTE \n",
    "#nm = NearMiss()\n",
    "#X , y = nm.fit_sample(X,y)\n",
    "\n",
    "#sm = SMOTE(random_state = 2) \n",
    "#X, y = sm.fit_sample(X,y) "
   ]
  },
  {
   "cell_type": "code",
   "execution_count": 155,
   "metadata": {},
   "outputs": [
    {
     "data": {
      "text/plain": [
       "((304797, 29), (76200, 29), (304797,), (76200,))"
      ]
     },
     "execution_count": 155,
     "metadata": {},
     "output_type": "execute_result"
    }
   ],
   "source": [
    "X_train,X_test,y_train,y_test = train_test_split(X,y,test_size=0.2,random_state =207,stratify=y)\n",
    "X_train.shape , X_test.shape , y_train.shape , y_test.shape"
   ]
  },
  {
   "cell_type": "code",
   "execution_count": 156,
   "metadata": {},
   "outputs": [
    {
     "name": "stdout",
     "output_type": "stream",
     "text": [
      "0.8590621586269899\n"
     ]
    }
   ],
   "source": [
    "lg=LGBMClassifier(boosting_type='gbdt',n_estimators=500,depth=10,learning_rate=0.03,objective='binary',metric='auc',is_unbalance=True,\n",
    "                 colsample_bytree=0.5,reg_lambda=2,reg_alpha=2,random_state=294,n_jobs=-1)\n",
    "\n",
    "lg.fit(X_train,y_train)\n",
    "print(roc_auc_score(y_test,lg.predict_proba(X_test)[:,1]))"
   ]
  },
  {
   "cell_type": "code",
   "execution_count": 136,
   "metadata": {},
   "outputs": [
    {
     "data": {
      "text/plain": [
       "(127037, 2)"
      ]
     },
     "execution_count": 136,
     "metadata": {},
     "output_type": "execute_result"
    }
   ],
   "source": [
    "savePredictions(lg,'LightGBMClassifier',X_pred)"
   ]
  },
  {
   "cell_type": "code",
   "execution_count": 157,
   "metadata": {},
   "outputs": [
    {
     "data": {
      "text/html": [
       "<div>\n",
       "<style scoped>\n",
       "    .dataframe tbody tr th:only-of-type {\n",
       "        vertical-align: middle;\n",
       "    }\n",
       "\n",
       "    .dataframe tbody tr th {\n",
       "        vertical-align: top;\n",
       "    }\n",
       "\n",
       "    .dataframe thead th {\n",
       "        text-align: right;\n",
       "    }\n",
       "</style>\n",
       "<table border=\"1\" class=\"dataframe\">\n",
       "  <thead>\n",
       "    <tr style=\"text-align: right;\">\n",
       "      <th></th>\n",
       "      <th>col</th>\n",
       "      <th>imp</th>\n",
       "    </tr>\n",
       "  </thead>\n",
       "  <tbody>\n",
       "    <tr>\n",
       "      <th>1</th>\n",
       "      <td>Age</td>\n",
       "      <td>1526</td>\n",
       "    </tr>\n",
       "    <tr>\n",
       "      <th>7</th>\n",
       "      <td>Annual_Premium</td>\n",
       "      <td>1498</td>\n",
       "    </tr>\n",
       "    <tr>\n",
       "      <th>9</th>\n",
       "      <td>Vintage</td>\n",
       "      <td>1388</td>\n",
       "    </tr>\n",
       "    <tr>\n",
       "      <th>25</th>\n",
       "      <td>no_of_people_with_same_associatedDays</td>\n",
       "      <td>1293</td>\n",
       "    </tr>\n",
       "    <tr>\n",
       "      <th>8</th>\n",
       "      <td>Policy_Sales_Channel</td>\n",
       "      <td>1253</td>\n",
       "    </tr>\n",
       "    <tr>\n",
       "      <th>22</th>\n",
       "      <td>Rank_premium_per_rank</td>\n",
       "      <td>1098</td>\n",
       "    </tr>\n",
       "    <tr>\n",
       "      <th>24</th>\n",
       "      <td>no_of_people_in_policy_channel</td>\n",
       "      <td>1094</td>\n",
       "    </tr>\n",
       "    <tr>\n",
       "      <th>3</th>\n",
       "      <td>Region_Code</td>\n",
       "      <td>708</td>\n",
       "    </tr>\n",
       "    <tr>\n",
       "      <th>14</th>\n",
       "      <td>Mean_premium_per_region</td>\n",
       "      <td>553</td>\n",
       "    </tr>\n",
       "    <tr>\n",
       "      <th>17</th>\n",
       "      <td>Mean_vehicle_age_per_region</td>\n",
       "      <td>489</td>\n",
       "    </tr>\n",
       "    <tr>\n",
       "      <th>20</th>\n",
       "      <td>Mean_vintage_per_region</td>\n",
       "      <td>415</td>\n",
       "    </tr>\n",
       "    <tr>\n",
       "      <th>18</th>\n",
       "      <td>Mean_age_per_region</td>\n",
       "      <td>407</td>\n",
       "    </tr>\n",
       "    <tr>\n",
       "      <th>15</th>\n",
       "      <td>Count_unique_policy_sales_per_region</td>\n",
       "      <td>402</td>\n",
       "    </tr>\n",
       "    <tr>\n",
       "      <th>13</th>\n",
       "      <td>Damage_sums_per_region</td>\n",
       "      <td>358</td>\n",
       "    </tr>\n",
       "    <tr>\n",
       "      <th>19</th>\n",
       "      <td>Count_previously_insured_per_region</td>\n",
       "      <td>334</td>\n",
       "    </tr>\n",
       "    <tr>\n",
       "      <th>16</th>\n",
       "      <td>Count_policy_sales_per_region</td>\n",
       "      <td>264</td>\n",
       "    </tr>\n",
       "    <tr>\n",
       "      <th>11</th>\n",
       "      <td>Experience_level</td>\n",
       "      <td>251</td>\n",
       "    </tr>\n",
       "    <tr>\n",
       "      <th>5</th>\n",
       "      <td>Vehicle_Age</td>\n",
       "      <td>247</td>\n",
       "    </tr>\n",
       "    <tr>\n",
       "      <th>28</th>\n",
       "      <td>no_of_people_with_Dl_regionwise</td>\n",
       "      <td>236</td>\n",
       "    </tr>\n",
       "    <tr>\n",
       "      <th>10</th>\n",
       "      <td>Vehicle_Age_ratio</td>\n",
       "      <td>205</td>\n",
       "    </tr>\n",
       "    <tr>\n",
       "      <th>0</th>\n",
       "      <td>Gender</td>\n",
       "      <td>190</td>\n",
       "    </tr>\n",
       "    <tr>\n",
       "      <th>4</th>\n",
       "      <td>Previously_Insured</td>\n",
       "      <td>181</td>\n",
       "    </tr>\n",
       "    <tr>\n",
       "      <th>26</th>\n",
       "      <td>no_of_people_with_DL_and_their_VehicleAge</td>\n",
       "      <td>171</td>\n",
       "    </tr>\n",
       "    <tr>\n",
       "      <th>6</th>\n",
       "      <td>Vehicle_Damage</td>\n",
       "      <td>170</td>\n",
       "    </tr>\n",
       "    <tr>\n",
       "      <th>27</th>\n",
       "      <td>no_of_people_with_DL_and_their_VehicleDamage</td>\n",
       "      <td>166</td>\n",
       "    </tr>\n",
       "    <tr>\n",
       "      <th>23</th>\n",
       "      <td>no_of_people_from_regionwise</td>\n",
       "      <td>92</td>\n",
       "    </tr>\n",
       "    <tr>\n",
       "      <th>2</th>\n",
       "      <td>Driving_License</td>\n",
       "      <td>11</td>\n",
       "    </tr>\n",
       "    <tr>\n",
       "      <th>12</th>\n",
       "      <td>Category_of_Annual_Premium</td>\n",
       "      <td>0</td>\n",
       "    </tr>\n",
       "    <tr>\n",
       "      <th>21</th>\n",
       "      <td>Max_premimum_per_region</td>\n",
       "      <td>0</td>\n",
       "    </tr>\n",
       "  </tbody>\n",
       "</table>\n",
       "</div>"
      ],
      "text/plain": [
       "                                             col   imp\n",
       "1                                            Age  1526\n",
       "7                                 Annual_Premium  1498\n",
       "9                                        Vintage  1388\n",
       "25         no_of_people_with_same_associatedDays  1293\n",
       "8                           Policy_Sales_Channel  1253\n",
       "22                         Rank_premium_per_rank  1098\n",
       "24                no_of_people_in_policy_channel  1094\n",
       "3                                    Region_Code   708\n",
       "14                       Mean_premium_per_region   553\n",
       "17                   Mean_vehicle_age_per_region   489\n",
       "20                       Mean_vintage_per_region   415\n",
       "18                           Mean_age_per_region   407\n",
       "15          Count_unique_policy_sales_per_region   402\n",
       "13                        Damage_sums_per_region   358\n",
       "19           Count_previously_insured_per_region   334\n",
       "16                 Count_policy_sales_per_region   264\n",
       "11                              Experience_level   251\n",
       "5                                    Vehicle_Age   247\n",
       "28               no_of_people_with_Dl_regionwise   236\n",
       "10                             Vehicle_Age_ratio   205\n",
       "0                                         Gender   190\n",
       "4                             Previously_Insured   181\n",
       "26     no_of_people_with_DL_and_their_VehicleAge   171\n",
       "6                                 Vehicle_Damage   170\n",
       "27  no_of_people_with_DL_and_their_VehicleDamage   166\n",
       "23                  no_of_people_from_regionwise    92\n",
       "2                                Driving_License    11\n",
       "12                    Category_of_Annual_Premium     0\n",
       "21                       Max_premimum_per_region     0"
      ]
     },
     "execution_count": 157,
     "metadata": {},
     "output_type": "execute_result"
    }
   ],
   "source": [
    "df = pd.DataFrame()\n",
    "df['col'] = X_test.columns\n",
    "df['imp'] = lg.feature_importances_\n",
    "df.sort_values('imp',ascending=False).head(30)"
   ]
  },
  {
   "cell_type": "code",
   "execution_count": 101,
   "metadata": {},
   "outputs": [],
   "source": [
    "from catboost import CatBoostClassifier\n",
    "cb = CatBoostClassifier()\n",
    "cb.fit(X_train,y_train)"
   ]
  },
  {
   "cell_type": "code",
   "execution_count": null,
   "metadata": {},
   "outputs": [],
   "source": [
    "#cb.score(X_train,y_train) , cb.score(X_test,y_test)\n",
    "roc_auc_score(cb.predict_proba(X_test)[:,1],y_test)  , roc_auc_score(cb.predict_proba(X_train)[:,1],y_train)"
   ]
  },
  {
   "cell_type": "code",
   "execution_count": 66,
   "metadata": {},
   "outputs": [
    {
     "data": {
      "text/plain": [
       "(127037, 2)"
      ]
     },
     "execution_count": 66,
     "metadata": {},
     "output_type": "execute_result"
    }
   ],
   "source": [
    "savePredictions(cb,'CatboostClassifier',X_pred)"
   ]
  },
  {
   "cell_type": "code",
   "execution_count": 73,
   "metadata": {},
   "outputs": [
    {
     "data": {
      "text/html": [
       "<div>\n",
       "<style scoped>\n",
       "    .dataframe tbody tr th:only-of-type {\n",
       "        vertical-align: middle;\n",
       "    }\n",
       "\n",
       "    .dataframe tbody tr th {\n",
       "        vertical-align: top;\n",
       "    }\n",
       "\n",
       "    .dataframe thead th {\n",
       "        text-align: right;\n",
       "    }\n",
       "</style>\n",
       "<table border=\"1\" class=\"dataframe\">\n",
       "  <thead>\n",
       "    <tr style=\"text-align: right;\">\n",
       "      <th></th>\n",
       "      <th>columns</th>\n",
       "      <th>importance</th>\n",
       "    </tr>\n",
       "  </thead>\n",
       "  <tbody>\n",
       "    <tr>\n",
       "      <th>4</th>\n",
       "      <td>Previously_Insured</td>\n",
       "      <td>46.607576</td>\n",
       "    </tr>\n",
       "    <tr>\n",
       "      <th>1</th>\n",
       "      <td>Age</td>\n",
       "      <td>8.145757</td>\n",
       "    </tr>\n",
       "    <tr>\n",
       "      <th>7</th>\n",
       "      <td>Annual_Premium</td>\n",
       "      <td>6.480244</td>\n",
       "    </tr>\n",
       "    <tr>\n",
       "      <th>6</th>\n",
       "      <td>Vehicle_Damage</td>\n",
       "      <td>5.348307</td>\n",
       "    </tr>\n",
       "    <tr>\n",
       "      <th>9</th>\n",
       "      <td>Vintage</td>\n",
       "      <td>4.385244</td>\n",
       "    </tr>\n",
       "    <tr>\n",
       "      <th>20</th>\n",
       "      <td>sum_AP_per_policy</td>\n",
       "      <td>3.842580</td>\n",
       "    </tr>\n",
       "    <tr>\n",
       "      <th>10</th>\n",
       "      <td>mean_age_per_region</td>\n",
       "      <td>3.084634</td>\n",
       "    </tr>\n",
       "    <tr>\n",
       "      <th>8</th>\n",
       "      <td>Policy_Sales_Channel</td>\n",
       "      <td>2.830498</td>\n",
       "    </tr>\n",
       "    <tr>\n",
       "      <th>24</th>\n",
       "      <td>max_AP_region</td>\n",
       "      <td>2.625204</td>\n",
       "    </tr>\n",
       "    <tr>\n",
       "      <th>19</th>\n",
       "      <td>max_AP_per_policy</td>\n",
       "      <td>2.589696</td>\n",
       "    </tr>\n",
       "    <tr>\n",
       "      <th>3</th>\n",
       "      <td>Region_Code</td>\n",
       "      <td>2.489811</td>\n",
       "    </tr>\n",
       "    <tr>\n",
       "      <th>0</th>\n",
       "      <td>Gender</td>\n",
       "      <td>2.327513</td>\n",
       "    </tr>\n",
       "    <tr>\n",
       "      <th>22</th>\n",
       "      <td>mean_AP_region</td>\n",
       "      <td>2.258328</td>\n",
       "    </tr>\n",
       "    <tr>\n",
       "      <th>17</th>\n",
       "      <td>mean_AP_per_policy</td>\n",
       "      <td>1.881190</td>\n",
       "    </tr>\n",
       "    <tr>\n",
       "      <th>25</th>\n",
       "      <td>count_Vechicle_age_region</td>\n",
       "      <td>1.259955</td>\n",
       "    </tr>\n",
       "    <tr>\n",
       "      <th>21</th>\n",
       "      <td>sum_AP_region</td>\n",
       "      <td>1.087100</td>\n",
       "    </tr>\n",
       "    <tr>\n",
       "      <th>11</th>\n",
       "      <td>max_age_per_region</td>\n",
       "      <td>0.937111</td>\n",
       "    </tr>\n",
       "    <tr>\n",
       "      <th>5</th>\n",
       "      <td>Vehicle_Age</td>\n",
       "      <td>0.741736</td>\n",
       "    </tr>\n",
       "    <tr>\n",
       "      <th>16</th>\n",
       "      <td>sum_vehicle_age</td>\n",
       "      <td>0.576295</td>\n",
       "    </tr>\n",
       "    <tr>\n",
       "      <th>13</th>\n",
       "      <td>mean_vehicle_age</td>\n",
       "      <td>0.223677</td>\n",
       "    </tr>\n",
       "    <tr>\n",
       "      <th>15</th>\n",
       "      <td>max_vehicle_age</td>\n",
       "      <td>0.112124</td>\n",
       "    </tr>\n",
       "    <tr>\n",
       "      <th>2</th>\n",
       "      <td>Driving_License</td>\n",
       "      <td>0.082157</td>\n",
       "    </tr>\n",
       "    <tr>\n",
       "      <th>12</th>\n",
       "      <td>min_age_per_region</td>\n",
       "      <td>0.071827</td>\n",
       "    </tr>\n",
       "    <tr>\n",
       "      <th>18</th>\n",
       "      <td>min_AP_per_policy</td>\n",
       "      <td>0.011435</td>\n",
       "    </tr>\n",
       "    <tr>\n",
       "      <th>14</th>\n",
       "      <td>min_vehicle_age</td>\n",
       "      <td>0.000000</td>\n",
       "    </tr>\n",
       "    <tr>\n",
       "      <th>23</th>\n",
       "      <td>min_AP_region</td>\n",
       "      <td>0.000000</td>\n",
       "    </tr>\n",
       "  </tbody>\n",
       "</table>\n",
       "</div>"
      ],
      "text/plain": [
       "                      columns  importance\n",
       "4          Previously_Insured   46.607576\n",
       "1                         Age    8.145757\n",
       "7              Annual_Premium    6.480244\n",
       "6              Vehicle_Damage    5.348307\n",
       "9                     Vintage    4.385244\n",
       "20          sum_AP_per_policy    3.842580\n",
       "10        mean_age_per_region    3.084634\n",
       "8        Policy_Sales_Channel    2.830498\n",
       "24              max_AP_region    2.625204\n",
       "19          max_AP_per_policy    2.589696\n",
       "3                 Region_Code    2.489811\n",
       "0                      Gender    2.327513\n",
       "22             mean_AP_region    2.258328\n",
       "17         mean_AP_per_policy    1.881190\n",
       "25  count_Vechicle_age_region    1.259955\n",
       "21              sum_AP_region    1.087100\n",
       "11         max_age_per_region    0.937111\n",
       "5                 Vehicle_Age    0.741736\n",
       "16            sum_vehicle_age    0.576295\n",
       "13           mean_vehicle_age    0.223677\n",
       "15            max_vehicle_age    0.112124\n",
       "2             Driving_License    0.082157\n",
       "12         min_age_per_region    0.071827\n",
       "18          min_AP_per_policy    0.011435\n",
       "14            min_vehicle_age    0.000000\n",
       "23              min_AP_region    0.000000"
      ]
     },
     "execution_count": 73,
     "metadata": {},
     "output_type": "execute_result"
    }
   ],
   "source": [
    "qw = pd.DataFrame()\n",
    "qw['columns'] = X_train.columns\n",
    "qw['importance'] = cb.feature_importances_\n",
    "qw.sort_values(['importance'],ascending=False).head(30)"
   ]
  },
  {
   "cell_type": "markdown",
   "metadata": {},
   "source": [
    "## 5) Xgboost"
   ]
  },
  {
   "cell_type": "code",
   "execution_count": 27,
   "metadata": {},
   "outputs": [],
   "source": [
    "from xgboost import XGBClassifier"
   ]
  },
  {
   "cell_type": "code",
   "execution_count": 28,
   "metadata": {},
   "outputs": [],
   "source": [
    "xgb = XGBClassifier()"
   ]
  },
  {
   "cell_type": "code",
   "execution_count": 29,
   "metadata": {},
   "outputs": [
    {
     "data": {
      "text/plain": [
       "XGBClassifier(base_score=0.5, booster='gbtree', colsample_bylevel=1,\n",
       "              colsample_bynode=1, colsample_bytree=1, gamma=0, gpu_id=-1,\n",
       "              importance_type='gain', interaction_constraints='',\n",
       "              learning_rate=0.300000012, max_delta_step=0, max_depth=6,\n",
       "              min_child_weight=1, missing=nan, monotone_constraints='()',\n",
       "              n_estimators=100, n_jobs=0, num_parallel_tree=1, random_state=0,\n",
       "              reg_alpha=0, reg_lambda=1, scale_pos_weight=1, subsample=1,\n",
       "              tree_method='exact', validate_parameters=1, verbosity=None)"
      ]
     },
     "execution_count": 29,
     "metadata": {},
     "output_type": "execute_result"
    }
   ],
   "source": [
    "xgb.fit(X_train,y_train)"
   ]
  },
  {
   "cell_type": "code",
   "execution_count": 30,
   "metadata": {},
   "outputs": [
    {
     "data": {
      "text/plain": [
       "(0.896302692519036, 0.8925239234449761)"
      ]
     },
     "execution_count": 30,
     "metadata": {},
     "output_type": "execute_result"
    }
   ],
   "source": [
    "roc_auc_score(y_test,xgb.predc)"
   ]
  },
  {
   "cell_type": "code",
   "execution_count": 32,
   "metadata": {},
   "outputs": [
    {
     "data": {
      "text/plain": [
       "(127037, 2)"
      ]
     },
     "execution_count": 32,
     "metadata": {},
     "output_type": "execute_result"
    }
   ],
   "source": [
    "savePredictions(xgb,'Xgboost',X_pred)"
   ]
  },
  {
   "cell_type": "code",
   "execution_count": null,
   "metadata": {},
   "outputs": [],
   "source": []
  }
 ],
 "metadata": {
  "kernelspec": {
   "display_name": "Python 3",
   "language": "python",
   "name": "python3"
  },
  "language_info": {
   "codemirror_mode": {
    "name": "ipython",
    "version": 3
   },
   "file_extension": ".py",
   "mimetype": "text/x-python",
   "name": "python",
   "nbconvert_exporter": "python",
   "pygments_lexer": "ipython3",
   "version": "3.6.5"
  }
 },
 "nbformat": 4,
 "nbformat_minor": 4
}
