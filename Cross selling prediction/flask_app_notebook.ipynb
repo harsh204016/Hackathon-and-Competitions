{
 "cells": [
  {
   "cell_type": "code",
   "execution_count": 1,
   "metadata": {},
   "outputs": [
    {
     "name": "stderr",
     "output_type": "stream",
     "text": [
      "C:\\Users\\DELL\\Miniconda3\\lib\\site-packages\\dask\\dataframe\\utils.py:13: FutureWarning: pandas.util.testing is deprecated. Use the functions in the public API at pandas.testing instead.\n",
      "  import pandas.util.testing as tm\n"
     ]
    }
   ],
   "source": [
    "import gc\n",
    "import numpy as np\n",
    "import pandas as pd\n",
    "import matplotlib.pyplot as plt\n",
    "import seaborn as sns\n",
    "from sklearn.preprocessing import LabelEncoder , OneHotEncoder\n",
    "from sklearn.metrics import accuracy_score\n",
    "sns.set()\n",
    "from sklearn.model_selection import train_test_split\n",
    "from sklearn.utils import shuffle\n",
    "from sklearn.metrics import roc_auc_score\n",
    "from lightgbm import LGBMClassifier\n",
    "from scipy import stats\n",
    "from sklearn.preprocessing import StandardScaler\n",
    "from xgboost import XGBClassifier"
   ]
  },
  {
   "cell_type": "code",
   "execution_count": 2,
   "metadata": {},
   "outputs": [
    {
     "data": {
      "text/plain": [
       "((381109, 12), (127037, 11))"
      ]
     },
     "execution_count": 2,
     "metadata": {},
     "output_type": "execute_result"
    }
   ],
   "source": [
    "train = pd.read_csv('train.csv')\n",
    "test = pd.read_csv('test.csv')\n",
    "sub = pd.read_csv('sample_submission.csv')\n",
    "train.shape , test.shape"
   ]
  },
  {
   "cell_type": "markdown",
   "metadata": {},
   "source": [
    "## Important custom functions"
   ]
  },
  {
   "cell_type": "code",
   "execution_count": 3,
   "metadata": {},
   "outputs": [],
   "source": [
    "def savePredictions(model,fileName,test_values):\n",
    "    y_pred = model.predict_proba(test_values)[:,1]\n",
    "    sub['Response'] = y_pred\n",
    "    sub.to_csv(fileName+'.csv',index=False)\n",
    "    return sub\n",
    "scores = [0]\n",
    "\n",
    "def getInfo(dataset):\n",
    "    info = pd.DataFrame({'Nunuique':dataset.nunique(),'DataType':dataset.dtypes,'NullValues':dataset.isnull().sum()})\n",
    "    return info\n",
    "\n",
    "def preprocess(train):\n",
    "    sc = StandardScaler()\n",
    "    train = sc.fit_transform(train)\n",
    "    return train\n"
   ]
  },
  {
   "cell_type": "markdown",
   "metadata": {},
   "source": [
    "## Append train and test"
   ]
  },
  {
   "cell_type": "code",
   "execution_count": 4,
   "metadata": {},
   "outputs": [],
   "source": [
    "raw_data = train.append(test)\n",
    "raw_data.index = range(len(raw_data))"
   ]
  },
  {
   "cell_type": "code",
   "execution_count": 5,
   "metadata": {},
   "outputs": [],
   "source": [
    "dataset = raw_data.copy()"
   ]
  },
  {
   "cell_type": "markdown",
   "metadata": {},
   "source": [
    "## Mapping "
   ]
  },
  {
   "cell_type": "code",
   "execution_count": 6,
   "metadata": {},
   "outputs": [],
   "source": [
    "vehicle_age_map = {\"> 2 Years\":3,\"1-2 Year\":2,\"< 1 Year\":1}\n",
    "dataset[\"Vehicle_Age\"] = dataset[\"Vehicle_Age\"].map(vehicle_age_map)"
   ]
  },
  {
   "cell_type": "markdown",
   "metadata": {},
   "source": [
    "## Adding new features and binning"
   ]
  },
  {
   "cell_type": "code",
   "execution_count": 7,
   "metadata": {},
   "outputs": [],
   "source": [
    "# adding new features and binning\n",
    "\n",
    "l = []\n",
    "for i in raw_data['Age']:\n",
    "    if(i<25):l.append(1)\n",
    "    elif(i>=25 and i<35):l.append(3)\n",
    "    elif(i>=35 and i<50):l.append(4)\n",
    "    elif(i>=50 and i<60):l.append(5)\n",
    "    else:l.append(2)\n",
    "dataset['Salary'] = l\n",
    "\n",
    "Bins_Age = np.linspace(dataset['Age'].min(),dataset['Age'].max(),6)\n",
    "Bins_Annual_Premium = np.linspace(dataset['Annual_Premium'].min(),dataset['Annual_Premium'].max(),4)\n",
    "Bins_Vintage = np.linspace(dataset['Vintage'].min(),dataset['Vintage'].max(),4)\n",
    "\n",
    "dataset['Experience_level'] =  pd.cut(dataset['Age'] , Bins_Age , labels=['one','two','three','four','five'],include_lowest=True)\n",
    "dataset['Category_of_Annual_Premium'] =  pd.cut(dataset['Annual_Premium'] , Bins_Annual_Premium , labels=['low','medium','high'],include_lowest=True)\n",
    "dataset['Time_of_Trust'] = pd.cut(dataset['Vintage'] , Bins_Vintage , labels=['short','average','long'],include_lowest=True)\n",
    "\n",
    "transform_series = dataset.groupby('Vehicle_Age').size()/len(dataset)\n",
    "dataset['Vehicle_Age_ratio']= dataset['Vehicle_Age'].apply(lambda x: transform_series[x])\n",
    "\n",
    "transform_series = dataset.groupby('Policy_Sales_Channel').size()/len(dataset)\n",
    "dataset['Policy_Sales_Channel_ratio']= dataset['Policy_Sales_Channel'].apply(lambda x: transform_series[x])\n",
    "\n",
    "\n",
    "dataset['Experience_level'] =  pd.cut(dataset['Age'] , Bins_Age , labels=['one','two','three','four','five'],include_lowest=True)\n",
    "dataset['Category_of_Annual_Premium'] =  pd.cut(dataset['Annual_Premium'] , Bins_Annual_Premium , labels=['low','medium','high'],include_lowest=True)\n",
    "\n",
    "dataset['Annual_Premium']=np.log(dataset['Annual_Premium'])"
   ]
  },
  {
   "cell_type": "code",
   "execution_count": 8,
   "metadata": {},
   "outputs": [],
   "source": [
    "#db = dataset.groupby(['Gender','Vehicle_Damage']).size() \n",
    "#db2 = dataset.groupby(['Gender']).size()\n",
    "#dataset['Probab_previously_damage_per_gender'] = dataset['Gender'].apply(lambda x:db[x][1]/db2[x])"
   ]
  },
  {
   "cell_type": "markdown",
   "metadata": {},
   "source": [
    "## Label Encode the columns"
   ]
  },
  {
   "cell_type": "code",
   "execution_count": 8,
   "metadata": {},
   "outputs": [],
   "source": [
    "columns_to_be_label_encoded = ['Gender','Vehicle_Damage','Category_of_Annual_Premium','Experience_level','Time_of_Trust']\n",
    "for col in columns_to_be_label_encoded:\n",
    "    le = LabelEncoder()\n",
    "    dataset[col] = le.fit_transform(dataset[col])"
   ]
  },
  {
   "cell_type": "markdown",
   "metadata": {},
   "source": [
    "## Feature Engineering "
   ]
  },
  {
   "cell_type": "code",
   "execution_count": 24,
   "metadata": {},
   "outputs": [],
   "source": [
    "df = dataset.copy()"
   ]
  },
  {
   "cell_type": "code",
   "execution_count": 25,
   "metadata": {},
   "outputs": [],
   "source": [
    "df['Damage_sums_per_region'] = df.groupby(['Region_Code'])['Vehicle_Damage'].transform('sum')\n",
    "df['Mean_premium_per_region'] = df.groupby(['Region_Code'])['Annual_Premium'].transform('mean')\n",
    "df['Count_unique_policy_sales_per_region'] = df.groupby(['Region_Code'])['Policy_Sales_Channel'].transform('nunique')\n",
    "df['Count_policy_sales_per_region'] = df.groupby(['Region_Code'])['Policy_Sales_Channel'].transform('count')\n",
    "df['Mean_vehicle_age_per_region'] = df.groupby(['Region_Code'])['Vehicle_Age'].transform('mean')\n",
    "df['Mean_age_per_region'] = df.groupby(['Region_Code'])['Age'].transform('mean')\n",
    "df['Mean_salary_per_region'] = df.groupby(['Region_Code'])['Salary'].transform('mean')\n",
    "df['Count_previously_insured_per_region'] = df.groupby(['Region_Code'])['Previously_Insured'].transform('sum')\n",
    "df['Mean_vintage_per_region'] = df.groupby(['Region_Code'])['Vintage'].transform('mean')\n",
    "df['Max_premimum_per_region'] = df.groupby(['Region_Code'])['Annual_Premium'].transform('max')\n",
    "df['Max_premimum_per_region'] = df.groupby(['Region_Code'])['Annual_Premium'].transform('min')\n",
    "df[\"Rank_premium_per_region\"] = df.groupby(\"Region_Code\")['Annual_Premium'].rank(method=\"dense\", ascending=True)\n"
   ]
  },
  {
   "cell_type": "code",
   "execution_count": 26,
   "metadata": {},
   "outputs": [],
   "source": [
    "df['Mean_cat_premium_per_experience'] = df.groupby([\"Experience_level\"])['Category_of_Annual_Premium'].transform('mean')\n",
    "df['Mean_premium_per_experience'] = df.groupby([\"Experience_level\"])['Annual_Premium'].transform('mean')\n",
    "df['Mean_salary_per_experience'] = df.groupby([\"Experience_level\"])['Salary'].transform('mean')\n",
    "#df['Mean_vehicle_damage_per_experience'] = df.groupby([\"Experience_level\"])['Vehicle_Damage'].transform('mean')\n",
    "#df['Mean_vehicle_age_per_experience'] = df.groupby([\"Experience_level\"])['Vehicle_Age'].transform('mean')\n",
    "\n",
    "#df['mean_premium_per_vintage'] = df.groupby(['Vintage','Region_Code'])['Annual_Premium'].transform('max')\n",
    "#df['mean_AP_per_policy'] = df.groupby(['Policy_Sales_Channel'])['Annual_Premium'].transform('mean')\n",
    "#df['mean_vintage_per_policy'] = df.groupby(['Policy_Sales_Channel'])['Vintage'].transform('mean')"
   ]
  },
  {
   "cell_type": "code",
   "execution_count": 12,
   "metadata": {},
   "outputs": [],
   "source": [
    "#from sklearn import model_selection\n",
    "#test_df= df[df['Response'].isnull()==True]\n",
    "#df = df[df['Response'].isnull()==False]\n",
    "\n",
    "\n",
    "#df[\"kfold\"] =-1\n",
    "#df = df.sample(frac=1).reset_index(drop=True)\n",
    "\n",
    "#kf = model_selection.StratifiedShuffleSplit(n_splits=3,random_state=289)\n",
    "\n",
    "#for fold , (trn_,val_) in enumerate(kf.split(X=df,y=df.Response)):\n",
    "    #df.loc[val_,'kfold'] = fold\n",
    "    "
   ]
  },
  {
   "cell_type": "markdown",
   "metadata": {},
   "source": [
    "## Dividing into train and test "
   ]
  },
  {
   "cell_type": "code",
   "execution_count": 29,
   "metadata": {},
   "outputs": [
    {
     "data": {
      "text/plain": [
       "(127037, 32)"
      ]
     },
     "execution_count": 29,
     "metadata": {},
     "output_type": "execute_result"
    }
   ],
   "source": [
    "test_df.shape"
   ]
  },
  {
   "cell_type": "code",
   "execution_count": 28,
   "metadata": {},
   "outputs": [
    {
     "data": {
      "text/plain": [
       "((323942, 30), (57167, 30), (323942,), (57167,))"
      ]
     },
     "execution_count": 28,
     "metadata": {},
     "output_type": "execute_result"
    }
   ],
   "source": [
    "train_df = df[df['Response'].isnull()==False]\n",
    "test_df= df[df['Response'].isnull()==True]\n",
    "X = train_df.drop(['Response','id'],axis=1)\n",
    "y = train_df['Response'] \n",
    "X_pred =test_df.drop(['Response','id'],axis=1)\n",
    "X.shape , y.shape , X_pred.shape\n",
    "\n",
    "X_train,X_test,y_train,y_test = train_test_split(X,y,test_size=0.15,random_state =2020,stratify=y)\n",
    "X_train.shape , X_test.shape , y_train.shape , y_test.shape"
   ]
  },
  {
   "cell_type": "markdown",
   "metadata": {},
   "source": [
    "## 1) Lightgbm"
   ]
  },
  {
   "cell_type": "code",
   "execution_count": 180,
   "metadata": {},
   "outputs": [
    {
     "name": "stdout",
     "output_type": "stream",
     "text": [
      "0.8606356951658474\n",
      "0.8604924274191481\n",
      "0.8535283869901382\n",
      "0.8588697660934378\n",
      "0.8614197619497759\n",
      "0.857465223430767\n",
      "0.8563920434701153\n",
      "0.8624780409044641\n",
      "0.8552135653542067\n",
      "0.861906180889106\n"
     ]
    }
   ],
   "source": [
    "scores=[]\n",
    "c = df.drop(['Response','kfold'],axis=1)\n",
    "cols = list(c.columns)\n",
    "for i in range(10):\n",
    "    tra = df[df['kfold']!=i]\n",
    "    val = df[df['kfold']==i]\n",
    "    lgb = LGBMClassifier(boosting_type='gbdt',\n",
    "                     n_estimators=450,depth=10,learning_rate=0.03,\n",
    "                     objective='binary',metric='auc',is_unbalance=True,\n",
    "                     colsample_bytree=0.5,reg_lambda=10,\n",
    "                     reg_alpha=2,random_state=294,n_jobs=-1,\n",
    "                    )\n",
    "    \n",
    "    lgb.fit(tra[cols],tra.Response)\n",
    "    score = roc_auc_score(val.Response,lgb.predict_proba(val[cols])[:,1])\n",
    "    scores.append(score)\n",
    "    print(score)\n",
    "    "
   ]
  },
  {
   "cell_type": "code",
   "execution_count": 30,
   "metadata": {},
   "outputs": [
    {
     "data": {
      "text/plain": [
       "LGBMClassifier(colsample_bytree=0.5, depth=10, is_unbalance=True,\n",
       "               learning_rate=0.03, metric='auc', n_estimators=450,\n",
       "               objective='binary', random_state=294, reg_alpha=2,\n",
       "               reg_lambda=10)"
      ]
     },
     "execution_count": 30,
     "metadata": {},
     "output_type": "execute_result"
    }
   ],
   "source": [
    "lgb = LGBMClassifier(boosting_type='gbdt',\n",
    "                 n_estimators=450,depth=10,learning_rate=0.03,\n",
    "                 objective='binary',metric='auc',is_unbalance=True,\n",
    "                 colsample_bytree=0.5,reg_lambda=10,\n",
    "                 reg_alpha=2,random_state=294,n_jobs=-1,\n",
    "                )\n",
    "lgb.fit(X_train,y_train)"
   ]
  },
  {
   "cell_type": "code",
   "execution_count": 31,
   "metadata": {},
   "outputs": [
    {
     "name": "stdout",
     "output_type": "stream",
     "text": [
      "[0, 0.8611971020549286, 0.8586932775586228]\n"
     ]
    },
    {
     "data": {
      "text/plain": [
       "0.8586932775586228"
      ]
     },
     "execution_count": 31,
     "metadata": {},
     "output_type": "execute_result"
    }
   ],
   "source": [
    "score = roc_auc_score(y_test,lgb.predict_proba(X_test)[:,1])\n",
    "scores.append(score)\n",
    "print(scores)\n",
    "score"
   ]
  },
  {
   "cell_type": "code",
   "execution_count": 193,
   "metadata": {},
   "outputs": [
    {
     "data": {
      "text/html": [
       "<div>\n",
       "<style scoped>\n",
       "    .dataframe tbody tr th:only-of-type {\n",
       "        vertical-align: middle;\n",
       "    }\n",
       "\n",
       "    .dataframe tbody tr th {\n",
       "        vertical-align: top;\n",
       "    }\n",
       "\n",
       "    .dataframe thead th {\n",
       "        text-align: right;\n",
       "    }\n",
       "</style>\n",
       "<table border=\"1\" class=\"dataframe\">\n",
       "  <thead>\n",
       "    <tr style=\"text-align: right;\">\n",
       "      <th></th>\n",
       "      <th>id</th>\n",
       "      <th>Response</th>\n",
       "    </tr>\n",
       "  </thead>\n",
       "  <tbody>\n",
       "    <tr>\n",
       "      <th>0</th>\n",
       "      <td>381110</td>\n",
       "      <td>0.001286</td>\n",
       "    </tr>\n",
       "    <tr>\n",
       "      <th>1</th>\n",
       "      <td>381111</td>\n",
       "      <td>0.325032</td>\n",
       "    </tr>\n",
       "    <tr>\n",
       "      <th>2</th>\n",
       "      <td>381112</td>\n",
       "      <td>0.252215</td>\n",
       "    </tr>\n",
       "    <tr>\n",
       "      <th>3</th>\n",
       "      <td>381113</td>\n",
       "      <td>0.010388</td>\n",
       "    </tr>\n",
       "    <tr>\n",
       "      <th>4</th>\n",
       "      <td>381114</td>\n",
       "      <td>0.001131</td>\n",
       "    </tr>\n",
       "    <tr>\n",
       "      <th>...</th>\n",
       "      <td>...</td>\n",
       "      <td>...</td>\n",
       "    </tr>\n",
       "    <tr>\n",
       "      <th>127032</th>\n",
       "      <td>508142</td>\n",
       "      <td>0.000861</td>\n",
       "    </tr>\n",
       "    <tr>\n",
       "      <th>127033</th>\n",
       "      <td>508143</td>\n",
       "      <td>0.330292</td>\n",
       "    </tr>\n",
       "    <tr>\n",
       "      <th>127034</th>\n",
       "      <td>508144</td>\n",
       "      <td>0.000809</td>\n",
       "    </tr>\n",
       "    <tr>\n",
       "      <th>127035</th>\n",
       "      <td>508145</td>\n",
       "      <td>0.001156</td>\n",
       "    </tr>\n",
       "    <tr>\n",
       "      <th>127036</th>\n",
       "      <td>508146</td>\n",
       "      <td>0.002872</td>\n",
       "    </tr>\n",
       "  </tbody>\n",
       "</table>\n",
       "<p>127037 rows × 2 columns</p>\n",
       "</div>"
      ],
      "text/plain": [
       "            id  Response\n",
       "0       381110  0.001286\n",
       "1       381111  0.325032\n",
       "2       381112  0.252215\n",
       "3       381113  0.010388\n",
       "4       381114  0.001131\n",
       "...        ...       ...\n",
       "127032  508142  0.000861\n",
       "127033  508143  0.330292\n",
       "127034  508144  0.000809\n",
       "127035  508145  0.001156\n",
       "127036  508146  0.002872\n",
       "\n",
       "[127037 rows x 2 columns]"
      ]
     },
     "execution_count": 193,
     "metadata": {},
     "output_type": "execute_result"
    }
   ],
   "source": [
    "sub = savePredictions(lgb,'XGBClassifier',test_df[cols])\n",
    "sub"
   ]
  },
  {
   "cell_type": "code",
   "execution_count": 104,
   "metadata": {},
   "outputs": [
    {
     "data": {
      "text/html": [
       "<div>\n",
       "<style scoped>\n",
       "    .dataframe tbody tr th:only-of-type {\n",
       "        vertical-align: middle;\n",
       "    }\n",
       "\n",
       "    .dataframe tbody tr th {\n",
       "        vertical-align: top;\n",
       "    }\n",
       "\n",
       "    .dataframe thead th {\n",
       "        text-align: right;\n",
       "    }\n",
       "</style>\n",
       "<table border=\"1\" class=\"dataframe\">\n",
       "  <thead>\n",
       "    <tr style=\"text-align: right;\">\n",
       "      <th></th>\n",
       "      <th>col</th>\n",
       "      <th>imp</th>\n",
       "    </tr>\n",
       "  </thead>\n",
       "  <tbody>\n",
       "    <tr>\n",
       "      <th>30</th>\n",
       "      <td>mean_premium_per_vintage</td>\n",
       "      <td>1136</td>\n",
       "    </tr>\n",
       "    <tr>\n",
       "      <th>9</th>\n",
       "      <td>Vintage</td>\n",
       "      <td>1119</td>\n",
       "    </tr>\n",
       "    <tr>\n",
       "      <th>1</th>\n",
       "      <td>Age</td>\n",
       "      <td>1115</td>\n",
       "    </tr>\n",
       "    <tr>\n",
       "      <th>7</th>\n",
       "      <td>Annual_Premium</td>\n",
       "      <td>999</td>\n",
       "    </tr>\n",
       "    <tr>\n",
       "      <th>26</th>\n",
       "      <td>Rank_premium_per_region</td>\n",
       "      <td>894</td>\n",
       "    </tr>\n",
       "    <tr>\n",
       "      <th>8</th>\n",
       "      <td>Policy_Sales_Channel</td>\n",
       "      <td>829</td>\n",
       "    </tr>\n",
       "    <tr>\n",
       "      <th>31</th>\n",
       "      <td>mean_AP_per_policy</td>\n",
       "      <td>772</td>\n",
       "    </tr>\n",
       "    <tr>\n",
       "      <th>15</th>\n",
       "      <td>Policy_Sales_Channel_ratio</td>\n",
       "      <td>698</td>\n",
       "    </tr>\n",
       "    <tr>\n",
       "      <th>32</th>\n",
       "      <td>mean_vintage_per_policy</td>\n",
       "      <td>587</td>\n",
       "    </tr>\n",
       "    <tr>\n",
       "      <th>3</th>\n",
       "      <td>Region_Code</td>\n",
       "      <td>550</td>\n",
       "    </tr>\n",
       "    <tr>\n",
       "      <th>22</th>\n",
       "      <td>Mean_salary_per_region</td>\n",
       "      <td>458</td>\n",
       "    </tr>\n",
       "    <tr>\n",
       "      <th>17</th>\n",
       "      <td>Mean_premium_per_region</td>\n",
       "      <td>403</td>\n",
       "    </tr>\n",
       "    <tr>\n",
       "      <th>20</th>\n",
       "      <td>Mean_vehicle_age_per_region</td>\n",
       "      <td>343</td>\n",
       "    </tr>\n",
       "    <tr>\n",
       "      <th>18</th>\n",
       "      <td>Count_unique_policy_sales_per_region</td>\n",
       "      <td>343</td>\n",
       "    </tr>\n",
       "    <tr>\n",
       "      <th>24</th>\n",
       "      <td>Mean_vintage_per_region</td>\n",
       "      <td>317</td>\n",
       "    </tr>\n",
       "    <tr>\n",
       "      <th>21</th>\n",
       "      <td>Mean_age_per_region</td>\n",
       "      <td>308</td>\n",
       "    </tr>\n",
       "    <tr>\n",
       "      <th>16</th>\n",
       "      <td>Damage_sums_per_region</td>\n",
       "      <td>286</td>\n",
       "    </tr>\n",
       "    <tr>\n",
       "      <th>6</th>\n",
       "      <td>Vehicle_Damage</td>\n",
       "      <td>267</td>\n",
       "    </tr>\n",
       "    <tr>\n",
       "      <th>5</th>\n",
       "      <td>Vehicle_Age</td>\n",
       "      <td>241</td>\n",
       "    </tr>\n",
       "    <tr>\n",
       "      <th>19</th>\n",
       "      <td>Count_policy_sales_per_region</td>\n",
       "      <td>239</td>\n",
       "    </tr>\n",
       "    <tr>\n",
       "      <th>23</th>\n",
       "      <td>Count_previously_insured_per_region</td>\n",
       "      <td>231</td>\n",
       "    </tr>\n",
       "    <tr>\n",
       "      <th>14</th>\n",
       "      <td>Vehicle_Age_ratio</td>\n",
       "      <td>226</td>\n",
       "    </tr>\n",
       "    <tr>\n",
       "      <th>10</th>\n",
       "      <td>Salary</td>\n",
       "      <td>202</td>\n",
       "    </tr>\n",
       "    <tr>\n",
       "      <th>4</th>\n",
       "      <td>Previously_Insured</td>\n",
       "      <td>183</td>\n",
       "    </tr>\n",
       "    <tr>\n",
       "      <th>11</th>\n",
       "      <td>Experience_level</td>\n",
       "      <td>158</td>\n",
       "    </tr>\n",
       "    <tr>\n",
       "      <th>0</th>\n",
       "      <td>Gender</td>\n",
       "      <td>153</td>\n",
       "    </tr>\n",
       "    <tr>\n",
       "      <th>27</th>\n",
       "      <td>Mean_cat_premium_per_experience</td>\n",
       "      <td>115</td>\n",
       "    </tr>\n",
       "    <tr>\n",
       "      <th>13</th>\n",
       "      <td>Time_of_Trust</td>\n",
       "      <td>95</td>\n",
       "    </tr>\n",
       "    <tr>\n",
       "      <th>2</th>\n",
       "      <td>Driving_License</td>\n",
       "      <td>92</td>\n",
       "    </tr>\n",
       "    <tr>\n",
       "      <th>28</th>\n",
       "      <td>Mean_premium_per_experience</td>\n",
       "      <td>74</td>\n",
       "    </tr>\n",
       "    <tr>\n",
       "      <th>29</th>\n",
       "      <td>Mean_salary_per_experience</td>\n",
       "      <td>67</td>\n",
       "    </tr>\n",
       "    <tr>\n",
       "      <th>12</th>\n",
       "      <td>Category_of_Annual_Premium</td>\n",
       "      <td>0</td>\n",
       "    </tr>\n",
       "    <tr>\n",
       "      <th>25</th>\n",
       "      <td>Max_premimum_per_region</td>\n",
       "      <td>0</td>\n",
       "    </tr>\n",
       "  </tbody>\n",
       "</table>\n",
       "</div>"
      ],
      "text/plain": [
       "                                     col   imp\n",
       "30              mean_premium_per_vintage  1136\n",
       "9                                Vintage  1119\n",
       "1                                    Age  1115\n",
       "7                         Annual_Premium   999\n",
       "26               Rank_premium_per_region   894\n",
       "8                   Policy_Sales_Channel   829\n",
       "31                    mean_AP_per_policy   772\n",
       "15            Policy_Sales_Channel_ratio   698\n",
       "32               mean_vintage_per_policy   587\n",
       "3                            Region_Code   550\n",
       "22                Mean_salary_per_region   458\n",
       "17               Mean_premium_per_region   403\n",
       "20           Mean_vehicle_age_per_region   343\n",
       "18  Count_unique_policy_sales_per_region   343\n",
       "24               Mean_vintage_per_region   317\n",
       "21                   Mean_age_per_region   308\n",
       "16                Damage_sums_per_region   286\n",
       "6                         Vehicle_Damage   267\n",
       "5                            Vehicle_Age   241\n",
       "19         Count_policy_sales_per_region   239\n",
       "23   Count_previously_insured_per_region   231\n",
       "14                     Vehicle_Age_ratio   226\n",
       "10                                Salary   202\n",
       "4                     Previously_Insured   183\n",
       "11                      Experience_level   158\n",
       "0                                 Gender   153\n",
       "27       Mean_cat_premium_per_experience   115\n",
       "13                         Time_of_Trust    95\n",
       "2                        Driving_License    92\n",
       "28           Mean_premium_per_experience    74\n",
       "29            Mean_salary_per_experience    67\n",
       "12            Category_of_Annual_Premium     0\n",
       "25               Max_premimum_per_region     0"
      ]
     },
     "execution_count": 104,
     "metadata": {},
     "output_type": "execute_result"
    }
   ],
   "source": [
    "d = pd.DataFrame()\n",
    "d['col'] = X_test.columns\n",
    "d['imp'] = lgb.feature_importances_\n",
    "d.sort_values('imp',ascending=False).head(45)"
   ]
  },
  {
   "cell_type": "code",
   "execution_count": 32,
   "metadata": {},
   "outputs": [],
   "source": [
    "## for saving the model\n",
    "\n",
    "import pickle\n",
    "pickle_out = open(\"Classifier.pkl\",\"wb\")\n",
    "pickle.dump(lgb , pickle_out)\n",
    "pickle_out.close()"
   ]
  },
  {
   "cell_type": "code",
   "execution_count": 33,
   "metadata": {},
   "outputs": [
    {
     "data": {
      "text/plain": [
       "(127037, 30)"
      ]
     },
     "execution_count": 33,
     "metadata": {},
     "output_type": "execute_result"
    }
   ],
   "source": [
    "X_pred.shape"
   ]
  },
  {
   "cell_type": "code",
   "execution_count": 34,
   "metadata": {},
   "outputs": [],
   "source": [
    "l = pickle.load(open('Classifier.pkl','rb'))"
   ]
  },
  {
   "cell_type": "code",
   "execution_count": 35,
   "metadata": {},
   "outputs": [
    {
     "data": {
      "text/plain": [
       "array([1.])"
      ]
     },
     "execution_count": 35,
     "metadata": {},
     "output_type": "execute_result"
    }
   ],
   "source": [
    "l.predict(X_pred.iloc[1,:].values.reshape(1,30))"
   ]
  },
  {
   "cell_type": "code",
   "execution_count": null,
   "metadata": {},
   "outputs": [],
   "source": []
  }
 ],
 "metadata": {
  "kernelspec": {
   "display_name": "Python 3",
   "language": "python",
   "name": "python3"
  },
  "language_info": {
   "codemirror_mode": {
    "name": "ipython",
    "version": 3
   },
   "file_extension": ".py",
   "mimetype": "text/x-python",
   "name": "python",
   "nbconvert_exporter": "python",
   "pygments_lexer": "ipython3",
   "version": "3.6.5"
  }
 },
 "nbformat": 4,
 "nbformat_minor": 4
}
