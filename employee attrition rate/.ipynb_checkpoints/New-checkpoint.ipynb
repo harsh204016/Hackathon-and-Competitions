{
 "cells": [
  {
   "cell_type": "markdown",
   "metadata": {},
   "source": [
    "# Importing required Libraries"
   ]
  },
  {
   "cell_type": "code",
   "execution_count": 1,
   "metadata": {},
   "outputs": [],
   "source": [
    "import numpy as np\n",
    "import pandas as pd\n",
    "import matplotlib.pyplot as plt\n",
    "import seaborn as sns\n",
    "from sklearn.preprocessing import StandardScaler\n",
    "from sklearn.model_selection import train_test_split\n",
    "from sklearn import tree\n",
    "from sklearn import metrics\n",
    "from sklearn.metrics import confusion_matrix\n",
    "from sklearn.metrics import classification_report\n",
    "import warnings\n",
    "warnings.filterwarnings('ignore')\n",
    "%matplotlib inline"
   ]
  },
  {
   "cell_type": "markdown",
   "metadata": {},
   "source": [
    "# Reading the training and  test data"
   ]
  },
  {
   "cell_type": "code",
   "execution_count": 2,
   "metadata": {},
   "outputs": [],
   "source": [
    "train = pd.read_csv(\"Train.csv\")\n",
    "test = pd.read_csv(\"Test.csv\")"
   ]
  },
  {
   "cell_type": "code",
   "execution_count": 3,
   "metadata": {},
   "outputs": [
    {
     "data": {
      "text/plain": [
       "((7000, 24), (3000, 23))"
      ]
     },
     "execution_count": 3,
     "metadata": {},
     "output_type": "execute_result"
    }
   ],
   "source": [
    "train.shape , test.shape"
   ]
  },
  {
   "cell_type": "markdown",
   "metadata": {},
   "source": [
    "# Appending train and test dataset "
   ]
  },
  {
   "cell_type": "code",
   "execution_count": 4,
   "metadata": {},
   "outputs": [],
   "source": [
    "data=train.append(test)"
   ]
  },
  {
   "cell_type": "code",
   "execution_count": 5,
   "metadata": {},
   "outputs": [
    {
     "data": {
      "text/plain": [
       "(10000, 24)"
      ]
     },
     "execution_count": 5,
     "metadata": {},
     "output_type": "execute_result"
    }
   ],
   "source": [
    "data.shape"
   ]
  },
  {
   "cell_type": "code",
   "execution_count": 6,
   "metadata": {},
   "outputs": [
    {
     "data": {
      "text/html": [
       "<div>\n",
       "<style scoped>\n",
       "    .dataframe tbody tr th:only-of-type {\n",
       "        vertical-align: middle;\n",
       "    }\n",
       "\n",
       "    .dataframe tbody tr th {\n",
       "        vertical-align: top;\n",
       "    }\n",
       "\n",
       "    .dataframe thead th {\n",
       "        text-align: right;\n",
       "    }\n",
       "</style>\n",
       "<table border=\"1\" class=\"dataframe\">\n",
       "  <thead>\n",
       "    <tr style=\"text-align: right;\">\n",
       "      <th></th>\n",
       "      <th>Age</th>\n",
       "      <th>Attrition_rate</th>\n",
       "      <th>Compensation_and_Benefits</th>\n",
       "      <th>Decision_skill_possess</th>\n",
       "      <th>Education_Level</th>\n",
       "      <th>Employee_ID</th>\n",
       "      <th>Gender</th>\n",
       "      <th>Hometown</th>\n",
       "      <th>Pay_Scale</th>\n",
       "      <th>Post_Level</th>\n",
       "      <th>...</th>\n",
       "      <th>Unit</th>\n",
       "      <th>VAR1</th>\n",
       "      <th>VAR2</th>\n",
       "      <th>VAR3</th>\n",
       "      <th>VAR4</th>\n",
       "      <th>VAR5</th>\n",
       "      <th>VAR6</th>\n",
       "      <th>VAR7</th>\n",
       "      <th>Work_Life_balance</th>\n",
       "      <th>growth_rate</th>\n",
       "    </tr>\n",
       "  </thead>\n",
       "  <tbody>\n",
       "    <tr>\n",
       "      <th>2995</th>\n",
       "      <td>32.0</td>\n",
       "      <td>NaN</td>\n",
       "      <td>type2</td>\n",
       "      <td>Directive</td>\n",
       "      <td>3</td>\n",
       "      <td>EID_22547</td>\n",
       "      <td>F</td>\n",
       "      <td>Franklin</td>\n",
       "      <td>6.0</td>\n",
       "      <td>3</td>\n",
       "      <td>...</td>\n",
       "      <td>Sales</td>\n",
       "      <td>1</td>\n",
       "      <td>-0.1048</td>\n",
       "      <td>0.7075</td>\n",
       "      <td>1.0</td>\n",
       "      <td>4</td>\n",
       "      <td>7</td>\n",
       "      <td>4</td>\n",
       "      <td>2.0</td>\n",
       "      <td>38</td>\n",
       "    </tr>\n",
       "    <tr>\n",
       "      <th>2996</th>\n",
       "      <td>NaN</td>\n",
       "      <td>NaN</td>\n",
       "      <td>type2</td>\n",
       "      <td>Conceptual</td>\n",
       "      <td>2</td>\n",
       "      <td>EID_10066</td>\n",
       "      <td>F</td>\n",
       "      <td>Franklin</td>\n",
       "      <td>9.0</td>\n",
       "      <td>4</td>\n",
       "      <td>...</td>\n",
       "      <td>Marketing</td>\n",
       "      <td>3</td>\n",
       "      <td>0.7516</td>\n",
       "      <td>0.7075</td>\n",
       "      <td>3.0</td>\n",
       "      <td>4</td>\n",
       "      <td>8</td>\n",
       "      <td>3</td>\n",
       "      <td>1.0</td>\n",
       "      <td>57</td>\n",
       "    </tr>\n",
       "    <tr>\n",
       "      <th>2997</th>\n",
       "      <td>60.0</td>\n",
       "      <td>NaN</td>\n",
       "      <td>type3</td>\n",
       "      <td>Analytical</td>\n",
       "      <td>4</td>\n",
       "      <td>EID_7126</td>\n",
       "      <td>F</td>\n",
       "      <td>Lebanon</td>\n",
       "      <td>9.0</td>\n",
       "      <td>2</td>\n",
       "      <td>...</td>\n",
       "      <td>Logistics</td>\n",
       "      <td>3</td>\n",
       "      <td>-1.8176</td>\n",
       "      <td>-0.4537</td>\n",
       "      <td>NaN</td>\n",
       "      <td>4</td>\n",
       "      <td>8</td>\n",
       "      <td>4</td>\n",
       "      <td>3.0</td>\n",
       "      <td>69</td>\n",
       "    </tr>\n",
       "    <tr>\n",
       "      <th>2998</th>\n",
       "      <td>51.0</td>\n",
       "      <td>NaN</td>\n",
       "      <td>type3</td>\n",
       "      <td>Behavioral</td>\n",
       "      <td>1</td>\n",
       "      <td>EID_4929</td>\n",
       "      <td>F</td>\n",
       "      <td>Springfield</td>\n",
       "      <td>6.0</td>\n",
       "      <td>2</td>\n",
       "      <td>...</td>\n",
       "      <td>IT</td>\n",
       "      <td>5</td>\n",
       "      <td>0.7516</td>\n",
       "      <td>-0.4537</td>\n",
       "      <td>2.0</td>\n",
       "      <td>3</td>\n",
       "      <td>9</td>\n",
       "      <td>2</td>\n",
       "      <td>1.0</td>\n",
       "      <td>30</td>\n",
       "    </tr>\n",
       "    <tr>\n",
       "      <th>2999</th>\n",
       "      <td>45.0</td>\n",
       "      <td>NaN</td>\n",
       "      <td>type4</td>\n",
       "      <td>Directive</td>\n",
       "      <td>1</td>\n",
       "      <td>EID_24750</td>\n",
       "      <td>F</td>\n",
       "      <td>Franklin</td>\n",
       "      <td>8.0</td>\n",
       "      <td>2</td>\n",
       "      <td>...</td>\n",
       "      <td>Sales</td>\n",
       "      <td>3</td>\n",
       "      <td>0.7516</td>\n",
       "      <td>-0.4537</td>\n",
       "      <td>2.0</td>\n",
       "      <td>2</td>\n",
       "      <td>8</td>\n",
       "      <td>5</td>\n",
       "      <td>4.0</td>\n",
       "      <td>70</td>\n",
       "    </tr>\n",
       "  </tbody>\n",
       "</table>\n",
       "<p>5 rows × 24 columns</p>\n",
       "</div>"
      ],
      "text/plain": [
       "       Age  Attrition_rate Compensation_and_Benefits Decision_skill_possess  \\\n",
       "2995  32.0             NaN                     type2              Directive   \n",
       "2996   NaN             NaN                     type2             Conceptual   \n",
       "2997  60.0             NaN                     type3             Analytical   \n",
       "2998  51.0             NaN                     type3             Behavioral   \n",
       "2999  45.0             NaN                     type4              Directive   \n",
       "\n",
       "      Education_Level Employee_ID Gender     Hometown  Pay_Scale  Post_Level  \\\n",
       "2995                3   EID_22547      F     Franklin        6.0           3   \n",
       "2996                2   EID_10066      F     Franklin        9.0           4   \n",
       "2997                4    EID_7126      F      Lebanon        9.0           2   \n",
       "2998                1    EID_4929      F  Springfield        6.0           2   \n",
       "2999                1   EID_24750      F     Franklin        8.0           2   \n",
       "\n",
       "      ...       Unit  VAR1    VAR2    VAR3 VAR4  VAR5  VAR6  VAR7  \\\n",
       "2995  ...      Sales     1 -0.1048  0.7075  1.0     4     7     4   \n",
       "2996  ...  Marketing     3  0.7516  0.7075  3.0     4     8     3   \n",
       "2997  ...  Logistics     3 -1.8176 -0.4537  NaN     4     8     4   \n",
       "2998  ...         IT     5  0.7516 -0.4537  2.0     3     9     2   \n",
       "2999  ...      Sales     3  0.7516 -0.4537  2.0     2     8     5   \n",
       "\n",
       "      Work_Life_balance  growth_rate  \n",
       "2995                2.0           38  \n",
       "2996                1.0           57  \n",
       "2997                3.0           69  \n",
       "2998                1.0           30  \n",
       "2999                4.0           70  \n",
       "\n",
       "[5 rows x 24 columns]"
      ]
     },
     "execution_count": 6,
     "metadata": {},
     "output_type": "execute_result"
    }
   ],
   "source": [
    "data.tail()"
   ]
  },
  {
   "cell_type": "markdown",
   "metadata": {},
   "source": [
    "# Splitting for X and Y"
   ]
  },
  {
   "cell_type": "code",
   "execution_count": 66,
   "metadata": {},
   "outputs": [
    {
     "data": {
      "text/plain": [
       "pandas.core.frame.DataFrame"
      ]
     },
     "execution_count": 66,
     "metadata": {},
     "output_type": "execute_result"
    }
   ],
   "source": [
    "X = data.drop(['Attrition_rate','Employee_ID'],axis=1)\n",
    "Y = data['Attrition_rate']\n",
    "z=data.iloc[:,:]\n",
    "type(z)"
   ]
  },
  {
   "cell_type": "code",
   "execution_count": 8,
   "metadata": {},
   "outputs": [
    {
     "data": {
      "text/plain": [
       "Age                          float64\n",
       "Compensation_and_Benefits     object\n",
       "Decision_skill_possess        object\n",
       "Education_Level                int64\n",
       "Gender                        object\n",
       "Hometown                      object\n",
       "Pay_Scale                    float64\n",
       "Post_Level                     int64\n",
       "Relationship_Status           object\n",
       "Time_of_service              float64\n",
       "Time_since_promotion           int64\n",
       "Travel_Rate                    int64\n",
       "Unit                          object\n",
       "VAR1                           int64\n",
       "VAR2                         float64\n",
       "VAR3                         float64\n",
       "VAR4                         float64\n",
       "VAR5                           int64\n",
       "VAR6                           int64\n",
       "VAR7                           int64\n",
       "Work_Life_balance            float64\n",
       "growth_rate                    int64\n",
       "dtype: object"
      ]
     },
     "execution_count": 8,
     "metadata": {},
     "output_type": "execute_result"
    }
   ],
   "source": [
    "X.dtypes #checking for the datatype of the features the X dataset"
   ]
  },
  {
   "cell_type": "markdown",
   "metadata": {},
   "source": [
    "# Data visualization on combined Data"
   ]
  },
  {
   "cell_type": "code",
   "execution_count": 9,
   "metadata": {},
   "outputs": [
    {
     "data": {
      "text/plain": [
       "((10000, 22),\n",
       " Index(['Age', 'Compensation_and_Benefits', 'Decision_skill_possess',\n",
       "        'Education_Level', 'Gender', 'Hometown', 'Pay_Scale', 'Post_Level',\n",
       "        'Relationship_Status', 'Time_of_service', 'Time_since_promotion',\n",
       "        'Travel_Rate', 'Unit', 'VAR1', 'VAR2', 'VAR3', 'VAR4', 'VAR5', 'VAR6',\n",
       "        'VAR7', 'Work_Life_balance', 'growth_rate'],\n",
       "       dtype='object'))"
      ]
     },
     "execution_count": 9,
     "metadata": {},
     "output_type": "execute_result"
    }
   ],
   "source": [
    "X.shape,X.columns"
   ]
  },
  {
   "cell_type": "code",
   "execution_count": 10,
   "metadata": {},
   "outputs": [
    {
     "data": {
      "text/html": [
       "<div>\n",
       "<style scoped>\n",
       "    .dataframe tbody tr th:only-of-type {\n",
       "        vertical-align: middle;\n",
       "    }\n",
       "\n",
       "    .dataframe tbody tr th {\n",
       "        vertical-align: top;\n",
       "    }\n",
       "\n",
       "    .dataframe thead th {\n",
       "        text-align: right;\n",
       "    }\n",
       "</style>\n",
       "<table border=\"1\" class=\"dataframe\">\n",
       "  <thead>\n",
       "    <tr style=\"text-align: right;\">\n",
       "      <th></th>\n",
       "      <th>Age</th>\n",
       "      <th>Education_Level</th>\n",
       "      <th>Pay_Scale</th>\n",
       "      <th>Post_Level</th>\n",
       "      <th>Time_of_service</th>\n",
       "      <th>Time_since_promotion</th>\n",
       "      <th>Travel_Rate</th>\n",
       "      <th>VAR1</th>\n",
       "      <th>VAR2</th>\n",
       "      <th>VAR3</th>\n",
       "      <th>VAR4</th>\n",
       "      <th>VAR5</th>\n",
       "      <th>VAR6</th>\n",
       "      <th>VAR7</th>\n",
       "      <th>Work_Life_balance</th>\n",
       "      <th>growth_rate</th>\n",
       "    </tr>\n",
       "  </thead>\n",
       "  <tbody>\n",
       "    <tr>\n",
       "      <th>count</th>\n",
       "      <td>9427.000000</td>\n",
       "      <td>10000.000000</td>\n",
       "      <td>9988.000000</td>\n",
       "      <td>10000.000000</td>\n",
       "      <td>9804.000000</td>\n",
       "      <td>10000.00000</td>\n",
       "      <td>10000.000000</td>\n",
       "      <td>10000.000000</td>\n",
       "      <td>9206.000000</td>\n",
       "      <td>10000.000000</td>\n",
       "      <td>9046.000000</td>\n",
       "      <td>10000.000000</td>\n",
       "      <td>10000.000000</td>\n",
       "      <td>10000.000000</td>\n",
       "      <td>9984.000000</td>\n",
       "      <td>10000.000000</td>\n",
       "    </tr>\n",
       "    <tr>\n",
       "      <th>mean</th>\n",
       "      <td>39.675507</td>\n",
       "      <td>3.199400</td>\n",
       "      <td>6.022627</td>\n",
       "      <td>2.797000</td>\n",
       "      <td>13.390657</td>\n",
       "      <td>2.37860</td>\n",
       "      <td>0.820700</td>\n",
       "      <td>3.089100</td>\n",
       "      <td>0.002653</td>\n",
       "      <td>-0.005826</td>\n",
       "      <td>1.895976</td>\n",
       "      <td>2.834800</td>\n",
       "      <td>7.110000</td>\n",
       "      <td>3.249600</td>\n",
       "      <td>2.385817</td>\n",
       "      <td>47.008400</td>\n",
       "    </tr>\n",
       "    <tr>\n",
       "      <th>std</th>\n",
       "      <td>13.574856</td>\n",
       "      <td>1.065436</td>\n",
       "      <td>2.070087</td>\n",
       "      <td>1.171037</td>\n",
       "      <td>10.311381</td>\n",
       "      <td>1.14978</td>\n",
       "      <td>0.646524</td>\n",
       "      <td>0.831884</td>\n",
       "      <td>0.992949</td>\n",
       "      <td>0.990812</td>\n",
       "      <td>0.533987</td>\n",
       "      <td>0.939466</td>\n",
       "      <td>1.160877</td>\n",
       "      <td>0.918795</td>\n",
       "      <td>1.128782</td>\n",
       "      <td>15.848553</td>\n",
       "    </tr>\n",
       "    <tr>\n",
       "      <th>min</th>\n",
       "      <td>19.000000</td>\n",
       "      <td>1.000000</td>\n",
       "      <td>1.000000</td>\n",
       "      <td>1.000000</td>\n",
       "      <td>0.000000</td>\n",
       "      <td>0.00000</td>\n",
       "      <td>0.000000</td>\n",
       "      <td>1.000000</td>\n",
       "      <td>-1.817600</td>\n",
       "      <td>-2.776200</td>\n",
       "      <td>1.000000</td>\n",
       "      <td>1.000000</td>\n",
       "      <td>5.000000</td>\n",
       "      <td>1.000000</td>\n",
       "      <td>1.000000</td>\n",
       "      <td>20.000000</td>\n",
       "    </tr>\n",
       "    <tr>\n",
       "      <th>25%</th>\n",
       "      <td>27.000000</td>\n",
       "      <td>3.000000</td>\n",
       "      <td>5.000000</td>\n",
       "      <td>2.000000</td>\n",
       "      <td>5.000000</td>\n",
       "      <td>1.00000</td>\n",
       "      <td>0.000000</td>\n",
       "      <td>3.000000</td>\n",
       "      <td>-0.961200</td>\n",
       "      <td>-0.453700</td>\n",
       "      <td>2.000000</td>\n",
       "      <td>2.000000</td>\n",
       "      <td>6.000000</td>\n",
       "      <td>3.000000</td>\n",
       "      <td>1.000000</td>\n",
       "      <td>33.000000</td>\n",
       "    </tr>\n",
       "    <tr>\n",
       "      <th>50%</th>\n",
       "      <td>38.000000</td>\n",
       "      <td>3.000000</td>\n",
       "      <td>6.000000</td>\n",
       "      <td>3.000000</td>\n",
       "      <td>10.000000</td>\n",
       "      <td>2.00000</td>\n",
       "      <td>1.000000</td>\n",
       "      <td>3.000000</td>\n",
       "      <td>-0.104800</td>\n",
       "      <td>-0.453700</td>\n",
       "      <td>2.000000</td>\n",
       "      <td>3.000000</td>\n",
       "      <td>7.000000</td>\n",
       "      <td>3.000000</td>\n",
       "      <td>2.000000</td>\n",
       "      <td>47.000000</td>\n",
       "    </tr>\n",
       "    <tr>\n",
       "      <th>75%</th>\n",
       "      <td>52.000000</td>\n",
       "      <td>4.000000</td>\n",
       "      <td>8.000000</td>\n",
       "      <td>4.000000</td>\n",
       "      <td>21.000000</td>\n",
       "      <td>3.00000</td>\n",
       "      <td>1.000000</td>\n",
       "      <td>3.000000</td>\n",
       "      <td>0.751600</td>\n",
       "      <td>0.707500</td>\n",
       "      <td>2.000000</td>\n",
       "      <td>3.000000</td>\n",
       "      <td>8.000000</td>\n",
       "      <td>4.000000</td>\n",
       "      <td>3.000000</td>\n",
       "      <td>61.000000</td>\n",
       "    </tr>\n",
       "    <tr>\n",
       "      <th>max</th>\n",
       "      <td>65.000000</td>\n",
       "      <td>5.000000</td>\n",
       "      <td>10.000000</td>\n",
       "      <td>5.000000</td>\n",
       "      <td>43.000000</td>\n",
       "      <td>4.00000</td>\n",
       "      <td>2.000000</td>\n",
       "      <td>5.000000</td>\n",
       "      <td>1.608100</td>\n",
       "      <td>1.868800</td>\n",
       "      <td>3.000000</td>\n",
       "      <td>5.000000</td>\n",
       "      <td>9.000000</td>\n",
       "      <td>5.000000</td>\n",
       "      <td>5.000000</td>\n",
       "      <td>74.000000</td>\n",
       "    </tr>\n",
       "  </tbody>\n",
       "</table>\n",
       "</div>"
      ],
      "text/plain": [
       "               Age  Education_Level    Pay_Scale    Post_Level  \\\n",
       "count  9427.000000     10000.000000  9988.000000  10000.000000   \n",
       "mean     39.675507         3.199400     6.022627      2.797000   \n",
       "std      13.574856         1.065436     2.070087      1.171037   \n",
       "min      19.000000         1.000000     1.000000      1.000000   \n",
       "25%      27.000000         3.000000     5.000000      2.000000   \n",
       "50%      38.000000         3.000000     6.000000      3.000000   \n",
       "75%      52.000000         4.000000     8.000000      4.000000   \n",
       "max      65.000000         5.000000    10.000000      5.000000   \n",
       "\n",
       "       Time_of_service  Time_since_promotion   Travel_Rate          VAR1  \\\n",
       "count      9804.000000           10000.00000  10000.000000  10000.000000   \n",
       "mean         13.390657               2.37860      0.820700      3.089100   \n",
       "std          10.311381               1.14978      0.646524      0.831884   \n",
       "min           0.000000               0.00000      0.000000      1.000000   \n",
       "25%           5.000000               1.00000      0.000000      3.000000   \n",
       "50%          10.000000               2.00000      1.000000      3.000000   \n",
       "75%          21.000000               3.00000      1.000000      3.000000   \n",
       "max          43.000000               4.00000      2.000000      5.000000   \n",
       "\n",
       "              VAR2          VAR3         VAR4          VAR5          VAR6  \\\n",
       "count  9206.000000  10000.000000  9046.000000  10000.000000  10000.000000   \n",
       "mean      0.002653     -0.005826     1.895976      2.834800      7.110000   \n",
       "std       0.992949      0.990812     0.533987      0.939466      1.160877   \n",
       "min      -1.817600     -2.776200     1.000000      1.000000      5.000000   \n",
       "25%      -0.961200     -0.453700     2.000000      2.000000      6.000000   \n",
       "50%      -0.104800     -0.453700     2.000000      3.000000      7.000000   \n",
       "75%       0.751600      0.707500     2.000000      3.000000      8.000000   \n",
       "max       1.608100      1.868800     3.000000      5.000000      9.000000   \n",
       "\n",
       "               VAR7  Work_Life_balance   growth_rate  \n",
       "count  10000.000000        9984.000000  10000.000000  \n",
       "mean       3.249600           2.385817     47.008400  \n",
       "std        0.918795           1.128782     15.848553  \n",
       "min        1.000000           1.000000     20.000000  \n",
       "25%        3.000000           1.000000     33.000000  \n",
       "50%        3.000000           2.000000     47.000000  \n",
       "75%        4.000000           3.000000     61.000000  \n",
       "max        5.000000           5.000000     74.000000  "
      ]
     },
     "execution_count": 10,
     "metadata": {},
     "output_type": "execute_result"
    }
   ],
   "source": [
    "X.describe()"
   ]
  },
  {
   "cell_type": "code",
   "execution_count": 11,
   "metadata": {},
   "outputs": [
    {
     "name": "stdout",
     "output_type": "stream",
     "text": [
      "<class 'pandas.core.frame.DataFrame'>\n",
      "Int64Index: 10000 entries, 0 to 2999\n",
      "Data columns (total 22 columns):\n",
      "Age                          9427 non-null float64\n",
      "Compensation_and_Benefits    10000 non-null object\n",
      "Decision_skill_possess       10000 non-null object\n",
      "Education_Level              10000 non-null int64\n",
      "Gender                       10000 non-null object\n",
      "Hometown                     10000 non-null object\n",
      "Pay_Scale                    9988 non-null float64\n",
      "Post_Level                   10000 non-null int64\n",
      "Relationship_Status          10000 non-null object\n",
      "Time_of_service              9804 non-null float64\n",
      "Time_since_promotion         10000 non-null int64\n",
      "Travel_Rate                  10000 non-null int64\n",
      "Unit                         10000 non-null object\n",
      "VAR1                         10000 non-null int64\n",
      "VAR2                         9206 non-null float64\n",
      "VAR3                         10000 non-null float64\n",
      "VAR4                         9046 non-null float64\n",
      "VAR5                         10000 non-null int64\n",
      "VAR6                         10000 non-null int64\n",
      "VAR7                         10000 non-null int64\n",
      "Work_Life_balance            9984 non-null float64\n",
      "growth_rate                  10000 non-null int64\n",
      "dtypes: float64(7), int64(9), object(6)\n",
      "memory usage: 1.8+ MB\n"
     ]
    }
   ],
   "source": [
    "X.info()"
   ]
  },
  {
   "cell_type": "code",
   "execution_count": 12,
   "metadata": {},
   "outputs": [
    {
     "data": {
      "text/plain": [
       "Age                          573\n",
       "Compensation_and_Benefits      0\n",
       "Decision_skill_possess         0\n",
       "Education_Level                0\n",
       "Gender                         0\n",
       "Hometown                       0\n",
       "Pay_Scale                     12\n",
       "Post_Level                     0\n",
       "Relationship_Status            0\n",
       "Time_of_service              196\n",
       "Time_since_promotion           0\n",
       "Travel_Rate                    0\n",
       "Unit                           0\n",
       "VAR1                           0\n",
       "VAR2                         794\n",
       "VAR3                           0\n",
       "VAR4                         954\n",
       "VAR5                           0\n",
       "VAR6                           0\n",
       "VAR7                           0\n",
       "Work_Life_balance             16\n",
       "growth_rate                    0\n",
       "dtype: int64"
      ]
     },
     "execution_count": 12,
     "metadata": {},
     "output_type": "execute_result"
    }
   ],
   "source": [
    "X.isnull().sum()"
   ]
  },
  {
   "cell_type": "markdown",
   "metadata": {},
   "source": [
    "# Explolatory Data Analysis"
   ]
  },
  {
   "cell_type": "markdown",
   "metadata": {},
   "source": [
    "Lets start exploring by checking out missing data"
   ]
  },
  {
   "cell_type": "markdown",
   "metadata": {},
   "source": [
    "We will use countplot method of seaborn library for the better visualization"
   ]
  },
  {
   "cell_type": "code",
   "execution_count": null,
   "metadata": {},
   "outputs": [],
   "source": [
    "#sns.set_style(\"whitegrid\")\n",
    "#sns.countplot(x='Relationship_Status',hue='Gender',data=data,palette='RdBu_r')"
   ]
  },
  {
   "cell_type": "markdown",
   "metadata": {},
   "source": [
    "# 1) Age"
   ]
  },
  {
   "cell_type": "markdown",
   "metadata": {},
   "source": [
    "Using boxplot() function of seaborn"
   ]
  },
  {
   "cell_type": "code",
   "execution_count": 13,
   "metadata": {},
   "outputs": [
    {
     "data": {
      "text/plain": [
       "<matplotlib.axes._subplots.AxesSubplot at 0x7ff669c3d990>"
      ]
     },
     "execution_count": 13,
     "metadata": {},
     "output_type": "execute_result"
    },
    {
     "data": {
      "image/png": "[encoded data removed]",
      "text/plain": [
       "<Figure size 864x504 with 1 Axes>"
      ]
     },
     "metadata": {
      "needs_background": "light"
     },
     "output_type": "display_data"
    }
   ],
   "source": [
    "plt.figure(figsize=(12,7))\n",
    "sns.boxplot(x='Post_Level',y='Age',data=X,palette='winter')"
   ]
  },
  {
   "cell_type": "markdown",
   "metadata": {},
   "source": [
    "Filling the missing values of Age feature on the basis of the Post_Level"
   ]
  },
  {
   "cell_type": "code",
   "execution_count": 14,
   "metadata": {},
   "outputs": [],
   "source": [
    "def impute_age(cols):\n",
    "    age=cols[0];post_lvl=cols[1];\n",
    "    if(pd.isnull(age)):\n",
    "        if(post_lvl==1):return 41\n",
    "        elif(post_lvl==2 or post_lvl==5 or post_lvl==5):return 37\n",
    "        else:return 38.5\n",
    "    else:return age"
   ]
  },
  {
   "cell_type": "markdown",
   "metadata": {},
   "source": [
    "using apply() func to fill the missing values"
   ]
  },
  {
   "cell_type": "code",
   "execution_count": 15,
   "metadata": {},
   "outputs": [
    {
     "data": {
      "text/plain": [
       "13.574856214527793"
      ]
     },
     "execution_count": 15,
     "metadata": {},
     "output_type": "execute_result"
    }
   ],
   "source": [
    "#if used mode() as a filler , the standard Deviation would be more \n",
    "(data.Age.fillna(data.Age.mode())).std() "
   ]
  },
  {
   "cell_type": "code",
   "execution_count": 16,
   "metadata": {},
   "outputs": [
    {
     "data": {
      "text/plain": [
       "13.180159676822795"
      ]
     },
     "execution_count": 16,
     "metadata": {},
     "output_type": "execute_result"
    }
   ],
   "source": [
    "#if used mean() as a filler , the standard Deviation would be more (Best)\n",
    "(data.Age.fillna(data.Age.mean())).std() "
   ]
  },
  {
   "cell_type": "code",
   "execution_count": 17,
   "metadata": {},
   "outputs": [
    {
     "data": {
      "text/plain": [
       "13.185911670288773"
      ]
     },
     "execution_count": 17,
     "metadata": {},
     "output_type": "execute_result"
    }
   ],
   "source": [
    "#if used median() as a filler , the standard Deviation would be more \n",
    "(data.Age.fillna(data.Age.median())).std() "
   ]
  },
  {
   "cell_type": "markdown",
   "metadata": {},
   "source": [
    "Among the mean() , mode() ,median() and our method impute_Age() , the best is the mean() as it has the least Standard deviation among the 4, so we will restart kernel and use mean to fill the missing values"
   ]
  },
  {
   "cell_type": "code",
   "execution_count": 18,
   "metadata": {},
   "outputs": [],
   "source": [
    "#X['Age']=X[['Age','Post_Level']].apply(impute_age,axis=1) (Not this)\n",
    "X['Age'].fillna(X['Age'].mean(),inplace=True)"
   ]
  },
  {
   "cell_type": "code",
   "execution_count": 19,
   "metadata": {},
   "outputs": [
    {
     "data": {
      "text/plain": [
       "0"
      ]
     },
     "execution_count": 19,
     "metadata": {},
     "output_type": "execute_result"
    }
   ],
   "source": [
    "X[\"Age\"].isnull().sum()"
   ]
  },
  {
   "cell_type": "markdown",
   "metadata": {},
   "source": [
    "# 2) Pay_Scale"
   ]
  },
  {
   "cell_type": "code",
   "execution_count": 20,
   "metadata": {},
   "outputs": [
    {
     "data": {
      "text/plain": [
       "count    9988.000000\n",
       "mean        6.022627\n",
       "std         2.070087\n",
       "min         1.000000\n",
       "25%         5.000000\n",
       "50%         6.000000\n",
       "75%         8.000000\n",
       "max        10.000000\n",
       "Name: Pay_Scale, dtype: float64"
      ]
     },
     "execution_count": 20,
     "metadata": {},
     "output_type": "execute_result"
    }
   ],
   "source": [
    "X.Pay_Scale.describe()"
   ]
  },
  {
   "cell_type": "code",
   "execution_count": 21,
   "metadata": {},
   "outputs": [
    {
     "data": {
      "text/plain": [
       "8.0     1964\n",
       "6.0     1820\n",
       "5.0     1640\n",
       "4.0     1405\n",
       "7.0     1163\n",
       "9.0      703\n",
       "2.0      383\n",
       "3.0      366\n",
       "10.0     314\n",
       "1.0      230\n",
       "Name: Pay_Scale, dtype: int64"
      ]
     },
     "execution_count": 21,
     "metadata": {},
     "output_type": "execute_result"
    }
   ],
   "source": [
    "X.Pay_Scale.value_counts()"
   ]
  },
  {
   "cell_type": "code",
   "execution_count": 22,
   "metadata": {},
   "outputs": [
    {
     "name": "stdout",
     "output_type": "stream",
     "text": [
      "6.0\n"
     ]
    },
    {
     "data": {
      "text/plain": [
       "2.068844424243924"
      ]
     },
     "execution_count": 22,
     "metadata": {},
     "output_type": "execute_result"
    }
   ],
   "source": [
    "print(data.Pay_Scale.median())\n",
    "(data.Pay_Scale.fillna(data.Pay_Scale.median())).std() "
   ]
  },
  {
   "cell_type": "markdown",
   "metadata": {},
   "source": [
    "Medain has the least standard deviation , fill by median() in X"
   ]
  },
  {
   "cell_type": "code",
   "execution_count": 23,
   "metadata": {},
   "outputs": [
    {
     "data": {
      "text/plain": [
       "2.068844424243924"
      ]
     },
     "execution_count": 23,
     "metadata": {},
     "output_type": "execute_result"
    }
   ],
   "source": [
    "X['Pay_Scale'].fillna(X.Pay_Scale.median(),inplace=True)\n",
    "X.Pay_Scale.std()"
   ]
  },
  {
   "cell_type": "code",
   "execution_count": 24,
   "metadata": {},
   "outputs": [
    {
     "data": {
      "text/plain": [
       "Age                            0\n",
       "Compensation_and_Benefits      0\n",
       "Decision_skill_possess         0\n",
       "Education_Level                0\n",
       "Gender                         0\n",
       "Hometown                       0\n",
       "Pay_Scale                      0\n",
       "Post_Level                     0\n",
       "Relationship_Status            0\n",
       "Time_of_service              196\n",
       "Time_since_promotion           0\n",
       "Travel_Rate                    0\n",
       "Unit                           0\n",
       "VAR1                           0\n",
       "VAR2                         794\n",
       "VAR3                           0\n",
       "VAR4                         954\n",
       "VAR5                           0\n",
       "VAR6                           0\n",
       "VAR7                           0\n",
       "Work_Life_balance             16\n",
       "growth_rate                    0\n",
       "dtype: int64"
      ]
     },
     "execution_count": 24,
     "metadata": {},
     "output_type": "execute_result"
    }
   ],
   "source": [
    "X.isnull().sum()"
   ]
  },
  {
   "cell_type": "markdown",
   "metadata": {},
   "source": [
    "# 3) Time_of_service"
   ]
  },
  {
   "cell_type": "code",
   "execution_count": 25,
   "metadata": {},
   "outputs": [
    {
     "data": {
      "text/plain": [
       "count    9804.000000\n",
       "mean       13.390657\n",
       "std        10.311381\n",
       "min         0.000000\n",
       "25%         5.000000\n",
       "50%        10.000000\n",
       "75%        21.000000\n",
       "max        43.000000\n",
       "Name: Time_of_service, dtype: float64"
      ]
     },
     "execution_count": 25,
     "metadata": {},
     "output_type": "execute_result"
    }
   ],
   "source": [
    "X.Time_of_service.describe()"
   ]
  },
  {
   "cell_type": "code",
   "execution_count": 26,
   "metadata": {},
   "outputs": [
    {
     "name": "stdout",
     "output_type": "stream",
     "text": [
      "0    6.0\n",
      "dtype: float64\n",
      "10.209818923821244\n",
      "10.220633076969813\n",
      "10.311380726902032\n"
     ]
    }
   ],
   "source": [
    "print(data.Time_of_service.mode())\n",
    "print((data.Time_of_service.fillna(data.Time_of_service.mean())).std() )\n",
    "print((data.Time_of_service.fillna(data.Time_of_service.median())).std() )\n",
    "print((data.Time_of_service.fillna(data.Time_of_service.mode())).std()) "
   ]
  },
  {
   "cell_type": "code",
   "execution_count": 27,
   "metadata": {},
   "outputs": [
    {
     "data": {
      "text/plain": [
       "<matplotlib.axes._subplots.AxesSubplot at 0x7ff66a21b590>"
      ]
     },
     "execution_count": 27,
     "metadata": {},
     "output_type": "execute_result"
    },
    {
     "data": {
      "image/png": "[encoded data removed]",
      "text/plain": [
       "<Figure size 864x504 with 1 Axes>"
      ]
     },
     "metadata": {
      "needs_background": "light"
     },
     "output_type": "display_data"
    }
   ],
   "source": [
    "plt.figure(figsize=(12,7))\n",
    "sns.boxplot(x='Education_Level',y='Time_of_service',data=X,palette='winter')"
   ]
  },
  {
   "cell_type": "code",
   "execution_count": 28,
   "metadata": {},
   "outputs": [],
   "source": [
    "def impute_tos(cols):\n",
    "    a=cols[0];b=cols[1];\n",
    "    if(pd.isnull(a)):\n",
    "        if(b=='type1'):return 7\n",
    "        elif(b=='type4' or b=='type3' or b=='type2'):return 10\n",
    "        else:return 12\n",
    "    else:return a"
   ]
  },
  {
   "cell_type": "code",
   "execution_count": 29,
   "metadata": {},
   "outputs": [],
   "source": [
    "#(data[['Time_of_service','Time_since_promotion']].apply(impute_tos,axis=1)).std()"
   ]
  },
  {
   "cell_type": "code",
   "execution_count": 29,
   "metadata": {},
   "outputs": [
    {
     "data": {
      "text/plain": [
       "(10.209818923821244, 0)"
      ]
     },
     "execution_count": 29,
     "metadata": {},
     "output_type": "execute_result"
    }
   ],
   "source": [
    "X['Time_of_service'].fillna(X.Time_of_service.mean(),inplace=True)\n",
    "X.Time_of_service.std(),X.Time_of_service.isnull().sum()"
   ]
  },
  {
   "cell_type": "markdown",
   "metadata": {},
   "source": [
    "# 4) VAR2"
   ]
  },
  {
   "cell_type": "code",
   "execution_count": 30,
   "metadata": {},
   "outputs": [
    {
     "data": {
      "text/plain": [
       " 0.7516    3582\n",
       "-0.1048    2288\n",
       "-0.9612    1469\n",
       "-1.8176    1173\n",
       " 1.6081     694\n",
       "Name: VAR2, dtype: int64"
      ]
     },
     "execution_count": 30,
     "metadata": {},
     "output_type": "execute_result"
    }
   ],
   "source": [
    "data.VAR2.value_counts()"
   ]
  },
  {
   "cell_type": "code",
   "execution_count": 31,
   "metadata": {},
   "outputs": [
    {
     "data": {
      "text/plain": [
       "count    9206.000000\n",
       "mean        0.002653\n",
       "std         0.992949\n",
       "min        -1.817600\n",
       "25%        -0.961200\n",
       "50%        -0.104800\n",
       "75%         0.751600\n",
       "max         1.608100\n",
       "Name: VAR2, dtype: float64"
      ]
     },
     "execution_count": 31,
     "metadata": {},
     "output_type": "execute_result"
    }
   ],
   "source": [
    "data.VAR2.describe()"
   ]
  },
  {
   "cell_type": "code",
   "execution_count": 32,
   "metadata": {},
   "outputs": [
    {
     "name": "stdout",
     "output_type": "stream",
     "text": [
      "0    0.7516\n",
      "dtype: float64\n",
      "0.9527092296589679\n",
      "0.9531521033582805\n",
      "0.99294858296846\n"
     ]
    }
   ],
   "source": [
    "print(data.VAR2.mode())\n",
    "print((data.VAR2.fillna(data.VAR2.mean())).std() )\n",
    "print((data.VAR2.fillna(data.VAR2.median())).std() )\n",
    "print((data.VAR2.fillna(data.VAR2.mode())).std()) "
   ]
  },
  {
   "cell_type": "code",
   "execution_count": 33,
   "metadata": {},
   "outputs": [
    {
     "data": {
      "text/plain": [
       "<matplotlib.axes._subplots.AxesSubplot at 0x7ff66a38dc50>"
      ]
     },
     "execution_count": 33,
     "metadata": {},
     "output_type": "execute_result"
    },
    {
     "data": {
      "image/png": "[encoded data removed]",
      "text/plain": [
       "<Figure size 864x504 with 1 Axes>"
      ]
     },
     "metadata": {
      "needs_background": "light"
     },
     "output_type": "display_data"
    }
   ],
   "source": [
    "plt.figure(figsize=(12,7))\n",
    "sns.boxplot(x='Pay_Scale',y='VAR2',data=X,palette='winter')"
   ]
  },
  {
   "cell_type": "code",
   "execution_count": 34,
   "metadata": {},
   "outputs": [
    {
     "data": {
      "text/plain": [
       "0.9531521033582805"
      ]
     },
     "execution_count": 34,
     "metadata": {},
     "output_type": "execute_result"
    }
   ],
   "source": [
    "X['VAR2'].fillna(X.VAR2.median(),inplace=True)\n",
    "X.VAR2.std()"
   ]
  },
  {
   "cell_type": "code",
   "execution_count": 35,
   "metadata": {},
   "outputs": [
    {
     "data": {
      "text/plain": [
       "Age                            0\n",
       "Compensation_and_Benefits      0\n",
       "Decision_skill_possess         0\n",
       "Education_Level                0\n",
       "Gender                         0\n",
       "Hometown                       0\n",
       "Pay_Scale                      0\n",
       "Post_Level                     0\n",
       "Relationship_Status            0\n",
       "Time_of_service                0\n",
       "Time_since_promotion           0\n",
       "Travel_Rate                    0\n",
       "Unit                           0\n",
       "VAR1                           0\n",
       "VAR2                           0\n",
       "VAR3                           0\n",
       "VAR4                         954\n",
       "VAR5                           0\n",
       "VAR6                           0\n",
       "VAR7                           0\n",
       "Work_Life_balance             16\n",
       "growth_rate                    0\n",
       "dtype: int64"
      ]
     },
     "execution_count": 35,
     "metadata": {},
     "output_type": "execute_result"
    }
   ],
   "source": [
    "X.isnull().sum()"
   ]
  },
  {
   "cell_type": "markdown",
   "metadata": {},
   "source": [
    "# 5) VAR4"
   ]
  },
  {
   "cell_type": "code",
   "execution_count": 36,
   "metadata": {},
   "outputs": [
    {
     "data": {
      "text/plain": [
       "2.0    6369\n",
       "1.0    1809\n",
       "3.0     868\n",
       "Name: VAR4, dtype: int64"
      ]
     },
     "execution_count": 36,
     "metadata": {},
     "output_type": "execute_result"
    }
   ],
   "source": [
    "data.VAR4.value_counts()"
   ]
  },
  {
   "cell_type": "code",
   "execution_count": 37,
   "metadata": {},
   "outputs": [
    {
     "data": {
      "text/plain": [
       "count    9046.000000\n",
       "mean        1.895976\n",
       "std         0.533987\n",
       "min         1.000000\n",
       "25%         2.000000\n",
       "50%         2.000000\n",
       "75%         2.000000\n",
       "max         3.000000\n",
       "Name: VAR4, dtype: float64"
      ]
     },
     "execution_count": 37,
     "metadata": {},
     "output_type": "execute_result"
    }
   ],
   "source": [
    "data.VAR4.describe()"
   ]
  },
  {
   "cell_type": "code",
   "execution_count": 38,
   "metadata": {},
   "outputs": [
    {
     "name": "stdout",
     "output_type": "stream",
     "text": [
      "0    2.0\n",
      "dtype: float64\n",
      "0.5078751291399451\n",
      "0.5087937471193122\n",
      "0.533987319891187\n"
     ]
    }
   ],
   "source": [
    "print(data.VAR4.mode())\n",
    "print((data.VAR4.fillna(data.VAR4.mean())).std() )\n",
    "print((data.VAR4.fillna(data.VAR4.median())).std() )\n",
    "print((data.VAR4.fillna(data.VAR4.mode())).std()) "
   ]
  },
  {
   "cell_type": "code",
   "execution_count": 39,
   "metadata": {},
   "outputs": [
    {
     "data": {
      "text/plain": [
       "0"
      ]
     },
     "execution_count": 39,
     "metadata": {},
     "output_type": "execute_result"
    }
   ],
   "source": [
    "X['VAR4'].fillna(X.VAR4.mode()[0],inplace=True)\n",
    "X.VAR4.isnull().sum()"
   ]
  },
  {
   "cell_type": "code",
   "execution_count": 40,
   "metadata": {
    "scrolled": true
   },
   "outputs": [
    {
     "data": {
      "text/plain": [
       "Age                           0\n",
       "Compensation_and_Benefits     0\n",
       "Decision_skill_possess        0\n",
       "Education_Level               0\n",
       "Gender                        0\n",
       "Hometown                      0\n",
       "Pay_Scale                     0\n",
       "Post_Level                    0\n",
       "Relationship_Status           0\n",
       "Time_of_service               0\n",
       "Time_since_promotion          0\n",
       "Travel_Rate                   0\n",
       "Unit                          0\n",
       "VAR1                          0\n",
       "VAR2                          0\n",
       "VAR3                          0\n",
       "VAR4                          0\n",
       "VAR5                          0\n",
       "VAR6                          0\n",
       "VAR7                          0\n",
       "Work_Life_balance            16\n",
       "growth_rate                   0\n",
       "dtype: int64"
      ]
     },
     "execution_count": 40,
     "metadata": {},
     "output_type": "execute_result"
    }
   ],
   "source": [
    "X.isnull().sum()"
   ]
  },
  {
   "cell_type": "markdown",
   "metadata": {},
   "source": [
    "# 6) Work_Life_balance"
   ]
  },
  {
   "cell_type": "code",
   "execution_count": 41,
   "metadata": {},
   "outputs": [
    {
     "data": {
      "text/plain": [
       "1.0    2951\n",
       "3.0    2858\n",
       "2.0    2287\n",
       "4.0    1719\n",
       "5.0     169\n",
       "Name: Work_Life_balance, dtype: int64"
      ]
     },
     "execution_count": 41,
     "metadata": {},
     "output_type": "execute_result"
    }
   ],
   "source": [
    "data.Work_Life_balance.value_counts()"
   ]
  },
  {
   "cell_type": "code",
   "execution_count": 42,
   "metadata": {},
   "outputs": [
    {
     "data": {
      "text/plain": [
       "count    9984.000000\n",
       "mean        2.385817\n",
       "std         1.128782\n",
       "min         1.000000\n",
       "25%         1.000000\n",
       "50%         2.000000\n",
       "75%         3.000000\n",
       "max         5.000000\n",
       "Name: Work_Life_balance, dtype: float64"
      ]
     },
     "execution_count": 42,
     "metadata": {},
     "output_type": "execute_result"
    }
   ],
   "source": [
    "data.Work_Life_balance.describe()"
   ]
  },
  {
   "cell_type": "code",
   "execution_count": 43,
   "metadata": {},
   "outputs": [
    {
     "name": "stdout",
     "output_type": "stream",
     "text": [
      "1.0\n",
      "1.127878709842213\n",
      "1.127984128797689\n",
      "1.128782187475697\n"
     ]
    }
   ],
   "source": [
    "print(data.Work_Life_balance.mode()[0])\n",
    "print((data.Work_Life_balance.fillna(data.Work_Life_balance.mean())).std() )\n",
    "print((data.Work_Life_balance.fillna(data.Work_Life_balance.median())).std() )\n",
    "print((data.Work_Life_balance.fillna(data.Work_Life_balance.mode())).std()) "
   ]
  },
  {
   "cell_type": "code",
   "execution_count": 44,
   "metadata": {},
   "outputs": [],
   "source": [
    "X.Work_Life_balance.fillna(X.Work_Life_balance.mean(),inplace=True)"
   ]
  },
  {
   "cell_type": "code",
   "execution_count": 45,
   "metadata": {},
   "outputs": [
    {
     "data": {
      "text/plain": [
       "Age                          0\n",
       "Compensation_and_Benefits    0\n",
       "Decision_skill_possess       0\n",
       "Education_Level              0\n",
       "Gender                       0\n",
       "Hometown                     0\n",
       "Pay_Scale                    0\n",
       "Post_Level                   0\n",
       "Relationship_Status          0\n",
       "Time_of_service              0\n",
       "Time_since_promotion         0\n",
       "Travel_Rate                  0\n",
       "Unit                         0\n",
       "VAR1                         0\n",
       "VAR2                         0\n",
       "VAR3                         0\n",
       "VAR4                         0\n",
       "VAR5                         0\n",
       "VAR6                         0\n",
       "VAR7                         0\n",
       "Work_Life_balance            0\n",
       "growth_rate                  0\n",
       "dtype: int64"
      ]
     },
     "execution_count": 45,
     "metadata": {},
     "output_type": "execute_result"
    }
   ],
   "source": [
    "X.isnull().sum()"
   ]
  },
  {
   "cell_type": "markdown",
   "metadata": {},
   "source": [
    "# One hot encoding to categorical features"
   ]
  },
  {
   "cell_type": "code",
   "execution_count": 46,
   "metadata": {},
   "outputs": [],
   "source": [
    "def category_onehot_multcols(mc):\n",
    "    df_final=X;j=0;\n",
    "    for i in mc:\n",
    "        print(i)\n",
    "        df1=pd.get_dummies(X[i],drop_first=True)\n",
    "        X.drop([i],axis=1,inplace=True)\n",
    "        if(not j):df_final=df1.copy();\n",
    "        else:df_final=pd.concat([df_final,df1],axis=1);\n",
    "        j+=1;\n",
    "    df_final=pd.concat([X,df_final],axis=1);\n",
    "    return df_final"
   ]
  },
  {
   "cell_type": "code",
   "execution_count": 48,
   "metadata": {},
   "outputs": [],
   "source": [
    "cat_features =  list(X.select_dtypes(include=object).columns)"
   ]
  },
  {
   "cell_type": "code",
   "execution_count": 49,
   "metadata": {},
   "outputs": [
    {
     "name": "stdout",
     "output_type": "stream",
     "text": [
      "Compensation_and_Benefits\n",
      "Decision_skill_possess\n",
      "Gender\n",
      "Hometown\n",
      "Relationship_Status\n",
      "Unit\n"
     ]
    }
   ],
   "source": [
    "X=category_onehot_multcols(cat_features)"
   ]
  },
  {
   "cell_type": "code",
   "execution_count": 50,
   "metadata": {},
   "outputs": [],
   "source": [
    "main_X=X.copy()   #Keep the main set backup"
   ]
  },
  {
   "cell_type": "code",
   "execution_count": 51,
   "metadata": {},
   "outputs": [
    {
     "data": {
      "text/plain": [
       "(10000, 40)"
      ]
     },
     "execution_count": 51,
     "metadata": {},
     "output_type": "execute_result"
    }
   ],
   "source": [
    "X.shape"
   ]
  },
  {
   "cell_type": "markdown",
   "metadata": {},
   "source": [
    "To remove duplicate data"
   ]
  },
  {
   "cell_type": "code",
   "execution_count": 52,
   "metadata": {},
   "outputs": [],
   "source": [
    "X=X.loc[:,~X.columns.duplicated()]"
   ]
  },
  {
   "cell_type": "code",
   "execution_count": 53,
   "metadata": {},
   "outputs": [
    {
     "data": {
      "text/html": [
       "<div>\n",
       "<style scoped>\n",
       "    .dataframe tbody tr th:only-of-type {\n",
       "        vertical-align: middle;\n",
       "    }\n",
       "\n",
       "    .dataframe tbody tr th {\n",
       "        vertical-align: top;\n",
       "    }\n",
       "\n",
       "    .dataframe thead th {\n",
       "        text-align: right;\n",
       "    }\n",
       "</style>\n",
       "<table border=\"1\" class=\"dataframe\">\n",
       "  <thead>\n",
       "    <tr style=\"text-align: right;\">\n",
       "      <th></th>\n",
       "      <th>Age</th>\n",
       "      <th>Education_Level</th>\n",
       "      <th>Pay_Scale</th>\n",
       "      <th>Post_Level</th>\n",
       "      <th>Time_of_service</th>\n",
       "      <th>Time_since_promotion</th>\n",
       "      <th>Travel_Rate</th>\n",
       "      <th>VAR1</th>\n",
       "      <th>VAR2</th>\n",
       "      <th>VAR3</th>\n",
       "      <th>...</th>\n",
       "      <th>IT</th>\n",
       "      <th>Logistics</th>\n",
       "      <th>Marketing</th>\n",
       "      <th>Operarions</th>\n",
       "      <th>Production</th>\n",
       "      <th>Purchasing</th>\n",
       "      <th>Quality</th>\n",
       "      <th>R&amp;D</th>\n",
       "      <th>Sales</th>\n",
       "      <th>Security</th>\n",
       "    </tr>\n",
       "  </thead>\n",
       "  <tbody>\n",
       "    <tr>\n",
       "      <th>0</th>\n",
       "      <td>42.0</td>\n",
       "      <td>4</td>\n",
       "      <td>7.0</td>\n",
       "      <td>1</td>\n",
       "      <td>4.0</td>\n",
       "      <td>4</td>\n",
       "      <td>1</td>\n",
       "      <td>4</td>\n",
       "      <td>0.7516</td>\n",
       "      <td>1.8688</td>\n",
       "      <td>...</td>\n",
       "      <td>1</td>\n",
       "      <td>0</td>\n",
       "      <td>0</td>\n",
       "      <td>0</td>\n",
       "      <td>0</td>\n",
       "      <td>0</td>\n",
       "      <td>0</td>\n",
       "      <td>0</td>\n",
       "      <td>0</td>\n",
       "      <td>0</td>\n",
       "    </tr>\n",
       "    <tr>\n",
       "      <th>1</th>\n",
       "      <td>24.0</td>\n",
       "      <td>3</td>\n",
       "      <td>6.0</td>\n",
       "      <td>3</td>\n",
       "      <td>5.0</td>\n",
       "      <td>4</td>\n",
       "      <td>0</td>\n",
       "      <td>3</td>\n",
       "      <td>-0.9612</td>\n",
       "      <td>-0.4537</td>\n",
       "      <td>...</td>\n",
       "      <td>0</td>\n",
       "      <td>1</td>\n",
       "      <td>0</td>\n",
       "      <td>0</td>\n",
       "      <td>0</td>\n",
       "      <td>0</td>\n",
       "      <td>0</td>\n",
       "      <td>0</td>\n",
       "      <td>0</td>\n",
       "      <td>0</td>\n",
       "    </tr>\n",
       "    <tr>\n",
       "      <th>2</th>\n",
       "      <td>58.0</td>\n",
       "      <td>3</td>\n",
       "      <td>8.0</td>\n",
       "      <td>2</td>\n",
       "      <td>27.0</td>\n",
       "      <td>3</td>\n",
       "      <td>0</td>\n",
       "      <td>4</td>\n",
       "      <td>-0.9612</td>\n",
       "      <td>-0.4537</td>\n",
       "      <td>...</td>\n",
       "      <td>0</td>\n",
       "      <td>0</td>\n",
       "      <td>0</td>\n",
       "      <td>0</td>\n",
       "      <td>0</td>\n",
       "      <td>0</td>\n",
       "      <td>1</td>\n",
       "      <td>0</td>\n",
       "      <td>0</td>\n",
       "      <td>0</td>\n",
       "    </tr>\n",
       "    <tr>\n",
       "      <th>3</th>\n",
       "      <td>26.0</td>\n",
       "      <td>3</td>\n",
       "      <td>8.0</td>\n",
       "      <td>3</td>\n",
       "      <td>4.0</td>\n",
       "      <td>3</td>\n",
       "      <td>1</td>\n",
       "      <td>3</td>\n",
       "      <td>-1.8176</td>\n",
       "      <td>-0.4537</td>\n",
       "      <td>...</td>\n",
       "      <td>0</td>\n",
       "      <td>0</td>\n",
       "      <td>0</td>\n",
       "      <td>0</td>\n",
       "      <td>0</td>\n",
       "      <td>0</td>\n",
       "      <td>0</td>\n",
       "      <td>0</td>\n",
       "      <td>0</td>\n",
       "      <td>0</td>\n",
       "    </tr>\n",
       "    <tr>\n",
       "      <th>4</th>\n",
       "      <td>31.0</td>\n",
       "      <td>1</td>\n",
       "      <td>2.0</td>\n",
       "      <td>3</td>\n",
       "      <td>5.0</td>\n",
       "      <td>4</td>\n",
       "      <td>1</td>\n",
       "      <td>1</td>\n",
       "      <td>0.7516</td>\n",
       "      <td>-0.4537</td>\n",
       "      <td>...</td>\n",
       "      <td>0</td>\n",
       "      <td>1</td>\n",
       "      <td>0</td>\n",
       "      <td>0</td>\n",
       "      <td>0</td>\n",
       "      <td>0</td>\n",
       "      <td>0</td>\n",
       "      <td>0</td>\n",
       "      <td>0</td>\n",
       "      <td>0</td>\n",
       "    </tr>\n",
       "  </tbody>\n",
       "</table>\n",
       "<p>5 rows × 40 columns</p>\n",
       "</div>"
      ],
      "text/plain": [
       "    Age  Education_Level  Pay_Scale  Post_Level  Time_of_service  \\\n",
       "0  42.0                4        7.0           1              4.0   \n",
       "1  24.0                3        6.0           3              5.0   \n",
       "2  58.0                3        8.0           2             27.0   \n",
       "3  26.0                3        8.0           3              4.0   \n",
       "4  31.0                1        2.0           3              5.0   \n",
       "\n",
       "   Time_since_promotion  Travel_Rate  VAR1    VAR2    VAR3  ...  IT  \\\n",
       "0                     4            1     4  0.7516  1.8688  ...   1   \n",
       "1                     4            0     3 -0.9612 -0.4537  ...   0   \n",
       "2                     3            0     4 -0.9612 -0.4537  ...   0   \n",
       "3                     3            1     3 -1.8176 -0.4537  ...   0   \n",
       "4                     4            1     1  0.7516 -0.4537  ...   0   \n",
       "\n",
       "   Logistics  Marketing  Operarions  Production  Purchasing  Quality  R&D  \\\n",
       "0          0          0           0           0           0        0    0   \n",
       "1          1          0           0           0           0        0    0   \n",
       "2          0          0           0           0           0        1    0   \n",
       "3          0          0           0           0           0        0    0   \n",
       "4          1          0           0           0           0        0    0   \n",
       "\n",
       "   Sales  Security  \n",
       "0      0         0  \n",
       "1      0         0  \n",
       "2      0         0  \n",
       "3      0         0  \n",
       "4      0         0  \n",
       "\n",
       "[5 rows x 40 columns]"
      ]
     },
     "execution_count": 53,
     "metadata": {},
     "output_type": "execute_result"
    }
   ],
   "source": [
    "X.head()"
   ]
  },
  {
   "cell_type": "markdown",
   "metadata": {},
   "source": [
    "# Feature Scaling of the dataset X"
   ]
  },
  {
   "cell_type": "code",
   "execution_count": 54,
   "metadata": {},
   "outputs": [],
   "source": [
    "scx=StandardScaler()\n",
    "X=scx.fit_transform(X)"
   ]
  },
  {
   "cell_type": "code",
   "execution_count": 55,
   "metadata": {},
   "outputs": [
    {
     "data": {
      "text/plain": [
       "(numpy.ndarray, pandas.core.series.Series)"
      ]
     },
     "execution_count": 55,
     "metadata": {},
     "output_type": "execute_result"
    }
   ],
   "source": [
    "type(X),type(Y)"
   ]
  },
  {
   "cell_type": "markdown",
   "metadata": {},
   "source": [
    "# Splitting of data into test and train"
   ]
  },
  {
   "cell_type": "code",
   "execution_count": 56,
   "metadata": {},
   "outputs": [],
   "source": [
    "train_x = X[:7000,:]\n",
    "train_y = Y[:7000]\n",
    "test_x = X[7000:,:]"
   ]
  },
  {
   "cell_type": "code",
   "execution_count": 64,
   "metadata": {},
   "outputs": [
    {
     "data": {
      "text/plain": [
       "(numpy.ndarray, (10000, 40), pandas.core.series.Series, (10000,))"
      ]
     },
     "execution_count": 64,
     "metadata": {},
     "output_type": "execute_result"
    }
   ],
   "source": [
    "type(X),X.shape,type(Y),Y.shape"
   ]
  },
  {
   "cell_type": "code",
   "execution_count": 57,
   "metadata": {},
   "outputs": [],
   "source": [
    "#train test split\n",
    "X_train, X_test, y_train, y_test = train_test_split(train_x,train_y, test_size = 0.2)"
   ]
  },
  {
   "cell_type": "markdown",
   "metadata": {},
   "source": [
    "# Feature Selection"
   ]
  },
  {
   "cell_type": "code",
   "execution_count": 58,
   "metadata": {},
   "outputs": [],
   "source": [
    "from sklearn.feature_selection import SelectKBest,f_regression"
   ]
  },
  {
   "cell_type": "markdown",
   "metadata": {},
   "source": [
    "Applying SelectKBest for selecting best K features (eg K=15)"
   ]
  },
  {
   "cell_type": "code",
   "execution_count": 59,
   "metadata": {},
   "outputs": [],
   "source": [
    "best_feat=SelectKBest(score_func=f_regression,k=15)\n",
    "fit=best_feat.fit(X_train,y_train)"
   ]
  },
  {
   "cell_type": "code",
   "execution_count": 60,
   "metadata": {},
   "outputs": [],
   "source": [
    "dfscores=pd.DataFrame(fit.scores_)\n",
    "dfcolumns=pd.DataFrame(main_X.columns)"
   ]
  },
  {
   "cell_type": "code",
   "execution_count": 61,
   "metadata": {},
   "outputs": [],
   "source": [
    "#concat the 2 dataframes for better visualization\n",
    "feat_Scores=pd.concat([dfcolumns,dfscores],axis=1)\n",
    "feat_Scores.columns=['Specs','Score']"
   ]
  },
  {
   "cell_type": "code",
   "execution_count": 63,
   "metadata": {},
   "outputs": [
    {
     "data": {
      "text/html": [
       "<div>\n",
       "<style scoped>\n",
       "    .dataframe tbody tr th:only-of-type {\n",
       "        vertical-align: middle;\n",
       "    }\n",
       "\n",
       "    .dataframe tbody tr th {\n",
       "        vertical-align: top;\n",
       "    }\n",
       "\n",
       "    .dataframe thead th {\n",
       "        text-align: right;\n",
       "    }\n",
       "</style>\n",
       "<table border=\"1\" class=\"dataframe\">\n",
       "  <thead>\n",
       "    <tr style=\"text-align: right;\">\n",
       "      <th></th>\n",
       "      <th>Specs</th>\n",
       "      <th>Score</th>\n",
       "    </tr>\n",
       "  </thead>\n",
       "  <tbody>\n",
       "    <tr>\n",
       "      <th>0</th>\n",
       "      <td>Age</td>\n",
       "      <td>2.061816</td>\n",
       "    </tr>\n",
       "    <tr>\n",
       "      <th>1</th>\n",
       "      <td>Education_Level</td>\n",
       "      <td>2.305788</td>\n",
       "    </tr>\n",
       "    <tr>\n",
       "      <th>2</th>\n",
       "      <td>Pay_Scale</td>\n",
       "      <td>1.668239</td>\n",
       "    </tr>\n",
       "    <tr>\n",
       "      <th>3</th>\n",
       "      <td>Post_Level</td>\n",
       "      <td>3.541451</td>\n",
       "    </tr>\n",
       "    <tr>\n",
       "      <th>4</th>\n",
       "      <td>Time_of_service</td>\n",
       "      <td>2.361479</td>\n",
       "    </tr>\n",
       "    <tr>\n",
       "      <th>5</th>\n",
       "      <td>Time_since_promotion</td>\n",
       "      <td>0.614834</td>\n",
       "    </tr>\n",
       "    <tr>\n",
       "      <th>6</th>\n",
       "      <td>Travel_Rate</td>\n",
       "      <td>2.345069</td>\n",
       "    </tr>\n",
       "    <tr>\n",
       "      <th>7</th>\n",
       "      <td>VAR1</td>\n",
       "      <td>0.032943</td>\n",
       "    </tr>\n",
       "    <tr>\n",
       "      <th>8</th>\n",
       "      <td>VAR2</td>\n",
       "      <td>3.317090</td>\n",
       "    </tr>\n",
       "    <tr>\n",
       "      <th>9</th>\n",
       "      <td>VAR3</td>\n",
       "      <td>0.366637</td>\n",
       "    </tr>\n",
       "    <tr>\n",
       "      <th>10</th>\n",
       "      <td>VAR4</td>\n",
       "      <td>0.959899</td>\n",
       "    </tr>\n",
       "    <tr>\n",
       "      <th>11</th>\n",
       "      <td>VAR5</td>\n",
       "      <td>0.001830</td>\n",
       "    </tr>\n",
       "    <tr>\n",
       "      <th>12</th>\n",
       "      <td>VAR6</td>\n",
       "      <td>0.003198</td>\n",
       "    </tr>\n",
       "    <tr>\n",
       "      <th>13</th>\n",
       "      <td>VAR7</td>\n",
       "      <td>1.432636</td>\n",
       "    </tr>\n",
       "    <tr>\n",
       "      <th>14</th>\n",
       "      <td>Work_Life_balance</td>\n",
       "      <td>0.948145</td>\n",
       "    </tr>\n",
       "    <tr>\n",
       "      <th>15</th>\n",
       "      <td>growth_rate</td>\n",
       "      <td>0.114576</td>\n",
       "    </tr>\n",
       "    <tr>\n",
       "      <th>16</th>\n",
       "      <td>type1</td>\n",
       "      <td>0.848911</td>\n",
       "    </tr>\n",
       "    <tr>\n",
       "      <th>17</th>\n",
       "      <td>type2</td>\n",
       "      <td>0.001602</td>\n",
       "    </tr>\n",
       "    <tr>\n",
       "      <th>18</th>\n",
       "      <td>type3</td>\n",
       "      <td>1.413267</td>\n",
       "    </tr>\n",
       "    <tr>\n",
       "      <th>19</th>\n",
       "      <td>type4</td>\n",
       "      <td>0.379291</td>\n",
       "    </tr>\n",
       "    <tr>\n",
       "      <th>20</th>\n",
       "      <td>Behavioral</td>\n",
       "      <td>4.237194</td>\n",
       "    </tr>\n",
       "    <tr>\n",
       "      <th>21</th>\n",
       "      <td>Conceptual</td>\n",
       "      <td>0.018921</td>\n",
       "    </tr>\n",
       "    <tr>\n",
       "      <th>22</th>\n",
       "      <td>Directive</td>\n",
       "      <td>2.445585</td>\n",
       "    </tr>\n",
       "    <tr>\n",
       "      <th>23</th>\n",
       "      <td>M</td>\n",
       "      <td>4.860512</td>\n",
       "    </tr>\n",
       "    <tr>\n",
       "      <th>24</th>\n",
       "      <td>Franklin</td>\n",
       "      <td>0.003794</td>\n",
       "    </tr>\n",
       "    <tr>\n",
       "      <th>25</th>\n",
       "      <td>Lebanon</td>\n",
       "      <td>0.151156</td>\n",
       "    </tr>\n",
       "    <tr>\n",
       "      <th>26</th>\n",
       "      <td>Springfield</td>\n",
       "      <td>0.933087</td>\n",
       "    </tr>\n",
       "    <tr>\n",
       "      <th>27</th>\n",
       "      <td>Washington</td>\n",
       "      <td>0.007000</td>\n",
       "    </tr>\n",
       "    <tr>\n",
       "      <th>28</th>\n",
       "      <td>Single</td>\n",
       "      <td>0.002535</td>\n",
       "    </tr>\n",
       "    <tr>\n",
       "      <th>29</th>\n",
       "      <td>Human Resource Management</td>\n",
       "      <td>1.137232</td>\n",
       "    </tr>\n",
       "    <tr>\n",
       "      <th>30</th>\n",
       "      <td>IT</td>\n",
       "      <td>1.957262</td>\n",
       "    </tr>\n",
       "    <tr>\n",
       "      <th>31</th>\n",
       "      <td>Logistics</td>\n",
       "      <td>0.000500</td>\n",
       "    </tr>\n",
       "    <tr>\n",
       "      <th>32</th>\n",
       "      <td>Marketing</td>\n",
       "      <td>0.264110</td>\n",
       "    </tr>\n",
       "    <tr>\n",
       "      <th>33</th>\n",
       "      <td>Operarions</td>\n",
       "      <td>0.121242</td>\n",
       "    </tr>\n",
       "    <tr>\n",
       "      <th>34</th>\n",
       "      <td>Production</td>\n",
       "      <td>0.065130</td>\n",
       "    </tr>\n",
       "    <tr>\n",
       "      <th>35</th>\n",
       "      <td>Purchasing</td>\n",
       "      <td>2.164329</td>\n",
       "    </tr>\n",
       "    <tr>\n",
       "      <th>36</th>\n",
       "      <td>Quality</td>\n",
       "      <td>0.010198</td>\n",
       "    </tr>\n",
       "    <tr>\n",
       "      <th>37</th>\n",
       "      <td>R&amp;D</td>\n",
       "      <td>0.046580</td>\n",
       "    </tr>\n",
       "    <tr>\n",
       "      <th>38</th>\n",
       "      <td>Sales</td>\n",
       "      <td>0.712305</td>\n",
       "    </tr>\n",
       "    <tr>\n",
       "      <th>39</th>\n",
       "      <td>Security</td>\n",
       "      <td>0.000181</td>\n",
       "    </tr>\n",
       "  </tbody>\n",
       "</table>\n",
       "</div>"
      ],
      "text/plain": [
       "                        Specs     Score\n",
       "0                         Age  2.061816\n",
       "1             Education_Level  2.305788\n",
       "2                   Pay_Scale  1.668239\n",
       "3                  Post_Level  3.541451\n",
       "4             Time_of_service  2.361479\n",
       "5        Time_since_promotion  0.614834\n",
       "6                 Travel_Rate  2.345069\n",
       "7                        VAR1  0.032943\n",
       "8                        VAR2  3.317090\n",
       "9                        VAR3  0.366637\n",
       "10                       VAR4  0.959899\n",
       "11                       VAR5  0.001830\n",
       "12                       VAR6  0.003198\n",
       "13                       VAR7  1.432636\n",
       "14          Work_Life_balance  0.948145\n",
       "15                growth_rate  0.114576\n",
       "16                      type1  0.848911\n",
       "17                      type2  0.001602\n",
       "18                      type3  1.413267\n",
       "19                      type4  0.379291\n",
       "20                 Behavioral  4.237194\n",
       "21                 Conceptual  0.018921\n",
       "22                  Directive  2.445585\n",
       "23                          M  4.860512\n",
       "24                   Franklin  0.003794\n",
       "25                    Lebanon  0.151156\n",
       "26                Springfield  0.933087\n",
       "27                 Washington  0.007000\n",
       "28                     Single  0.002535\n",
       "29  Human Resource Management  1.137232\n",
       "30                         IT  1.957262\n",
       "31                  Logistics  0.000500\n",
       "32                  Marketing  0.264110\n",
       "33                 Operarions  0.121242\n",
       "34                 Production  0.065130\n",
       "35                 Purchasing  2.164329\n",
       "36                    Quality  0.010198\n",
       "37                        R&D  0.046580\n",
       "38                      Sales  0.712305\n",
       "39                   Security  0.000181"
      ]
     },
     "execution_count": 63,
     "metadata": {},
     "output_type": "execute_result"
    }
   ],
   "source": [
    "feat_Scores"
   ]
  }
 ],
 "metadata": {
  "kernelspec": {
   "display_name": "Python 3",
   "language": "python",
   "name": "python3"
  },
  "language_info": {
   "codemirror_mode": {
    "name": "ipython",
    "version": 3
   },
   "file_extension": ".py",
   "mimetype": "text/x-python",
   "name": "python",
   "nbconvert_exporter": "python",
   "pygments_lexer": "ipython3",
   "version": "3.6.5"
  }
 },
 "nbformat": 4,
 "nbformat_minor": 2
}
