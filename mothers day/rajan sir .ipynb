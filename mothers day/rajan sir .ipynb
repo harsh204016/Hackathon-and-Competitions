{
 "cells": [
  {
   "cell_type": "code",
   "execution_count": 5,
   "metadata": {},
   "outputs": [],
   "source": [
    "import pandas as pd\n",
    "import numpy as np\n",
    "import re\n",
    "import nltk\n",
    "import matplotlib.pyplot as plt\n",
    "pd.options.display.max_colwidth = 200\n",
    "\n",
    "from sklearn.preprocessing import OneHotEncoder , LabelEncoder\n",
    "import textblob\n",
    "\n",
    "import os\n",
    "os.environ['PYTHONHASHSEED'] = '10000'\n",
    "np.random.seed(10001)\n",
    "import random\n",
    "import tensorflow as tf\n",
    "random.seed(10002)\n",
    "session_conf = tf.ConfigProto(intra_op_parallelism_threads=6, inter_op_parallelism_threads=5)\n",
    "from keras import backend\n",
    "\n",
    "tf.set_random_seed(10003)\n",
    "backend.set_session(tf.Session(graph=tf.get_default_graph(), config=session_conf))\n",
    "\n",
    "%matplotlib inline"
   ]
  },
  {
   "cell_type": "code",
   "execution_count": 93,
   "metadata": {},
   "outputs": [
    {
     "name": "stdout",
     "output_type": "stream",
     "text": [
      "number of classes 3\n",
      "class distribution\n",
      " 1    0.525811\n",
      "0    0.237713\n",
      "2    0.236476\n",
      "Name: sentiment_class, dtype: float64\n"
     ]
    },
    {
     "name": "stderr",
     "output_type": "stream",
     "text": [
      "C:\\Users\\DELL\\Miniconda3\\lib\\site-packages\\sklearn\\preprocessing\\_encoders.py:415: FutureWarning: The handling of integer data will change in version 0.22. Currently, the categories are determined based on the range [0, max(values)], while in the future they will be determined based on the unique values.\n",
      "If you want the future behaviour and silence this warning, you can specify \"categories='auto'\".\n",
      "In case you used a LabelEncoder before this OneHotEncoder to convert the categories to integers, then you can now use the OneHotEncoder directly.\n",
      "  warnings.warn(msg, FutureWarning)\n",
      "C:\\Users\\DELL\\Miniconda3\\lib\\site-packages\\sklearn\\utils\\deprecation.py:100: DeprecationWarning: The ``n_values_`` attribute was deprecated in version 0.20 and will be removed 0.22.\n",
      "  warnings.warn(msg, category=DeprecationWarning)\n"
     ]
    },
    {
     "data": {
      "text/html": [
       "<div>\n",
       "<style scoped>\n",
       "    .dataframe tbody tr th:only-of-type {\n",
       "        vertical-align: middle;\n",
       "    }\n",
       "\n",
       "    .dataframe tbody tr th {\n",
       "        vertical-align: top;\n",
       "    }\n",
       "\n",
       "    .dataframe thead th {\n",
       "        text-align: right;\n",
       "    }\n",
       "</style>\n",
       "<table border=\"1\" class=\"dataframe\">\n",
       "  <thead>\n",
       "    <tr style=\"text-align: right;\">\n",
       "      <th></th>\n",
       "      <th>id</th>\n",
       "      <th>original_text</th>\n",
       "      <th>lang</th>\n",
       "      <th>retweet_count</th>\n",
       "      <th>original_author</th>\n",
       "      <th>sentiment_class</th>\n",
       "    </tr>\n",
       "  </thead>\n",
       "  <tbody>\n",
       "    <tr>\n",
       "      <th>0</th>\n",
       "      <td>1.245025e+18</td>\n",
       "      <td>Happy #MothersDay to all you amazing mothers out there! I know it's hard not being able to see your mothers today but it's on all of us to do what we can to protect the most vulnerable members of ...</td>\n",
       "      <td>en</td>\n",
       "      <td>0</td>\n",
       "      <td>BeenXXPired</td>\n",
       "      <td>1</td>\n",
       "    </tr>\n",
       "    <tr>\n",
       "      <th>1</th>\n",
       "      <td>1.245759e+18</td>\n",
       "      <td>Happy Mothers Day Mum - I'm sorry I can't be there to bring you Mothers day flowers &amp; a cwtch - honestly at this point I'd walk on hot coals to be able to. But I'll be there with bells on as soon ...</td>\n",
       "      <td>en</td>\n",
       "      <td>1</td>\n",
       "      <td>FestiveFeeling</td>\n",
       "      <td>1</td>\n",
       "    </tr>\n",
       "    <tr>\n",
       "      <th>2</th>\n",
       "      <td>1.246087e+18</td>\n",
       "      <td>Happy mothers day To all This doing a mothers days work. Today been quiet but Had time to reflect. Dog walk, finish a jigsaw do the garden, learn few more guitar chords, drunk some strawberry gin ...</td>\n",
       "      <td>en</td>\n",
       "      <td>0</td>\n",
       "      <td>KrisAllenSak</td>\n",
       "      <td>0</td>\n",
       "    </tr>\n",
       "    <tr>\n",
       "      <th>3</th>\n",
       "      <td>1.244803e+18</td>\n",
       "      <td>Happy mothers day to this beautiful woman...royalty soothes you mummy jeremy and emerald and more #PrayForRoksie #UltimateLoveNG pic.twitter.com/oeetI22Pvv</td>\n",
       "      <td>en</td>\n",
       "      <td>0</td>\n",
       "      <td>Queenuchee</td>\n",
       "      <td>1</td>\n",
       "    </tr>\n",
       "    <tr>\n",
       "      <th>4</th>\n",
       "      <td>1.244876e+18</td>\n",
       "      <td>Remembering the 3 most amazing ladies who made me who I am! My late grandmother iris, mum carol and great grandmother Ethel. Missed but never forgotten! Happy mothers day to all those great mums o...</td>\n",
       "      <td>en</td>\n",
       "      <td>0</td>\n",
       "      <td>brittan17446794</td>\n",
       "      <td>0</td>\n",
       "    </tr>\n",
       "  </tbody>\n",
       "</table>\n",
       "</div>"
      ],
      "text/plain": [
       "             id  \\\n",
       "0  1.245025e+18   \n",
       "1  1.245759e+18   \n",
       "2  1.246087e+18   \n",
       "3  1.244803e+18   \n",
       "4  1.244876e+18   \n",
       "\n",
       "                                                                                                                                                                                             original_text  \\\n",
       "0  Happy #MothersDay to all you amazing mothers out there! I know it's hard not being able to see your mothers today but it's on all of us to do what we can to protect the most vulnerable members of ...   \n",
       "1  Happy Mothers Day Mum - I'm sorry I can't be there to bring you Mothers day flowers & a cwtch - honestly at this point I'd walk on hot coals to be able to. But I'll be there with bells on as soon ...   \n",
       "2  Happy mothers day To all This doing a mothers days work. Today been quiet but Had time to reflect. Dog walk, finish a jigsaw do the garden, learn few more guitar chords, drunk some strawberry gin ...   \n",
       "3                                              Happy mothers day to this beautiful woman...royalty soothes you mummy jeremy and emerald and more #PrayForRoksie #UltimateLoveNG pic.twitter.com/oeetI22Pvv   \n",
       "4  Remembering the 3 most amazing ladies who made me who I am! My late grandmother iris, mum carol and great grandmother Ethel. Missed but never forgotten! Happy mothers day to all those great mums o...   \n",
       "\n",
       "  lang retweet_count  original_author  sentiment_class  \n",
       "0   en             0      BeenXXPired                1  \n",
       "1   en             1   FestiveFeeling                1  \n",
       "2   en             0     KrisAllenSak                0  \n",
       "3   en             0       Queenuchee                1  \n",
       "4   en             0  brittan17446794                0  "
      ]
     },
     "execution_count": 93,
     "metadata": {},
     "output_type": "execute_result"
    }
   ],
   "source": [
    "train = pd.read_csv('dataset/train.csv')\n",
    "test = pd.read_csv('dataset/test.csv')\n",
    "train.shape , test.shape\n",
    "\n",
    "le = LabelEncoder()\n",
    "train['sentiment_class']= le.fit_transform(train['sentiment_class'])\n",
    "enc=OneHotEncoder(sparse=False)\n",
    "enc.fit(train['sentiment_class'].values.reshape(-1,1))\n",
    "print('number of classes',enc.n_values_[0])\n",
    "\n",
    "print('class distribution\\n',train['sentiment_class'].value_counts()/train.shape[0])\n",
    "train.head(5)"
   ]
  },
  {
   "cell_type": "code",
   "execution_count": 94,
   "metadata": {},
   "outputs": [
    {
     "data": {
      "text/plain": [
       "(3235, 6)"
      ]
     },
     "execution_count": 94,
     "metadata": {},
     "output_type": "execute_result"
    }
   ],
   "source": [
    "train.shape"
   ]
  },
  {
   "cell_type": "markdown",
   "metadata": {},
   "source": [
    "words in test set occurs in train set"
   ]
  },
  {
   "cell_type": "code",
   "execution_count": 95,
   "metadata": {},
   "outputs": [
    {
     "name": "stdout",
     "output_type": "stream",
     "text": [
      "Train Set Vocabulary Size: 14852\n",
      "Test Set Vocabulary Size: 7948\n",
      "Number of Words that occur in both: 3187\n"
     ]
    }
   ],
   "source": [
    "from sklearn.feature_extraction.text import CountVectorizer\n",
    "\n",
    "cv1 = CountVectorizer()\n",
    "cv1.fit(train[\"original_text\"])\n",
    "\n",
    "cv2 = CountVectorizer()\n",
    "cv2.fit(test[\"original_text\"])\n",
    "\n",
    "print(\"Train Set Vocabulary Size:\", len(cv1.vocabulary_))\n",
    "print(\"Test Set Vocabulary Size:\", len(cv2.vocabulary_))\n",
    "print(\"Number of Words that occur in both:\", len(set(cv1.vocabulary_.keys()).intersection(set(cv2.vocabulary_.keys()))))"
   ]
  },
  {
   "cell_type": "code",
   "execution_count": 96,
   "metadata": {},
   "outputs": [
    {
     "data": {
      "text/plain": [
       "1    1701\n",
       "0     769\n",
       "2     765\n",
       "Name: sentiment_class, dtype: int64"
      ]
     },
     "execution_count": 96,
     "metadata": {},
     "output_type": "execute_result"
    }
   ],
   "source": [
    "train.sentiment_class.value_counts()"
   ]
  },
  {
   "cell_type": "code",
   "execution_count": 97,
   "metadata": {},
   "outputs": [
    {
     "data": {
      "text/html": [
       "<div>\n",
       "<style scoped>\n",
       "    .dataframe tbody tr th:only-of-type {\n",
       "        vertical-align: middle;\n",
       "    }\n",
       "\n",
       "    .dataframe tbody tr th {\n",
       "        vertical-align: top;\n",
       "    }\n",
       "\n",
       "    .dataframe thead th {\n",
       "        text-align: right;\n",
       "    }\n",
       "</style>\n",
       "<table border=\"1\" class=\"dataframe\">\n",
       "  <thead>\n",
       "    <tr style=\"text-align: right;\">\n",
       "      <th></th>\n",
       "      <th>id</th>\n",
       "      <th>original_text</th>\n",
       "      <th>lang</th>\n",
       "      <th>retweet_count</th>\n",
       "      <th>original_author</th>\n",
       "      <th>sentiment_class</th>\n",
       "      <th>length</th>\n",
       "    </tr>\n",
       "  </thead>\n",
       "  <tbody>\n",
       "    <tr>\n",
       "      <th>0</th>\n",
       "      <td>1.245025e+18</td>\n",
       "      <td>Happy #MothersDay to all you amazing mothers out there! I know it's hard not being able to see your mothers today but it's on all of us to do what we can to protect the most vulnerable members of ...</td>\n",
       "      <td>en</td>\n",
       "      <td>0</td>\n",
       "      <td>BeenXXPired</td>\n",
       "      <td>1</td>\n",
       "      <td>252</td>\n",
       "    </tr>\n",
       "    <tr>\n",
       "      <th>1</th>\n",
       "      <td>1.245759e+18</td>\n",
       "      <td>Happy Mothers Day Mum - I'm sorry I can't be there to bring you Mothers day flowers &amp; a cwtch - honestly at this point I'd walk on hot coals to be able to. But I'll be there with bells on as soon ...</td>\n",
       "      <td>en</td>\n",
       "      <td>1</td>\n",
       "      <td>FestiveFeeling</td>\n",
       "      <td>1</td>\n",
       "      <td>301</td>\n",
       "    </tr>\n",
       "    <tr>\n",
       "      <th>2</th>\n",
       "      <td>1.246087e+18</td>\n",
       "      <td>Happy mothers day To all This doing a mothers days work. Today been quiet but Had time to reflect. Dog walk, finish a jigsaw do the garden, learn few more guitar chords, drunk some strawberry gin ...</td>\n",
       "      <td>en</td>\n",
       "      <td>0</td>\n",
       "      <td>KrisAllenSak</td>\n",
       "      <td>0</td>\n",
       "      <td>298</td>\n",
       "    </tr>\n",
       "    <tr>\n",
       "      <th>3</th>\n",
       "      <td>1.244803e+18</td>\n",
       "      <td>Happy mothers day to this beautiful woman...royalty soothes you mummy jeremy and emerald and more #PrayForRoksie #UltimateLoveNG pic.twitter.com/oeetI22Pvv</td>\n",
       "      <td>en</td>\n",
       "      <td>0</td>\n",
       "      <td>Queenuchee</td>\n",
       "      <td>1</td>\n",
       "      <td>155</td>\n",
       "    </tr>\n",
       "    <tr>\n",
       "      <th>4</th>\n",
       "      <td>1.244876e+18</td>\n",
       "      <td>Remembering the 3 most amazing ladies who made me who I am! My late grandmother iris, mum carol and great grandmother Ethel. Missed but never forgotten! Happy mothers day to all those great mums o...</td>\n",
       "      <td>en</td>\n",
       "      <td>0</td>\n",
       "      <td>brittan17446794</td>\n",
       "      <td>0</td>\n",
       "      <td>254</td>\n",
       "    </tr>\n",
       "  </tbody>\n",
       "</table>\n",
       "</div>"
      ],
      "text/plain": [
       "             id  \\\n",
       "0  1.245025e+18   \n",
       "1  1.245759e+18   \n",
       "2  1.246087e+18   \n",
       "3  1.244803e+18   \n",
       "4  1.244876e+18   \n",
       "\n",
       "                                                                                                                                                                                             original_text  \\\n",
       "0  Happy #MothersDay to all you amazing mothers out there! I know it's hard not being able to see your mothers today but it's on all of us to do what we can to protect the most vulnerable members of ...   \n",
       "1  Happy Mothers Day Mum - I'm sorry I can't be there to bring you Mothers day flowers & a cwtch - honestly at this point I'd walk on hot coals to be able to. But I'll be there with bells on as soon ...   \n",
       "2  Happy mothers day To all This doing a mothers days work. Today been quiet but Had time to reflect. Dog walk, finish a jigsaw do the garden, learn few more guitar chords, drunk some strawberry gin ...   \n",
       "3                                              Happy mothers day to this beautiful woman...royalty soothes you mummy jeremy and emerald and more #PrayForRoksie #UltimateLoveNG pic.twitter.com/oeetI22Pvv   \n",
       "4  Remembering the 3 most amazing ladies who made me who I am! My late grandmother iris, mum carol and great grandmother Ethel. Missed but never forgotten! Happy mothers day to all those great mums o...   \n",
       "\n",
       "  lang retweet_count  original_author  sentiment_class  length  \n",
       "0   en             0      BeenXXPired                1     252  \n",
       "1   en             1   FestiveFeeling                1     301  \n",
       "2   en             0     KrisAllenSak                0     298  \n",
       "3   en             0       Queenuchee                1     155  \n",
       "4   en             0  brittan17446794                0     254  "
      ]
     },
     "execution_count": 97,
     "metadata": {},
     "output_type": "execute_result"
    }
   ],
   "source": [
    "length = []\n",
    "[length.append(len(str(text))) for text in train['original_text']]\n",
    "train['length'] = length\n",
    "train.head()"
   ]
  },
  {
   "cell_type": "code",
   "execution_count": 98,
   "metadata": {},
   "outputs": [
    {
     "data": {
      "text/plain": [
       "(73, 728, 227)"
      ]
     },
     "execution_count": 98,
     "metadata": {},
     "output_type": "execute_result"
    }
   ],
   "source": [
    "min(train['length']), max(train['length']), round(sum(train['length'])/len(train['length']))"
   ]
  },
  {
   "cell_type": "code",
   "execution_count": 101,
   "metadata": {},
   "outputs": [
    {
     "data": {
      "text/plain": [
       "5"
      ]
     },
     "execution_count": 101,
     "metadata": {},
     "output_type": "execute_result"
    }
   ],
   "source": [
    "len(train[train['length'] > 350])"
   ]
  },
  {
   "cell_type": "code",
   "execution_count": 102,
   "metadata": {},
   "outputs": [
    {
     "data": {
      "text/plain": [
       "4"
      ]
     },
     "execution_count": 102,
     "metadata": {},
     "output_type": "execute_result"
    }
   ],
   "source": [
    "len(train[train['length'] < 100])"
   ]
  },
  {
   "cell_type": "code",
   "execution_count": 103,
   "metadata": {},
   "outputs": [
    {
     "data": {
      "text/plain": [
       "379     Happy Mother's Day to all the wonderful mothers - new, old and never forgotten. #MothersDay Our Rotunda gallery features an oil painting of the Queen Mother. You can explore the portrait on our on...\n",
       "996     Happy Mothers Day from a Limerick family #ilovelimerick #lovelimerick #lovinlimerick https://www. facebook.com/ilovelimerick/ videos/196400795141787/?__tn__=kC-R&eid=ARD84aop8ara8GJPEbCe17J9_V2KrQ...\n",
       "1599    Happy #Mothersday to all of the wonderful mums out there! What did you get your mum this year? Hopefully it was something both useful and #beautiful ...something like our Scandi saucepans! Here on...\n",
       "2432    The answer to yesterday’s nature quiz was buff-tip moth. Happy MOTHers day !! The buff-tip looks just like the twig of a birch tree when it is at rest! Read more here: https://www. bbcwildlife.org...\n",
       "2448    Happy #MothersDay to this fab #womxn ! She’s the womxn that brings the most love & light into my life. Thank you, #Mama ! I’m SO grateful for you and for everything you do. Read more: https://www....\n",
       "Name: original_text, dtype: object"
      ]
     },
     "execution_count": 103,
     "metadata": {},
     "output_type": "execute_result"
    }
   ],
   "source": [
    "train['original_text'][train['length'] > 350]"
   ]
  },
  {
   "cell_type": "code",
   "execution_count": 104,
   "metadata": {},
   "outputs": [],
   "source": [
    "# dropping the outliers\n",
    "train = train.drop(train['original_text'][train['length'] < 100].index, axis = 0)\n",
    "# dropping the outliers\n",
    "train = train.drop(train['original_text'][train['length'] > 350].index, axis = 0)"
   ]
  },
  {
   "cell_type": "markdown",
   "metadata": {},
   "source": [
    "# Data Augmentation for text"
   ]
  },
  {
   "cell_type": "code",
   "execution_count": 105,
   "metadata": {},
   "outputs": [],
   "source": [
    "from nltk import sent_tokenize\n",
    "import json\n",
    "random.seed(1994)\n",
    "def tokenize(text):\n",
    "    '''text: list of text documents'''\n",
    "    tokenized =  sent_tokenize(text)\n",
    "    return tokenized\n",
    "\n",
    "def shuffle_tokenized(text):\n",
    "    random.shuffle(text)\n",
    "    newl=list(text)\n",
    "    shuffled.append(newl)\n",
    "    return text\n",
    "df_train=train[['original_text','sentiment_class']]"
   ]
  },
  {
   "cell_type": "code",
   "execution_count": 106,
   "metadata": {},
   "outputs": [
    {
     "name": "stdout",
     "output_type": "stream",
     "text": [
      "(1285, 2)\n"
     ]
    },
    {
     "data": {
      "text/html": [
       "<div>\n",
       "<style scoped>\n",
       "    .dataframe tbody tr th:only-of-type {\n",
       "        vertical-align: middle;\n",
       "    }\n",
       "\n",
       "    .dataframe tbody tr th {\n",
       "        vertical-align: top;\n",
       "    }\n",
       "\n",
       "    .dataframe thead th {\n",
       "        text-align: right;\n",
       "    }\n",
       "</style>\n",
       "<table border=\"1\" class=\"dataframe\">\n",
       "  <thead>\n",
       "    <tr style=\"text-align: right;\">\n",
       "      <th></th>\n",
       "      <th>original_text</th>\n",
       "      <th>sentiment_class</th>\n",
       "    </tr>\n",
       "  </thead>\n",
       "  <tbody>\n",
       "    <tr>\n",
       "      <th>0</th>\n",
       "      <td>Happy Mother’s Day to all you wonderful mums out there! instagram.com/p/B-CUzHjg-Au/ ?igshid=lf3elmlv7q7g … #mothersday #cupcakes #supermums #traceyscakecraft #couturesugarpaste #saracinouk #hinck...</td>\n",
       "      <td>2</td>\n",
       "    </tr>\n",
       "    <tr>\n",
       "      <th>1</th>\n",
       "      <td>Show me a mother of two as sexy as Rosie Happy Mothers Day beautiful Rosie @officiallrosie I love you #HappyMothersDayRosie #HappyMothersDay2020 #WhyILoveRoksie #Roksie pic.twitter.com/6oMZGHcIVe</td>\n",
       "      <td>2</td>\n",
       "    </tr>\n",
       "    <tr>\n",
       "      <th>2</th>\n",
       "      <td>To all the mothers, grandmothers, aunts, sisters and women in our lives who care for and love us unconditionally, Happy Mothers’ Day ! #MothersDay pic.twitter.com/ejatt1aH4z</td>\n",
       "      <td>2</td>\n",
       "    </tr>\n",
       "    <tr>\n",
       "      <th>3</th>\n",
       "      <td>Then click the Bell icon to get notifications of new videos. https:// buff.ly/2QAIlzV pic.twitter.com/Askk1nKFvu HAPPY MOTHERS DAY , CHRISTINE | DAILY LIFE For the full video click the link below....</td>\n",
       "      <td>2</td>\n",
       "    </tr>\n",
       "    <tr>\n",
       "      <th>4</th>\n",
       "      <td>Then click the Bell icon to get notifications of new videos. If you enjoy this video, please share it and click Subscribe on YouTube for more like it. https:// buff.ly/2QAIlzV pic.twitter.com/Askk...</td>\n",
       "      <td>2</td>\n",
       "    </tr>\n",
       "  </tbody>\n",
       "</table>\n",
       "</div>"
      ],
      "text/plain": [
       "                                                                                                                                                                                             original_text  \\\n",
       "0  Happy Mother’s Day to all you wonderful mums out there! instagram.com/p/B-CUzHjg-Au/ ?igshid=lf3elmlv7q7g … #mothersday #cupcakes #supermums #traceyscakecraft #couturesugarpaste #saracinouk #hinck...   \n",
       "1      Show me a mother of two as sexy as Rosie Happy Mothers Day beautiful Rosie @officiallrosie I love you #HappyMothersDayRosie #HappyMothersDay2020 #WhyILoveRoksie #Roksie pic.twitter.com/6oMZGHcIVe   \n",
       "2                            To all the mothers, grandmothers, aunts, sisters and women in our lives who care for and love us unconditionally, Happy Mothers’ Day ! #MothersDay pic.twitter.com/ejatt1aH4z   \n",
       "3  Then click the Bell icon to get notifications of new videos. https:// buff.ly/2QAIlzV pic.twitter.com/Askk1nKFvu HAPPY MOTHERS DAY , CHRISTINE | DAILY LIFE For the full video click the link below....   \n",
       "4  Then click the Bell icon to get notifications of new videos. If you enjoy this video, please share it and click Subscribe on YouTube for more like it. https:// buff.ly/2QAIlzV pic.twitter.com/Askk...   \n",
       "\n",
       "   sentiment_class  \n",
       "0                2  \n",
       "1                2  \n",
       "2                2  \n",
       "3                2  \n",
       "4                2  "
      ]
     },
     "execution_count": 106,
     "metadata": {},
     "output_type": "execute_result"
    }
   ],
   "source": [
    "augmented = []\n",
    "reps=[]\n",
    "for ng_rev in df_train[df_train.sentiment_class==2].original_text:\n",
    "    tok = tokenize(ng_rev)\n",
    "    shuffled= [tok]\n",
    "    #print(ng_rev)\n",
    "    for i in range(2):\n",
    "    #generate 11 new reviews\n",
    "        shuffle_tokenized(shuffled[-1])\n",
    "    for k in shuffled:\n",
    "        '''create new review by joining the shuffled sentences'''\n",
    "        s = ' '\n",
    "        new_rev = s.join(k)\n",
    "        if new_rev not in augmented:\n",
    "            augmented.append(new_rev)\n",
    "        else:\n",
    "            reps.append(new_rev)\n",
    "df2=pd.DataFrame({'original_text':augmented,'sentiment_class':[2]*len(augmented)})\n",
    "print(df2.shape)\n",
    "df2.head()"
   ]
  },
  {
   "cell_type": "code",
   "execution_count": 61,
   "metadata": {},
   "outputs": [
    {
     "name": "stdout",
     "output_type": "stream",
     "text": [
      "(1283, 2)\n"
     ]
    },
    {
     "data": {
      "text/html": [
       "<div>\n",
       "<style scoped>\n",
       "    .dataframe tbody tr th:only-of-type {\n",
       "        vertical-align: middle;\n",
       "    }\n",
       "\n",
       "    .dataframe tbody tr th {\n",
       "        vertical-align: top;\n",
       "    }\n",
       "\n",
       "    .dataframe thead th {\n",
       "        text-align: right;\n",
       "    }\n",
       "</style>\n",
       "<table border=\"1\" class=\"dataframe\">\n",
       "  <thead>\n",
       "    <tr style=\"text-align: right;\">\n",
       "      <th></th>\n",
       "      <th>original_text</th>\n",
       "      <th>sentiment_class</th>\n",
       "    </tr>\n",
       "  </thead>\n",
       "  <tbody>\n",
       "    <tr>\n",
       "      <th>0</th>\n",
       "      <td>Today been quiet but Had time to reflect. Dog walk, finish a jigsaw do the garden, learn few more guitar chords, drunk some strawberry gin and tonic and watch Lee evens on DVD. My favourite place ...</td>\n",
       "      <td>0</td>\n",
       "    </tr>\n",
       "    <tr>\n",
       "      <th>1</th>\n",
       "      <td>Today been quiet but Had time to reflect. My favourite place to visit. #isolate pic.twitter.com/GZ0xVvF6f9 Dog walk, finish a jigsaw do the garden, learn few more guitar chords, drunk some strawbe...</td>\n",
       "      <td>0</td>\n",
       "    </tr>\n",
       "    <tr>\n",
       "      <th>2</th>\n",
       "      <td>Missed but never forgotten! My late grandmother iris, mum carol and great grandmother Ethel. Remembering the 3 most amazing ladies who made me who I am! Happy mothers day to all those great mums o...</td>\n",
       "      <td>0</td>\n",
       "    </tr>\n",
       "    <tr>\n",
       "      <th>3</th>\n",
       "      <td>Missed but never forgotten! My late grandmother iris, mum carol and great grandmother Ethel. Happy mothers day to all those great mums out there! Remembering the 3 most amazing ladies who made me ...</td>\n",
       "      <td>0</td>\n",
       "    </tr>\n",
       "    <tr>\n",
       "      <th>4</th>\n",
       "      <td>This is the 4th Round game between me and @CastigersJ Live coverage on @Twitter , maybe one day @SkySportsRL or on the OurLeague app Happy Mothers Day to everyone tuning in.</td>\n",
       "      <td>0</td>\n",
       "    </tr>\n",
       "  </tbody>\n",
       "</table>\n",
       "</div>"
      ],
      "text/plain": [
       "                                                                                                                                                                                             original_text  \\\n",
       "0  Today been quiet but Had time to reflect. Dog walk, finish a jigsaw do the garden, learn few more guitar chords, drunk some strawberry gin and tonic and watch Lee evens on DVD. My favourite place ...   \n",
       "1  Today been quiet but Had time to reflect. My favourite place to visit. #isolate pic.twitter.com/GZ0xVvF6f9 Dog walk, finish a jigsaw do the garden, learn few more guitar chords, drunk some strawbe...   \n",
       "2  Missed but never forgotten! My late grandmother iris, mum carol and great grandmother Ethel. Remembering the 3 most amazing ladies who made me who I am! Happy mothers day to all those great mums o...   \n",
       "3  Missed but never forgotten! My late grandmother iris, mum carol and great grandmother Ethel. Happy mothers day to all those great mums out there! Remembering the 3 most amazing ladies who made me ...   \n",
       "4                            This is the 4th Round game between me and @CastigersJ Live coverage on @Twitter , maybe one day @SkySportsRL or on the OurLeague app Happy Mothers Day to everyone tuning in.   \n",
       "\n",
       "   sentiment_class  \n",
       "0                0  \n",
       "1                0  \n",
       "2                0  \n",
       "3                0  \n",
       "4                0  "
      ]
     },
     "execution_count": 61,
     "metadata": {},
     "output_type": "execute_result"
    }
   ],
   "source": [
    "augmented = []\n",
    "reps=[]\n",
    "for ng_rev in df_train[df_train.sentiment_class==0].original_text:\n",
    "    tok = tokenize(ng_rev)\n",
    "    shuffled= [tok]\n",
    "    #print(ng_rev)\n",
    "    for i in range(2):\n",
    "    #generate 11 new reviews\n",
    "        shuffle_tokenized(shuffled[-1])\n",
    "    for k in shuffled:\n",
    "        '''create new review by joining the shuffled sentences'''\n",
    "        s = ' '\n",
    "        new_rev = s.join(k)\n",
    "        if new_rev not in augmented:\n",
    "            augmented.append(new_rev)\n",
    "        else:\n",
    "            reps.append(new_rev)\n",
    "df0=pd.DataFrame({'original_text':augmented,'sentiment_class':[0]*len(augmented)})\n",
    "print(df0.shape)\n",
    "df0.head()"
   ]
  },
  {
   "cell_type": "code",
   "execution_count": 62,
   "metadata": {},
   "outputs": [
    {
     "name": "stdout",
     "output_type": "stream",
     "text": [
      "(2863, 2)\n"
     ]
    },
    {
     "data": {
      "text/html": [
       "<div>\n",
       "<style scoped>\n",
       "    .dataframe tbody tr th:only-of-type {\n",
       "        vertical-align: middle;\n",
       "    }\n",
       "\n",
       "    .dataframe tbody tr th {\n",
       "        vertical-align: top;\n",
       "    }\n",
       "\n",
       "    .dataframe thead th {\n",
       "        text-align: right;\n",
       "    }\n",
       "</style>\n",
       "<table border=\"1\" class=\"dataframe\">\n",
       "  <thead>\n",
       "    <tr style=\"text-align: right;\">\n",
       "      <th></th>\n",
       "      <th>original_text</th>\n",
       "      <th>sentiment_class</th>\n",
       "    </tr>\n",
       "  </thead>\n",
       "  <tbody>\n",
       "    <tr>\n",
       "      <th>0</th>\n",
       "      <td>Happy #MothersDay to all you amazing mothers out there! I know it's hard not being able to see your mothers today but it's on all of us to do what we can to protect the most vulnerable members of ...</td>\n",
       "      <td>1</td>\n",
       "    </tr>\n",
       "    <tr>\n",
       "      <th>1</th>\n",
       "      <td>https:// photos.app.goo.gl/M3vXBLrsCzD4TE bY7 … Happy Mothers Day Mum - I'm sorry I can't be there to bring you Mothers day flowers &amp; a cwtch - honestly at this point I'd walk on hot coals to be a...</td>\n",
       "      <td>1</td>\n",
       "    </tr>\n",
       "    <tr>\n",
       "      <th>2</th>\n",
       "      <td>https:// photos.app.goo.gl/M3vXBLrsCzD4TE bY7 … Love you lots xxx (p.s we need more photos!) Happy Mothers Day Mum - I'm sorry I can't be there to bring you Mothers day flowers &amp; a cwtch - honestl...</td>\n",
       "      <td>1</td>\n",
       "    </tr>\n",
       "    <tr>\n",
       "      <th>3</th>\n",
       "      <td>Happy mothers day to this beautiful woman...royalty soothes you mummy jeremy and emerald and more #PrayForRoksie #UltimateLoveNG pic.twitter.com/oeetI22Pvv</td>\n",
       "      <td>1</td>\n",
       "    </tr>\n",
       "    <tr>\n",
       "      <th>4</th>\n",
       "      <td>HAPPY MOTHER’S DAY! BRATZ WORLD FAMILIEZ YASMIN &amp; HER MUM! (PORTIA) #bratz #bratzworldfamiliez #bratz2008 #bratzkidz #bratzyasmin #bratzportia #theonlygirlswithapassionforfashion #bratzdolls #brat...</td>\n",
       "      <td>1</td>\n",
       "    </tr>\n",
       "  </tbody>\n",
       "</table>\n",
       "</div>"
      ],
      "text/plain": [
       "                                                                                                                                                                                             original_text  \\\n",
       "0  Happy #MothersDay to all you amazing mothers out there! I know it's hard not being able to see your mothers today but it's on all of us to do what we can to protect the most vulnerable members of ...   \n",
       "1  https:// photos.app.goo.gl/M3vXBLrsCzD4TE bY7 … Happy Mothers Day Mum - I'm sorry I can't be there to bring you Mothers day flowers & a cwtch - honestly at this point I'd walk on hot coals to be a...   \n",
       "2  https:// photos.app.goo.gl/M3vXBLrsCzD4TE bY7 … Love you lots xxx (p.s we need more photos!) Happy Mothers Day Mum - I'm sorry I can't be there to bring you Mothers day flowers & a cwtch - honestl...   \n",
       "3                                              Happy mothers day to this beautiful woman...royalty soothes you mummy jeremy and emerald and more #PrayForRoksie #UltimateLoveNG pic.twitter.com/oeetI22Pvv   \n",
       "4  HAPPY MOTHER’S DAY! BRATZ WORLD FAMILIEZ YASMIN & HER MUM! (PORTIA) #bratz #bratzworldfamiliez #bratz2008 #bratzkidz #bratzyasmin #bratzportia #theonlygirlswithapassionforfashion #bratzdolls #brat...   \n",
       "\n",
       "   sentiment_class  \n",
       "0                1  \n",
       "1                1  \n",
       "2                1  \n",
       "3                1  \n",
       "4                1  "
      ]
     },
     "execution_count": 62,
     "metadata": {},
     "output_type": "execute_result"
    }
   ],
   "source": [
    "augmented = []\n",
    "reps=[]\n",
    "for ng_rev in df_train[df_train.sentiment_class==1].original_text:\n",
    "    tok = tokenize(ng_rev)\n",
    "    shuffled= [tok]\n",
    "    #print(ng_rev)\n",
    "    for i in range(2):\n",
    "    #generate 11 new reviews\n",
    "        shuffle_tokenized(shuffled[-1])\n",
    "    for k in shuffled:\n",
    "        '''create new review by joining the shuffled sentences'''\n",
    "        s = ' '\n",
    "        new_rev = s.join(k)\n",
    "        if new_rev not in augmented:\n",
    "            augmented.append(new_rev)\n",
    "        else:\n",
    "            reps.append(new_rev)\n",
    "df1=pd.DataFrame({'original_text':augmented,'sentiment_class':[1]*len(augmented)})\n",
    "print(df1.shape)\n",
    "df1.head()"
   ]
  },
  {
   "cell_type": "code",
   "execution_count": 63,
   "metadata": {},
   "outputs": [
    {
     "data": {
      "text/plain": [
       "(1283, 2)"
      ]
     },
     "execution_count": 63,
     "metadata": {},
     "output_type": "execute_result"
    }
   ],
   "source": [
    "df0.shape"
   ]
  },
  {
   "cell_type": "code",
   "execution_count": 64,
   "metadata": {},
   "outputs": [
    {
     "data": {
      "text/plain": [
       "(5436, 2)"
      ]
     },
     "execution_count": 64,
     "metadata": {},
     "output_type": "execute_result"
    }
   ],
   "source": [
    "df0 = df0.append(df1)\n",
    "df0 = df0.append(df2)\n",
    "df0.shape"
   ]
  },
  {
   "cell_type": "code",
   "execution_count": 65,
   "metadata": {},
   "outputs": [
    {
     "data": {
      "text/plain": [
       "1    2863\n",
       "2    1290\n",
       "0    1283\n",
       "Name: sentiment_class, dtype: int64"
      ]
     },
     "execution_count": 65,
     "metadata": {},
     "output_type": "execute_result"
    }
   ],
   "source": [
    "df0.sentiment_class.value_counts()"
   ]
  },
  {
   "cell_type": "code",
   "execution_count": 66,
   "metadata": {},
   "outputs": [],
   "source": [
    "train = df0"
   ]
  },
  {
   "cell_type": "code",
   "execution_count": 67,
   "metadata": {},
   "outputs": [
    {
     "data": {
      "text/html": [
       "<div>\n",
       "<style scoped>\n",
       "    .dataframe tbody tr th:only-of-type {\n",
       "        vertical-align: middle;\n",
       "    }\n",
       "\n",
       "    .dataframe tbody tr th {\n",
       "        vertical-align: top;\n",
       "    }\n",
       "\n",
       "    .dataframe thead th {\n",
       "        text-align: right;\n",
       "    }\n",
       "</style>\n",
       "<table border=\"1\" class=\"dataframe\">\n",
       "  <thead>\n",
       "    <tr style=\"text-align: right;\">\n",
       "      <th></th>\n",
       "      <th>original_text</th>\n",
       "      <th>sentiment_class</th>\n",
       "    </tr>\n",
       "  </thead>\n",
       "  <tbody>\n",
       "    <tr>\n",
       "      <th>0</th>\n",
       "      <td>Today been quiet but Had time to reflect. Dog walk, finish a jigsaw do the garden, learn few more guitar chords, drunk some strawberry gin and tonic and watch Lee evens on DVD. My favourite place ...</td>\n",
       "      <td>0</td>\n",
       "    </tr>\n",
       "    <tr>\n",
       "      <th>1</th>\n",
       "      <td>Today been quiet but Had time to reflect. My favourite place to visit. #isolate pic.twitter.com/GZ0xVvF6f9 Dog walk, finish a jigsaw do the garden, learn few more guitar chords, drunk some strawbe...</td>\n",
       "      <td>0</td>\n",
       "    </tr>\n",
       "    <tr>\n",
       "      <th>2</th>\n",
       "      <td>Missed but never forgotten! My late grandmother iris, mum carol and great grandmother Ethel. Remembering the 3 most amazing ladies who made me who I am! Happy mothers day to all those great mums o...</td>\n",
       "      <td>0</td>\n",
       "    </tr>\n",
       "    <tr>\n",
       "      <th>3</th>\n",
       "      <td>Missed but never forgotten! My late grandmother iris, mum carol and great grandmother Ethel. Happy mothers day to all those great mums out there! Remembering the 3 most amazing ladies who made me ...</td>\n",
       "      <td>0</td>\n",
       "    </tr>\n",
       "    <tr>\n",
       "      <th>4</th>\n",
       "      <td>This is the 4th Round game between me and @CastigersJ Live coverage on @Twitter , maybe one day @SkySportsRL or on the OurLeague app Happy Mothers Day to everyone tuning in.</td>\n",
       "      <td>0</td>\n",
       "    </tr>\n",
       "  </tbody>\n",
       "</table>\n",
       "</div>"
      ],
      "text/plain": [
       "                                                                                                                                                                                             original_text  \\\n",
       "0  Today been quiet but Had time to reflect. Dog walk, finish a jigsaw do the garden, learn few more guitar chords, drunk some strawberry gin and tonic and watch Lee evens on DVD. My favourite place ...   \n",
       "1  Today been quiet but Had time to reflect. My favourite place to visit. #isolate pic.twitter.com/GZ0xVvF6f9 Dog walk, finish a jigsaw do the garden, learn few more guitar chords, drunk some strawbe...   \n",
       "2  Missed but never forgotten! My late grandmother iris, mum carol and great grandmother Ethel. Remembering the 3 most amazing ladies who made me who I am! Happy mothers day to all those great mums o...   \n",
       "3  Missed but never forgotten! My late grandmother iris, mum carol and great grandmother Ethel. Happy mothers day to all those great mums out there! Remembering the 3 most amazing ladies who made me ...   \n",
       "4                            This is the 4th Round game between me and @CastigersJ Live coverage on @Twitter , maybe one day @SkySportsRL or on the OurLeague app Happy Mothers Day to everyone tuning in.   \n",
       "\n",
       "   sentiment_class  \n",
       "0                0  \n",
       "1                0  \n",
       "2                0  \n",
       "3                0  \n",
       "4                0  "
      ]
     },
     "execution_count": 67,
     "metadata": {},
     "output_type": "execute_result"
    }
   ],
   "source": [
    "train.head()"
   ]
  },
  {
   "cell_type": "code",
   "execution_count": 68,
   "metadata": {},
   "outputs": [
    {
     "data": {
      "text/plain": [
       "((1290, 2), (1283, 2), (2863, 2))"
      ]
     },
     "execution_count": 68,
     "metadata": {},
     "output_type": "execute_result"
    }
   ],
   "source": [
    "train[train.sentiment_class==2].shape,train[train.sentiment_class==0].shape,train[train.sentiment_class==1].shape"
   ]
  },
  {
   "cell_type": "code",
   "execution_count": 69,
   "metadata": {},
   "outputs": [
    {
     "data": {
      "text/plain": [
       "1    2863\n",
       "2    1290\n",
       "0    1283\n",
       "Name: sentiment_class, dtype: int64"
      ]
     },
     "execution_count": 69,
     "metadata": {},
     "output_type": "execute_result"
    }
   ],
   "source": [
    "train.sentiment_class.value_counts()"
   ]
  },
  {
   "cell_type": "code",
   "execution_count": 70,
   "metadata": {},
   "outputs": [
    {
     "data": {
      "text/plain": [
       "array(['Today been quiet but Had time to reflect. Dog walk, finish a jigsaw do the garden, learn few more guitar chords, drunk some strawberry gin and tonic and watch Lee evens on DVD. My favourite place to visit. Happy mothers day To all This doing a mothers days work. #isolate pic.twitter.com/GZ0xVvF6f9',\n",
       "       'Today been quiet but Had time to reflect. My favourite place to visit. #isolate pic.twitter.com/GZ0xVvF6f9 Dog walk, finish a jigsaw do the garden, learn few more guitar chords, drunk some strawberry gin and tonic and watch Lee evens on DVD. Happy mothers day To all This doing a mothers days work.',\n",
       "       'Missed but never forgotten! My late grandmother iris, mum carol and great grandmother Ethel. Remembering the 3 most amazing ladies who made me who I am! Happy mothers day to all those great mums out there! Love sent to all xxxx pic.twitter.com/xZZZdEybjE',\n",
       "       ...,\n",
       "       'We love you NaLindi :Red velvet floral themed cupcakes https://www. instagram.com/p/B-DPvx4DOZF/ ?igshid=1b5l1byb8c8mb … HAPPY MOTHERS DAY This one is a yummy treat for all the yummy mummies we meet These were inspired by a truly amazing woman, my mother!',\n",
       "       'Happy Mother’s Day to all the Mums, Step Mums, Aunties & Grandmothers, you are all amazing #hairbyemmabroadbent #hairstylist #hairdresser #hairdressing #hairdressinglife #mothersday #mothersday2020 https://www. instagram.com/p/B-CWh5UhUDj/ ?igshid=1645io1skqt6i …',\n",
       "       'instagram.com/p/B-CWh5UhUDj/ ?igshid=1645io1skqt6i … Happy Mother’s Day to all the Mums, Step Mums, Aunties & Grandmothers, you are all amazing #hairbyemmabroadbent #hairstylist #hairdresser #hairdressing #hairdressinglife #mothersday #mothersday2020 https://www.'],\n",
       "      dtype=object)"
      ]
     },
     "execution_count": 70,
     "metadata": {},
     "output_type": "execute_result"
    }
   ],
   "source": [
    "train['original_text'].values"
   ]
  },
  {
   "cell_type": "code",
   "execution_count": 71,
   "metadata": {},
   "outputs": [],
   "source": [
    "import string\n",
    "punctuation=string.punctuation\n",
    "from nltk.corpus import stopwords\n",
    "stop = stopwords.words('english')\n",
    "def transform(df):\n",
    "    df[\"has_upper\"] = df[\"original_text\"].apply(lambda x: x.lower() != x)\n",
    "    df['upper'] = df['original_text'].apply(lambda x: len([x for x in x.split() if x.isupper()]))\n",
    "    df[\"sentence_end\"] = df[\"original_text\"].apply(lambda x: x.endswith(\".\"))\n",
    "    df[\"after_comma\"] = df[\"original_text\"].apply(lambda x: x.startswith(\",\"))\n",
    "    df[\"sentence_start\"] = df[\"original_text\"].apply(lambda x: \"A\" <= x[0] <= \"Z\")\n",
    "    df[\"text\"] = df[\"original_text\"].apply(lambda x: x.lower())\n",
    "    df['word_count']=df['original_text'].apply(lambda x: len(str(x).split(\" \")))\n",
    "    df['char_count'] = df['original_text'].str.len()\n",
    "    def avg_word(sentence):\n",
    "        words = sentence.split()\n",
    "        return (sum(len(word) for word in words)/len(words))\n",
    "\n",
    "    df['avg_word'] = df['original_text'].apply(lambda x: avg_word(x))\n",
    "    df['stopwords'] = df['original_text'].apply(lambda x: len([x for x in x.split() if x in stop]))\n",
    "    df['numerics'] = df['original_text'].apply(lambda x: len([x for x in x.split() if x.isdigit()]))\n",
    "    df['word_density'] = df['char_count'] / (df['word_count']+1)\n",
    "    df['punctuation_count'] = df['original_text'].apply(lambda x: len(\"\".join(_ for _ in x if _ in punctuation))) \n",
    "    return df"
   ]
  },
  {
   "cell_type": "code",
   "execution_count": null,
   "metadata": {},
   "outputs": [],
   "source": []
  },
  {
   "cell_type": "code",
   "execution_count": null,
   "metadata": {},
   "outputs": [],
   "source": []
  },
  {
   "cell_type": "code",
   "execution_count": null,
   "metadata": {},
   "outputs": [],
   "source": []
  },
  {
   "cell_type": "code",
   "execution_count": null,
   "metadata": {},
   "outputs": [],
   "source": []
  },
  {
   "cell_type": "code",
   "execution_count": null,
   "metadata": {},
   "outputs": [],
   "source": []
  },
  {
   "cell_type": "code",
   "execution_count": null,
   "metadata": {},
   "outputs": [],
   "source": []
  },
  {
   "cell_type": "code",
   "execution_count": null,
   "metadata": {},
   "outputs": [],
   "source": []
  },
  {
   "cell_type": "code",
   "execution_count": 72,
   "metadata": {},
   "outputs": [],
   "source": [
    "import re\n",
    "import nltk\n",
    "import inflect\n",
    "import contractions\n",
    "from textblob import TextBlob\n",
    "from bs4 import BeautifulSoup\n",
    "import string, unicodedata\n",
    "from nltk.corpus import stopwords\n",
    "\n",
    "def remove_urls(raw_text):\n",
    "    raw_text=raw_text.strip()\n",
    "    no_ment =re.sub(r'@\\w+', '',raw_text )\n",
    "    link = re.sub(r'https?:\\/\\/?.*[\\r\\n]*','',no_ment)\n",
    "    new_word = re.sub(r'!\"#$%&\\'()*+,-./:;<=>?@[\\\\]^_{|}~', '', link)\n",
    "    no_urls1 = re.sub(r'pic.*[\\r\\n]*','',new_word)\n",
    "    try:\n",
    "        no_encoding=no_urls1.decode(\"utf-8-sig\").replace(u\"\\ufffd\", \"?\")\n",
    "    except:\n",
    "        no_encoding = no_urls1\n",
    "    return(no_urls1)\n",
    "\n",
    "def denoise_text(text):\n",
    "    # Strip html if any. For ex. removing <html>, <p> tags\n",
    "    soup = BeautifulSoup(text, \"html.parser\")\n",
    "    text = soup.get_text()\n",
    "    # Replace contractions in the text. For ex. didn't -> did not\n",
    "    text = contractions.fix(text)\n",
    "    return text\n",
    "def remove_stopwords(input_text):\n",
    "    stopwords_list = stopwords.words('english')\n",
    "    words = input_text.split()\n",
    "    # Some words which might indicate a certain sentiment are kept via a whitelist\n",
    "    whitelist = [\"n't\", \"not\", \"no\"] \n",
    "    clean_words = [word for word in input_text if (word not in stopwords_list or word in whitelist) and len(word) > 1] \n",
    "    return(\" \".join(clean_words))\n",
    "\n",
    "def lemmatize_verbs(text):\n",
    "    \"\"\"Lemmatize verbs in list of tokenized words\"\"\"\n",
    "    words = text.split()\n",
    "    lemmatizer = WordNetLemmatizer()\n",
    "    lemmas = []\n",
    "    for word in words:\n",
    "        lemma = lemmatizer.lemmatize(word, pos='v')\n",
    "        lemmas.append(lemma)\n",
    "    return((\" \".join(lemmas))"
   ]
  },
  {
   "cell_type": "code",
   "execution_count": 73,
   "metadata": {},
   "outputs": [
    {
     "data": {
      "text/plain": [
       "array(['Today quiet Had time reflect Dog walk finish jigsaw garden learn guitar chords drunk strawberry gin tonic watch Lee evens DVD My favourite place visit Happy mothers day To This mothers days work isolate pic twitter GZ0xVvF6f9',\n",
       "       'Today quiet Had time reflect My favourite place visit isolate pic twitter GZ0xVvF6f9 Dog walk finish jigsaw garden learn guitar chords drunk strawberry gin tonic watch Lee evens DVD Happy mothers day To This mothers days work',\n",
       "       'Missed never forgotten My late grandmother iris mum carol great grandmother Ethel Remembering 3 amazing ladies made I Happy mothers day great mums Love sent xxxx pic twitter xZZZdEybjE',\n",
       "       ...,\n",
       "       'We love NaLindi Red velvet floral themed cupcakes instagram p B DPvx4DOZF igshid 1b5l1byb8c8mb HAPPY MOTHERS DAY This one yummy treat yummy mummies meet These inspired truly amazing woman mother',\n",
       "       'Happy Mother Day Mums Step Mums Aunties Grandmothers amazing hairbyemmabroadbent hairstylist hairdresser hairdressing hairdressinglife mothersday mothersday2020 instagram p B CWh5UhUDj igshid 1645io1skqt6i',\n",
       "       'instagram p B CWh5UhUDj igshid 1645io1skqt6i Happy Mother Day Mums Step Mums Aunties Grandmothers amazing hairbyemmabroadbent hairstylist hairdresser hairdressing hairdressinglife mothersday mothersday2020'],\n",
       "      dtype=object)"
      ]
     },
     "execution_count": 73,
     "metadata": {},
     "output_type": "execute_result"
    }
   ],
   "source": [
    "train['original_text'] = train['original_text'].apply(denoise_text)\n",
    "train['original_text']= train['original_text'].apply(remove_urls)\n",
    "train['original_text'] = train['original_text'].apply(remove_stopwords)\n",
    "train['original_text'] = train['original_text'].apply(lemmatize_verbs)"
   ]
  },
  {
   "cell_type": "code",
   "execution_count": 74,
   "metadata": {},
   "outputs": [
    {
     "data": {
      "text/plain": [
       "array(['Today been quiet but Had time to reflect. Dog walk, finish a jigsaw do the garden, learn few more guitar chords, drunk some strawberry gin and tonic and watch Lee evens on DVD. My favourite place to visit. Happy mothers day To all This doing a mothers days work. #isolate pic.twitter.com/GZ0xVvF6f9',\n",
       "       'Today been quiet but Had time to reflect. My favourite place to visit. #isolate pic.twitter.com/GZ0xVvF6f9 Dog walk, finish a jigsaw do the garden, learn few more guitar chords, drunk some strawberry gin and tonic and watch Lee evens on DVD. Happy mothers day To all This doing a mothers days work.',\n",
       "       'Missed but never forgotten! My late grandmother iris, mum carol and great grandmother Ethel. Remembering the 3 most amazing ladies who made me who I am! Happy mothers day to all those great mums out there! Love sent to all xxxx pic.twitter.com/xZZZdEybjE',\n",
       "       ...,\n",
       "       'We love you NaLindi :Red velvet floral themed cupcakes https://www. instagram.com/p/B-DPvx4DOZF/ ?igshid=1b5l1byb8c8mb … HAPPY MOTHERS DAY This one is a yummy treat for all the yummy mummies we meet These were inspired by a truly amazing woman, my mother!',\n",
       "       'Happy Mother’s Day to all the Mums, Step Mums, Aunties & Grandmothers, you are all amazing #hairbyemmabroadbent #hairstylist #hairdresser #hairdressing #hairdressinglife #mothersday #mothersday2020 https://www. instagram.com/p/B-CWh5UhUDj/ ?igshid=1645io1skqt6i …',\n",
       "       'instagram.com/p/B-CWh5UhUDj/ ?igshid=1645io1skqt6i … Happy Mother’s Day to all the Mums, Step Mums, Aunties & Grandmothers, you are all amazing #hairbyemmabroadbent #hairstylist #hairdresser #hairdressing #hairdressinglife #mothersday #mothersday2020 https://www.'],\n",
       "      dtype=object)"
      ]
     },
     "execution_count": 74,
     "metadata": {},
     "output_type": "execute_result"
    }
   ],
   "source": [
    "train['original_text'] = train['original_text'].apply(denoise_text)\n",
    "train['original_text'].values"
   ]
  },
  {
   "cell_type": "code",
   "execution_count": null,
   "metadata": {},
   "outputs": [],
   "source": []
  }
 ],
 "metadata": {
  "kernelspec": {
   "display_name": "Python 3",
   "language": "python",
   "name": "python3"
  },
  "language_info": {
   "codemirror_mode": {
    "name": "ipython",
    "version": 3
   },
   "file_extension": ".py",
   "mimetype": "text/x-python",
   "name": "python",
   "nbconvert_exporter": "python",
   "pygments_lexer": "ipython3",
   "version": "3.6.5"
  }
 },
 "nbformat": 4,
 "nbformat_minor": 2
}
