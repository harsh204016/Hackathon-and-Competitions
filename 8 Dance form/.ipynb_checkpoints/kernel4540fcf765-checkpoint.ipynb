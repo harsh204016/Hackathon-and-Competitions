{
 "cells": [
  {
   "cell_type": "code",
   "execution_count": 72,
   "metadata": {},
   "outputs": [],
   "source": [
    "import pandas as pd # data processing, CSV file I/O (e.g. pd.read_csv)\n",
    "import os,cv2\n",
    "import numpy as np\n",
    "from IPython.display import Image\n",
    "from keras.preprocessing import image\n",
    "from keras import optimizers\n",
    "from keras.models import Model\n",
    "from keras.applications.imagenet_utils import preprocess_input\n",
    "import matplotlib.pyplot as plt\n",
    "import seaborn as sns\n",
    "from keras import regularizers\n",
    "from keras.preprocessing.image import ImageDataGenerator\n",
    "from tensorflow.keras.callbacks import EarlyStopping,ModelCheckpoint\n",
    "from keras.applications.vgg16 import VGG16 , preprocess_input\n",
    "from keras.layers import  Conv2D,MaxPooling2D,Dropout,Activation, Flatten, Dense,GlobalAveragePooling2D\n",
    "from keras.optimizers import Adam , RMSprop\n",
    "import warnings\n",
    "warnings.filterwarnings('ignore')"
   ]
  },
  {
   "cell_type": "code",
   "execution_count": 2,
   "metadata": {},
   "outputs": [
    {
     "name": "stdout",
     "output_type": "stream",
     "text": [
      "/kaggle/working\r\n"
     ]
    }
   ],
   "source": [
    "!pwd"
   ]
  },
  {
   "cell_type": "code",
   "execution_count": 3,
   "metadata": {},
   "outputs": [
    {
     "name": "stdout",
     "output_type": "stream",
     "text": [
      "/kaggle/input\n"
     ]
    }
   ],
   "source": [
    "cd /kaggle/input/"
   ]
  },
  {
   "cell_type": "code",
   "execution_count": 6,
   "metadata": {},
   "outputs": [
    {
     "name": "stdout",
     "output_type": "stream",
     "text": [
      "no of training images  364\n",
      "no of test images  156\n"
     ]
    },
    {
     "data": {
      "text/html": [
       "<div>\n",
       "<style scoped>\n",
       "    .dataframe tbody tr th:only-of-type {\n",
       "        vertical-align: middle;\n",
       "    }\n",
       "\n",
       "    .dataframe tbody tr th {\n",
       "        vertical-align: top;\n",
       "    }\n",
       "\n",
       "    .dataframe thead th {\n",
       "        text-align: right;\n",
       "    }\n",
       "</style>\n",
       "<table border=\"1\" class=\"dataframe\">\n",
       "  <thead>\n",
       "    <tr style=\"text-align: right;\">\n",
       "      <th></th>\n",
       "      <th>Image</th>\n",
       "      <th>target</th>\n",
       "    </tr>\n",
       "  </thead>\n",
       "  <tbody>\n",
       "    <tr>\n",
       "      <th>0</th>\n",
       "      <td>96.jpg</td>\n",
       "      <td>manipuri</td>\n",
       "    </tr>\n",
       "    <tr>\n",
       "      <th>1</th>\n",
       "      <td>163.jpg</td>\n",
       "      <td>bharatanatyam</td>\n",
       "    </tr>\n",
       "    <tr>\n",
       "      <th>2</th>\n",
       "      <td>450.jpg</td>\n",
       "      <td>odissi</td>\n",
       "    </tr>\n",
       "    <tr>\n",
       "      <th>3</th>\n",
       "      <td>219.jpg</td>\n",
       "      <td>kathakali</td>\n",
       "    </tr>\n",
       "    <tr>\n",
       "      <th>4</th>\n",
       "      <td>455.jpg</td>\n",
       "      <td>odissi</td>\n",
       "    </tr>\n",
       "  </tbody>\n",
       "</table>\n",
       "</div>"
      ],
      "text/plain": [
       "     Image         target\n",
       "0   96.jpg       manipuri\n",
       "1  163.jpg  bharatanatyam\n",
       "2  450.jpg         odissi\n",
       "3  219.jpg      kathakali\n",
       "4  455.jpg         odissi"
      ]
     },
     "execution_count": 6,
     "metadata": {},
     "output_type": "execute_result"
    }
   ],
   "source": [
    "train_dir=\"../input/eight-dance-forms/train\"\n",
    "test_dir=\"../input/eight-dance-forms/test\"\n",
    "train=pd.read_csv('../input/eight-dance-forms/train.csv')\n",
    "test = pd.read_csv('../input/eight-dance-forms/test.csv')\n",
    "print('no of training images ',train.shape[0])\n",
    "print('no of test images ',test.shape[0])\n",
    "train.head()"
   ]
  },
  {
   "cell_type": "code",
   "execution_count": 7,
   "metadata": {},
   "outputs": [
    {
     "data": {
      "text/plain": [
       "'/kaggle/input'"
      ]
     },
     "execution_count": 7,
     "metadata": {},
     "output_type": "execute_result"
    }
   ],
   "source": [
    "pwd"
   ]
  },
  {
   "cell_type": "code",
   "execution_count": null,
   "metadata": {},
   "outputs": [],
   "source": [
    "cd eight-dance-forms"
   ]
  },
  {
   "cell_type": "code",
   "execution_count": 8,
   "metadata": {},
   "outputs": [
    {
     "name": "stdout",
     "output_type": "stream",
     "text": [
      "['230.jpg', '443.jpg', '455.jpg', '27.jpg', '504.jpg', '268.jpg', '186.jpg', '127.jpg', '305.jpg']\n",
      "['238.jpg', '495.jpg', '64.jpg', '6.jpg', '125.jpg', '226.jpg', '398.jpg', '38.jpg', '349.jpg']\n"
     ]
    }
   ],
   "source": [
    "train_fnames = os.listdir(train_dir)\n",
    "test_fnames = os.listdir(test_dir)\n",
    "\n",
    "print(train_fnames[:9])\n",
    "print(test_fnames[:9])"
   ]
  },
  {
   "cell_type": "code",
   "execution_count": 12,
   "metadata": {},
   "outputs": [
    {
     "data": {
      "image/jpeg": "[encoded data removed]",
      "text/plain": [
       "<IPython.core.display.Image object>"
      ]
     },
     "execution_count": 12,
     "metadata": {
      "image/jpeg": {
       "height": 250,
       "width": 250
      }
     },
     "output_type": "execute_result"
    }
   ],
   "source": [
    "Image(os.path.join(train_dir,train.iloc[1,0]),width=250,height=250)"
   ]
  },
  {
   "cell_type": "code",
   "execution_count": 24,
   "metadata": {},
   "outputs": [
    {
     "name": "stdout",
     "output_type": "stream",
     "text": [
      "Found 364 validated image filenames belonging to 8 classes.\n",
      "Found 364 validated image filenames belonging to 8 classes.\n",
      "Found 156 validated image filenames.\n"
     ]
    }
   ],
   "source": [
    "datagen=ImageDataGenerator(rescale=1./255,validation_split=0.25)\n",
    "\n",
    "train_generator=datagen.flow_from_dataframe(dataframe=train,directory=train_dir,x_col='Image',\n",
    "                                            y_col='target',class_mode='categorical',batch_size=8,\n",
    "                                            target_size=(224,224),color_mode='rgb',seed=42)\n",
    "\n",
    "\n",
    "validation_generator=datagen.flow_from_dataframe(dataframe=train,directory=train_dir,x_col='Image',\n",
    "                                                y_col='target',class_mode='categorical',batch_size=8,\n",
    "                                                target_size=(224,224),color_mode='rgb',seed=42)\n",
    "\n",
    "test_datagen=ImageDataGenerator(rescale=1./255.)\n",
    "test_generator=test_datagen.flow_from_dataframe(dataframe=test,directory=test_dir,x_col=\"Image\",y_col=None,\n",
    "                                                        batch_size=32,seed=42,shuffle=False,\n",
    "                                                            class_mode=None,target_size=(224,224),color_mode='rgb')"
   ]
  },
  {
   "cell_type": "code",
   "execution_count": 68,
   "metadata": {},
   "outputs": [],
   "source": [
    "from keras.applications import MobileNet"
   ]
  },
  {
   "cell_type": "code",
   "execution_count": 96,
   "metadata": {},
   "outputs": [],
   "source": [
    "base_model=MobileNet(weights='imagenet',include_top=False) #imports the mobilenet model and discards the last 1000 neuron layer.\n",
    "\n",
    "x=base_model.output\n",
    "x=GlobalAveragePooling2D()(x)\n",
    "x=Dense(1024,activation='relu')(x) #we add dense layers so that the model can learn more complex functions and classify for better results.\n",
    "x = Dropout(0.5)(x)\n",
    "x=Dense(1024,activation='relu')(x) #dense layer 2\n",
    "x=Dropout(0.5)(x)\n",
    "x=Dense(512,activation='relu')(x) #dense layer 3\n",
    "preds=Dense(8,activation='softmax')(x) #final layer with softmax activation\n",
    "model=Model(inputs=base_model.input,outputs=preds)\n",
    "\n"
   ]
  },
  {
   "cell_type": "code",
   "execution_count": 97,
   "metadata": {},
   "outputs": [],
   "source": [
    "for layer in model.layers[:20]:\n",
    "    layer.trainable=False\n",
    "for layer in model.layers[20:]:\n",
    "    layer.trainable=True"
   ]
  },
  {
   "cell_type": "code",
   "execution_count": 98,
   "metadata": {},
   "outputs": [
    {
     "data": {
      "text/plain": [
       "'/kaggle/working'"
      ]
     },
     "execution_count": 98,
     "metadata": {},
     "output_type": "execute_result"
    }
   ],
   "source": [
    "pwd"
   ]
  },
  {
   "cell_type": "code",
   "execution_count": 101,
   "metadata": {},
   "outputs": [],
   "source": [
    "early = EarlyStopping(monitor='val_loss',patience=5,verbose=1,restore_best_weights=True)\n",
    "checkpoint = ModelCheckpoint('model.h5', monitor='val_accuracy', verbose=1, \n",
    "                             save_best_only=True, mode='max')\n",
    "\n",
    "model.compile(optimizer='adam',loss=\"categorical_crossentropy\",metrics=[\"accuracy\"])"
   ]
  },
  {
   "cell_type": "code",
   "execution_count": 102,
   "metadata": {},
   "outputs": [
    {
     "name": "stdout",
     "output_type": "stream",
     "text": [
      "Epoch 1/25\n",
      "45/46 [============================>.] - ETA: 0s - loss: 2.6636 - accuracy: 0.2191\n",
      "Epoch 00001: val_accuracy improved from -inf to 0.27747, saving model to model.h5\n",
      "46/46 [==============================] - 12s 255ms/step - loss: 2.6491 - accuracy: 0.2225 - val_loss: 2.8276 - val_accuracy: 0.2775\n",
      "Epoch 2/25\n",
      "46/46 [==============================] - ETA: 0s - loss: 1.5601 - accuracy: 0.4176\n",
      "Epoch 00002: val_accuracy improved from 0.27747 to 0.45055, saving model to model.h5\n",
      "46/46 [==============================] - 11s 245ms/step - loss: 1.5601 - accuracy: 0.4176 - val_loss: 1.4193 - val_accuracy: 0.4505\n",
      "Epoch 3/25\n",
      "46/46 [==============================] - ETA: 0s - loss: 1.2119 - accuracy: 0.5879\n",
      "Epoch 00003: val_accuracy improved from 0.45055 to 0.60165, saving model to model.h5\n",
      "46/46 [==============================] - 11s 242ms/step - loss: 1.2119 - accuracy: 0.5879 - val_loss: 1.4481 - val_accuracy: 0.6016\n",
      "Epoch 4/25\n",
      "46/46 [==============================] - ETA: 0s - loss: 0.9305 - accuracy: 0.6923\n",
      "Epoch 00004: val_accuracy did not improve from 0.60165\n",
      "46/46 [==============================] - 11s 245ms/step - loss: 0.9305 - accuracy: 0.6923 - val_loss: 1.4553 - val_accuracy: 0.5027\n",
      "Epoch 5/25\n",
      "46/46 [==============================] - ETA: 0s - loss: 0.8952 - accuracy: 0.7225\n",
      "Epoch 00005: val_accuracy did not improve from 0.60165\n",
      "46/46 [==============================] - 11s 233ms/step - loss: 0.8952 - accuracy: 0.7225 - val_loss: 2.5520 - val_accuracy: 0.4533\n",
      "Epoch 6/25\n",
      "46/46 [==============================] - ETA: 0s - loss: 0.8499 - accuracy: 0.7473\n",
      "Epoch 00006: val_accuracy improved from 0.60165 to 0.75275, saving model to model.h5\n",
      "46/46 [==============================] - 11s 235ms/step - loss: 0.8499 - accuracy: 0.7473 - val_loss: 0.7905 - val_accuracy: 0.7527\n",
      "Epoch 7/25\n",
      "46/46 [==============================] - ETA: 0s - loss: 0.8621 - accuracy: 0.7225\n",
      "Epoch 00007: val_accuracy did not improve from 0.75275\n",
      "46/46 [==============================] - 11s 237ms/step - loss: 0.8621 - accuracy: 0.7225 - val_loss: 1.2485 - val_accuracy: 0.6538\n",
      "Epoch 8/25\n",
      "46/46 [==============================] - ETA: 0s - loss: 0.7122 - accuracy: 0.7857\n",
      "Epoch 00008: val_accuracy did not improve from 0.75275\n",
      "46/46 [==============================] - 11s 242ms/step - loss: 0.7122 - accuracy: 0.7857 - val_loss: 1.1749 - val_accuracy: 0.7143\n",
      "Epoch 9/25\n",
      "46/46 [==============================] - ETA: 0s - loss: 0.7001 - accuracy: 0.7885\n",
      "Epoch 00009: val_accuracy did not improve from 0.75275\n",
      "46/46 [==============================] - 11s 242ms/step - loss: 0.7001 - accuracy: 0.7885 - val_loss: 0.9509 - val_accuracy: 0.7418\n",
      "Epoch 10/25\n",
      "46/46 [==============================] - ETA: 0s - loss: 0.4009 - accuracy: 0.8929\n",
      "Epoch 00010: val_accuracy improved from 0.75275 to 0.97802, saving model to model.h5\n",
      "46/46 [==============================] - 11s 246ms/step - loss: 0.4009 - accuracy: 0.8929 - val_loss: 0.0763 - val_accuracy: 0.9780\n",
      "Epoch 11/25\n",
      "46/46 [==============================] - ETA: 0s - loss: 0.3133 - accuracy: 0.9011\n",
      "Epoch 00011: val_accuracy did not improve from 0.97802\n",
      "46/46 [==============================] - 11s 233ms/step - loss: 0.3133 - accuracy: 0.9011 - val_loss: 0.2055 - val_accuracy: 0.9341\n",
      "Epoch 12/25\n",
      "46/46 [==============================] - ETA: 0s - loss: 0.4832 - accuracy: 0.8874\n",
      "Epoch 00012: val_accuracy did not improve from 0.97802\n",
      "46/46 [==============================] - 11s 239ms/step - loss: 0.4832 - accuracy: 0.8874 - val_loss: 2.6922 - val_accuracy: 0.5522\n",
      "Epoch 13/25\n",
      "46/46 [==============================] - ETA: 0s - loss: 0.5980 - accuracy: 0.8599\n",
      "Epoch 00013: val_accuracy did not improve from 0.97802\n",
      "46/46 [==============================] - 11s 235ms/step - loss: 0.5980 - accuracy: 0.8599 - val_loss: 0.4751 - val_accuracy: 0.8544\n",
      "Epoch 14/25\n",
      "46/46 [==============================] - ETA: 0s - loss: 0.4221 - accuracy: 0.8846\n",
      "Epoch 00014: val_accuracy did not improve from 0.97802\n",
      "46/46 [==============================] - 11s 240ms/step - loss: 0.4221 - accuracy: 0.8846 - val_loss: 1.1090 - val_accuracy: 0.7500\n",
      "Epoch 15/25\n",
      "46/46 [==============================] - ETA: 0s - loss: 0.4059 - accuracy: 0.8764Restoring model weights from the end of the best epoch.\n",
      "\n",
      "Epoch 00015: val_accuracy did not improve from 0.97802\n",
      "46/46 [==============================] - 11s 241ms/step - loss: 0.4059 - accuracy: 0.8764 - val_loss: 0.2601 - val_accuracy: 0.9313\n",
      "Epoch 00015: early stopping\n"
     ]
    }
   ],
   "source": [
    "\n",
    "history=model.fit_generator(train_generator,epochs=25,\n",
    "                            validation_data=validation_generator,\n",
    "                            callbacks=[early,checkpoint])"
   ]
  },
  {
   "cell_type": "code",
   "execution_count": 103,
   "metadata": {},
   "outputs": [
    {
     "data": {
      "text/plain": [
       "<matplotlib.legend.Legend at 0x7f7d2d8b8150>"
      ]
     },
     "execution_count": 103,
     "metadata": {},
     "output_type": "execute_result"
    },
    {
     "data": {
      "image/png": "[encoded data removed]",
      "text/plain": [
       "<Figure size 432x288 with 1 Axes>"
      ]
     },
     "metadata": {
      "needs_background": "light"
     },
     "output_type": "display_data"
    }
   ],
   "source": [
    "acc=history.history['loss'] \n",
    "acc_val=history.history['val_loss']\n",
    "\n",
    "epochs_ = range(len(acc))\n",
    "plt.plot(epochs_,acc,label='training loss')\n",
    "plt.xlabel('No of epochs')\n",
    "plt.ylabel('loss')\n",
    "\n",
    "  ## getting validation loss of each epochs\n",
    "plt.plot(epochs_,acc_val,label=\"validation loss\")\n",
    "plt.title('no of epochs vs loss')\n",
    "plt.legend()"
   ]
  },
  {
   "cell_type": "code",
   "execution_count": 104,
   "metadata": {},
   "outputs": [
    {
     "data": {
      "text/plain": [
       "<matplotlib.legend.Legend at 0x7f7d2d8c87d0>"
      ]
     },
     "execution_count": 104,
     "metadata": {},
     "output_type": "execute_result"
    },
    {
     "data": {
      "image/png": "[encoded data removed]",
      "text/plain": [
       "<Figure size 432x288 with 1 Axes>"
      ]
     },
     "metadata": {
      "needs_background": "light"
     },
     "output_type": "display_data"
    }
   ],
   "source": [
    "acc=history.history['accuracy'] \n",
    "acc_val=history.history['val_accuracy']\n",
    "\n",
    "epochs_ = range(len(acc))\n",
    "plt.plot(epochs_,acc,label='training accuracy')\n",
    "plt.xlabel('No of epochs')\n",
    "plt.ylabel('loss')\n",
    "\n",
    "  ## getting validation loss of each epochs\n",
    "plt.plot(epochs_,acc_val,label=\"validation accuracy\")\n",
    "plt.title('no of epochs vs accuracy')\n",
    "plt.legend()"
   ]
  },
  {
   "cell_type": "code",
   "execution_count": 105,
   "metadata": {},
   "outputs": [],
   "source": [
    "model.load_weights('model.h5')"
   ]
  },
  {
   "cell_type": "code",
   "execution_count": 106,
   "metadata": {},
   "outputs": [
    {
     "data": {
      "text/plain": [
       "[0.07632027566432953, 0.9780219793319702]"
      ]
     },
     "execution_count": 106,
     "metadata": {},
     "output_type": "execute_result"
    }
   ],
   "source": [
    "model.evaluate_generator(generator=validation_generator)"
   ]
  },
  {
   "cell_type": "code",
   "execution_count": 107,
   "metadata": {},
   "outputs": [
    {
     "name": "stdout",
     "output_type": "stream",
     "text": [
      "5/5 [==============================] - 2s 321ms/step\n"
     ]
    },
    {
     "data": {
      "text/plain": [
       "array([[4.9771722e-03, 2.6919167e-02, 7.7254060e-03, ..., 3.9048988e-04,\n",
       "        8.9974451e-01, 6.7453971e-04],\n",
       "       [7.8639202e-03, 4.4703698e-03, 3.4121366e-03, ..., 9.2365664e-01,\n",
       "        3.0701010e-02, 1.6801903e-02],\n",
       "       [1.7931150e-05, 2.2826061e-05, 6.7332716e-05, ..., 6.1092319e-06,\n",
       "        9.9967408e-01, 1.2579383e-06],\n",
       "       ...,\n",
       "       [2.4184749e-04, 9.9824154e-01, 5.7937455e-06, ..., 2.9845271e-06,\n",
       "        1.0515099e-03, 1.5639465e-06],\n",
       "       [5.8512310e-06, 8.9517298e-06, 8.2247483e-05, ..., 7.3804807e-07,\n",
       "        9.9975032e-01, 2.9359009e-07],\n",
       "       [7.7916484e-04, 3.0120980e-04, 1.4138047e-04, ..., 8.1181270e-04,\n",
       "        2.5568146e-04, 9.8712569e-01]], dtype=float32)"
      ]
     },
     "execution_count": 107,
     "metadata": {},
     "output_type": "execute_result"
    }
   ],
   "source": [
    "test_generator.reset()\n",
    "pred=model.predict_generator(test_generator,verbose=1)\n",
    "pred"
   ]
  },
  {
   "cell_type": "code",
   "execution_count": 108,
   "metadata": {},
   "outputs": [
    {
     "data": {
      "text/plain": [
       "array([6, 5, 6, 6, 0, 3, 6, 2, 3, 6, 6, 0, 7, 5, 5, 0, 6, 1, 5, 3, 6, 2,\n",
       "       2, 7, 5, 2, 6, 0, 3, 0, 5, 3, 1, 0, 5, 3, 6, 6, 1, 3, 1, 1, 6, 7,\n",
       "       5, 5, 1, 7, 2, 3, 5, 6, 1, 3, 1, 5, 1, 6, 3, 0, 2, 4, 1, 3, 3, 3,\n",
       "       2, 3, 3, 6, 1, 6, 2, 7, 6, 2, 6, 0, 2, 1, 5, 7, 7, 6, 6, 3, 1, 1,\n",
       "       4, 2, 4, 1, 3, 0, 6, 1, 5, 2, 1, 3, 6, 0, 1, 6, 3, 6, 2, 3, 4, 6,\n",
       "       1, 2, 3, 6, 3, 6, 2, 2, 5, 6, 6, 3, 0, 5, 6, 5, 5, 5, 1, 6, 0, 7,\n",
       "       0, 3, 4, 6, 3, 7, 0, 1, 7, 1, 4, 2, 6, 2, 1, 5, 4, 6, 5, 7, 1, 1,\n",
       "       6, 7])"
      ]
     },
     "execution_count": 108,
     "metadata": {},
     "output_type": "execute_result"
    }
   ],
   "source": [
    "predicted_class_indices=np.argmax(pred,axis=1)\n",
    "predicted_class_indices"
   ]
  },
  {
   "cell_type": "code",
   "execution_count": 109,
   "metadata": {},
   "outputs": [
    {
     "data": {
      "text/plain": [
       "['odissi',\n",
       " 'mohiniyattam',\n",
       " 'odissi',\n",
       " 'odissi',\n",
       " 'bharatanatyam',\n",
       " 'kuchipudi',\n",
       " 'odissi',\n",
       " 'kathakali',\n",
       " 'kuchipudi',\n",
       " 'odissi',\n",
       " 'odissi',\n",
       " 'bharatanatyam',\n",
       " 'sattriya',\n",
       " 'mohiniyattam',\n",
       " 'mohiniyattam',\n",
       " 'bharatanatyam',\n",
       " 'odissi',\n",
       " 'kathak',\n",
       " 'mohiniyattam',\n",
       " 'kuchipudi',\n",
       " 'odissi',\n",
       " 'kathakali',\n",
       " 'kathakali',\n",
       " 'sattriya',\n",
       " 'mohiniyattam',\n",
       " 'kathakali',\n",
       " 'odissi',\n",
       " 'bharatanatyam',\n",
       " 'kuchipudi',\n",
       " 'bharatanatyam',\n",
       " 'mohiniyattam',\n",
       " 'kuchipudi',\n",
       " 'kathak',\n",
       " 'bharatanatyam',\n",
       " 'mohiniyattam',\n",
       " 'kuchipudi',\n",
       " 'odissi',\n",
       " 'odissi',\n",
       " 'kathak',\n",
       " 'kuchipudi',\n",
       " 'kathak',\n",
       " 'kathak',\n",
       " 'odissi',\n",
       " 'sattriya',\n",
       " 'mohiniyattam',\n",
       " 'mohiniyattam',\n",
       " 'kathak',\n",
       " 'sattriya',\n",
       " 'kathakali',\n",
       " 'kuchipudi',\n",
       " 'mohiniyattam',\n",
       " 'odissi',\n",
       " 'kathak',\n",
       " 'kuchipudi',\n",
       " 'kathak',\n",
       " 'mohiniyattam',\n",
       " 'kathak',\n",
       " 'odissi',\n",
       " 'kuchipudi',\n",
       " 'bharatanatyam',\n",
       " 'kathakali',\n",
       " 'manipuri',\n",
       " 'kathak',\n",
       " 'kuchipudi',\n",
       " 'kuchipudi',\n",
       " 'kuchipudi',\n",
       " 'kathakali',\n",
       " 'kuchipudi',\n",
       " 'kuchipudi',\n",
       " 'odissi',\n",
       " 'kathak',\n",
       " 'odissi',\n",
       " 'kathakali',\n",
       " 'sattriya',\n",
       " 'odissi',\n",
       " 'kathakali',\n",
       " 'odissi',\n",
       " 'bharatanatyam',\n",
       " 'kathakali',\n",
       " 'kathak',\n",
       " 'mohiniyattam',\n",
       " 'sattriya',\n",
       " 'sattriya',\n",
       " 'odissi',\n",
       " 'odissi',\n",
       " 'kuchipudi',\n",
       " 'kathak',\n",
       " 'kathak',\n",
       " 'manipuri',\n",
       " 'kathakali',\n",
       " 'manipuri',\n",
       " 'kathak',\n",
       " 'kuchipudi',\n",
       " 'bharatanatyam',\n",
       " 'odissi',\n",
       " 'kathak',\n",
       " 'mohiniyattam',\n",
       " 'kathakali',\n",
       " 'kathak',\n",
       " 'kuchipudi',\n",
       " 'odissi',\n",
       " 'bharatanatyam',\n",
       " 'kathak',\n",
       " 'odissi',\n",
       " 'kuchipudi',\n",
       " 'odissi',\n",
       " 'kathakali',\n",
       " 'kuchipudi',\n",
       " 'manipuri',\n",
       " 'odissi',\n",
       " 'kathak',\n",
       " 'kathakali',\n",
       " 'kuchipudi',\n",
       " 'odissi',\n",
       " 'kuchipudi',\n",
       " 'odissi',\n",
       " 'kathakali',\n",
       " 'kathakali',\n",
       " 'mohiniyattam',\n",
       " 'odissi',\n",
       " 'odissi',\n",
       " 'kuchipudi',\n",
       " 'bharatanatyam',\n",
       " 'mohiniyattam',\n",
       " 'odissi',\n",
       " 'mohiniyattam',\n",
       " 'mohiniyattam',\n",
       " 'mohiniyattam',\n",
       " 'kathak',\n",
       " 'odissi',\n",
       " 'bharatanatyam',\n",
       " 'sattriya',\n",
       " 'bharatanatyam',\n",
       " 'kuchipudi',\n",
       " 'manipuri',\n",
       " 'odissi',\n",
       " 'kuchipudi',\n",
       " 'sattriya',\n",
       " 'bharatanatyam',\n",
       " 'kathak',\n",
       " 'sattriya',\n",
       " 'kathak',\n",
       " 'manipuri',\n",
       " 'kathakali',\n",
       " 'odissi',\n",
       " 'kathakali',\n",
       " 'kathak',\n",
       " 'mohiniyattam',\n",
       " 'manipuri',\n",
       " 'odissi',\n",
       " 'mohiniyattam',\n",
       " 'sattriya',\n",
       " 'kathak',\n",
       " 'kathak',\n",
       " 'odissi',\n",
       " 'sattriya']"
      ]
     },
     "execution_count": 109,
     "metadata": {},
     "output_type": "execute_result"
    }
   ],
   "source": [
    "labels = (train_generator.class_indices)\n",
    "labels = dict((v,k) for k,v in labels.items())\n",
    "predictions = [labels[k] for k in predicted_class_indices]\n",
    "predictions"
   ]
  },
  {
   "cell_type": "code",
   "execution_count": 110,
   "metadata": {},
   "outputs": [
    {
     "data": {
      "text/plain": [
       "'/kaggle/working'"
      ]
     },
     "execution_count": 110,
     "metadata": {},
     "output_type": "execute_result"
    }
   ],
   "source": [
    "pwd"
   ]
  },
  {
   "cell_type": "code",
   "execution_count": 111,
   "metadata": {},
   "outputs": [
    {
     "name": "stdout",
     "output_type": "stream",
     "text": [
      "/kaggle/working\n"
     ]
    }
   ],
   "source": [
    "cd /kaggle/working/"
   ]
  },
  {
   "cell_type": "code",
   "execution_count": 112,
   "metadata": {},
   "outputs": [],
   "source": [
    "filenames=test_generator.filenames\n",
    "results=pd.DataFrame({\"Image\":filenames,\n",
    "                      \"target\":predictions})\n",
    "results.to_csv(\"mobile_results.csv\",index=False)"
   ]
  },
  {
   "cell_type": "code",
   "execution_count": 113,
   "metadata": {},
   "outputs": [
    {
     "data": {
      "text/html": [
       "<div>\n",
       "<style scoped>\n",
       "    .dataframe tbody tr th:only-of-type {\n",
       "        vertical-align: middle;\n",
       "    }\n",
       "\n",
       "    .dataframe tbody tr th {\n",
       "        vertical-align: top;\n",
       "    }\n",
       "\n",
       "    .dataframe thead th {\n",
       "        text-align: right;\n",
       "    }\n",
       "</style>\n",
       "<table border=\"1\" class=\"dataframe\">\n",
       "  <thead>\n",
       "    <tr style=\"text-align: right;\">\n",
       "      <th></th>\n",
       "      <th>Image</th>\n",
       "      <th>target</th>\n",
       "    </tr>\n",
       "  </thead>\n",
       "  <tbody>\n",
       "    <tr>\n",
       "      <th>0</th>\n",
       "      <td>508.jpg</td>\n",
       "      <td>odissi</td>\n",
       "    </tr>\n",
       "    <tr>\n",
       "      <th>1</th>\n",
       "      <td>246.jpg</td>\n",
       "      <td>mohiniyattam</td>\n",
       "    </tr>\n",
       "    <tr>\n",
       "      <th>2</th>\n",
       "      <td>473.jpg</td>\n",
       "      <td>odissi</td>\n",
       "    </tr>\n",
       "    <tr>\n",
       "      <th>3</th>\n",
       "      <td>485.jpg</td>\n",
       "      <td>odissi</td>\n",
       "    </tr>\n",
       "    <tr>\n",
       "      <th>4</th>\n",
       "      <td>128.jpg</td>\n",
       "      <td>bharatanatyam</td>\n",
       "    </tr>\n",
       "  </tbody>\n",
       "</table>\n",
       "</div>"
      ],
      "text/plain": [
       "     Image         target\n",
       "0  508.jpg         odissi\n",
       "1  246.jpg   mohiniyattam\n",
       "2  473.jpg         odissi\n",
       "3  485.jpg         odissi\n",
       "4  128.jpg  bharatanatyam"
      ]
     },
     "execution_count": 113,
     "metadata": {},
     "output_type": "execute_result"
    }
   ],
   "source": [
    "result = pd.read_csv('./mobile_results.csv')\n",
    "result.head()"
   ]
  },
  {
   "cell_type": "code",
   "execution_count": 66,
   "metadata": {},
   "outputs": [
    {
     "data": {
      "text/plain": [
       "'/kaggle/working'"
      ]
     },
     "execution_count": 66,
     "metadata": {},
     "output_type": "execute_result"
    }
   ],
   "source": [
    "pwd"
   ]
  },
  {
   "cell_type": "code",
   "execution_count": null,
   "metadata": {},
   "outputs": [],
   "source": []
  }
 ],
 "metadata": {
  "kernelspec": {
   "display_name": "Python 3",
   "language": "python",
   "name": "python3"
  },
  "language_info": {
   "codemirror_mode": {
    "name": "ipython",
    "version": 3
   },
   "file_extension": ".py",
   "mimetype": "text/x-python",
   "name": "python",
   "nbconvert_exporter": "python",
   "pygments_lexer": "ipython3",
   "version": "3.6.5"
  }
 },
 "nbformat": 4,
 "nbformat_minor": 4
}
